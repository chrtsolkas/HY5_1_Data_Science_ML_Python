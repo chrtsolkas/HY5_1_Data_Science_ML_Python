{
 "cells": [
  {
   "cell_type": "markdown",
   "metadata": {
    "slideshow": {
     "slide_type": "slide"
    }
   },
   "source": [
    "# Από τους Νευρώνες στα Ρούχα\n",
    "\n",
    "Προσαρμοσμένο από την [τεκμηρίωση του TensorFlow](https://www.tensorflow.org/tutorials/keras/classification).\n",
    "\n",
    "---\n",
    "\n",
    "> Πάνος Λουρίδας, Αναπληρωτής Καθηγητής <br />\n",
    "> Τμήμα Διοικητικής Επιστήμης και Τεχνολογίας <br />\n",
    "> Οικονομικό Πανεπιστήμιο Αθηνών <br />\n",
    "> louridas@aueb.gr"
   ]
  },
  {
   "cell_type": "code",
   "execution_count": 1,
   "metadata": {
    "slideshow": {
     "slide_type": "slide"
    }
   },
   "outputs": [],
   "source": [
    "import matplotlib.pyplot as plt\n",
    "import numpy as np\n",
    "\n",
    "import tensorflow as tf\n",
    "from tensorflow import keras\n",
    "from keras import optimizers\n",
    "\n",
    "tf.random.set_seed(13)"
   ]
  },
  {
   "cell_type": "markdown",
   "metadata": {
    "slideshow": {
     "slide_type": "slide"
    }
   },
   "source": [
    "* Η πρώτη μας πραγματική εφαρμογή με νευρωνικά δίκτυα θα είναι η ταξινόμηση στο σύνολο δεδομένων [MNIST](https://github.com/zalandoresearch/fashion-mnist).\n",
    "\n",
    "* Περιέχει 70.000 γκριζόασπρες εικόνες που ανήκουν σε 10 κατηγορίες ιματισμού.\n",
    "\n",
    "* Η κάθε φωτογραφία είναι 28x28 pixels."
   ]
  },
  {
   "cell_type": "markdown",
   "metadata": {
    "slideshow": {
     "slide_type": "slide"
    }
   },
   "source": [
    "<img src=\"mnist_100.png\" width=\"500px\"/>"
   ]
  },
  {
   "cell_type": "markdown",
   "metadata": {
    "slideshow": {
     "slide_type": "slide"
    }
   },
   "source": [
    "* Τα δεδομένα είναι διαθέσιμα από το TensorFlow."
   ]
  },
  {
   "cell_type": "code",
   "execution_count": 2,
   "metadata": {
    "slideshow": {
     "slide_type": "fragment"
    }
   },
   "outputs": [],
   "source": [
    "fashion_mnist = keras.datasets.fashion_mnist\n",
    "\n",
    "(train_images, train_labels), (test_images, test_labels) = fashion_mnist.load_data()"
   ]
  },
  {
   "cell_type": "markdown",
   "metadata": {
    "slideshow": {
     "slide_type": "slide"
    }
   },
   "source": [
    "* Οι ετικέτες είναι τα ονόματα των κλάσεων."
   ]
  },
  {
   "cell_type": "markdown",
   "metadata": {
    "slideshow": {
     "slide_type": "fragment"
    }
   },
   "source": [
    "| Label\t| Class |\n",
    "|-------|-------|\n",
    "|   0   | T-shirt/top |\n",
    "|   1   | Trouser |\n",
    "|   2   | Pullover |\n",
    "|   3   | Dress |\n",
    "|   4   | Coat |\n",
    "|   5   | Sandal |\n",
    "|   6   | Shirt |\n",
    "|   7   | Sneaker |\n",
    "|   8   | Bag |\n",
    "|   9   | Ankle boot |\n"
   ]
  },
  {
   "cell_type": "markdown",
   "metadata": {
    "slideshow": {
     "slide_type": "slide"
    }
   },
   "source": [
    "* Θα αποθηκεύσουμε τα ονόματα των κλάσεων σε μία λίστα για να τα έχουμε διαθέσιμα στη συνέχεια."
   ]
  },
  {
   "cell_type": "code",
   "execution_count": 3,
   "metadata": {
    "slideshow": {
     "slide_type": "fragment"
    }
   },
   "outputs": [],
   "source": [
    "class_names = ['T-shirt/top', 'Trouser', 'Pullover', 'Dress', 'Coat', \n",
    "               'Sandal', 'Shirt', 'Sneaker', 'Bag', 'Ankle boot']"
   ]
  },
  {
   "cell_type": "markdown",
   "metadata": {
    "slideshow": {
     "slide_type": "slide"
    }
   },
   "source": [
    "* Τα δεδομένα εκμάθησης είναι 60.000 εικόνες, κάθε μία διαστάσεων 28x28 pixels.\n",
    "\n",
    "* Υπάρχουν επίσης 60.000 ετικέτες, η κάθε μία από 0 έως και το 9."
   ]
  },
  {
   "cell_type": "code",
   "execution_count": 4,
   "metadata": {
    "slideshow": {
     "slide_type": "fragment"
    }
   },
   "outputs": [
    {
     "name": "stdout",
     "output_type": "stream",
     "text": [
      "(60000, 28, 28)\n",
      "60000\n",
      "[9 0 0 ... 3 0 5]\n"
     ]
    }
   ],
   "source": [
    "print(train_images.shape)\n",
    "print(len(train_labels))\n",
    "print(train_labels)"
   ]
  },
  {
   "cell_type": "markdown",
   "metadata": {
    "slideshow": {
     "slide_type": "slide"
    }
   },
   "source": [
    "* Τα δεδομένα ελέγχου αποτελούνται από 10.000 εικόνες, κάθε μία 28x28 pixels.\n",
    "\n",
    "* Και, φυσικά, 10.000 ετικέτες."
   ]
  },
  {
   "cell_type": "code",
   "execution_count": 5,
   "metadata": {
    "slideshow": {
     "slide_type": "fragment"
    }
   },
   "outputs": [
    {
     "name": "stdout",
     "output_type": "stream",
     "text": [
      "(10000, 28, 28)\n",
      "10000\n"
     ]
    }
   ],
   "source": [
    "print(test_images.shape)\n",
    "print(len(test_labels))"
   ]
  },
  {
   "cell_type": "markdown",
   "metadata": {
    "slideshow": {
     "slide_type": "slide"
    }
   },
   "source": [
    "* Ας δούμε μια εικόνα.\n",
    "\n",
    "* Οι τιμές στα pixels μπορούν να κυμαίνονται από το 0 έως και το 255."
   ]
  },
  {
   "cell_type": "code",
   "execution_count": 6,
   "metadata": {
    "slideshow": {
     "slide_type": "fragment"
    },
    "tags": [
     "remove_input"
    ]
   },
   "outputs": [
    {
     "data": {
      "image/png": "[encoded data removed]",
      "text/plain": [
       "<Figure size 640x480 with 2 Axes>"
      ]
     },
     "metadata": {},
     "output_type": "display_data"
    }
   ],
   "source": [
    "fig = plt.figure()\n",
    "ax = fig.add_subplot(1, 1, 1)\n",
    "ax.margins(0, 0)  \n",
    "plt.imshow(train_images[0], \n",
    "           extent=(0, train_images[0].shape[0], train_images[0].shape[1], 0),\n",
    "           cmap=plt.cm.binary)\n",
    "plt.colorbar()\n",
    "plt.xlim(0, 28)\n",
    "plt.ylim(28, 0)\n",
    "minor_ticks = np.arange(0, 28, 1)\n",
    "ax.set_xticks(minor_ticks, minor=True)\n",
    "ax.set_yticks(minor_ticks, minor=True)\n",
    "ax.grid(which='both')"
   ]
  },
  {
   "cell_type": "markdown",
   "metadata": {
    "slideshow": {
     "slide_type": "slide"
    }
   },
   "source": [
    "<img src=\"mnist_ankle_boot_table.png\" width=\"700\"/>"
   ]
  },
  {
   "cell_type": "markdown",
   "metadata": {
    "slideshow": {
     "slide_type": "slide"
    }
   },
   "source": [
    "* Στα νευρωνικά δίκτυα επίσης δεν αρέσουν τα δεδομένα με μεγάλες διακυμάνσεις, οπότε θα τα μετατρέψουμε ώστε να έχουν τιμές μεταξύ 0 και 1."
   ]
  },
  {
   "cell_type": "code",
   "execution_count": 7,
   "metadata": {
    "slideshow": {
     "slide_type": "fragment"
    }
   },
   "outputs": [],
   "source": [
    "train_images = train_images / 255.0\n",
    "\n",
    "test_images = test_images / 255.0"
   ]
  },
  {
   "cell_type": "markdown",
   "metadata": {
    "slideshow": {
     "slide_type": "slide"
    }
   },
   "source": [
    "* Για να δούμε τις πρώτες 25 φωτογραφίες."
   ]
  },
  {
   "cell_type": "code",
   "execution_count": 8,
   "metadata": {
    "slideshow": {
     "slide_type": "fragment"
    },
    "tags": [
     "remove_input"
    ]
   },
   "outputs": [
    {
     "data": {
      "image/png": "[encoded data removed]",
      "text/plain": [
       "<Figure size 1000x1000 with 25 Axes>"
      ]
     },
     "metadata": {},
     "output_type": "display_data"
    }
   ],
   "source": [
    "plt.figure(figsize=(10,10))\n",
    "for i in range(25):\n",
    "    plt.subplot(5,5,i+1)\n",
    "    plt.xticks([])\n",
    "    plt.yticks([])\n",
    "    plt.grid(False)\n",
    "    plt.imshow(train_images[i], cmap=plt.cm.binary)\n",
    "    plt.xlabel(class_names[train_labels[i]])"
   ]
  },
  {
   "cell_type": "markdown",
   "metadata": {
    "slideshow": {
     "slide_type": "slide"
    }
   },
   "source": [
    "* Θα χρησιμοποιήσουμε μια νέα συνάρτηση ενεργοποίησης, τον *ανορθωτή* (rectifier):\n",
    "$$ f(x)=x^{+}=\\max(0,x)$$\n",
    "\n",
    "* Ένας νευρώνας, ή *μονάδα* (unit) που χρησιμοποιεί τον ανορθωτή ονομάζεται *ανορθωμένη γραμμική μονάδα*, rectified linear unit, ή απλώς ReLU.\n",
    "\n",
    "* Κάποιες φορές χρησιμοποιούμε μια ομαλή προσέγγιση του , τη συνάρτηση *softplus*:\n",
    "$$f(x)=\\log(1+ e^{x})$$"
   ]
  },
  {
   "cell_type": "code",
   "execution_count": 9,
   "metadata": {
    "slideshow": {
     "slide_type": "slide"
    },
    "tags": [
     "remove_input"
    ]
   },
   "outputs": [
    {
     "data": {
      "text/plain": [
       "<matplotlib.legend.Legend at 0x10d72ae1fa0>"
      ]
     },
     "execution_count": 9,
     "metadata": {},
     "output_type": "execute_result"
    },
    {
     "data": {
      "image/png": "[encoded data removed]",
      "text/plain": [
       "<Figure size 800x600 with 1 Axes>"
      ]
     },
     "metadata": {},
     "output_type": "display_data"
    }
   ],
   "source": [
    "fig = plt.figure(figsize=(8, 6))\n",
    "ax = plt.axes()\n",
    "ax.spines['right'].set_visible(False)\n",
    "ax.spines['top'].set_visible(False)\n",
    "plt.xlim((-5, 5))\n",
    "plt.xticks(np.arange(-5, 6, 1))\n",
    "x = np.linspace(-5, 0, 50)\n",
    "y = np.zeros_like(x)\n",
    "plt.plot(x, y, color='blue')\n",
    "x = np.linspace(0, 5, 50)\n",
    "y = x\n",
    "relu, = plt.plot(x, y, color='blue', label=r\"$f(x) = \\max(0, x)$\")\n",
    "x = np.linspace(-5, 5, 100)\n",
    "y = np.log(1 + np.exp(x))\n",
    "softplus, = plt.plot(x, y, label=r\"$f(x) = \\log(1 + e^{x})$\")\n",
    "plt.legend(handles=[relu, softplus], loc='best')"
   ]
  },
  {
   "cell_type": "markdown",
   "metadata": {
    "slideshow": {
     "slide_type": "slide"
    }
   },
   "source": [
    "* Τώρα ας στήσουμε το μοντέλο μας.\n",
    "\n",
    "* Θα αποτελείται από τρία στρώματα.\n",
    "\n",
    "* Το πρώτο στρώμα μετά την είσοδο θα μετατρέψει την είσοδο από πίνακες 28x28 σε μονοδιάστατους πίνακες των 784 pixels.\n",
    "\n",
    "* Το δεύτερο στρώμα θα είναι πυκνά συνδεμένο. Θα έχει 128 κόμβους (νευρώνες), που θα είναι ReLU.\n",
    "\n",
    "* Το τρίτο στρώμα θα είναι πάλι πυκνά συνδεμένο και δεν θα έχει συνάρτηση ενεργοποίησης. \n",
    "\n",
    "* Άρα η ενεργοποίηση θα είναι γραμμική, $a(x) = x$, και ο νευρώνας θα δίνει απλώς τη σταθμισμένη είσοδο συν την πόλωση."
   ]
  },
  {
   "cell_type": "code",
   "execution_count": 10,
   "metadata": {
    "slideshow": {
     "slide_type": "fragment"
    }
   },
   "outputs": [],
   "source": [
    "model = keras.Sequential([\n",
    "    keras.layers.Input(shape=(28, 28)),\n",
    "    keras.layers.Flatten(),\n",
    "    keras.layers.Dense(128, activation=tf.nn.relu),\n",
    "    keras.layers.Dense(10)\n",
    "])"
   ]
  },
  {
   "cell_type": "markdown",
   "metadata": {
    "slideshow": {
     "slide_type": "slide"
    }
   },
   "source": [
    "* Με τη μέθοδο `summary()` μπορούμε να δούμε σε μορφή πίνακα το δίκτυο."
   ]
  },
  {
   "cell_type": "code",
   "execution_count": 11,
   "metadata": {
    "slideshow": {
     "slide_type": "fragment"
    }
   },
   "outputs": [
    {
     "data": {
      "text/html": [
       "<pre style=\"white-space:pre;overflow-x:auto;line-height:normal;font-family:Menlo,'DejaVu Sans Mono',consolas,'Courier New',monospace\"><span style=\"font-weight: bold\">Model: \"sequential\"</span>\n",
       "</pre>\n"
      ],
      "text/plain": [
       "\u001b[1mModel: \"sequential\"\u001b[0m\n"
      ]
     },
     "metadata": {},
     "output_type": "display_data"
    },
    {
     "data": {
      "text/html": [
       "<pre style=\"white-space:pre;overflow-x:auto;line-height:normal;font-family:Menlo,'DejaVu Sans Mono',consolas,'Courier New',monospace\">┏━━━━━━━━━━━━━━━━━━━━━━━━━━━━━━━━━┳━━━━━━━━━━━━━━━━━━━━━━━━┳━━━━━━━━━━━━━━━┓\n",
       "┃<span style=\"font-weight: bold\"> Layer (type)                    </span>┃<span style=\"font-weight: bold\"> Output Shape           </span>┃<span style=\"font-weight: bold\">       Param # </span>┃\n",
       "┡━━━━━━━━━━━━━━━━━━━━━━━━━━━━━━━━━╇━━━━━━━━━━━━━━━━━━━━━━━━╇━━━━━━━━━━━━━━━┩\n",
       "│ flatten (<span style=\"color: #0087ff; text-decoration-color: #0087ff\">Flatten</span>)               │ (<span style=\"color: #00d7ff; text-decoration-color: #00d7ff\">None</span>, <span style=\"color: #00af00; text-decoration-color: #00af00\">784</span>)            │             <span style=\"color: #00af00; text-decoration-color: #00af00\">0</span> │\n",
       "├─────────────────────────────────┼────────────────────────┼───────────────┤\n",
       "│ dense (<span style=\"color: #0087ff; text-decoration-color: #0087ff\">Dense</span>)                   │ (<span style=\"color: #00d7ff; text-decoration-color: #00d7ff\">None</span>, <span style=\"color: #00af00; text-decoration-color: #00af00\">128</span>)            │       <span style=\"color: #00af00; text-decoration-color: #00af00\">100,480</span> │\n",
       "├─────────────────────────────────┼────────────────────────┼───────────────┤\n",
       "│ dense_1 (<span style=\"color: #0087ff; text-decoration-color: #0087ff\">Dense</span>)                 │ (<span style=\"color: #00d7ff; text-decoration-color: #00d7ff\">None</span>, <span style=\"color: #00af00; text-decoration-color: #00af00\">10</span>)             │         <span style=\"color: #00af00; text-decoration-color: #00af00\">1,290</span> │\n",
       "└─────────────────────────────────┴────────────────────────┴───────────────┘\n",
       "</pre>\n"
      ],
      "text/plain": [
       "┏━━━━━━━━━━━━━━━━━━━━━━━━━━━━━━━━━┳━━━━━━━━━━━━━━━━━━━━━━━━┳━━━━━━━━━━━━━━━┓\n",
       "┃\u001b[1m \u001b[0m\u001b[1mLayer (type)                   \u001b[0m\u001b[1m \u001b[0m┃\u001b[1m \u001b[0m\u001b[1mOutput Shape          \u001b[0m\u001b[1m \u001b[0m┃\u001b[1m \u001b[0m\u001b[1m      Param #\u001b[0m\u001b[1m \u001b[0m┃\n",
       "┡━━━━━━━━━━━━━━━━━━━━━━━━━━━━━━━━━╇━━━━━━━━━━━━━━━━━━━━━━━━╇━━━━━━━━━━━━━━━┩\n",
       "│ flatten (\u001b[38;5;33mFlatten\u001b[0m)               │ (\u001b[38;5;45mNone\u001b[0m, \u001b[38;5;34m784\u001b[0m)            │             \u001b[38;5;34m0\u001b[0m │\n",
       "├─────────────────────────────────┼────────────────────────┼───────────────┤\n",
       "│ dense (\u001b[38;5;33mDense\u001b[0m)                   │ (\u001b[38;5;45mNone\u001b[0m, \u001b[38;5;34m128\u001b[0m)            │       \u001b[38;5;34m100,480\u001b[0m │\n",
       "├─────────────────────────────────┼────────────────────────┼───────────────┤\n",
       "│ dense_1 (\u001b[38;5;33mDense\u001b[0m)                 │ (\u001b[38;5;45mNone\u001b[0m, \u001b[38;5;34m10\u001b[0m)             │         \u001b[38;5;34m1,290\u001b[0m │\n",
       "└─────────────────────────────────┴────────────────────────┴───────────────┘\n"
      ]
     },
     "metadata": {},
     "output_type": "display_data"
    },
    {
     "data": {
      "text/html": [
       "<pre style=\"white-space:pre;overflow-x:auto;line-height:normal;font-family:Menlo,'DejaVu Sans Mono',consolas,'Courier New',monospace\"><span style=\"font-weight: bold\"> Total params: </span><span style=\"color: #00af00; text-decoration-color: #00af00\">101,770</span> (397.54 KB)\n",
       "</pre>\n"
      ],
      "text/plain": [
       "\u001b[1m Total params: \u001b[0m\u001b[38;5;34m101,770\u001b[0m (397.54 KB)\n"
      ]
     },
     "metadata": {},
     "output_type": "display_data"
    },
    {
     "data": {
      "text/html": [
       "<pre style=\"white-space:pre;overflow-x:auto;line-height:normal;font-family:Menlo,'DejaVu Sans Mono',consolas,'Courier New',monospace\"><span style=\"font-weight: bold\"> Trainable params: </span><span style=\"color: #00af00; text-decoration-color: #00af00\">101,770</span> (397.54 KB)\n",
       "</pre>\n"
      ],
      "text/plain": [
       "\u001b[1m Trainable params: \u001b[0m\u001b[38;5;34m101,770\u001b[0m (397.54 KB)\n"
      ]
     },
     "metadata": {},
     "output_type": "display_data"
    },
    {
     "data": {
      "text/html": [
       "<pre style=\"white-space:pre;overflow-x:auto;line-height:normal;font-family:Menlo,'DejaVu Sans Mono',consolas,'Courier New',monospace\"><span style=\"font-weight: bold\"> Non-trainable params: </span><span style=\"color: #00af00; text-decoration-color: #00af00\">0</span> (0.00 B)\n",
       "</pre>\n"
      ],
      "text/plain": [
       "\u001b[1m Non-trainable params: \u001b[0m\u001b[38;5;34m0\u001b[0m (0.00 B)\n"
      ]
     },
     "metadata": {},
     "output_type": "display_data"
    }
   ],
   "source": [
    "model.summary()"
   ]
  },
  {
   "cell_type": "markdown",
   "metadata": {
    "slideshow": {
     "slide_type": "slide"
    }
   },
   "source": [
    "* Εναλλακτικά, μπορούμε να το δούμε με γραφικό τρόπο.\n",
    "\n",
    "* Η είσοδος στο πρώτο στρώμα και στο στρώμα `Flatten` είναι τρισδιάστατη. Αυτό συμβαίνει επειδή τα δεδομένα έρχονται σε φουρνιές, αλλά το μέγεθος της φουρνιάς θα γίνει γνωστό κατά την εκτέλεση, οπότε εμφανίζεται ως `None`."
   ]
  },
  {
   "cell_type": "code",
   "execution_count": 12,
   "metadata": {
    "slideshow": {
     "slide_type": "slide"
    }
   },
   "outputs": [
    {
     "data": {
      "image/svg+xml": [
       "<svg xmlns=\"http://www.w3.org/2000/svg\" xmlns:xlink=\"http://www.w3.org/1999/xlink\" width=\"375pt\" height=\"327pt\" viewBox=\"0.00 0.00 375.00 327.00\">\n",
       "<g id=\"graph0\" class=\"graph\" transform=\"scale(0.972222 0.972222) rotate(0) translate(4 332.5)\">\n",
       "<title>G</title>\n",
       "<polygon fill=\"white\" stroke=\"none\" points=\"-4,4 -4,-332.5 381.75,-332.5 381.75,4 -4,4\"/>\n",
       "<!-- 1157270768864 -->\n",
       "<g id=\"node1\" class=\"node\">\n",
       "<title>1157270768864</title>\n",
       "<polygon fill=\"none\" stroke=\"black\" points=\"0,-243.5 0,-328 377.75,-328 377.75,-243.5 0,-243.5\"/>\n",
       "<polygon fill=\"black\" stroke=\"none\" points=\"0,-243.5 0,-328 377.75,-328 377.75,-243.5 0,-243.5\"/>\n",
       "<polygon fill=\"black\" stroke=\"none\" points=\"2,-285.25 2,-326 375.75,-326 375.75,-285.25 2,-285.25\"/>\n",
       "<polygon fill=\"none\" stroke=\"black\" points=\"2,-285.25 2,-326 375.75,-326 375.75,-285.25 2,-285.25\"/>\n",
       "<text xml:space=\"preserve\" text-anchor=\"start\" x=\"132.62\" y=\"-300.8\" font-family=\"Helvetica,sans-Serif\" font-weight=\"bold\" font-size=\"16.00\" fill=\"white\">flatten</text>\n",
       "<text xml:space=\"preserve\" text-anchor=\"start\" x=\"180.62\" y=\"-300.8\" font-family=\"Helvetica,sans-Serif\" font-size=\"16.00\" fill=\"white\"> (Flatten)</text>\n",
       "<polygon fill=\"white\" stroke=\"none\" points=\"2,-245.5 2,-283.25 189.75,-283.25 189.75,-245.5 2,-245.5\"/>\n",
       "<polygon fill=\"none\" stroke=\"black\" points=\"2,-245.5 2,-283.25 189.75,-283.25 189.75,-245.5 2,-245.5\"/>\n",
       "<text xml:space=\"preserve\" text-anchor=\"start\" x=\"13\" y=\"-259.95\" font-family=\"Helvetica,sans-Serif\" font-size=\"14.00\">Input shape: </text>\n",
       "<text xml:space=\"preserve\" text-anchor=\"start\" x=\"91\" y=\"-259.95\" font-family=\"Helvetica,sans-Serif\" font-weight=\"bold\" font-size=\"14.00\">(None, 28, 28)</text>\n",
       "<polygon fill=\"white\" stroke=\"none\" points=\"191.75,-245.5 191.75,-283.25 375.75,-283.25 375.75,-245.5 191.75,-245.5\"/>\n",
       "<polygon fill=\"none\" stroke=\"black\" points=\"191.75,-245.5 191.75,-283.25 375.75,-283.25 375.75,-245.5 191.75,-245.5\"/>\n",
       "<text xml:space=\"preserve\" text-anchor=\"start\" x=\"202.75\" y=\"-259.95\" font-family=\"Helvetica,sans-Serif\" font-size=\"14.00\">Output shape: </text>\n",
       "<text xml:space=\"preserve\" text-anchor=\"start\" x=\"292\" y=\"-259.95\" font-family=\"Helvetica,sans-Serif\" font-weight=\"bold\" font-size=\"14.00\">(None, 784)</text>\n",
       "</g>\n",
       "<!-- 1157267375984 -->\n",
       "<g id=\"node2\" class=\"node\">\n",
       "<title>1157267375984</title>\n",
       "<polygon fill=\"none\" stroke=\"black\" points=\"7.5,-122 7.5,-206.5 370.25,-206.5 370.25,-122 7.5,-122\"/>\n",
       "<polygon fill=\"black\" stroke=\"none\" points=\"7.5,-122 7.5,-206.5 370.25,-206.5 370.25,-122 7.5,-122\"/>\n",
       "<polygon fill=\"black\" stroke=\"none\" points=\"9.5,-163.75 9.5,-204.5 368.25,-204.5 368.25,-163.75 9.5,-163.75\"/>\n",
       "<polygon fill=\"none\" stroke=\"black\" points=\"9.5,-163.75 9.5,-204.5 368.25,-204.5 368.25,-163.75 9.5,-163.75\"/>\n",
       "<text xml:space=\"preserve\" text-anchor=\"start\" x=\"134.88\" y=\"-179.3\" font-family=\"Helvetica,sans-Serif\" font-weight=\"bold\" font-size=\"16.00\" fill=\"white\">dense</text>\n",
       "<text xml:space=\"preserve\" text-anchor=\"start\" x=\"181.38\" y=\"-179.3\" font-family=\"Helvetica,sans-Serif\" font-size=\"16.00\" fill=\"white\"> (Dense)</text>\n",
       "<polygon fill=\"white\" stroke=\"none\" points=\"9.5,-124 9.5,-161.75 182.25,-161.75 182.25,-124 9.5,-124\"/>\n",
       "<polygon fill=\"none\" stroke=\"black\" points=\"9.5,-124 9.5,-161.75 182.25,-161.75 182.25,-124 9.5,-124\"/>\n",
       "<text xml:space=\"preserve\" text-anchor=\"start\" x=\"20.5\" y=\"-138.45\" font-family=\"Helvetica,sans-Serif\" font-size=\"14.00\">Input shape: </text>\n",
       "<text xml:space=\"preserve\" text-anchor=\"start\" x=\"98.5\" y=\"-138.45\" font-family=\"Helvetica,sans-Serif\" font-weight=\"bold\" font-size=\"14.00\">(None, 784)</text>\n",
       "<polygon fill=\"white\" stroke=\"none\" points=\"184.25,-124 184.25,-161.75 368.25,-161.75 368.25,-124 184.25,-124\"/>\n",
       "<polygon fill=\"none\" stroke=\"black\" points=\"184.25,-124 184.25,-161.75 368.25,-161.75 368.25,-124 184.25,-124\"/>\n",
       "<text xml:space=\"preserve\" text-anchor=\"start\" x=\"195.25\" y=\"-138.45\" font-family=\"Helvetica,sans-Serif\" font-size=\"14.00\">Output shape: </text>\n",
       "<text xml:space=\"preserve\" text-anchor=\"start\" x=\"284.5\" y=\"-138.45\" font-family=\"Helvetica,sans-Serif\" font-weight=\"bold\" font-size=\"14.00\">(None, 128)</text>\n",
       "</g>\n",
       "<!-- 1157270768864&#45;&gt;1157267375984 -->\n",
       "<g id=\"edge1\" class=\"edge\">\n",
       "<title>1157270768864-&gt;1157267375984</title>\n",
       "<path fill=\"none\" stroke=\"black\" stroke-width=\"2\" d=\"M188.88,-243.26C188.88,-243.26 188.88,-219.95 188.88,-219.95\"/>\n",
       "<polygon fill=\"black\" stroke=\"black\" stroke-width=\"2\" points=\"192.38,-219.95 188.88,-209.95 185.38,-219.95 192.38,-219.95\"/>\n",
       "</g>\n",
       "<!-- 1157321439856 -->\n",
       "<g id=\"node3\" class=\"node\">\n",
       "<title>1157321439856</title>\n",
       "<polygon fill=\"none\" stroke=\"black\" points=\"11.25,-0.5 11.25,-85 366.5,-85 366.5,-0.5 11.25,-0.5\"/>\n",
       "<polygon fill=\"black\" stroke=\"none\" points=\"11.25,-0.5 11.25,-85 366.5,-85 366.5,-0.5 11.25,-0.5\"/>\n",
       "<polygon fill=\"black\" stroke=\"none\" points=\"13.25,-42.25 13.25,-83 364.5,-83 364.5,-42.25 13.25,-42.25\"/>\n",
       "<polygon fill=\"none\" stroke=\"black\" points=\"13.25,-42.25 13.25,-83 364.5,-83 364.5,-42.25 13.25,-42.25\"/>\n",
       "<text xml:space=\"preserve\" text-anchor=\"start\" x=\"125.88\" y=\"-57.8\" font-family=\"Helvetica,sans-Serif\" font-weight=\"bold\" font-size=\"16.00\" fill=\"white\">dense_1</text>\n",
       "<text xml:space=\"preserve\" text-anchor=\"start\" x=\"190.38\" y=\"-57.8\" font-family=\"Helvetica,sans-Serif\" font-size=\"16.00\" fill=\"white\"> (Dense)</text>\n",
       "<polygon fill=\"white\" stroke=\"none\" points=\"13.25,-2.5 13.25,-40.25 186,-40.25 186,-2.5 13.25,-2.5\"/>\n",
       "<polygon fill=\"none\" stroke=\"black\" points=\"13.25,-2.5 13.25,-40.25 186,-40.25 186,-2.5 13.25,-2.5\"/>\n",
       "<text xml:space=\"preserve\" text-anchor=\"start\" x=\"24.25\" y=\"-16.95\" font-family=\"Helvetica,sans-Serif\" font-size=\"14.00\">Input shape: </text>\n",
       "<text xml:space=\"preserve\" text-anchor=\"start\" x=\"102.25\" y=\"-16.95\" font-family=\"Helvetica,sans-Serif\" font-weight=\"bold\" font-size=\"14.00\">(None, 128)</text>\n",
       "<polygon fill=\"white\" stroke=\"none\" points=\"188,-2.5 188,-40.25 364.5,-40.25 364.5,-2.5 188,-2.5\"/>\n",
       "<polygon fill=\"none\" stroke=\"black\" points=\"188,-2.5 188,-40.25 364.5,-40.25 364.5,-2.5 188,-2.5\"/>\n",
       "<text xml:space=\"preserve\" text-anchor=\"start\" x=\"199\" y=\"-16.95\" font-family=\"Helvetica,sans-Serif\" font-size=\"14.00\">Output shape: </text>\n",
       "<text xml:space=\"preserve\" text-anchor=\"start\" x=\"288.25\" y=\"-16.95\" font-family=\"Helvetica,sans-Serif\" font-weight=\"bold\" font-size=\"14.00\">(None, 10)</text>\n",
       "</g>\n",
       "<!-- 1157267375984&#45;&gt;1157321439856 -->\n",
       "<g id=\"edge2\" class=\"edge\">\n",
       "<title>1157267375984-&gt;1157321439856</title>\n",
       "<path fill=\"none\" stroke=\"black\" stroke-width=\"2\" d=\"M188.88,-121.76C188.88,-121.76 188.88,-98.45 188.88,-98.45\"/>\n",
       "<polygon fill=\"black\" stroke=\"black\" stroke-width=\"2\" points=\"192.38,-98.45 188.88,-88.45 185.38,-98.45 192.38,-98.45\"/>\n",
       "</g>\n",
       "</g>\n",
       "</svg>"
      ],
      "text/plain": [
       "<IPython.core.display.SVG object>"
      ]
     },
     "execution_count": 12,
     "metadata": {},
     "output_type": "execute_result"
    }
   ],
   "source": [
    "from IPython.display import SVG\n",
    "from keras.utils import model_to_dot\n",
    "SVG(model_to_dot(model, show_shapes=True, dpi=70).create(prog='dot', format='svg'))"
   ]
  },
  {
   "cell_type": "markdown",
   "metadata": {
    "slideshow": {
     "slide_type": "slide"
    }
   },
   "source": [
    "<img src=\"mnist_nn_flatten.png\" width=\"600\"/>"
   ]
  },
  {
   "cell_type": "markdown",
   "metadata": {
    "slideshow": {
     "slide_type": "slide"
    }
   },
   "source": [
    "* Μπορούμε να επιβεβαιώσουμε τον αριθμό των παραμέτρων: \n",
    "\n",
    "  * $784 \\times 128 = 100.352$ βάρη μεταξύ του στρώματος `Flatten` και του επόμενου στρώματος.\n",
    "  \n",
    "  * $128 \\times 10 = 1280$ βάρη μεταξύ του κρυφού στρώματος και του στρώματος εξόδου.\n",
    "  \n",
    "  * $128$ πολώσεις στο κρυφό στρώμα.\n",
    "  \n",
    "  * $10$ πολώσεις στο στρώμα εξόδου.\n",
    "  \n",
    "  * Σύνολο: $100.352 + 1280 + 128 + 10 = 101.770$"
   ]
  },
  {
   "cell_type": "code",
   "execution_count": 13,
   "metadata": {
    "slideshow": {
     "slide_type": "fragment"
    }
   },
   "outputs": [
    {
     "data": {
      "text/plain": [
       "101770"
      ]
     },
     "execution_count": 13,
     "metadata": {},
     "output_type": "execute_result"
    }
   ],
   "source": [
    "model.count_params()"
   ]
  },
  {
   "cell_type": "markdown",
   "metadata": {
    "slideshow": {
     "slide_type": "slide"
    }
   },
   "source": [
    "* Τώρα μπορούμε να προχωρήσουμε στον ορισμό:\n",
    "\n",
    "  * Της συνάρτησης απώλειας.\n",
    "  * Του βελτιστοποιητή.\n",
    "  * Της μετρικής αξιολόγησης."
   ]
  },
  {
   "cell_type": "markdown",
   "metadata": {
    "slideshow": {
     "slide_type": "slide"
    }
   },
   "source": [
    "* Θέλουμε η συνάρτηση απώλειας να υπολογίζει το λάθος στην έξοδο του δικτύου.\n",
    "\n",
    "* Αλλά τι ακριβώς είναι η έξοδος;\n",
    "\n",
    "* Είναι ένα διάνυσμα με 10 αριθμούς, έναν για κάθε νευρώνα στο στρώμα εξόδου.\n",
    "\n",
    "* Κάθε ένας από αυτούς του αριθμούς δίνει την πεποίθηση του δικτύου ότι το δείγμα στην είσοδο ανήκει στη συγκεκριμένη κλάση."
   ]
  },
  {
   "cell_type": "code",
   "execution_count": 14,
   "metadata": {
    "slideshow": {
     "slide_type": "fragment"
    }
   },
   "outputs": [
    {
     "name": "stdout",
     "output_type": "stream",
     "text": [
      "[[ 0.3226631   0.6211064  -0.77339816  0.6878731   0.4817496   0.18480445\n",
      "   0.14109853  0.7707794   1.0900153  -0.2865557 ]]\n",
      "min = -0.77339816 max = 1.0900153 sum = 3.2401357\n"
     ]
    }
   ],
   "source": [
    "# As we have not trained the model yet, these are random values.\n",
    "predictions = model(train_images[:1]).numpy()\n",
    "print(predictions)\n",
    "print('min =', np.min(predictions), \n",
    "      'max =', np.max(predictions), \n",
    "      'sum =', np.sum(predictions))"
   ]
  },
  {
   "cell_type": "markdown",
   "metadata": {
    "slideshow": {
     "slide_type": "slide"
    }
   },
   "source": [
    "* Οι στόχοι μας είναι επίσης διανύσματα με 10 αριθμούς, π.χ. αν το ρούχο είναι μποτάκι:\n",
    "\n",
    "  ```[0, 0, 0, 0, 0, 0, 0, 0, 0, 1]```\n",
    "\n",
    "* Κάθε ένα από αυτά τα διανύσματα έχει μία τιμή ίση με 1 (η σωστή κλάση), ενώ οι άλλες τιμές είναι ίσες με 0.\n",
    "\n",
    "* Αυτό σημαίνει ότι κάθε στόχος είναι στην πραγματικότητα μια κατανομή πιθανοτήτων, αφού είναι ένα σύνολο τιμών από το μηδέν έως το ένα που αθροίζουν στο ένα."
   ]
  },
  {
   "cell_type": "markdown",
   "metadata": {
    "slideshow": {
     "slide_type": "slide"
    }
   },
   "source": [
    "* Άρα θέλουμε να μετατρέψουμε την έξοδο του δικτύου σε μία κατανομή πιθανοτήτων.\n",
    "\n",
    "* Θα είναι ένα διάνυσμα με δέκα τιμές, κάθε μία μεταξύ μηδέν και ένα, που θα αθροίζουν στο ένα."
   ]
  },
  {
   "cell_type": "markdown",
   "metadata": {
    "slideshow": {
     "slide_type": "slide"
    }
   },
   "source": [
    "* Όμως αυτή τη στιγμή η έξοδος του δικτύου δεν είναι μια τέτοια κατανομή.\n",
    "\n",
    "* Είναι απλώς η έξοδος των νευρώνων του τελεταίου στρώματος, οι οποίοι μάλιστα δεν έχουν συνάρτηση ενεργοποίησης, άρα απλώς ένας γραμμικός συνδυασμών των εισόδων.\n",
    "\n",
    "* Οι προβλέψεις του μοντέλου σε αυτή τη μορφή ονομάζονται *logits*."
   ]
  },
  {
   "cell_type": "markdown",
   "metadata": {
    "slideshow": {
     "slide_type": "slide"
    }
   },
   "source": [
    "* Για να μετατρέψουμε τα logits σε μια κατανομή πιθανοτήτων χρησιμοποιούμε τη συνάρτηση *softmax*.\n",
    "\n",
    "* Αν έχουμε $K$ κλάσεις, και ο $k$ νευρώνας έχει έξοδο $z_k$, η συνάρτηση softmax ορίζεται ως:\n",
    "$$\\sigma(z_{j}) = {\\frac {e^{z_{j}}}{\\sum _{k=1}^{K}e^{z_{k}}}}\\, , j = 1, 2, \\ldots, k$$"
   ]
  },
  {
   "cell_type": "markdown",
   "metadata": {
    "slideshow": {
     "slide_type": "slide"
    }
   },
   "source": [
    "* Στην ουσία, η softmax δίνει τις εισόδους στην εκθετική συνάρτηση και κανονικοποιεί.\n",
    "\n",
    "* Η εκθετική συνάρτηση σημαίνει ότι μια μονάδα αύξηση στην είσοδο έχει πολλαπλασιαστικά αποτελέσματα στην έξοδο.\n",
    "\n",
    "* Αντιστρόφως, αν μειώνεται η είσοδος, στην έξοδο παίρνουμε κλάσμα της εισόδου.\n",
    "\n",
    "* Η softmax διαιρεί με το άθροισμα της εκθετικής συνάρτησης στις εισόδους, ώστε το αποτελέσμα να είναι μεταξύ και ένα."
   ]
  },
  {
   "cell_type": "code",
   "execution_count": 15,
   "metadata": {
    "slideshow": {
     "slide_type": "fragment"
    }
   },
   "outputs": [
    {
     "name": "stdout",
     "output_type": "stream",
     "text": [
      "[[0.08878174 0.1196564  0.02966951 0.12791821 0.1040912  0.07734859\n",
      "  0.07404082 0.13897546 0.19124077 0.04827734]]\n",
      "min = 0.029669506 max = 0.19124077 sum = 1.0000001\n"
     ]
    }
   ],
   "source": [
    "softmax_predictions = tf.nn.softmax(predictions).numpy()\n",
    "print(softmax_predictions)\n",
    "print('min =', np.min(softmax_predictions), \n",
    "      'max =', np.max(softmax_predictions), \n",
    "      'sum =', np.sum(softmax_predictions))"
   ]
  },
  {
   "cell_type": "markdown",
   "metadata": {
    "slideshow": {
     "slide_type": "slide"
    }
   },
   "source": [
    "* Στο TensorFlow, ορίζουμε ότι θα χρησιμοποιήσουμε το αποτέλεσμα της softmax στον υπολογισμό της απώλειας δίνοντας την παράμετρο `from_logits=True`.\n",
    "\n",
    "* Η δε συνάρτηση απώλειας που θα χρησιμοποιήσουμε υλοποιείται στην κλάση  `SparseCategoricalCrossEntropy`, άρα θα δώσουμε `SparseCategoricalCrossEntropy(from_logits=True)`."
   ]
  },
  {
   "cell_type": "markdown",
   "metadata": {
    "slideshow": {
     "slide_type": "slide"
    }
   },
   "source": [
    "* Θα ορίσουμε τον βελτιστοποιητή, αυτή τη φορά έναν άλλο, τον Adam optimizer (Adaptive Moment Estimation).\n",
    "\n",
    "* Δίνουμε την απώλεια όπως εξηγήσαμε παραπάνω, και τη μετρική της απόδοσης."
   ]
  },
  {
   "cell_type": "code",
   "execution_count": 16,
   "metadata": {
    "slideshow": {
     "slide_type": "fragment"
    }
   },
   "outputs": [],
   "source": [
    "model.compile(\n",
    "    optimizer=optimizers.Adam(), \n",
    "    loss=tf.keras.losses.SparseCategoricalCrossentropy(from_logits=True),\n",
    "    metrics=['accuracy'])"
   ]
  },
  {
   "cell_type": "markdown",
   "metadata": {
    "slideshow": {
     "slide_type": "slide"
    }
   },
   "source": [
    "* Προχωράμε στην εκπαίδευση.\n",
    "\n",
    "* Θα αφήσουμε το `batch_size` στην προεπιλεγμένη τιμή, δηλαδή 32.\n",
    "\n",
    "* Κάθε εποχή θα έχει $60.000 / 32 = 1875$ φουρνιές."
   ]
  },
  {
   "cell_type": "code",
   "execution_count": 17,
   "metadata": {
    "slideshow": {
     "slide_type": "fragment"
    }
   },
   "outputs": [
    {
     "name": "stdout",
     "output_type": "stream",
     "text": [
      "Epoch 1/5\n",
      "\u001b[1m1875/1875\u001b[0m \u001b[32m━━━━━━━━━━━━━━━━━━━━\u001b[0m\u001b[37m\u001b[0m \u001b[1m5s\u001b[0m 2ms/step - accuracy: 0.7794 - loss: 0.6332\n",
      "Epoch 2/5\n",
      "\u001b[1m1875/1875\u001b[0m \u001b[32m━━━━━━━━━━━━━━━━━━━━\u001b[0m\u001b[37m\u001b[0m \u001b[1m4s\u001b[0m 2ms/step - accuracy: 0.8620 - loss: 0.3835\n",
      "Epoch 3/5\n",
      "\u001b[1m1875/1875\u001b[0m \u001b[32m━━━━━━━━━━━━━━━━━━━━\u001b[0m\u001b[37m\u001b[0m \u001b[1m4s\u001b[0m 2ms/step - accuracy: 0.8774 - loss: 0.3379\n",
      "Epoch 4/5\n",
      "\u001b[1m1875/1875\u001b[0m \u001b[32m━━━━━━━━━━━━━━━━━━━━\u001b[0m\u001b[37m\u001b[0m \u001b[1m4s\u001b[0m 2ms/step - accuracy: 0.8861 - loss: 0.3118\n",
      "Epoch 5/5\n",
      "\u001b[1m1875/1875\u001b[0m \u001b[32m━━━━━━━━━━━━━━━━━━━━\u001b[0m\u001b[37m\u001b[0m \u001b[1m4s\u001b[0m 2ms/step - accuracy: 0.8934 - loss: 0.2902\n"
     ]
    },
    {
     "data": {
      "text/plain": [
       "<keras.src.callbacks.history.History at 0x10d72e60f20>"
      ]
     },
     "execution_count": 17,
     "metadata": {},
     "output_type": "execute_result"
    }
   ],
   "source": [
    "model.fit(train_images, train_labels, epochs=5)"
   ]
  },
  {
   "cell_type": "markdown",
   "metadata": {
    "slideshow": {
     "slide_type": "slide"
    }
   },
   "source": [
    "* Θα ελέγξουμε την επίδοση του συστήματος με τα δεδομένα ελέγχου.\n",
    "\n",
    "* Αυτά θα διαβαστούν σε $\\lceil1000 / 32\\rceil = 313$ φουρνιές."
   ]
  },
  {
   "cell_type": "code",
   "execution_count": 18,
   "metadata": {
    "slideshow": {
     "slide_type": "fragment"
    }
   },
   "outputs": [
    {
     "name": "stdout",
     "output_type": "stream",
     "text": [
      "\u001b[1m313/313\u001b[0m \u001b[32m━━━━━━━━━━━━━━━━━━━━\u001b[0m\u001b[37m\u001b[0m \u001b[1m1s\u001b[0m 2ms/step - accuracy: 0.8664 - loss: 0.3549\n",
      "Test accuracy: 0.8698999881744385\n"
     ]
    }
   ],
   "source": [
    "test_loss, test_acc = model.evaluate(test_images, test_labels)\n",
    "\n",
    "print('Test accuracy:', test_acc)"
   ]
  },
  {
   "cell_type": "markdown",
   "metadata": {
    "slideshow": {
     "slide_type": "slide"
    }
   },
   "source": [
    "* Τα αποτελέσματα είναι όπως τα περιμέναμε, με την έννοια ότι η ορθότητα είναι χαμηλότερη από αυτήν που είδαμε στην εκπαίδευση.\n",
    "\n",
    "* Ουσιαστικά στην εκπαίδευση φτάσαμε σε υπερπροσαρμογή (overfitting)."
   ]
  },
  {
   "cell_type": "markdown",
   "metadata": {
    "slideshow": {
     "slide_type": "slide"
    }
   },
   "source": [
    "* Μετά την εκπαίδευση, μπορούμε να χρησιμοποιήσουμε το δίκτυο για προβλέψεις.\n",
    "\n",
    "* Πλην όμως, η έξοδος του δικτύου είναι logits.\n",
    "\n",
    "* Θα τα μετατρέψουμε σε πιθανότητες.\n",
    "\n",
    "* Για να το κάνουμε αυτό, παίρνουμε το αρχικό μας δίκτυο και του προσθέτουμε ένα στρώμα `SoftMax()`."
   ]
  },
  {
   "cell_type": "code",
   "execution_count": 19,
   "metadata": {
    "slideshow": {
     "slide_type": "fragment"
    }
   },
   "outputs": [
    {
     "name": "stdout",
     "output_type": "stream",
     "text": [
      "\u001b[1m313/313\u001b[0m \u001b[32m━━━━━━━━━━━━━━━━━━━━\u001b[0m\u001b[37m\u001b[0m \u001b[1m0s\u001b[0m 1ms/step\n"
     ]
    }
   ],
   "source": [
    "probability_model = tf.keras.Sequential([model, \n",
    "                                         tf.keras.layers.Softmax()])\n",
    "predictions = probability_model.predict(test_images)"
   ]
  },
  {
   "cell_type": "markdown",
   "metadata": {
    "slideshow": {
     "slide_type": "slide"
    }
   },
   "source": [
    "* Τώρα στη μεταβλητή `predictions` έχουμε τις προβλέψεις για τα δεδομένα ελέγχου.\n",
    "\n",
    "* Για να δούμε την πρόβλεψη για την πρώτη εικόνα:"
   ]
  },
  {
   "cell_type": "code",
   "execution_count": 20,
   "metadata": {
    "slideshow": {
     "slide_type": "fragment"
    }
   },
   "outputs": [
    {
     "data": {
      "text/plain": [
       "array([4.5569000e-06, 1.9055435e-09, 8.0113729e-08, 1.2488454e-08,\n",
       "       5.9450778e-09, 2.6458709e-03, 5.1659995e-06, 2.0046453e-03,\n",
       "       5.3947215e-06, 9.9533433e-01], dtype=float32)"
      ]
     },
     "execution_count": 20,
     "metadata": {},
     "output_type": "execute_result"
    }
   ],
   "source": [
    "predictions[0]"
   ]
  },
  {
   "cell_type": "markdown",
   "metadata": {
    "slideshow": {
     "slide_type": "slide"
    }
   },
   "source": [
    "* Ή, σε ποσοστά:"
   ]
  },
  {
   "cell_type": "code",
   "execution_count": 21,
   "metadata": {
    "slideshow": {
     "slide_type": "fragment"
    }
   },
   "outputs": [
    {
     "name": "stdout",
     "output_type": "stream",
     "text": [
      "0.000005\n",
      "0.000000\n",
      "0.000000\n",
      "0.000000\n",
      "0.000000\n",
      "0.002646\n",
      "0.000005\n",
      "0.002005\n",
      "0.000005\n",
      "0.995334\n"
     ]
    }
   ],
   "source": [
    "for i in predictions[0]:\n",
    "    print(f'{i:f}')"
   ]
  },
  {
   "cell_type": "markdown",
   "metadata": {
    "slideshow": {
     "slide_type": "slide"
    }
   },
   "source": [
    "* Το σωστό ρούχο είναι το:"
   ]
  },
  {
   "cell_type": "code",
   "execution_count": 22,
   "metadata": {
    "slideshow": {
     "slide_type": "fragment"
    }
   },
   "outputs": [
    {
     "name": "stdout",
     "output_type": "stream",
     "text": [
      "9\n"
     ]
    }
   ],
   "source": [
    "print(test_labels[0])"
   ]
  },
  {
   "cell_type": "markdown",
   "metadata": {
    "slideshow": {
     "slide_type": "slide"
    },
    "tags": [
     "remove_cell"
    ]
   },
   "source": [
    "* Θα φτιάξουμε μια βοηθητική συνάρτητη η οποία θα μας δείχνει την πρόβλεψη και τον στόχο.\n",
    "\n",
    "* Αν η πρόβλεψη συμπίπτει με τον στόχο, θα είναι μπλε. Διαφορετικά, θα είναι κόκκινη."
   ]
  },
  {
   "cell_type": "code",
   "execution_count": 23,
   "metadata": {
    "slideshow": {
     "slide_type": "slide"
    },
    "tags": [
     "remove_cell"
    ]
   },
   "outputs": [],
   "source": [
    "def plot_image(i, predictions, true_labels, img):\n",
    "    predictions_array, true_label, img = predictions[i], true_labels[i], img[i]\n",
    "    plt.grid(False)\n",
    "    plt.xticks([])\n",
    "    plt.yticks([])\n",
    "    \n",
    "    plt.imshow(img, cmap=plt.cm.binary)\n",
    "    \n",
    "    predicted_label = np.argmax(predictions_array)\n",
    "    \n",
    "    if predicted_label == true_label:\n",
    "        color = 'blue'\n",
    "    else:\n",
    "        color = 'red'\n",
    "  \n",
    "    plt.xlabel(\"{} {:2.0f}% ({})\".format(class_names[predicted_label],\n",
    "                                         100*np.max(predictions_array),\n",
    "                                         class_names[true_label]),\n",
    "                                         color=color)"
   ]
  },
  {
   "cell_type": "markdown",
   "metadata": {
    "slideshow": {
     "slide_type": "slide"
    },
    "tags": [
     "remove_cell"
    ]
   },
   "source": [
    "* Θα φτιάξουμε και μια ακόμα βοηθητική συνάρτηση που θα μας εμφανίζει όλες τις πιθανότητες που δίνει το δίκτυο για κάθε εικόνα."
   ]
  },
  {
   "cell_type": "code",
   "execution_count": 24,
   "metadata": {
    "slideshow": {
     "slide_type": "fragment"
    },
    "tags": [
     "remove_cell"
    ]
   },
   "outputs": [],
   "source": [
    "def plot_value_array(i, predictions, true_labels, show_xticks=False):\n",
    "    predictions_array, true_label = predictions[i], true_labels[i]\n",
    "    plt.grid(False)\n",
    "    plt.xticks([])\n",
    "    if show_xticks:\n",
    "        plt.xticks(range(10), class_names, rotation='vertical')\n",
    "    else:\n",
    "        plt.xticks([])\n",
    "    plt.yticks([])\n",
    "    thisplot = plt.bar(range(10), predictions_array, color=\"#777777\")\n",
    "    plt.ylim([0, 1]) \n",
    "    predicted_label = np.argmax(predictions_array)\n",
    " \n",
    "    thisplot[predicted_label].set_color('red')\n",
    "    thisplot[true_label].set_color('blue')"
   ]
  },
  {
   "cell_type": "markdown",
   "metadata": {
    "slideshow": {
     "slide_type": "slide"
    }
   },
   "source": [
    "* Ας δούμε τι παίρνουμε για την πρώτη εικόνα."
   ]
  },
  {
   "cell_type": "code",
   "execution_count": 25,
   "metadata": {
    "slideshow": {
     "slide_type": "fragment"
    },
    "tags": [
     "remove_input"
    ]
   },
   "outputs": [
    {
     "data": {
      "image/png": "[encoded data removed]",
      "text/plain": [
       "<Figure size 600x300 with 2 Axes>"
      ]
     },
     "metadata": {},
     "output_type": "display_data"
    }
   ],
   "source": [
    "plt.figure(figsize=(6,3))\n",
    "plt.subplot(1,2,1)\n",
    "plot_image(0, predictions, test_labels, test_images)\n",
    "\n",
    "plt.subplot(1,2,2)\n",
    "plot_value_array(0, predictions, test_labels, True)"
   ]
  },
  {
   "cell_type": "markdown",
   "metadata": {
    "slideshow": {
     "slide_type": "slide"
    }
   },
   "source": [
    "* Είναι ενδιαφέρον να δούμε τι συνέβη με τις εικόνες που έκανε λάθος το δίκτυο.\n",
    "\n",
    "* Ας τις βρούμε."
   ]
  },
  {
   "cell_type": "code",
   "execution_count": 26,
   "metadata": {
    "slideshow": {
     "slide_type": "fragment"
    }
   },
   "outputs": [
    {
     "name": "stdout",
     "output_type": "stream",
     "text": [
      "Predicted labels: [9 2 1 ... 8 1 5]\n",
      "Misclassified: [False False False ... False False False]\n",
      "Misclassified indices:\n",
      " [[  12]\n",
      " [  17]\n",
      " [  23]\n",
      " ...\n",
      " [9977]\n",
      " [9979]\n",
      " [9985]]\n",
      "Number of misclassified: 1301\n"
     ]
    }
   ],
   "source": [
    "predicted_labels = np.apply_along_axis(np.argmax, 1, predictions)\n",
    "print('Predicted labels:', predicted_labels)\n",
    "misclassified = test_labels != predicted_labels\n",
    "print('Misclassified:', misclassified)\n",
    "misclassified_indices = np.argwhere(misclassified)\n",
    "print('Misclassified indices:\\n', misclassified_indices)\n",
    "print('Number of misclassified:', len(misclassified_indices))"
   ]
  },
  {
   "cell_type": "markdown",
   "metadata": {
    "slideshow": {
     "slide_type": "slide"
    }
   },
   "source": [
    "* Στη συνέχεια, ας τις δούμε."
   ]
  },
  {
   "cell_type": "code",
   "execution_count": 27,
   "metadata": {
    "slideshow": {
     "slide_type": "slide"
    },
    "tags": [
     "remove_input"
    ]
   },
   "outputs": [
    {
     "data": {
      "image/png": "[encoded data removed]",
      "text/plain": [
       "<Figure size 1200x1000 with 30 Axes>"
      ]
     },
     "metadata": {},
     "output_type": "display_data"
    }
   ],
   "source": [
    "num_rows = 5\n",
    "num_cols = 3\n",
    "num_images = num_rows * num_cols\n",
    "plt.figure(figsize=(2*2*num_cols, 2*num_rows))\n",
    "\n",
    "show_x_ticks = False\n",
    "for i in range(num_images):\n",
    "    if i >= num_images - num_cols:\n",
    "        show_x_ticks = True\n",
    "    plt.subplot(num_rows, 2*num_cols, 2*i+1)\n",
    "    plot_image(misclassified_indices[i-1][0], predictions, test_labels, test_images)\n",
    "    plt.subplot(num_rows, 2 * num_cols, 2*i+2)\n",
    "    plot_value_array(misclassified_indices[i-1][0], predictions,  test_labels, show_x_ticks)"
   ]
  },
  {
   "cell_type": "markdown",
   "metadata": {
    "slideshow": {
     "slide_type": "slide"
    }
   },
   "source": [
    "* Όπως πάντα, μπορούμε να χρησιμοποιήσουμε την αναφορά ταξινόμησης.\n",
    "\n",
    "* Αφού οι `predictions` είναι κατανομές πιθανοτήτων, παίρνουμε την κλάση της μέγιστης πιθανότητας με την `np.argmax()`."
   ]
  },
  {
   "cell_type": "code",
   "execution_count": 28,
   "metadata": {
    "slideshow": {
     "slide_type": "slide"
    }
   },
   "outputs": [
    {
     "name": "stdout",
     "output_type": "stream",
     "text": [
      "              precision    recall  f1-score   support\n",
      "\n",
      "           0       0.87      0.80      0.83      1000\n",
      "           1       0.99      0.97      0.98      1000\n",
      "           2       0.81      0.71      0.75      1000\n",
      "           3       0.91      0.86      0.88      1000\n",
      "           4       0.72      0.86      0.78      1000\n",
      "           5       0.97      0.95      0.96      1000\n",
      "           6       0.66      0.70      0.68      1000\n",
      "           7       0.96      0.90      0.93      1000\n",
      "           8       0.96      0.97      0.97      1000\n",
      "           9       0.90      0.98      0.94      1000\n",
      "\n",
      "    accuracy                           0.87     10000\n",
      "   macro avg       0.87      0.87      0.87     10000\n",
      "weighted avg       0.87      0.87      0.87     10000\n",
      "\n"
     ]
    }
   ],
   "source": [
    "from sklearn.metrics import classification_report\n",
    "\n",
    "print(classification_report(test_labels, np.argmax(predictions, axis=1)))"
   ]
  },
  {
   "cell_type": "markdown",
   "metadata": {
    "slideshow": {
     "slide_type": "slide"
    }
   },
   "source": [
    "* Και ο πίνακας σύγχισης:"
   ]
  },
  {
   "cell_type": "code",
   "execution_count": 29,
   "metadata": {
    "slideshow": {
     "slide_type": "fragment"
    }
   },
   "outputs": [
    {
     "name": "stdout",
     "output_type": "stream",
     "text": [
      "[[796   2  16  20   7   1 149   0   9   0]\n",
      " [  1 972   0  19   3   0   3   0   2   0]\n",
      " [  7   0 707   6 160   0 112   0   8   0]\n",
      " [ 16   8  15 860  65   0  31   0   5   0]\n",
      " [  0   1  65  15 856   0  62   0   1   0]\n",
      " [  0   0   0   0   0 950   0  17   1  32]\n",
      " [ 96   1  68  24  91   0 704   0  15   1]\n",
      " [  0   0   0   0   0  22   0 902   0  76]\n",
      " [  4   0   3   4   6   2   3   3 975   0]\n",
      " [  0   0   0   0   0   3   1  19   0 977]]\n"
     ]
    }
   ],
   "source": [
    "from sklearn.metrics import confusion_matrix\n",
    "\n",
    "print(confusion_matrix(test_labels, np.argmax(predictions, axis=1)))"
   ]
  }
 ],
 "metadata": {
  "celltoolbar": "Slideshow",
  "kernelspec": {
   "display_name": "Python (Data Science)",
   "language": "python",
   "name": "data_science_env"
  },
  "language_info": {
   "codemirror_mode": {
    "name": "ipython",
    "version": 3
   },
   "file_extension": ".py",
   "mimetype": "text/x-python",
   "name": "python",
   "nbconvert_exporter": "python",
   "pygments_lexer": "ipython3",
   "version": "3.12.6"
  }
 },
 "nbformat": 4,
 "nbformat_minor": 2
}
