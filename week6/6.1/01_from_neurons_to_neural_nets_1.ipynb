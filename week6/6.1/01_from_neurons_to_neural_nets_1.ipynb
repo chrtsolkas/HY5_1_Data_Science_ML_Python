{
 "cells": [
  {
   "cell_type": "markdown",
   "metadata": {
    "slideshow": {
     "slide_type": "slide"
    }
   },
   "source": [
    "# Από τους Νευρώνες στα <br/>Νευρωνικά Δίκτυα Α'\n",
    "\n",
    "---\n",
    "\n",
    "> Πάνος Λουρίδας, Αναπληρωτής Καθηγητής <br />\n",
    "> Τμήμα Διοικητικής Επιστήμης και Τεχνολογίας <br />\n",
    "> Οικονομικό Πανεπιστήμιο Αθηνών <br />\n",
    "> louridas@aueb.gr"
   ]
  },
  {
   "cell_type": "markdown",
   "metadata": {
    "slideshow": {
     "slide_type": "slide"
    }
   },
   "source": [
    "* Η βασική υπολογιστική μονάδα της ανθρώπινης σκέψης είναι ο *νευρώνας*  (neuron).\n",
    "\n",
    "* Υπάρχουν περίπου 86 δισεκατομμύρια νευρώνες στον ανθρώπινο εγκέφαλο.\n",
    "\n",
    "* Συνδέονται μεταξύ τους με $10^{14}$&ndash;$10^{15}$ *συνάψεις* (synapses).\n",
    "\n",
    "* Όπως έγραψε η Emily Dickinson (1830–86):\n",
    "> The brain is wider than the sky."
   ]
  },
  {
   "cell_type": "markdown",
   "metadata": {
    "slideshow": {
     "slide_type": "slide"
    }
   },
   "source": [
    "<img src=\"https://upload.wikimedia.org/wikipedia/commons/1/10/Blausen_0657_MultipolarNeuron.png\" width=\"600px\"/>\n",
    "\n",
    "Πηγή: [Wikipedia](https://en.wikipedia.org/wiki/Neuron#/media/File:Blausen_0657_MultipolarNeuron.png)."
   ]
  },
  {
   "cell_type": "markdown",
   "metadata": {
    "slideshow": {
     "slide_type": "slide"
    }
   },
   "source": [
    "* Ένας τεχνητός νευρώνας είναι ένα απλουστευμένο μοντέλο του βιολογικού νευρώνα.\n",
    "\n",
    "* Η βασική ιδέα δεν είναι νέα: η πρώτη περιγραφή τεχνητού νευρώνα είναι από το 1943 από του Warren McCulloch and Walter Pitts!"
   ]
  },
  {
   "cell_type": "markdown",
   "metadata": {
    "slideshow": {
     "slide_type": "slide"
    }
   },
   "source": [
    "<img src=\"https://upload.wikimedia.org/wikipedia/commons/b/b0/Artificial_neuron.png\" width=\"300px\"/>"
   ]
  },
  {
   "cell_type": "markdown",
   "metadata": {
    "slideshow": {
     "slide_type": "slide"
    }
   },
   "source": [
    "* Ο νευρώνας έχει εισόδους $x_1, x_2, \\ldots, x_n$.\n",
    "\n",
    "* Κάθε είσοδος έχει ένα *βάρος* (weight). Άρα έχουμε βάρη $w_1, w_2, \\ldots, w_n$.\n",
    "\n",
    "* Ο νευρώνας παίρνει κάθε είσοδο και την πολλαπλασιάζει με το αντίστοιχο βάρος.\n",
    "\n",
    "* Στη συνέχεια αθροίζει τα γινόμενα, παράγοντας τη *σταθμισμένη είσοδο* (weighted input) του νευρώνα.\n",
    "\n",
    "* Σε αυτό προσθέστει στη σταθμισμένη είσοδο μία *πόλωση* (bias) ή *κατώφλι* (threshold), ώστε να έχουμε:\n",
    "\n",
    "$$ w_1 x_1 + w_2 x_2 + \\cdots + w_n x_n + b$$\n"
   ]
  },
  {
   "cell_type": "markdown",
   "metadata": {
    "slideshow": {
     "slide_type": "slide"
    }
   },
   "source": [
    "* Συνήθως χρησιμοποιούμε διανύσματα και πίνακες για να να περιγράφουμε τη λειτουργία των νευρωνικών δικτύων.\n",
    "\n",
    "* Έστω $\\mathbf{w} = [ w_1, w_2, \\ldots, w_n ]$ τα βάρη.\n",
    "\n",
    "* Έστω $\\mathbf{x} = [ x_1, x_2, \\ldots, x_n ]$ οι είσοδοι.\n",
    "\n",
    "* Τότε οι πράξεις που περιγράψαμε είναι το εσωτερικό γινόμενο των δύο διανυσμάτων συν την πόλωση:\n",
    "\n",
    "$$\\mathbf{w} \\cdot \\mathbf{x} + b = \\sum_{i=1}^{n}{w_i x_i} + b$$"
   ]
  },
  {
   "cell_type": "markdown",
   "metadata": {
    "slideshow": {
     "slide_type": "slide"
    }
   },
   "source": [
    "* Όπως η έξοδος ενός βιολογικού νευρώνα εξαρτάται από τις εισόδους του, έτσι και η έξοδος του τεχνητού νευρώνα εξαρτάται από τις εισόδους του.\n",
    "\n",
    "* Αυτό στον τεχνητό νευρώνα γίνεται δίνοντας το αποτέλεσμα που μέχρι τώρα έχει υπολογίσει σε μία ειδική *συνάρτηση ενεργοποίησης* (activation function).\n",
    "\n",
    "* Το αποτέλεσμα της συνάρτησης ενεργοποίησης είναι η έξοδος του (τεχνητού) νευρώνα."
   ]
  },
  {
   "cell_type": "markdown",
   "metadata": {
    "slideshow": {
     "slide_type": "slide"
    }
   },
   "source": [
    "<img src=\"https://upload.wikimedia.org/wikipedia/commons/c/c6/Artificial_neuron_structure.svg\" width=\"500px\"/>"
   ]
  },
  {
   "cell_type": "markdown",
   "metadata": {
    "slideshow": {
     "slide_type": "slide"
    }
   },
   "source": [
    "* Η απλούστερη συνάρτηση ενεργοποίησης είναι η συνάρτηση βήματος, που μας δίνει ως αποτέλεσμα 0 ή 1. \n",
    "\n",
    "* Ο νευρώνας έχει έξοδο ένα όταν η είσοδος στη συνάρτηση ενεργοποίησης είναι μεγαλύτερη από το μηδέν, διαφορετικά η έξοδος είναι μηδέν.\n",
    "\n",
    "$$\n",
    " y = \n",
    "  \\begin{cases} \n",
    "   0 & \\sum_j{w_j x_j} + b \\le 0 \\\\\n",
    "   1 & \\sum_j{w_j x_j} +b > 0\n",
    "  \\end{cases}\n",
    "$$\n",
    "\n",
    "* Ή:\n",
    "\n",
    "$$\n",
    " y = \n",
    "  \\begin{cases} \n",
    "   0 & \\sum_j{w_j x_j} \\le -b \\\\\n",
    "   1 & \\sum_j{w_j x_j} > -b\n",
    "  \\end{cases}\n",
    "$$"
   ]
  },
  {
   "cell_type": "code",
   "execution_count": 1,
   "metadata": {
    "slideshow": {
     "slide_type": "slide"
    },
    "tags": [
     "remove_input"
    ]
   },
   "outputs": [
    {
     "data": {
      "image/png": "[encoded data removed]",
      "text/plain": [
       "<Figure size 800x600 with 1 Axes>"
      ]
     },
     "metadata": {},
     "output_type": "display_data"
    }
   ],
   "source": [
    "import matplotlib.pyplot as plt\n",
    "import numpy as np\n",
    "\n",
    "%matplotlib inline\n",
    "\n",
    "fig = plt.figure(figsize=(8, 6))\n",
    "ax = plt.axes()\n",
    "ax.spines['right'].set_visible(False)\n",
    "ax.spines['top'].set_visible(False)\n",
    "plt.xlim((-5, 5))\n",
    "plt.xticks(np.arange(-5, 6, 1))\n",
    "x = np.linspace(-5, 0, 50)\n",
    "y = np.zeros_like(x)\n",
    "all_x = np.append(x, -x[::-1])\n",
    "all_y = np.append(y, np.ones_like(-x[::-1]))\n",
    "_ = plt.plot(all_x, all_y)"
   ]
  },
  {
   "cell_type": "markdown",
   "metadata": {
    "slideshow": {
     "slide_type": "slide"
    }
   },
   "source": [
    "* Γιατί τα λέμε όλα αυτά;\n",
    "\n",
    "* Τα τεχνητά νευρωνικά δίκτυα μπορεί να είναι μαύρα κουτιά, πρέπει να έχουμε μία ιδέα του πώς λειτουργούν εσωτερικά.\n",
    "\n",
    "* Για να κατασκευάσουμε τεχνητά νευρωνικά δίκτυα, δεν χρειάζεται να κατασκευάσουμε στην κυριολεξία τεχνητούς νευρώνες.\n",
    "\n",
    "* Όπως είδαμε, ένας νευρώνας δεν κάνει τίποτε άλλο από το να υπολογίζει μια απλή μαθηματική συνάρτηση. Άρα μπορούμε να τον υλοποιήσουμε ανέτως σε μία γλώσσα προγραμματισμού.\n",
    "\n",
    "* Με αυτά τα λίγα λόγια θεωρίας, θα προχωρήσουμε ευθύς αμέσως στην πράξη."
   ]
  }
 ],
 "metadata": {
  "celltoolbar": "Slideshow",
  "kernelspec": {
   "display_name": "Python (Data Science)",
   "language": "python",
   "name": "data_science_env"
  },
  "language_info": {
   "codemirror_mode": {
    "name": "ipython",
    "version": 3
   },
   "file_extension": ".py",
   "mimetype": "text/x-python",
   "name": "python",
   "nbconvert_exporter": "python",
   "pygments_lexer": "ipython3",
   "version": "3.12.6"
  }
 },
 "nbformat": 4,
 "nbformat_minor": 2
}
