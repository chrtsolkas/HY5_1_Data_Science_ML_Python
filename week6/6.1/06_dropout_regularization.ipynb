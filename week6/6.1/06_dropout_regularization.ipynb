{
 "cells": [
  {
   "cell_type": "markdown",
   "metadata": {
    "slideshow": {
     "slide_type": "slide"
    }
   },
   "source": [
    "# Γκολφ, Θερισμός, Ομαλοποίηση\n",
    "\n",
    "Προσαρμοσμένο από [την αντίστοιχη τεκμηρίωση του TensorFlow](https://www.tensorflow.org/tutorials/keras/overfit_and_underfit).\n",
    "\n",
    "---\n",
    "\n",
    "> Πάνος Λουρίδας, Αναπληρωτής Καθηγητής <br />\n",
    "> Τμήμα Διοικητικής Επιστήμης και Τεχνολογίας <br />\n",
    "> Οικονομικό Πανεπιστήμιο Αθηνών <br />\n",
    "> louridas@aueb.gr"
   ]
  },
  {
   "cell_type": "code",
   "execution_count": 1,
   "metadata": {
    "slideshow": {
     "slide_type": "slide"
    }
   },
   "outputs": [],
   "source": [
    "import matplotlib.pyplot as plt\n",
    "\n",
    "import tensorflow as tf\n",
    "from tensorflow import keras\n",
    "from keras import layers, regularizers\n",
    "\n",
    "from sklearn.model_selection import train_test_split\n",
    "\n",
    "import pandas as pd\n",
    "import numpy as np\n",
    "\n",
    "tf.random.set_seed(0) # for replicability purposes, not for production"
   ]
  },
  {
   "cell_type": "markdown",
   "metadata": {
    "slideshow": {
     "slide_type": "slide"
    }
   },
   "source": [
    "* Τα δεδομένα που θα χρησιμοποιήσουμε προέρχονται από μία έρευνα όπου εξετάστηκαν οι δυνατότητες νευρωνικών δικτύων στην αναζήτηση νέων σωματιδίων στη φυσική: Baldi, P., Sadowski, P. & Whiteson, D. Searching for exotic particles in high-energy physics with deep learning. Nat Commun 5, 4308 (2014). https://doi.org/10.1038/ncomms5308.\n",
    "\n",
    "* Το σύνολο των δεδομένων είναι διαθέσιμο από το <https://archive.ics.uci.edu/ml/datasets/HIGGS>. Εμείς για πρακτικούς λόγους θα χρησιμοποιήσουμε ένα υποσύνολο με 13.000 δείγματα.\n",
    "\n",
    "* Ο σκοπός είναι να κάνουμε ταξινόμηση μεταξύ δύο κλάσεων (στήλη `label`, αν υπάρχει ένδειξη ή όχι) με βάση 28 χαρακτηριστικά."
   ]
  },
  {
   "cell_type": "code",
   "execution_count": 2,
   "metadata": {
    "slideshow": {
     "slide_type": "slide"
    }
   },
   "outputs": [
    {
     "data": {
      "text/html": [
       "<div>\n",
       "<style scoped>\n",
       "    .dataframe tbody tr th:only-of-type {\n",
       "        vertical-align: middle;\n",
       "    }\n",
       "\n",
       "    .dataframe tbody tr th {\n",
       "        vertical-align: top;\n",
       "    }\n",
       "\n",
       "    .dataframe thead th {\n",
       "        text-align: right;\n",
       "    }\n",
       "</style>\n",
       "<table border=\"1\" class=\"dataframe\">\n",
       "  <thead>\n",
       "    <tr style=\"text-align: right;\">\n",
       "      <th></th>\n",
       "      <th>label</th>\n",
       "      <th>lepton pT</th>\n",
       "      <th>lepton eta</th>\n",
       "      <th>lepton phi</th>\n",
       "      <th>missing energy magnitude</th>\n",
       "      <th>missing energy phi</th>\n",
       "      <th>jet 1 pt</th>\n",
       "      <th>jet 1 eta</th>\n",
       "      <th>jet 1 phi</th>\n",
       "      <th>jet 1 b-tag</th>\n",
       "      <th>...</th>\n",
       "      <th>jet 4 eta</th>\n",
       "      <th>jet 4 phi</th>\n",
       "      <th>jet 4 b-tag</th>\n",
       "      <th>m_jj</th>\n",
       "      <th>m_jjj</th>\n",
       "      <th>m_lv</th>\n",
       "      <th>m_jlv</th>\n",
       "      <th>m_bb</th>\n",
       "      <th>m_wbb</th>\n",
       "      <th>m_wwbb</th>\n",
       "    </tr>\n",
       "  </thead>\n",
       "  <tbody>\n",
       "    <tr>\n",
       "      <th>0</th>\n",
       "      <td>1.0</td>\n",
       "      <td>0.869293</td>\n",
       "      <td>-0.635082</td>\n",
       "      <td>0.225690</td>\n",
       "      <td>0.327470</td>\n",
       "      <td>-0.689993</td>\n",
       "      <td>0.754202</td>\n",
       "      <td>-0.248573</td>\n",
       "      <td>-1.092064</td>\n",
       "      <td>0.000000</td>\n",
       "      <td>...</td>\n",
       "      <td>-0.010455</td>\n",
       "      <td>-0.045767</td>\n",
       "      <td>3.101961</td>\n",
       "      <td>1.353760</td>\n",
       "      <td>0.979563</td>\n",
       "      <td>0.978076</td>\n",
       "      <td>0.920005</td>\n",
       "      <td>0.721657</td>\n",
       "      <td>0.988751</td>\n",
       "      <td>0.876678</td>\n",
       "    </tr>\n",
       "    <tr>\n",
       "      <th>1</th>\n",
       "      <td>1.0</td>\n",
       "      <td>0.907542</td>\n",
       "      <td>0.329147</td>\n",
       "      <td>0.359412</td>\n",
       "      <td>1.497970</td>\n",
       "      <td>-0.313010</td>\n",
       "      <td>1.095531</td>\n",
       "      <td>-0.557525</td>\n",
       "      <td>-1.588230</td>\n",
       "      <td>2.173076</td>\n",
       "      <td>...</td>\n",
       "      <td>-1.138930</td>\n",
       "      <td>-0.000819</td>\n",
       "      <td>0.000000</td>\n",
       "      <td>0.302220</td>\n",
       "      <td>0.833048</td>\n",
       "      <td>0.985700</td>\n",
       "      <td>0.978098</td>\n",
       "      <td>0.779732</td>\n",
       "      <td>0.992356</td>\n",
       "      <td>0.798343</td>\n",
       "    </tr>\n",
       "    <tr>\n",
       "      <th>2</th>\n",
       "      <td>1.0</td>\n",
       "      <td>0.798835</td>\n",
       "      <td>1.470639</td>\n",
       "      <td>-1.635975</td>\n",
       "      <td>0.453773</td>\n",
       "      <td>0.425629</td>\n",
       "      <td>1.104875</td>\n",
       "      <td>1.282322</td>\n",
       "      <td>1.381664</td>\n",
       "      <td>0.000000</td>\n",
       "      <td>...</td>\n",
       "      <td>1.128848</td>\n",
       "      <td>0.900461</td>\n",
       "      <td>0.000000</td>\n",
       "      <td>0.909753</td>\n",
       "      <td>1.108330</td>\n",
       "      <td>0.985692</td>\n",
       "      <td>0.951331</td>\n",
       "      <td>0.803252</td>\n",
       "      <td>0.865924</td>\n",
       "      <td>0.780118</td>\n",
       "    </tr>\n",
       "    <tr>\n",
       "      <th>3</th>\n",
       "      <td>0.0</td>\n",
       "      <td>1.344385</td>\n",
       "      <td>-0.876626</td>\n",
       "      <td>0.935913</td>\n",
       "      <td>1.992050</td>\n",
       "      <td>0.882454</td>\n",
       "      <td>1.786066</td>\n",
       "      <td>-1.646778</td>\n",
       "      <td>-0.942383</td>\n",
       "      <td>0.000000</td>\n",
       "      <td>...</td>\n",
       "      <td>-0.678379</td>\n",
       "      <td>-1.360356</td>\n",
       "      <td>0.000000</td>\n",
       "      <td>0.946652</td>\n",
       "      <td>1.028704</td>\n",
       "      <td>0.998656</td>\n",
       "      <td>0.728281</td>\n",
       "      <td>0.869200</td>\n",
       "      <td>1.026736</td>\n",
       "      <td>0.957904</td>\n",
       "    </tr>\n",
       "    <tr>\n",
       "      <th>4</th>\n",
       "      <td>1.0</td>\n",
       "      <td>1.105009</td>\n",
       "      <td>0.321356</td>\n",
       "      <td>1.522401</td>\n",
       "      <td>0.882808</td>\n",
       "      <td>-1.205349</td>\n",
       "      <td>0.681466</td>\n",
       "      <td>-1.070464</td>\n",
       "      <td>-0.921871</td>\n",
       "      <td>0.000000</td>\n",
       "      <td>...</td>\n",
       "      <td>-0.373566</td>\n",
       "      <td>0.113041</td>\n",
       "      <td>0.000000</td>\n",
       "      <td>0.755856</td>\n",
       "      <td>1.361057</td>\n",
       "      <td>0.986610</td>\n",
       "      <td>0.838085</td>\n",
       "      <td>1.133295</td>\n",
       "      <td>0.872245</td>\n",
       "      <td>0.808487</td>\n",
       "    </tr>\n",
       "    <tr>\n",
       "      <th>...</th>\n",
       "      <td>...</td>\n",
       "      <td>...</td>\n",
       "      <td>...</td>\n",
       "      <td>...</td>\n",
       "      <td>...</td>\n",
       "      <td>...</td>\n",
       "      <td>...</td>\n",
       "      <td>...</td>\n",
       "      <td>...</td>\n",
       "      <td>...</td>\n",
       "      <td>...</td>\n",
       "      <td>...</td>\n",
       "      <td>...</td>\n",
       "      <td>...</td>\n",
       "      <td>...</td>\n",
       "      <td>...</td>\n",
       "      <td>...</td>\n",
       "      <td>...</td>\n",
       "      <td>...</td>\n",
       "      <td>...</td>\n",
       "      <td>...</td>\n",
       "    </tr>\n",
       "    <tr>\n",
       "      <th>12995</th>\n",
       "      <td>0.0</td>\n",
       "      <td>0.915045</td>\n",
       "      <td>-0.318542</td>\n",
       "      <td>0.623526</td>\n",
       "      <td>0.431166</td>\n",
       "      <td>1.338325</td>\n",
       "      <td>0.641709</td>\n",
       "      <td>-0.750620</td>\n",
       "      <td>1.153816</td>\n",
       "      <td>2.173076</td>\n",
       "      <td>...</td>\n",
       "      <td>-0.691704</td>\n",
       "      <td>-0.797121</td>\n",
       "      <td>0.000000</td>\n",
       "      <td>0.662336</td>\n",
       "      <td>0.888811</td>\n",
       "      <td>0.994402</td>\n",
       "      <td>0.876122</td>\n",
       "      <td>1.207429</td>\n",
       "      <td>0.790956</td>\n",
       "      <td>0.733438</td>\n",
       "    </tr>\n",
       "    <tr>\n",
       "      <th>12996</th>\n",
       "      <td>0.0</td>\n",
       "      <td>1.076093</td>\n",
       "      <td>0.377846</td>\n",
       "      <td>0.301706</td>\n",
       "      <td>0.297954</td>\n",
       "      <td>-1.517734</td>\n",
       "      <td>0.715086</td>\n",
       "      <td>1.019911</td>\n",
       "      <td>-1.453517</td>\n",
       "      <td>2.173076</td>\n",
       "      <td>...</td>\n",
       "      <td>-0.261967</td>\n",
       "      <td>0.204601</td>\n",
       "      <td>3.101961</td>\n",
       "      <td>1.031421</td>\n",
       "      <td>0.828652</td>\n",
       "      <td>0.986768</td>\n",
       "      <td>0.845410</td>\n",
       "      <td>1.701100</td>\n",
       "      <td>1.004952</td>\n",
       "      <td>0.854111</td>\n",
       "    </tr>\n",
       "    <tr>\n",
       "      <th>12997</th>\n",
       "      <td>1.0</td>\n",
       "      <td>1.296986</td>\n",
       "      <td>-1.198036</td>\n",
       "      <td>0.437647</td>\n",
       "      <td>1.742790</td>\n",
       "      <td>-0.218009</td>\n",
       "      <td>2.283859</td>\n",
       "      <td>-0.934802</td>\n",
       "      <td>1.201492</td>\n",
       "      <td>0.000000</td>\n",
       "      <td>...</td>\n",
       "      <td>-0.142873</td>\n",
       "      <td>1.619627</td>\n",
       "      <td>0.000000</td>\n",
       "      <td>1.124735</td>\n",
       "      <td>2.031752</td>\n",
       "      <td>1.159143</td>\n",
       "      <td>0.975911</td>\n",
       "      <td>1.069575</td>\n",
       "      <td>1.566676</td>\n",
       "      <td>1.410350</td>\n",
       "    </tr>\n",
       "    <tr>\n",
       "      <th>12998</th>\n",
       "      <td>1.0</td>\n",
       "      <td>1.151859</td>\n",
       "      <td>-0.981815</td>\n",
       "      <td>-1.661498</td>\n",
       "      <td>0.741689</td>\n",
       "      <td>0.353002</td>\n",
       "      <td>0.667175</td>\n",
       "      <td>0.204952</td>\n",
       "      <td>0.488566</td>\n",
       "      <td>2.173076</td>\n",
       "      <td>...</td>\n",
       "      <td>-0.825788</td>\n",
       "      <td>-0.094044</td>\n",
       "      <td>1.550981</td>\n",
       "      <td>0.973411</td>\n",
       "      <td>0.997322</td>\n",
       "      <td>1.242204</td>\n",
       "      <td>0.739249</td>\n",
       "      <td>0.681640</td>\n",
       "      <td>0.757485</td>\n",
       "      <td>0.812424</td>\n",
       "    </tr>\n",
       "    <tr>\n",
       "      <th>12999</th>\n",
       "      <td>1.0</td>\n",
       "      <td>1.547159</td>\n",
       "      <td>-1.397699</td>\n",
       "      <td>0.625745</td>\n",
       "      <td>0.398250</td>\n",
       "      <td>-0.191610</td>\n",
       "      <td>0.979373</td>\n",
       "      <td>-0.899154</td>\n",
       "      <td>-1.190743</td>\n",
       "      <td>2.173076</td>\n",
       "      <td>...</td>\n",
       "      <td>-1.528691</td>\n",
       "      <td>-0.550182</td>\n",
       "      <td>0.000000</td>\n",
       "      <td>0.745075</td>\n",
       "      <td>0.967069</td>\n",
       "      <td>0.990681</td>\n",
       "      <td>0.637979</td>\n",
       "      <td>0.734102</td>\n",
       "      <td>0.829417</td>\n",
       "      <td>0.700935</td>\n",
       "    </tr>\n",
       "  </tbody>\n",
       "</table>\n",
       "<p>13000 rows × 29 columns</p>\n",
       "</div>"
      ],
      "text/plain": [
       "       label  lepton pT  lepton eta  lepton phi  missing energy magnitude  \\\n",
       "0        1.0   0.869293   -0.635082    0.225690                  0.327470   \n",
       "1        1.0   0.907542    0.329147    0.359412                  1.497970   \n",
       "2        1.0   0.798835    1.470639   -1.635975                  0.453773   \n",
       "3        0.0   1.344385   -0.876626    0.935913                  1.992050   \n",
       "4        1.0   1.105009    0.321356    1.522401                  0.882808   \n",
       "...      ...        ...         ...         ...                       ...   \n",
       "12995    0.0   0.915045   -0.318542    0.623526                  0.431166   \n",
       "12996    0.0   1.076093    0.377846    0.301706                  0.297954   \n",
       "12997    1.0   1.296986   -1.198036    0.437647                  1.742790   \n",
       "12998    1.0   1.151859   -0.981815   -1.661498                  0.741689   \n",
       "12999    1.0   1.547159   -1.397699    0.625745                  0.398250   \n",
       "\n",
       "       missing energy phi  jet 1 pt  jet 1 eta  jet 1 phi  jet 1 b-tag  ...  \\\n",
       "0               -0.689993  0.754202  -0.248573  -1.092064     0.000000  ...   \n",
       "1               -0.313010  1.095531  -0.557525  -1.588230     2.173076  ...   \n",
       "2                0.425629  1.104875   1.282322   1.381664     0.000000  ...   \n",
       "3                0.882454  1.786066  -1.646778  -0.942383     0.000000  ...   \n",
       "4               -1.205349  0.681466  -1.070464  -0.921871     0.000000  ...   \n",
       "...                   ...       ...        ...        ...          ...  ...   \n",
       "12995            1.338325  0.641709  -0.750620   1.153816     2.173076  ...   \n",
       "12996           -1.517734  0.715086   1.019911  -1.453517     2.173076  ...   \n",
       "12997           -0.218009  2.283859  -0.934802   1.201492     0.000000  ...   \n",
       "12998            0.353002  0.667175   0.204952   0.488566     2.173076  ...   \n",
       "12999           -0.191610  0.979373  -0.899154  -1.190743     2.173076  ...   \n",
       "\n",
       "       jet 4 eta  jet 4 phi  jet 4 b-tag      m_jj     m_jjj      m_lv  \\\n",
       "0      -0.010455  -0.045767     3.101961  1.353760  0.979563  0.978076   \n",
       "1      -1.138930  -0.000819     0.000000  0.302220  0.833048  0.985700   \n",
       "2       1.128848   0.900461     0.000000  0.909753  1.108330  0.985692   \n",
       "3      -0.678379  -1.360356     0.000000  0.946652  1.028704  0.998656   \n",
       "4      -0.373566   0.113041     0.000000  0.755856  1.361057  0.986610   \n",
       "...          ...        ...          ...       ...       ...       ...   \n",
       "12995  -0.691704  -0.797121     0.000000  0.662336  0.888811  0.994402   \n",
       "12996  -0.261967   0.204601     3.101961  1.031421  0.828652  0.986768   \n",
       "12997  -0.142873   1.619627     0.000000  1.124735  2.031752  1.159143   \n",
       "12998  -0.825788  -0.094044     1.550981  0.973411  0.997322  1.242204   \n",
       "12999  -1.528691  -0.550182     0.000000  0.745075  0.967069  0.990681   \n",
       "\n",
       "          m_jlv      m_bb     m_wbb    m_wwbb  \n",
       "0      0.920005  0.721657  0.988751  0.876678  \n",
       "1      0.978098  0.779732  0.992356  0.798343  \n",
       "2      0.951331  0.803252  0.865924  0.780118  \n",
       "3      0.728281  0.869200  1.026736  0.957904  \n",
       "4      0.838085  1.133295  0.872245  0.808487  \n",
       "...         ...       ...       ...       ...  \n",
       "12995  0.876122  1.207429  0.790956  0.733438  \n",
       "12996  0.845410  1.701100  1.004952  0.854111  \n",
       "12997  0.975911  1.069575  1.566676  1.410350  \n",
       "12998  0.739249  0.681640  0.757485  0.812424  \n",
       "12999  0.637979  0.734102  0.829417  0.700935  \n",
       "\n",
       "[13000 rows x 29 columns]"
      ]
     },
     "execution_count": 2,
     "metadata": {},
     "output_type": "execute_result"
    }
   ],
   "source": [
    "higgs_data = pd.read_csv(\"higgs.csv\", dtype=float)\n",
    "higgs_data"
   ]
  },
  {
   "cell_type": "markdown",
   "metadata": {
    "slideshow": {
     "slide_type": "slide"
    }
   },
   "source": [
    "* Θα πάρουμε 11.000 δείγματα για εκπαίδευση και επικύρωση και θα χρησιμοποιήσουμε 2.000 δείγματα για έλεγχο."
   ]
  },
  {
   "cell_type": "code",
   "execution_count": 3,
   "metadata": {
    "slideshow": {
     "slide_type": "fragment"
    }
   },
   "outputs": [],
   "source": [
    "X_train, X_test, y_train, y_test = train_test_split(higgs_data.iloc[:, 1:], \n",
    "                                                    higgs_data.iloc[:, 0], \n",
    "                                                    train_size=11000)"
   ]
  },
  {
   "cell_type": "markdown",
   "metadata": {
    "slideshow": {
     "slide_type": "slide"
    }
   },
   "source": [
    "* Θα εξασφαλίσουμε ότι οι τιμές των χαρακτηριστικών έχουν μέση τιμή μηδέν και διακύμανση ένα."
   ]
  },
  {
   "cell_type": "code",
   "execution_count": 4,
   "metadata": {
    "slideshow": {
     "slide_type": "fragment"
    }
   },
   "outputs": [],
   "source": [
    "normalizer = layers.Normalization()\n",
    "normalizer.adapt(np.array(X_train))"
   ]
  },
  {
   "cell_type": "markdown",
   "metadata": {
    "slideshow": {
     "slide_type": "slide"
    }
   },
   "source": [
    "* Στο μοντέλο μας θα χρησιμοποιήσουμε μία συνάρτηση ενεργοποίησης που δεν έχουμε ξαναδεί, την Εκθετική Γραμμική Μονάδα, ELU (Exponential Linear Unit):\n",
    "\n",
    "$$\n",
    "  f(x) = \n",
    "  \\begin{cases} \n",
    "   x &  x > 0 \\\\\n",
    "   \\alpha (e^{x} - 1) &  x \\le 0\n",
    "  \\end{cases}\n",
    "$$\n",
    "\n",
    "* Η ELU διαφέρει από τη ReLU στο ότι είναι πιο ομαλή κοντά στο σημείο μηδέν και επιπλέον μπορεί να δώσει αρνητική έξοδο."
   ]
  },
  {
   "cell_type": "code",
   "execution_count": 5,
   "metadata": {
    "slideshow": {
     "slide_type": "slide"
    },
    "tags": [
     "remove_input"
    ]
   },
   "outputs": [
    {
     "data": {
      "image/png": "[encoded data removed]",
      "text/plain": [
       "<Figure size 800x600 with 1 Axes>"
      ]
     },
     "metadata": {},
     "output_type": "display_data"
    }
   ],
   "source": [
    "plt.rcParams[\"text.usetex\"] = True\n",
    "\n",
    "elu_label = (\n",
    "    r\"\\begin{eqnarray*}\"\n",
    "    r\"f(x) &=& x \\quad x > 0 \\\\\"\n",
    "    r\"f(x) &=& \\alpha (e^{x} - 1)\\quad  x \\le 0\"\n",
    "    r\"\\end{eqnarray*}\"\n",
    ")\n",
    "fig = plt.figure(figsize=(8, 6))\n",
    "ax = plt.axes()\n",
    "ax.spines['right'].set_visible(False)\n",
    "ax.spines['top'].set_visible(False)\n",
    "plt.xlim((-5, 5))\n",
    "plt.xticks(np.arange(-5, 6, 1))\n",
    "x = np.linspace(-5, 5, 100)\n",
    "y = np.zeros_like(x)\n",
    "y = x.copy()\n",
    "alpha = 1\n",
    "y[0:50] = alpha * (np.exp(x[0:50]) - 1)\n",
    "ax.text(-4.5, 5, elu_label, color=\"k\", fontsize=16)\n",
    "_ = plt.plot(x, y)"
   ]
  },
  {
   "cell_type": "markdown",
   "metadata": {
    "slideshow": {
     "slide_type": "slide"
    }
   },
   "source": [
    "* Θα ορίσουμε τον αριθμό των εποχών, το μέγεθος κάθε φουρνιάς, και από εκεί τον αριθμό των βημάτων εκπαίδευσης σε κάθε εποχή."
   ]
  },
  {
   "cell_type": "code",
   "execution_count": 6,
   "metadata": {
    "slideshow": {
     "slide_type": "fragment"
    }
   },
   "outputs": [],
   "source": [
    "NUM_EPOCHS = 10000\n",
    "BATCH_SIZE = 100\n",
    "STEPS_PER_EPOCH = X_train.shape[0] // BATCH_SIZE"
   ]
  },
  {
   "cell_type": "markdown",
   "metadata": {
    "slideshow": {
     "slide_type": "slide"
    }
   },
   "source": [
    "* Μία σημαντική υπερπαράμετρος στα νευρωνικά δίκτυα είναι ο *ρυθμός εκμάθησης* (learning rate).\n",
    "\n",
    "* Αυτός ορίζει πόσο μεγάλες θα είναι οι διορθώσεις που γίνονται στα βάρη και στις πολώσεις σε κάθε βήμα της εκμάθησης.\n",
    "\n",
    "* Αν ο ρυθμός εκμάθησης είναι μεγάλος, τότε οι διορθώσεις είναι μεγάλες, και το δίκτυο μαθαίνει γρήγορα.\n",
    "\n",
    "* Από την άλλη, μπορεί να είναι «απρόσεχτο»: οι διορθώσεις να είναι τόσο μεγάλες, ώστε να ξεφύγει από τις βέλτιστες τιμές των βαρών και των πολώσεων.\n",
    "\n",
    "* Αν ο ρυθμός εκμάθησης είναι μικρός, τότε οι διορθώσεις είναι μικρότερες, το δίκτυο μαθαίνει πιο συντηρητικά, και χρειάζεται περισσότερος χρόνος για την εκπαίδευση."
   ]
  },
  {
   "cell_type": "markdown",
   "metadata": {
    "slideshow": {
     "slide_type": "slide"
    }
   },
   "source": [
    "* Ένας τρόπος να το προσεγγίσουμε αυτό είναι να σκεφτούμε τι γίνεται στο γκολφ.\n",
    "\n",
    "* Στην αρχή ο παίκτης είναι μακριά από την τρύπα και τα χτυπήματά του θα είναι δυνατά, ώστε γρήγορα η μπάλα να προσεγγίσει την τρύπα.\n",
    "\n",
    "* Όταν όμως πλησιάσει στην τρύπα, ο παίκτης γίνεται πιο προσεκτικός. Αν συνεχίσει να χτυπάει με τον ίδιο τρόπο, η μπάλα απλώς θα φεύγει από την άλλη μεριά."
   ]
  },
  {
   "cell_type": "markdown",
   "metadata": {
    "slideshow": {
     "slide_type": "slide"
    }
   },
   "source": [
    "* Αν χρησιμοποιήσουμε τον βελτιστοποιητή Adam (ή και άλλους), μπορούμε να ορίσουμε ένα μεταβλητό ρυθμό εκμάθησης.\n",
    "\n",
    "* Συγκεκριμένα, θα ορίσουμε ένα *πρόγραμμα εκμάθησης* (learning schedule), στο οποίο o ρυθμός εκμάθησης θα μειώνεται βαθμιαία.\n",
    "\n",
    "* Η ιδέα είναι ότι αρχικά θέλουμε το νευρωνικό μας δίκτυο να μαθαίνει γρήγορα, αλλά όσο προχωράει η εκπαίδευση θέλουμε να γίνεται πιο προσεκτικό."
   ]
  },
  {
   "cell_type": "markdown",
   "metadata": {
    "slideshow": {
     "slide_type": "slide"
    }
   },
   "source": [
    "* Χρησιμοποιώντας την κλάση `InverseTimeDecay` ορίζουμε ότι θα ξεκινήσουμε με έναν αρχικό ρυθμό εκμάθησης και στη συνέχεια κάθε 100 εποχές αυτός θα μειώνεται ώστε στις 100 εποχές να γίνει 1/2 του αρχικού, στις 200 το 1/3 του αρχικού, κ.ο.κ."
   ]
  },
  {
   "cell_type": "code",
   "execution_count": 7,
   "metadata": {
    "slideshow": {
     "slide_type": "fragment"
    }
   },
   "outputs": [],
   "source": [
    "lr_schedule = tf.keras.optimizers.schedules.InverseTimeDecay(\n",
    "  0.001,\n",
    "  decay_steps=STEPS_PER_EPOCH * 100,\n",
    "  decay_rate=1,\n",
    "  staircase=False)"
   ]
  },
  {
   "cell_type": "code",
   "execution_count": 8,
   "metadata": {
    "slideshow": {
     "slide_type": "slide"
    }
   },
   "outputs": [
    {
     "data": {
      "image/png": "[encoded data removed]",
      "text/plain": [
       "<Figure size 800x600 with 1 Axes>"
      ]
     },
     "metadata": {},
     "output_type": "display_data"
    }
   ],
   "source": [
    "step = np.linspace(0,100000)\n",
    "lr = lr_schedule(step)\n",
    "plt.figure(figsize = (8,6))\n",
    "plt.plot(step/STEPS_PER_EPOCH, lr)\n",
    "plt.ylim([0,max(plt.ylim())])\n",
    "plt.xlabel('Epoch')\n",
    "_ = plt.ylabel('Learning Rate')"
   ]
  },
  {
   "cell_type": "markdown",
   "metadata": {
    "slideshow": {
     "slide_type": "slide"
    }
   },
   "source": [
    "* Φτιάχνουμε τώρα το μοντέλο μας, όπου θα χρησιμοποιήσουμε όπως στην αρχική δημοσίευση στρώματα των 300 νευρώνων.\n",
    "\n",
    "* Στο τέλος θα έχουμε ένα στρώμα με σιγμοειδή συνάρτηση ενεργοποίησης, αφού θέλουμε ταξινόμηση μεταξύ δύο κλάσεων.\n",
    "\n",
    "* Η απώλεια θα υπολογίζεται μέσω της κλάσης `BinaryCrossentropy` και ως μετρικές θα έχουμε την`BinaryAccuracy` και την `BinaryCrossEntropy` (θα επανέλθουμε αργότερα σε αυτό το σημείο)."
   ]
  },
  {
   "cell_type": "code",
   "execution_count": 9,
   "metadata": {
    "slideshow": {
     "slide_type": "fragment"
    }
   },
   "outputs": [],
   "source": [
    "model = keras.Sequential([\n",
    "    normalizer,\n",
    "    layers.Dense(300, activation='elu'),\n",
    "    layers.Dense(300, activation='elu'),\n",
    "    layers.Dense(300, activation='elu'),    \n",
    "    layers.Dense(300, activation='elu'),\n",
    "    layers.Dense(300, activation='elu'),\n",
    "    layers.Dense(1, activation='sigmoid')\n",
    "])\n",
    "\n",
    "model.compile(loss=tf.keras.losses.BinaryCrossentropy(from_logits=False),\n",
    "              optimizer=tf.keras.optimizers.Adam(lr_schedule),\n",
    "              metrics=[\n",
    "                  tf.keras.losses.BinaryCrossentropy(from_logits=False, name='binary_crossentropy'),\n",
    "                  tf.metrics.BinaryAccuracy(threshold=0.5)\n",
    "              ])"
   ]
  },
  {
   "cell_type": "markdown",
   "metadata": {
    "slideshow": {
     "slide_type": "slide"
    }
   },
   "source": [
    "* Να το δούμε συνοπτικά."
   ]
  },
  {
   "cell_type": "code",
   "execution_count": 10,
   "metadata": {
    "slideshow": {
     "slide_type": "fragment"
    }
   },
   "outputs": [
    {
     "data": {
      "text/html": [
       "<pre style=\"white-space:pre;overflow-x:auto;line-height:normal;font-family:Menlo,'DejaVu Sans Mono',consolas,'Courier New',monospace\"><span style=\"font-weight: bold\">Model: \"sequential\"</span>\n",
       "</pre>\n"
      ],
      "text/plain": [
       "\u001b[1mModel: \"sequential\"\u001b[0m\n"
      ]
     },
     "metadata": {},
     "output_type": "display_data"
    },
    {
     "data": {
      "text/html": [
       "<pre style=\"white-space:pre;overflow-x:auto;line-height:normal;font-family:Menlo,'DejaVu Sans Mono',consolas,'Courier New',monospace\">┏━━━━━━━━━━━━━━━━━━━━━━━━━━━━━━━━━━━━━━┳━━━━━━━━━━━━━━━━━━━━━━━━━━━━━┳━━━━━━━━━━━━━━━━━┓\n",
       "┃<span style=\"font-weight: bold\"> Layer (type)                         </span>┃<span style=\"font-weight: bold\"> Output Shape                </span>┃<span style=\"font-weight: bold\">         Param # </span>┃\n",
       "┡━━━━━━━━━━━━━━━━━━━━━━━━━━━━━━━━━━━━━━╇━━━━━━━━━━━━━━━━━━━━━━━━━━━━━╇━━━━━━━━━━━━━━━━━┩\n",
       "│ normalization (<span style=\"color: #0087ff; text-decoration-color: #0087ff\">Normalization</span>)        │ (<span style=\"color: #00af00; text-decoration-color: #00af00\">11000</span>, <span style=\"color: #00af00; text-decoration-color: #00af00\">28</span>)                 │              <span style=\"color: #00af00; text-decoration-color: #00af00\">57</span> │\n",
       "├──────────────────────────────────────┼─────────────────────────────┼─────────────────┤\n",
       "│ dense (<span style=\"color: #0087ff; text-decoration-color: #0087ff\">Dense</span>)                        │ ?                           │     <span style=\"color: #00af00; text-decoration-color: #00af00\">0</span> (unbuilt) │\n",
       "├──────────────────────────────────────┼─────────────────────────────┼─────────────────┤\n",
       "│ dense_1 (<span style=\"color: #0087ff; text-decoration-color: #0087ff\">Dense</span>)                      │ ?                           │     <span style=\"color: #00af00; text-decoration-color: #00af00\">0</span> (unbuilt) │\n",
       "├──────────────────────────────────────┼─────────────────────────────┼─────────────────┤\n",
       "│ dense_2 (<span style=\"color: #0087ff; text-decoration-color: #0087ff\">Dense</span>)                      │ ?                           │     <span style=\"color: #00af00; text-decoration-color: #00af00\">0</span> (unbuilt) │\n",
       "├──────────────────────────────────────┼─────────────────────────────┼─────────────────┤\n",
       "│ dense_3 (<span style=\"color: #0087ff; text-decoration-color: #0087ff\">Dense</span>)                      │ ?                           │     <span style=\"color: #00af00; text-decoration-color: #00af00\">0</span> (unbuilt) │\n",
       "├──────────────────────────────────────┼─────────────────────────────┼─────────────────┤\n",
       "│ dense_4 (<span style=\"color: #0087ff; text-decoration-color: #0087ff\">Dense</span>)                      │ ?                           │     <span style=\"color: #00af00; text-decoration-color: #00af00\">0</span> (unbuilt) │\n",
       "├──────────────────────────────────────┼─────────────────────────────┼─────────────────┤\n",
       "│ dense_5 (<span style=\"color: #0087ff; text-decoration-color: #0087ff\">Dense</span>)                      │ ?                           │     <span style=\"color: #00af00; text-decoration-color: #00af00\">0</span> (unbuilt) │\n",
       "└──────────────────────────────────────┴─────────────────────────────┴─────────────────┘\n",
       "</pre>\n"
      ],
      "text/plain": [
       "┏━━━━━━━━━━━━━━━━━━━━━━━━━━━━━━━━━━━━━━┳━━━━━━━━━━━━━━━━━━━━━━━━━━━━━┳━━━━━━━━━━━━━━━━━┓\n",
       "┃\u001b[1m \u001b[0m\u001b[1mLayer (type)                        \u001b[0m\u001b[1m \u001b[0m┃\u001b[1m \u001b[0m\u001b[1mOutput Shape               \u001b[0m\u001b[1m \u001b[0m┃\u001b[1m \u001b[0m\u001b[1m        Param #\u001b[0m\u001b[1m \u001b[0m┃\n",
       "┡━━━━━━━━━━━━━━━━━━━━━━━━━━━━━━━━━━━━━━╇━━━━━━━━━━━━━━━━━━━━━━━━━━━━━╇━━━━━━━━━━━━━━━━━┩\n",
       "│ normalization (\u001b[38;5;33mNormalization\u001b[0m)        │ (\u001b[38;5;34m11000\u001b[0m, \u001b[38;5;34m28\u001b[0m)                 │              \u001b[38;5;34m57\u001b[0m │\n",
       "├──────────────────────────────────────┼─────────────────────────────┼─────────────────┤\n",
       "│ dense (\u001b[38;5;33mDense\u001b[0m)                        │ ?                           │     \u001b[38;5;34m0\u001b[0m (unbuilt) │\n",
       "├──────────────────────────────────────┼─────────────────────────────┼─────────────────┤\n",
       "│ dense_1 (\u001b[38;5;33mDense\u001b[0m)                      │ ?                           │     \u001b[38;5;34m0\u001b[0m (unbuilt) │\n",
       "├──────────────────────────────────────┼─────────────────────────────┼─────────────────┤\n",
       "│ dense_2 (\u001b[38;5;33mDense\u001b[0m)                      │ ?                           │     \u001b[38;5;34m0\u001b[0m (unbuilt) │\n",
       "├──────────────────────────────────────┼─────────────────────────────┼─────────────────┤\n",
       "│ dense_3 (\u001b[38;5;33mDense\u001b[0m)                      │ ?                           │     \u001b[38;5;34m0\u001b[0m (unbuilt) │\n",
       "├──────────────────────────────────────┼─────────────────────────────┼─────────────────┤\n",
       "│ dense_4 (\u001b[38;5;33mDense\u001b[0m)                      │ ?                           │     \u001b[38;5;34m0\u001b[0m (unbuilt) │\n",
       "├──────────────────────────────────────┼─────────────────────────────┼─────────────────┤\n",
       "│ dense_5 (\u001b[38;5;33mDense\u001b[0m)                      │ ?                           │     \u001b[38;5;34m0\u001b[0m (unbuilt) │\n",
       "└──────────────────────────────────────┴─────────────────────────────┴─────────────────┘\n"
      ]
     },
     "metadata": {},
     "output_type": "display_data"
    },
    {
     "data": {
      "text/html": [
       "<pre style=\"white-space:pre;overflow-x:auto;line-height:normal;font-family:Menlo,'DejaVu Sans Mono',consolas,'Courier New',monospace\"><span style=\"font-weight: bold\"> Total params: </span><span style=\"color: #00af00; text-decoration-color: #00af00\">57</span> (232.00 B)\n",
       "</pre>\n"
      ],
      "text/plain": [
       "\u001b[1m Total params: \u001b[0m\u001b[38;5;34m57\u001b[0m (232.00 B)\n"
      ]
     },
     "metadata": {},
     "output_type": "display_data"
    },
    {
     "data": {
      "text/html": [
       "<pre style=\"white-space:pre;overflow-x:auto;line-height:normal;font-family:Menlo,'DejaVu Sans Mono',consolas,'Courier New',monospace\"><span style=\"font-weight: bold\"> Trainable params: </span><span style=\"color: #00af00; text-decoration-color: #00af00\">0</span> (0.00 B)\n",
       "</pre>\n"
      ],
      "text/plain": [
       "\u001b[1m Trainable params: \u001b[0m\u001b[38;5;34m0\u001b[0m (0.00 B)\n"
      ]
     },
     "metadata": {},
     "output_type": "display_data"
    },
    {
     "data": {
      "text/html": [
       "<pre style=\"white-space:pre;overflow-x:auto;line-height:normal;font-family:Menlo,'DejaVu Sans Mono',consolas,'Courier New',monospace\"><span style=\"font-weight: bold\"> Non-trainable params: </span><span style=\"color: #00af00; text-decoration-color: #00af00\">57</span> (232.00 B)\n",
       "</pre>\n"
      ],
      "text/plain": [
       "\u001b[1m Non-trainable params: \u001b[0m\u001b[38;5;34m57\u001b[0m (232.00 B)\n"
      ]
     },
     "metadata": {},
     "output_type": "display_data"
    }
   ],
   "source": [
    "model.summary()"
   ]
  },
  {
   "cell_type": "markdown",
   "metadata": {
    "slideshow": {
     "slide_type": "slide"
    }
   },
   "source": [
    "* Θα εκπαιδεύσουμε το μοντέλο μας μέχρι 10000 εποχές.\n",
    "\n",
    "* Αντί να εμφανίζουμε την πρόοδο ανά μία εποχή (πάρα πολλές), θα εμφανίζουμε την πρόοδο ανά 100 εποχές, ενώ κάθε μία εποχή που ολοκληρώνεται θα τυπώνουμε απλώς μια τελεία.  \n",
    "\n",
    "* Για να το κάνουμε αυτό θα ορίσουμε μία δική μας κλάση που θα δώσουμε στο TensorFlow ως callback."
   ]
  },
  {
   "cell_type": "code",
   "execution_count": 11,
   "metadata": {
    "slideshow": {
     "slide_type": "slide"
    }
   },
   "outputs": [],
   "source": [
    "# From https://github.com/tensorflow/docs/blob/master/tools/tensorflow_docs/modeling/__init__.py\n",
    "class EpochDots(tf.keras.callbacks.Callback):\n",
    "    \"\"\"A simple callback that prints a \".\" every epoch, with occasional reports.\n",
    "    \n",
    "    Args:\n",
    "        report_every: How many epochs between full reports\n",
    "        dot_every: How many epochs between dots.\n",
    "    \"\"\"\n",
    "\n",
    "    def __init__(self, report_every=100, dot_every=1):\n",
    "        self.report_every = report_every\n",
    "        self.dot_every = dot_every\n",
    "\n",
    "    def on_epoch_end(self, epoch, logs):\n",
    "        if epoch % self.report_every == 0:\n",
    "            print()\n",
    "            print('Epoch: {:d}, '.format(epoch), end='')\n",
    "            for name, value in sorted(logs.items()):\n",
    "                print('{}:{:0.4f}'.format(name, value), end=',  ')\n",
    "            print()\n",
    "\n",
    "        if epoch % self.dot_every == 0:\n",
    "            print('.', end='', flush=True)"
   ]
  },
  {
   "cell_type": "markdown",
   "metadata": {
    "slideshow": {
     "slide_type": "slide"
    }
   },
   "source": [
    "* Και τώρα προχωράμε στην εκπαίδευση."
   ]
  },
  {
   "cell_type": "code",
   "execution_count": 12,
   "metadata": {
    "slideshow": {
     "slide_type": "fragment"
    }
   },
   "outputs": [
    {
     "name": "stdout",
     "output_type": "stream",
     "text": [
      "\n",
      "Epoch: 0, binary_accuracy:0.6184,  binary_crossentropy:0.6571,  loss:0.6571,  val_binary_accuracy:0.6709,  val_binary_crossentropy:0.6229,  val_loss:0.6229,  \n",
      "....................................................................................................\n",
      "Epoch: 100, binary_accuracy:1.0000,  binary_crossentropy:0.0000,  loss:0.0000,  val_binary_accuracy:0.6736,  val_binary_crossentropy:2.7041,  val_loss:2.7041,  \n",
      "....................................................................................................\n",
      "Epoch: 200, binary_accuracy:1.0000,  binary_crossentropy:0.0000,  loss:0.0000,  val_binary_accuracy:0.6727,  val_binary_crossentropy:3.7964,  val_loss:3.7964,  \n",
      "....."
     ]
    }
   ],
   "source": [
    "early_stop = [\n",
    "    EpochDots(),\n",
    "    tf.keras.callbacks.EarlyStopping(monitor='val_binary_crossentropy', patience=200),\n",
    "]\n",
    "\n",
    "history = model.fit(\n",
    "    X_train, \n",
    "    y_train,\n",
    "    epochs=NUM_EPOCHS,\n",
    "    batch_size=BATCH_SIZE,\n",
    "    validation_split=0.1,\n",
    "    verbose=0,\n",
    "    callbacks=early_stop)"
   ]
  },
  {
   "cell_type": "markdown",
   "metadata": {
    "slideshow": {
     "slide_type": "slide"
    }
   },
   "source": [
    "* Μπορούμε να δούμε την εξέλιξη αν φτιάξουμε μια βοηθητική συνάρτηση για την απεικόνιση."
   ]
  },
  {
   "cell_type": "code",
   "execution_count": 13,
   "metadata": {
    "slideshow": {
     "slide_type": "fragment"
    }
   },
   "outputs": [],
   "source": [
    "def plot_loss(history):\n",
    "    plt.plot(history.history['binary_crossentropy'], label='training')\n",
    "    plt.plot(history.history['val_binary_crossentropy'], label='validation')\n",
    "    plt.xlabel('Epoch')\n",
    "    plt.ylabel('Binary Crossentropy')\n",
    "    plt.legend()\n",
    "    plt.grid(True)"
   ]
  },
  {
   "cell_type": "code",
   "execution_count": 14,
   "metadata": {
    "slideshow": {
     "slide_type": "slide"
    }
   },
   "outputs": [
    {
     "data": {
      "image/png": "[encoded data removed]",
      "text/plain": [
       "<Figure size 640x480 with 1 Axes>"
      ]
     },
     "metadata": {},
     "output_type": "display_data"
    }
   ],
   "source": [
    "plot_loss(history)"
   ]
  },
  {
   "cell_type": "markdown",
   "metadata": {
    "slideshow": {
     "slide_type": "slide"
    }
   },
   "source": [
    "* Τα αποτελέσματα είναι τραγωδία.\n",
    "\n",
    "* Πολύ γρήγορα η απώλεια στην επικύρωση εκτοξεύεται.\n",
    "\n",
    "* Αυτό είναι σαφής ένδειξη υπερπροσαρμογής."
   ]
  },
  {
   "cell_type": "markdown",
   "metadata": {
    "slideshow": {
     "slide_type": "slide"
    }
   },
   "source": [
    "* Ένας τρόπος να καταπολεμήσουμε την υπεπροσαρμογή στα νευρωνικά δίκτυα είναι μέσω του *dropout*, το οποίο ίσως στα ελληνικά θα μπορούσαμε να αποδώσουμε ως «θερισμός».\n",
    "\n",
    "* Η [ιδέα πίσω από το dropout](https://en.wikipedia.org/wiki/Convolutional_neural_network#Dropout) είναι ότι σε κάθε βήμα της εκπαίδευσης, οι κόμβοι «απορρίπτονται» με πιθανότητα $p$ ή διατηρούνται με πιθανότητα $1 - p$.\n",
    "\n",
    "* Στην πράξη δηλαδή, θερίζουμε από το νευρωνικό δίκτυο τους κόμβους με πιθανότητα $p$.\n",
    "\n",
    "* Στο επόμενο βήμα της εκπαίδευσης, οι κόμβοι που θα απορριφθούν πάλι επιλέγονται τυχαία, άρα κάποιοι θα ξαναεισαχθούν και κάποιοι άλλοι θα βγουν."
   ]
  },
  {
   "cell_type": "code",
   "execution_count": 15,
   "metadata": {
    "slideshow": {
     "slide_type": "slide"
    }
   },
   "outputs": [],
   "source": [
    "model = keras.Sequential([\n",
    "    layers.Input(shape=(X_train.shape[1],)),\n",
    "    normalizer,\n",
    "    layers.Dense(300, activation='elu'),\n",
    "    layers.Dropout(0.5),\n",
    "    layers.Dense(300, activation='elu'),\n",
    "    layers.Dropout(0.5),    \n",
    "    layers.Dense(300, activation='elu'),\n",
    "    layers.Dropout(0.5),    \n",
    "    layers.Dense(300, activation='elu'),\n",
    "    layers.Dropout(0.5),    \n",
    "    layers.Dense(300, activation='elu'),\n",
    "    layers.Dropout(0.5),    \n",
    "    layers.Dense(1, activation='sigmoid')\n",
    "])\n",
    "\n",
    "model.compile(loss=tf.keras.losses.BinaryCrossentropy(from_logits=False),\n",
    "              optimizer=tf.keras.optimizers.Adam(lr_schedule),\n",
    "              metrics=[\n",
    "                  tf.keras.losses.BinaryCrossentropy(from_logits=False, name='binary_crossentropy'),\n",
    "                  tf.metrics.BinaryAccuracy(threshold=0.5)\n",
    "              ])"
   ]
  },
  {
   "cell_type": "code",
   "execution_count": 16,
   "metadata": {
    "slideshow": {
     "slide_type": "slide"
    }
   },
   "outputs": [
    {
     "name": "stdout",
     "output_type": "stream",
     "text": [
      "\n",
      "Epoch: 0, binary_accuracy:0.5408,  binary_crossentropy:0.7836,  loss:0.7836,  val_binary_accuracy:0.6382,  val_binary_crossentropy:0.6392,  val_loss:0.6392,  \n",
      "....................................................................................................\n",
      "Epoch: 100, binary_accuracy:0.7094,  binary_crossentropy:0.5557,  loss:0.5557,  val_binary_accuracy:0.7027,  val_binary_crossentropy:0.5599,  val_loss:0.5599,  \n",
      "....................................................................................................\n",
      "Epoch: 200, binary_accuracy:0.7240,  binary_crossentropy:0.5271,  loss:0.5271,  val_binary_accuracy:0.7118,  val_binary_crossentropy:0.5754,  val_loss:0.5754,  \n",
      "...................................................................."
     ]
    }
   ],
   "source": [
    "history = model.fit(\n",
    "    X_train, \n",
    "    y_train,\n",
    "    epochs=NUM_EPOCHS,\n",
    "    batch_size=BATCH_SIZE,\n",
    "    validation_split=0.1,\n",
    "    verbose=0,\n",
    "    callbacks=early_stop)"
   ]
  },
  {
   "cell_type": "markdown",
   "metadata": {
    "slideshow": {
     "slide_type": "slide"
    }
   },
   "source": [
    "* Βλέπουμε ότι η κατάσταση έχει κάπως βελτιωθεί."
   ]
  },
  {
   "cell_type": "code",
   "execution_count": 17,
   "metadata": {
    "slideshow": {
     "slide_type": "fragment"
    }
   },
   "outputs": [
    {
     "data": {
      "image/png": "[encoded data removed]",
      "text/plain": [
       "<Figure size 640x480 with 1 Axes>"
      ]
     },
     "metadata": {},
     "output_type": "display_data"
    }
   ],
   "source": [
    "plot_loss(history)"
   ]
  },
  {
   "cell_type": "markdown",
   "metadata": {
    "slideshow": {
     "slide_type": "slide"
    }
   },
   "source": [
    "* Μια άλλη ιδέα για να αποφύγουμε την υπερπροσαρμογή είναι η *ομαλοποίηση* (regularization).\n",
    "\n",
    "* Στην προσέγγιση αυτή, ελαττώνουμε τα βάρη προς το μηδέν. \n",
    "\n",
    "* Ο λόγος είναι ότι όσο λιγότερα βάρη στο τελικό μοντέλο, τόσο λιγότερες παραμέτρους έχουμε στο τέλος, άρα τόσο πιο λιτό είναι το τελικό μοντέλο."
   ]
  },
  {
   "cell_type": "markdown",
   "metadata": {
    "slideshow": {
     "slide_type": "slide"
    }
   },
   "source": [
    "* Στην ομαλοποίηση L1, προσθέτουμε στην απώλεια μια ποσότητα ανάλογη με την απόλυτη τιμή του κάθε βάρους. Το αποτέλεσμα είναι να μηδενίζονται κάποια βάρη.\n",
    "\n",
    "* Στην ομαλοποίηση L2, προσθέτουμε στην απώλεια μια ποσότητα ανάλογη με το τετράγωνο του κάθε βάρους. Το αποτέλεσμα είναι να ελαχιστοποιούνται (αλλά όχι να μηδενίζονται απολύτως) κάποια βάρη."
   ]
  },
  {
   "cell_type": "markdown",
   "metadata": {},
   "source": [
    "* Ειδικότερα, αν χρησιμοποιήσουμε `regularizers.l2(0.001)`, όπως παρακάτω, κάθε βάρος θα προσθέσει $0{,}001 \\times w^2$ στην απώλεια του δικτύου.\n",
    "\n",
    "* Αυτός είναι και ο λόγος που παρακολουθούμε την μετρική `binary_crossentropy` και όχι απλώς την απώλεια, γιατί δεν θέλουμε να λαμβάνουμε υπόψη την ομαλοποίηση.\n",
    "\n",
    "* Τώρα στην έξοδο, τα `binary_crossentropy`, `val_binary_cross_entropy` θα διαφέρουν από τα `loss` και `val_loss`."
   ]
  },
  {
   "cell_type": "code",
   "execution_count": 18,
   "metadata": {
    "slideshow": {
     "slide_type": "slide"
    }
   },
   "outputs": [],
   "source": [
    "model = keras.Sequential([\n",
    "    layers.Input(shape=(X_train.shape[1],)),\n",
    "    normalizer,\n",
    "    layers.Dense(300, \n",
    "                 kernel_regularizer=regularizers.l2(0.001),\n",
    "                 activation='elu'),\n",
    "    layers.Dense(300,\n",
    "                 kernel_regularizer=regularizers.l2(0.001),\n",
    "                 activation='elu'),\n",
    "    layers.Dense(300,\n",
    "                 kernel_regularizer=regularizers.l2(0.001),\n",
    "                 activation='elu'),\n",
    "    layers.Dense(300,\n",
    "                 kernel_regularizer=regularizers.l2(0.001),\n",
    "                 activation='elu'),\n",
    "    layers.Dense(300,\n",
    "                 kernel_regularizer=regularizers.l2(0.001),\n",
    "                 activation='elu'),\n",
    "    layers.Dense(1, activation='sigmoid')\n",
    "])\n",
    "\n",
    "model.compile(loss=tf.keras.losses.BinaryCrossentropy(from_logits=False),\n",
    "              optimizer=tf.keras.optimizers.Adam(lr_schedule),\n",
    "              metrics=[\n",
    "                  tf.keras.losses.BinaryCrossentropy(from_logits=False, name='binary_crossentropy'),\n",
    "                  tf.metrics.BinaryAccuracy(threshold=0.5)\n",
    "              ])"
   ]
  },
  {
   "cell_type": "code",
   "execution_count": 19,
   "metadata": {
    "slideshow": {
     "slide_type": "slide"
    }
   },
   "outputs": [
    {
     "name": "stdout",
     "output_type": "stream",
     "text": [
      "\n",
      "Epoch: 0, binary_accuracy:0.6117,  binary_crossentropy:0.6563,  loss:1.6081,  val_binary_accuracy:0.6673,  val_binary_crossentropy:0.6200,  val_loss:1.3070,  \n",
      "....................................................................................................\n",
      "Epoch: 100, binary_accuracy:0.7095,  binary_crossentropy:0.5574,  loss:0.5843,  val_binary_accuracy:0.7118,  val_binary_crossentropy:0.5652,  val_loss:0.5917,  \n",
      "....................................................................................................\n",
      "Epoch: 200, binary_accuracy:0.7273,  binary_crossentropy:0.5371,  loss:0.5658,  val_binary_accuracy:0.7091,  val_binary_crossentropy:0.5668,  val_loss:0.5952,  \n",
      "....................................................................................................\n",
      "Epoch: 300, binary_accuracy:0.7347,  binary_crossentropy:0.5242,  loss:0.5545,  val_binary_accuracy:0.7155,  val_binary_crossentropy:0.5728,  val_loss:0.6030,  \n",
      "......................................"
     ]
    }
   ],
   "source": [
    "history = model.fit(\n",
    "    X_train, \n",
    "    y_train,\n",
    "    epochs=NUM_EPOCHS,\n",
    "    batch_size=BATCH_SIZE,\n",
    "    validation_split=0.1,\n",
    "    verbose=0,\n",
    "    callbacks=early_stop)"
   ]
  },
  {
   "cell_type": "markdown",
   "metadata": {
    "slideshow": {
     "slide_type": "slide"
    }
   },
   "source": [
    "* Βλέπουμε ότι και η ομαλοποίηση μπορεί να βοηθήσει."
   ]
  },
  {
   "cell_type": "code",
   "execution_count": 20,
   "metadata": {
    "slideshow": {
     "slide_type": "fragment"
    }
   },
   "outputs": [
    {
     "data": {
      "image/png": "[encoded data removed]",
      "text/plain": [
       "<Figure size 640x480 with 1 Axes>"
      ]
     },
     "metadata": {},
     "output_type": "display_data"
    }
   ],
   "source": [
    "plot_loss(history)"
   ]
  },
  {
   "cell_type": "markdown",
   "metadata": {
    "slideshow": {
     "slide_type": "slide"
    }
   },
   "source": [
    "* Οπότε, το επόμενο λογικό βήμα είναι να συνδυάσουμε και τις δύο μεθόδους για την αποφυγή της υπερπροσαρμογής."
   ]
  },
  {
   "cell_type": "code",
   "execution_count": 21,
   "metadata": {
    "slideshow": {
     "slide_type": "fragment"
    }
   },
   "outputs": [],
   "source": [
    "model = keras.Sequential([\n",
    "    layers.Input(shape=(X_train.shape[1],)),\n",
    "    normalizer,\n",
    "    layers.Dense(300, \n",
    "                 kernel_regularizer=regularizers.l2(0.001),\n",
    "                 activation='elu'),\n",
    "    layers.Dropout(0.5),\n",
    "    layers.Dense(300,\n",
    "                 kernel_regularizer=regularizers.l2(0.001),\n",
    "                 activation='elu'),\n",
    "    layers.Dropout(0.5),    \n",
    "    layers.Dense(300,\n",
    "                 kernel_regularizer=regularizers.l2(0.001),\n",
    "                 activation='elu'),\n",
    "    layers.Dropout(0.5),    \n",
    "    layers.Dense(300,\n",
    "                 kernel_regularizer=regularizers.l2(0.001),\n",
    "                 activation='elu'),\n",
    "    layers.Dropout(0.5),    \n",
    "    layers.Dense(300,\n",
    "                 kernel_regularizer=regularizers.l2(0.001),\n",
    "                 activation='elu'),\n",
    "    layers.Dropout(0.5),    \n",
    "    layers.Dense(1, activation='sigmoid')\n",
    "])\n",
    "\n",
    "model.compile(loss=tf.keras.losses.BinaryCrossentropy(from_logits=False),\n",
    "              optimizer=tf.keras.optimizers.Adam(lr_schedule),\n",
    "              metrics=[\n",
    "                  tf.keras.losses.BinaryCrossentropy(from_logits=False, name='binary_crossentropy'),\n",
    "                  tf.metrics.BinaryAccuracy(threshold=0.5)\n",
    "              ])"
   ]
  },
  {
   "cell_type": "code",
   "execution_count": 22,
   "metadata": {
    "slideshow": {
     "slide_type": "slide"
    }
   },
   "outputs": [
    {
     "name": "stdout",
     "output_type": "stream",
     "text": [
      "\n",
      "Epoch: 0, binary_accuracy:0.5379,  binary_crossentropy:0.7859,  loss:1.9659,  val_binary_accuracy:0.6227,  val_binary_crossentropy:0.6366,  val_loss:1.7420,  \n",
      "....................................................................................................\n",
      "Epoch: 100, binary_accuracy:0.6667,  binary_crossentropy:0.6109,  loss:0.6404,  val_binary_accuracy:0.6927,  val_binary_crossentropy:0.5927,  val_loss:0.6221,  \n",
      "....................................................................................................\n",
      "Epoch: 200, binary_accuracy:0.6661,  binary_crossentropy:0.6121,  loss:0.6386,  val_binary_accuracy:0.6964,  val_binary_crossentropy:0.5931,  val_loss:0.6196,  \n",
      "....................................................................................................\n",
      "Epoch: 300, binary_accuracy:0.6736,  binary_crossentropy:0.6078,  loss:0.6334,  val_binary_accuracy:0.6900,  val_binary_crossentropy:0.5909,  val_loss:0.6166,  \n",
      "....................................................................................................\n",
      "Epoch: 400, binary_accuracy:0.6720,  binary_crossentropy:0.6100,  loss:0.6349,  val_binary_accuracy:0.6909,  val_binary_crossentropy:0.5916,  val_loss:0.6165,  \n",
      "................................................."
     ]
    }
   ],
   "source": [
    "history = model.fit(\n",
    "    X_train, \n",
    "    y_train,\n",
    "    epochs=NUM_EPOCHS,\n",
    "    batch_size=BATCH_SIZE,\n",
    "    validation_split=0.1,\n",
    "    verbose=0,\n",
    "    callbacks=early_stop)"
   ]
  },
  {
   "cell_type": "markdown",
   "metadata": {
    "slideshow": {
     "slide_type": "slide"
    }
   },
   "source": [
    "* Πετύχαμε ακόμα καλύτερη συμπεριφορά."
   ]
  },
  {
   "cell_type": "code",
   "execution_count": 23,
   "metadata": {
    "slideshow": {
     "slide_type": "fragment"
    }
   },
   "outputs": [
    {
     "data": {
      "image/png": "[encoded data removed]",
      "text/plain": [
       "<Figure size 640x480 with 1 Axes>"
      ]
     },
     "metadata": {},
     "output_type": "display_data"
    }
   ],
   "source": [
    "plot_loss(history)"
   ]
  },
  {
   "cell_type": "markdown",
   "metadata": {
    "slideshow": {
     "slide_type": "slide"
    }
   },
   "source": [
    "* Μπορούμε επιπλέον να αξιολογήσουμε το μοντέλο μας με βάση τα δεδομένα ελέγχου."
   ]
  },
  {
   "cell_type": "code",
   "execution_count": 24,
   "metadata": {
    "slideshow": {
     "slide_type": "fragment"
    }
   },
   "outputs": [
    {
     "name": "stdout",
     "output_type": "stream",
     "text": [
      "loss 0.6366056203842163\n",
      "compile_metrics 0.6104234457015991\n"
     ]
    }
   ],
   "source": [
    "metrics = model.evaluate(X_test, y_test, verbose=0)\n",
    "for metric_name, metric in zip(model.metrics_names, metrics):\n",
    "    print(metric_name, metric)"
   ]
  },
  {
   "cell_type": "markdown",
   "metadata": {
    "slideshow": {
     "slide_type": "slide"
    }
   },
   "source": [
    "* Η εφαρμογή σωστής στρατηγικής για την αποφυγή υπερπροσαρμογής είναι βασικό συστατικό επιτυχίας σε ένα μοντέλο νευρωνικού δικτύου.\n",
    "\n",
    "* Τα εργαλεία μας δίνουν τη δυνατότητα να στοιβάζουμε στρώματα επί στρωμάτων.\n",
    "\n",
    "* Αυτό δεν σημαίνει ότι έτσι θα λύσουμε το πρόβλημα.\n",
    "\n",
    "* Πρέπει να προσέχουμε πάντα να χρησιμοποιούμε σωστά τη δύναμη που μας δίνουν τα εργαλεία που έχουμε στα χέρια μας."
   ]
  }
 ],
 "metadata": {
  "celltoolbar": "Slideshow",
  "kernelspec": {
   "display_name": "Python (Data Science)",
   "language": "python",
   "name": "data_science_env"
  },
  "language_info": {
   "codemirror_mode": {
    "name": "ipython",
    "version": 3
   },
   "file_extension": ".py",
   "mimetype": "text/x-python",
   "name": "python",
   "nbconvert_exporter": "python",
   "pygments_lexer": "ipython3",
   "version": "3.12.6"
  }
 },
 "nbformat": 4,
 "nbformat_minor": 4
}
