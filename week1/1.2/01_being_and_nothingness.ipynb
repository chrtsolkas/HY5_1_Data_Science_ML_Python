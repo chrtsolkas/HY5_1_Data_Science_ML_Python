{
 "cells": [
  {
   "cell_type": "markdown",
   "id": "understood-drama",
   "metadata": {
    "slideshow": {
     "slide_type": "slide"
    }
   },
   "source": [
    "# Το Είναι και το Τίποτε\n",
    "\n",
    "---\n",
    "\n",
    "> Πάνος Λουρίδας, Αναπληρωτής Καθηγητής <br />\n",
    "> Τμήμα Διοικητικής Επιστήμης και Τεχνολογίας <br />\n",
    "> Οικονομικό Πανεπιστήμιο Αθηνών <br />\n",
    "> louridas@aueb.gr"
   ]
  },
  {
   "cell_type": "code",
   "execution_count": 34,
   "id": "sharing-public",
   "metadata": {
    "slideshow": {
     "slide_type": "slide"
    }
   },
   "outputs": [],
   "source": [
    "import pandas as pd\n",
    "import numpy as np"
   ]
  },
  {
   "cell_type": "markdown",
   "id": "framed-relay",
   "metadata": {
    "slideshow": {
     "slide_type": "slide"
    }
   },
   "source": [
    "* Θα χρησιμοποιήσουμε ένα σύνολο δεδομένων που αφορά αξίες οικιών στην Καλιφόρνια.\n",
    "\n",
    "* Τα δεδομένα προέρχονται από την ακαδημαϊκή εργασία των Pace, R. Kelley και Ronald Barry, Sparse Spatial Autoregressions, Statistics and Probability Letters, 33 (1997) 291-297."
   ]
  },
  {
   "cell_type": "code",
   "execution_count": 35,
   "id": "rapid-description",
   "metadata": {
    "slideshow": {
     "slide_type": "fragment"
    }
   },
   "outputs": [
    {
     "data": {
      "text/html": [
       "<div>\n",
       "<style scoped>\n",
       "    .dataframe tbody tr th:only-of-type {\n",
       "        vertical-align: middle;\n",
       "    }\n",
       "\n",
       "    .dataframe tbody tr th {\n",
       "        vertical-align: top;\n",
       "    }\n",
       "\n",
       "    .dataframe thead th {\n",
       "        text-align: right;\n",
       "    }\n",
       "</style>\n",
       "<table border=\"1\" class=\"dataframe\">\n",
       "  <thead>\n",
       "    <tr style=\"text-align: right;\">\n",
       "      <th></th>\n",
       "      <th>longitude</th>\n",
       "      <th>latitude</th>\n",
       "      <th>housingMedianAge</th>\n",
       "      <th>totalRooms</th>\n",
       "      <th>totalBedrooms</th>\n",
       "      <th>population</th>\n",
       "      <th>households</th>\n",
       "      <th>medianIncome</th>\n",
       "      <th>medianHouseValue</th>\n",
       "    </tr>\n",
       "  </thead>\n",
       "  <tbody>\n",
       "    <tr>\n",
       "      <th>0</th>\n",
       "      <td>-122.23</td>\n",
       "      <td>37.88</td>\n",
       "      <td>41.0</td>\n",
       "      <td>880.0</td>\n",
       "      <td>129.0</td>\n",
       "      <td>322.0</td>\n",
       "      <td>126.0</td>\n",
       "      <td>8.3252</td>\n",
       "      <td>452600.0</td>\n",
       "    </tr>\n",
       "    <tr>\n",
       "      <th>1</th>\n",
       "      <td>-122.22</td>\n",
       "      <td>37.86</td>\n",
       "      <td>21.0</td>\n",
       "      <td>7099.0</td>\n",
       "      <td>1106.0</td>\n",
       "      <td>2401.0</td>\n",
       "      <td>1138.0</td>\n",
       "      <td>8.3014</td>\n",
       "      <td>358500.0</td>\n",
       "    </tr>\n",
       "    <tr>\n",
       "      <th>2</th>\n",
       "      <td>-122.24</td>\n",
       "      <td>37.85</td>\n",
       "      <td>52.0</td>\n",
       "      <td>1467.0</td>\n",
       "      <td>190.0</td>\n",
       "      <td>496.0</td>\n",
       "      <td>177.0</td>\n",
       "      <td>7.2574</td>\n",
       "      <td>352100.0</td>\n",
       "    </tr>\n",
       "    <tr>\n",
       "      <th>3</th>\n",
       "      <td>-122.25</td>\n",
       "      <td>37.85</td>\n",
       "      <td>52.0</td>\n",
       "      <td>1274.0</td>\n",
       "      <td>235.0</td>\n",
       "      <td>558.0</td>\n",
       "      <td>219.0</td>\n",
       "      <td>5.6431</td>\n",
       "      <td>341300.0</td>\n",
       "    </tr>\n",
       "    <tr>\n",
       "      <th>4</th>\n",
       "      <td>-122.25</td>\n",
       "      <td>37.85</td>\n",
       "      <td>52.0</td>\n",
       "      <td>1627.0</td>\n",
       "      <td>280.0</td>\n",
       "      <td>565.0</td>\n",
       "      <td>259.0</td>\n",
       "      <td>3.8462</td>\n",
       "      <td>342200.0</td>\n",
       "    </tr>\n",
       "    <tr>\n",
       "      <th>...</th>\n",
       "      <td>...</td>\n",
       "      <td>...</td>\n",
       "      <td>...</td>\n",
       "      <td>...</td>\n",
       "      <td>...</td>\n",
       "      <td>...</td>\n",
       "      <td>...</td>\n",
       "      <td>...</td>\n",
       "      <td>...</td>\n",
       "    </tr>\n",
       "    <tr>\n",
       "      <th>20635</th>\n",
       "      <td>-121.09</td>\n",
       "      <td>39.48</td>\n",
       "      <td>25.0</td>\n",
       "      <td>1665.0</td>\n",
       "      <td>374.0</td>\n",
       "      <td>845.0</td>\n",
       "      <td>330.0</td>\n",
       "      <td>1.5603</td>\n",
       "      <td>78100.0</td>\n",
       "    </tr>\n",
       "    <tr>\n",
       "      <th>20636</th>\n",
       "      <td>-121.21</td>\n",
       "      <td>39.49</td>\n",
       "      <td>18.0</td>\n",
       "      <td>697.0</td>\n",
       "      <td>150.0</td>\n",
       "      <td>356.0</td>\n",
       "      <td>114.0</td>\n",
       "      <td>2.5568</td>\n",
       "      <td>77100.0</td>\n",
       "    </tr>\n",
       "    <tr>\n",
       "      <th>20637</th>\n",
       "      <td>-121.22</td>\n",
       "      <td>39.43</td>\n",
       "      <td>17.0</td>\n",
       "      <td>2254.0</td>\n",
       "      <td>485.0</td>\n",
       "      <td>1007.0</td>\n",
       "      <td>433.0</td>\n",
       "      <td>1.7000</td>\n",
       "      <td>92300.0</td>\n",
       "    </tr>\n",
       "    <tr>\n",
       "      <th>20638</th>\n",
       "      <td>-121.32</td>\n",
       "      <td>39.43</td>\n",
       "      <td>18.0</td>\n",
       "      <td>1860.0</td>\n",
       "      <td>409.0</td>\n",
       "      <td>741.0</td>\n",
       "      <td>349.0</td>\n",
       "      <td>1.8672</td>\n",
       "      <td>84700.0</td>\n",
       "    </tr>\n",
       "    <tr>\n",
       "      <th>20639</th>\n",
       "      <td>-121.24</td>\n",
       "      <td>39.37</td>\n",
       "      <td>16.0</td>\n",
       "      <td>2785.0</td>\n",
       "      <td>616.0</td>\n",
       "      <td>1387.0</td>\n",
       "      <td>530.0</td>\n",
       "      <td>2.3886</td>\n",
       "      <td>89400.0</td>\n",
       "    </tr>\n",
       "  </tbody>\n",
       "</table>\n",
       "<p>20640 rows × 9 columns</p>\n",
       "</div>"
      ],
      "text/plain": [
       "       longitude  latitude  housingMedianAge  totalRooms  totalBedrooms  \\\n",
       "0        -122.23     37.88              41.0       880.0          129.0   \n",
       "1        -122.22     37.86              21.0      7099.0         1106.0   \n",
       "2        -122.24     37.85              52.0      1467.0          190.0   \n",
       "3        -122.25     37.85              52.0      1274.0          235.0   \n",
       "4        -122.25     37.85              52.0      1627.0          280.0   \n",
       "...          ...       ...               ...         ...            ...   \n",
       "20635    -121.09     39.48              25.0      1665.0          374.0   \n",
       "20636    -121.21     39.49              18.0       697.0          150.0   \n",
       "20637    -121.22     39.43              17.0      2254.0          485.0   \n",
       "20638    -121.32     39.43              18.0      1860.0          409.0   \n",
       "20639    -121.24     39.37              16.0      2785.0          616.0   \n",
       "\n",
       "       population  households  medianIncome  medianHouseValue  \n",
       "0           322.0       126.0        8.3252          452600.0  \n",
       "1          2401.0      1138.0        8.3014          358500.0  \n",
       "2           496.0       177.0        7.2574          352100.0  \n",
       "3           558.0       219.0        5.6431          341300.0  \n",
       "4           565.0       259.0        3.8462          342200.0  \n",
       "...           ...         ...           ...               ...  \n",
       "20635       845.0       330.0        1.5603           78100.0  \n",
       "20636       356.0       114.0        2.5568           77100.0  \n",
       "20637      1007.0       433.0        1.7000           92300.0  \n",
       "20638       741.0       349.0        1.8672           84700.0  \n",
       "20639      1387.0       530.0        2.3886           89400.0  \n",
       "\n",
       "[20640 rows x 9 columns]"
      ]
     },
     "execution_count": 35,
     "metadata": {},
     "output_type": "execute_result"
    }
   ],
   "source": [
    "cal_housing = pd.read_csv('cal_housing.csv')\n",
    "cal_housing"
   ]
  },
  {
   "cell_type": "markdown",
   "id": "grateful-korean",
   "metadata": {
    "slideshow": {
     "slide_type": "slide"
    }
   },
   "source": [
    "* Τα δεδομένα αυτά είναι πλήρη, δεν υπάρχουν κενά.\n",
    "\n",
    "* Δυστυχώς δεν είναι αυτός ο κανόνας.\n",
    "\n",
    "* Τις περισσότερες φορές στα δεδομένα που έχουμε στη διάθεσή μας υπάρχουν κενά.\n",
    "\n",
    "* Όταν σε μία εγγραφή υπάρχει κενό αντί για κάποιον πραγματικό αριθμό, το κενό αναπαρίσταται ως `NaN` (Not a Number)."
   ]
  },
  {
   "cell_type": "markdown",
   "id": "durable-detector",
   "metadata": {
    "slideshow": {
     "slide_type": "slide"
    }
   },
   "source": [
    "* Εμείς λοιπόν εδώ ας υποβιβάσουμε την ποιότητα των δεδομένων μας εισάγοντας κενά σε αυτά.\n",
    "\n",
    "* Θα εισάγουμε κενά στο 75% των γραμμών του `DataFrame` (η μέθοδος προέρχεται από την [τεκμηρίωση του scikit-learn](https://scikit-learn.org/stable/auto_examples/impute/plot_missing_values.html))."
   ]
  },
  {
   "cell_type": "code",
   "execution_count": 36,
   "id": "urban-wells",
   "metadata": {
    "slideshow": {
     "slide_type": "fragment"
    }
   },
   "outputs": [
    {
     "data": {
      "text/plain": [
       "15480"
      ]
     },
     "execution_count": 36,
     "metadata": {},
     "output_type": "execute_result"
    }
   ],
   "source": [
    "n_samples, n_features = cal_housing.shape\n",
    "\n",
    "# Add missing values in 75% of the lines\n",
    "missing_rate = 0.75\n",
    "n_missing_samples = int(n_samples * missing_rate)\n",
    "n_missing_samples"
   ]
  },
  {
   "cell_type": "markdown",
   "id": "sticky-announcement",
   "metadata": {
    "slideshow": {
     "slide_type": "slide"
    }
   },
   "source": [
    "* Φτιάχνουμε έναν πίνακα με τόσα στοιχεία όσες οι γραμμές του `cal_housing` `DataFrame`, με τιμές `False`."
   ]
  },
  {
   "cell_type": "code",
   "execution_count": 37,
   "id": "mathematical-scheme",
   "metadata": {
    "slideshow": {
     "slide_type": "fragment"
    }
   },
   "outputs": [
    {
     "name": "stdout",
     "output_type": "stream",
     "text": [
      "(20640,) [False False False ... False False False]\n"
     ]
    }
   ],
   "source": [
    "missing_samples = np.zeros(n_samples, dtype=bool)\n",
    "print(missing_samples.shape, missing_samples)"
   ]
  },
  {
   "cell_type": "markdown",
   "id": "returning-narrative",
   "metadata": {
    "slideshow": {
     "slide_type": "slide"
    }
   },
   "source": [
    "* Θα κάνουμε τα πρώτα 75% των στοιχείων του ίσα με `True`."
   ]
  },
  {
   "cell_type": "code",
   "execution_count": 38,
   "id": "violent-pillow",
   "metadata": {
    "slideshow": {
     "slide_type": "fragment"
    }
   },
   "outputs": [],
   "source": [
    "missing_samples[:n_missing_samples] = True"
   ]
  },
  {
   "cell_type": "markdown",
   "id": "worth-obligation",
   "metadata": {
    "slideshow": {
     "slide_type": "slide"
    }
   },
   "source": [
    "* Ανακατεύουμε τα στοιχεία του πίνακα, ώστε τα `True` και `False` να είναι διάσπαρτα."
   ]
  },
  {
   "cell_type": "code",
   "execution_count": 39,
   "id": "considerable-montgomery",
   "metadata": {
    "slideshow": {
     "slide_type": "fragment"
    }
   },
   "outputs": [],
   "source": [
    "rng = np.random.default_rng(42)\n",
    "rng.shuffle(missing_samples)"
   ]
  },
  {
   "cell_type": "markdown",
   "id": "blessed-excerpt",
   "metadata": {
    "slideshow": {
     "slide_type": "slide"
    }
   },
   "source": [
    "* Για κάθε μία από τις γραμμές στις οποίες θα εισάγουμε ένα κενό, επιλέγουμε τυχαία μία στήλη, της οποίας τα περιεχόμενα θα σβήσουμε."
   ]
  },
  {
   "cell_type": "code",
   "execution_count": 40,
   "id": "coastal-constant",
   "metadata": {
    "slideshow": {
     "slide_type": "fragment"
    }
   },
   "outputs": [
    {
     "name": "stdout",
     "output_type": "stream",
     "text": [
      "(15480,) [4 3 1 ... 7 2 1]\n"
     ]
    }
   ],
   "source": [
    "missing_features = rng.integers(0, n_features, n_missing_samples)\n",
    "print(missing_features.shape, missing_features)"
   ]
  },
  {
   "cell_type": "markdown",
   "id": "superb-pathology",
   "metadata": {
    "slideshow": {
     "slide_type": "slide"
    }
   },
   "source": [
    "* Αλλάζουμε τις τιμές του `cal_housing`, βάζοντας `np.nan` στις επιλεγμένες γραμμές και στήλες."
   ]
  },
  {
   "cell_type": "code",
   "execution_count": 41,
   "id": "maritime-blowing",
   "metadata": {
    "slideshow": {
     "slide_type": "fragment"
    }
   },
   "outputs": [
    {
     "data": {
      "text/html": [
       "<div>\n",
       "<style scoped>\n",
       "    .dataframe tbody tr th:only-of-type {\n",
       "        vertical-align: middle;\n",
       "    }\n",
       "\n",
       "    .dataframe tbody tr th {\n",
       "        vertical-align: top;\n",
       "    }\n",
       "\n",
       "    .dataframe thead th {\n",
       "        text-align: right;\n",
       "    }\n",
       "</style>\n",
       "<table border=\"1\" class=\"dataframe\">\n",
       "  <thead>\n",
       "    <tr style=\"text-align: right;\">\n",
       "      <th></th>\n",
       "      <th>longitude</th>\n",
       "      <th>latitude</th>\n",
       "      <th>housingMedianAge</th>\n",
       "      <th>totalRooms</th>\n",
       "      <th>totalBedrooms</th>\n",
       "      <th>population</th>\n",
       "      <th>households</th>\n",
       "      <th>medianIncome</th>\n",
       "      <th>medianHouseValue</th>\n",
       "    </tr>\n",
       "  </thead>\n",
       "  <tbody>\n",
       "    <tr>\n",
       "      <th>0</th>\n",
       "      <td>-122.23</td>\n",
       "      <td>37.88</td>\n",
       "      <td>41.0</td>\n",
       "      <td>880.0</td>\n",
       "      <td>NaN</td>\n",
       "      <td>322.0</td>\n",
       "      <td>126.0</td>\n",
       "      <td>8.3252</td>\n",
       "      <td>452600.0</td>\n",
       "    </tr>\n",
       "    <tr>\n",
       "      <th>1</th>\n",
       "      <td>-122.22</td>\n",
       "      <td>37.86</td>\n",
       "      <td>21.0</td>\n",
       "      <td>NaN</td>\n",
       "      <td>1106.0</td>\n",
       "      <td>2401.0</td>\n",
       "      <td>1138.0</td>\n",
       "      <td>8.3014</td>\n",
       "      <td>358500.0</td>\n",
       "    </tr>\n",
       "    <tr>\n",
       "      <th>2</th>\n",
       "      <td>-122.24</td>\n",
       "      <td>NaN</td>\n",
       "      <td>52.0</td>\n",
       "      <td>1467.0</td>\n",
       "      <td>190.0</td>\n",
       "      <td>496.0</td>\n",
       "      <td>177.0</td>\n",
       "      <td>7.2574</td>\n",
       "      <td>352100.0</td>\n",
       "    </tr>\n",
       "    <tr>\n",
       "      <th>3</th>\n",
       "      <td>-122.25</td>\n",
       "      <td>37.85</td>\n",
       "      <td>52.0</td>\n",
       "      <td>1274.0</td>\n",
       "      <td>235.0</td>\n",
       "      <td>558.0</td>\n",
       "      <td>NaN</td>\n",
       "      <td>5.6431</td>\n",
       "      <td>341300.0</td>\n",
       "    </tr>\n",
       "    <tr>\n",
       "      <th>4</th>\n",
       "      <td>NaN</td>\n",
       "      <td>37.85</td>\n",
       "      <td>52.0</td>\n",
       "      <td>1627.0</td>\n",
       "      <td>280.0</td>\n",
       "      <td>565.0</td>\n",
       "      <td>259.0</td>\n",
       "      <td>3.8462</td>\n",
       "      <td>342200.0</td>\n",
       "    </tr>\n",
       "    <tr>\n",
       "      <th>...</th>\n",
       "      <td>...</td>\n",
       "      <td>...</td>\n",
       "      <td>...</td>\n",
       "      <td>...</td>\n",
       "      <td>...</td>\n",
       "      <td>...</td>\n",
       "      <td>...</td>\n",
       "      <td>...</td>\n",
       "      <td>...</td>\n",
       "    </tr>\n",
       "    <tr>\n",
       "      <th>20635</th>\n",
       "      <td>NaN</td>\n",
       "      <td>39.48</td>\n",
       "      <td>25.0</td>\n",
       "      <td>1665.0</td>\n",
       "      <td>374.0</td>\n",
       "      <td>845.0</td>\n",
       "      <td>330.0</td>\n",
       "      <td>1.5603</td>\n",
       "      <td>78100.0</td>\n",
       "    </tr>\n",
       "    <tr>\n",
       "      <th>20636</th>\n",
       "      <td>-121.21</td>\n",
       "      <td>39.49</td>\n",
       "      <td>18.0</td>\n",
       "      <td>NaN</td>\n",
       "      <td>150.0</td>\n",
       "      <td>356.0</td>\n",
       "      <td>114.0</td>\n",
       "      <td>2.5568</td>\n",
       "      <td>77100.0</td>\n",
       "    </tr>\n",
       "    <tr>\n",
       "      <th>20637</th>\n",
       "      <td>-121.22</td>\n",
       "      <td>39.43</td>\n",
       "      <td>17.0</td>\n",
       "      <td>2254.0</td>\n",
       "      <td>485.0</td>\n",
       "      <td>1007.0</td>\n",
       "      <td>433.0</td>\n",
       "      <td>NaN</td>\n",
       "      <td>92300.0</td>\n",
       "    </tr>\n",
       "    <tr>\n",
       "      <th>20638</th>\n",
       "      <td>-121.32</td>\n",
       "      <td>39.43</td>\n",
       "      <td>NaN</td>\n",
       "      <td>1860.0</td>\n",
       "      <td>409.0</td>\n",
       "      <td>741.0</td>\n",
       "      <td>349.0</td>\n",
       "      <td>1.8672</td>\n",
       "      <td>84700.0</td>\n",
       "    </tr>\n",
       "    <tr>\n",
       "      <th>20639</th>\n",
       "      <td>-121.24</td>\n",
       "      <td>NaN</td>\n",
       "      <td>16.0</td>\n",
       "      <td>2785.0</td>\n",
       "      <td>616.0</td>\n",
       "      <td>1387.0</td>\n",
       "      <td>530.0</td>\n",
       "      <td>2.3886</td>\n",
       "      <td>89400.0</td>\n",
       "    </tr>\n",
       "  </tbody>\n",
       "</table>\n",
       "<p>20640 rows × 9 columns</p>\n",
       "</div>"
      ],
      "text/plain": [
       "       longitude  latitude  housingMedianAge  totalRooms  totalBedrooms  \\\n",
       "0        -122.23     37.88              41.0       880.0            NaN   \n",
       "1        -122.22     37.86              21.0         NaN         1106.0   \n",
       "2        -122.24       NaN              52.0      1467.0          190.0   \n",
       "3        -122.25     37.85              52.0      1274.0          235.0   \n",
       "4            NaN     37.85              52.0      1627.0          280.0   \n",
       "...          ...       ...               ...         ...            ...   \n",
       "20635        NaN     39.48              25.0      1665.0          374.0   \n",
       "20636    -121.21     39.49              18.0         NaN          150.0   \n",
       "20637    -121.22     39.43              17.0      2254.0          485.0   \n",
       "20638    -121.32     39.43               NaN      1860.0          409.0   \n",
       "20639    -121.24       NaN              16.0      2785.0          616.0   \n",
       "\n",
       "       population  households  medianIncome  medianHouseValue  \n",
       "0           322.0       126.0        8.3252          452600.0  \n",
       "1          2401.0      1138.0        8.3014          358500.0  \n",
       "2           496.0       177.0        7.2574          352100.0  \n",
       "3           558.0         NaN        5.6431          341300.0  \n",
       "4           565.0       259.0        3.8462          342200.0  \n",
       "...           ...         ...           ...               ...  \n",
       "20635       845.0       330.0        1.5603           78100.0  \n",
       "20636       356.0       114.0        2.5568           77100.0  \n",
       "20637      1007.0       433.0           NaN           92300.0  \n",
       "20638       741.0       349.0        1.8672           84700.0  \n",
       "20639      1387.0       530.0        2.3886           89400.0  \n",
       "\n",
       "[20640 rows x 9 columns]"
      ]
     },
     "execution_count": 41,
     "metadata": {},
     "output_type": "execute_result"
    }
   ],
   "source": [
    "cal_housing.values[missing_samples, missing_features] = np.nan\n",
    "cal_housing"
   ]
  },
  {
   "cell_type": "markdown",
   "id": "clinical-resource",
   "metadata": {
    "slideshow": {
     "slide_type": "slide"
    }
   },
   "source": [
    "* Το βασικό πράγμα που μπορούμε να κάνουμε όταν έχουμε κενά είναι να διαπιστώσουμε την ύπαρξη της ανυπαρξίας.\n",
    "\n",
    "* Αν θέλουμε στο pandas να διαπιστώσουμε αν μια τιμή δεν υπάρχει, μπορούμε να χρησιμοποιήσουμε τη μέθοδο `isna()`."
   ]
  },
  {
   "cell_type": "code",
   "execution_count": 42,
   "id": "moral-guitar",
   "metadata": {
    "slideshow": {
     "slide_type": "fragment"
    }
   },
   "outputs": [
    {
     "data": {
      "text/plain": [
       "0        False\n",
       "1         True\n",
       "2        False\n",
       "3        False\n",
       "4        False\n",
       "         ...  \n",
       "20635    False\n",
       "20636     True\n",
       "20637    False\n",
       "20638    False\n",
       "20639    False\n",
       "Name: totalRooms, Length: 20640, dtype: bool"
      ]
     },
     "execution_count": 42,
     "metadata": {},
     "output_type": "execute_result"
    }
   ],
   "source": [
    "cal_housing['totalRooms'].isna()"
   ]
  },
  {
   "cell_type": "markdown",
   "id": "japanese-coordinate",
   "metadata": {
    "slideshow": {
     "slide_type": "slide"
    }
   },
   "source": [
    "* Συνώνυμο της μεθόδου `isna()` είναι η μέθοδος `isnull()`."
   ]
  },
  {
   "cell_type": "code",
   "execution_count": 43,
   "id": "statistical-operation",
   "metadata": {
    "slideshow": {
     "slide_type": "fragment"
    }
   },
   "outputs": [
    {
     "data": {
      "text/plain": [
       "0        False\n",
       "1         True\n",
       "2        False\n",
       "3        False\n",
       "4        False\n",
       "         ...  \n",
       "20635    False\n",
       "20636     True\n",
       "20637    False\n",
       "20638    False\n",
       "20639    False\n",
       "Name: totalRooms, Length: 20640, dtype: bool"
      ]
     },
     "execution_count": 43,
     "metadata": {},
     "output_type": "execute_result"
    }
   ],
   "source": [
    "cal_housing['totalRooms'].isnull()"
   ]
  },
  {
   "cell_type": "markdown",
   "id": "distinguished-engagement",
   "metadata": {
    "slideshow": {
     "slide_type": "slide"
    }
   },
   "source": [
    "* Αντιστρόφως, αν θέλουμε να διαπιστώσουμε ότι μια τιμή υπάρχει, μπορούμε να χρησιμοποιήσουμε τη μέθοδο `notna()`."
   ]
  },
  {
   "cell_type": "code",
   "execution_count": 44,
   "id": "occasional-surface",
   "metadata": {
    "slideshow": {
     "slide_type": "fragment"
    }
   },
   "outputs": [
    {
     "data": {
      "text/plain": [
       "0         True\n",
       "1         True\n",
       "2        False\n",
       "3         True\n",
       "4         True\n",
       "         ...  \n",
       "20635     True\n",
       "20636     True\n",
       "20637     True\n",
       "20638     True\n",
       "20639    False\n",
       "Name: latitude, Length: 20640, dtype: bool"
      ]
     },
     "execution_count": 44,
     "metadata": {},
     "output_type": "execute_result"
    }
   ],
   "source": [
    "cal_housing['latitude'].notna()"
   ]
  },
  {
   "cell_type": "markdown",
   "id": "happy-couple",
   "metadata": {
    "slideshow": {
     "slide_type": "slide"
    }
   },
   "source": [
    "* Συνώνυμη της `notna()` είναι η μέθοδος `notnull()`."
   ]
  },
  {
   "cell_type": "code",
   "execution_count": 45,
   "id": "multiple-graham",
   "metadata": {
    "slideshow": {
     "slide_type": "fragment"
    }
   },
   "outputs": [
    {
     "data": {
      "text/plain": [
       "0         True\n",
       "1         True\n",
       "2        False\n",
       "3         True\n",
       "4         True\n",
       "         ...  \n",
       "20635     True\n",
       "20636     True\n",
       "20637     True\n",
       "20638     True\n",
       "20639    False\n",
       "Name: latitude, Length: 20640, dtype: bool"
      ]
     },
     "execution_count": 45,
     "metadata": {},
     "output_type": "execute_result"
    }
   ],
   "source": [
    "cal_housing['latitude'].notnull()"
   ]
  },
  {
   "cell_type": "markdown",
   "id": "anonymous-infection",
   "metadata": {
    "slideshow": {
     "slide_type": "slide"
    }
   },
   "source": [
    "* Αν θέλουμε να μετρήσουμε πόσα κενά υπάρχουν, μπορούμε να αθροίσουμε το αποτέλεσμα της `isna()`, αφού στο άθροισμα οι τιμές `True` γίνονται 1 και οι τιμές `False` γίνονται 0."
   ]
  },
  {
   "cell_type": "code",
   "execution_count": 46,
   "id": "touched-artist",
   "metadata": {
    "slideshow": {
     "slide_type": "fragment"
    }
   },
   "outputs": [
    {
     "data": {
      "text/plain": [
       "1680"
      ]
     },
     "execution_count": 46,
     "metadata": {},
     "output_type": "execute_result"
    }
   ],
   "source": [
    "cal_housing['latitude'].isna().sum().item()"
   ]
  },
  {
   "cell_type": "markdown",
   "id": "negative-request",
   "metadata": {
    "slideshow": {
     "slide_type": "slide"
    }
   },
   "source": [
    "* Με βάση αυτές τις μεθόδους μπορούμε να φιλτράρουμε τα δεδομένα μας ώστε να μην έχουμε κενά."
   ]
  },
  {
   "cell_type": "code",
   "execution_count": 47,
   "id": "pressed-artist",
   "metadata": {
    "slideshow": {
     "slide_type": "fragment"
    }
   },
   "outputs": [
    {
     "data": {
      "text/html": [
       "<div>\n",
       "<style scoped>\n",
       "    .dataframe tbody tr th:only-of-type {\n",
       "        vertical-align: middle;\n",
       "    }\n",
       "\n",
       "    .dataframe tbody tr th {\n",
       "        vertical-align: top;\n",
       "    }\n",
       "\n",
       "    .dataframe thead th {\n",
       "        text-align: right;\n",
       "    }\n",
       "</style>\n",
       "<table border=\"1\" class=\"dataframe\">\n",
       "  <thead>\n",
       "    <tr style=\"text-align: right;\">\n",
       "      <th></th>\n",
       "      <th>longitude</th>\n",
       "      <th>latitude</th>\n",
       "      <th>housingMedianAge</th>\n",
       "      <th>totalRooms</th>\n",
       "      <th>totalBedrooms</th>\n",
       "      <th>population</th>\n",
       "      <th>households</th>\n",
       "      <th>medianIncome</th>\n",
       "      <th>medianHouseValue</th>\n",
       "    </tr>\n",
       "  </thead>\n",
       "  <tbody>\n",
       "    <tr>\n",
       "      <th>0</th>\n",
       "      <td>-122.23</td>\n",
       "      <td>37.88</td>\n",
       "      <td>41.0</td>\n",
       "      <td>880.0</td>\n",
       "      <td>NaN</td>\n",
       "      <td>322.0</td>\n",
       "      <td>126.0</td>\n",
       "      <td>8.3252</td>\n",
       "      <td>452600.0</td>\n",
       "    </tr>\n",
       "    <tr>\n",
       "      <th>1</th>\n",
       "      <td>-122.22</td>\n",
       "      <td>37.86</td>\n",
       "      <td>21.0</td>\n",
       "      <td>NaN</td>\n",
       "      <td>1106.0</td>\n",
       "      <td>2401.0</td>\n",
       "      <td>1138.0</td>\n",
       "      <td>8.3014</td>\n",
       "      <td>358500.0</td>\n",
       "    </tr>\n",
       "    <tr>\n",
       "      <th>2</th>\n",
       "      <td>-122.24</td>\n",
       "      <td>NaN</td>\n",
       "      <td>52.0</td>\n",
       "      <td>1467.0</td>\n",
       "      <td>190.0</td>\n",
       "      <td>496.0</td>\n",
       "      <td>177.0</td>\n",
       "      <td>7.2574</td>\n",
       "      <td>352100.0</td>\n",
       "    </tr>\n",
       "    <tr>\n",
       "      <th>3</th>\n",
       "      <td>-122.25</td>\n",
       "      <td>37.85</td>\n",
       "      <td>52.0</td>\n",
       "      <td>1274.0</td>\n",
       "      <td>235.0</td>\n",
       "      <td>558.0</td>\n",
       "      <td>NaN</td>\n",
       "      <td>5.6431</td>\n",
       "      <td>341300.0</td>\n",
       "    </tr>\n",
       "    <tr>\n",
       "      <th>4</th>\n",
       "      <td>NaN</td>\n",
       "      <td>37.85</td>\n",
       "      <td>52.0</td>\n",
       "      <td>1627.0</td>\n",
       "      <td>280.0</td>\n",
       "      <td>565.0</td>\n",
       "      <td>259.0</td>\n",
       "      <td>3.8462</td>\n",
       "      <td>342200.0</td>\n",
       "    </tr>\n",
       "    <tr>\n",
       "      <th>...</th>\n",
       "      <td>...</td>\n",
       "      <td>...</td>\n",
       "      <td>...</td>\n",
       "      <td>...</td>\n",
       "      <td>...</td>\n",
       "      <td>...</td>\n",
       "      <td>...</td>\n",
       "      <td>...</td>\n",
       "      <td>...</td>\n",
       "    </tr>\n",
       "    <tr>\n",
       "      <th>20635</th>\n",
       "      <td>NaN</td>\n",
       "      <td>39.48</td>\n",
       "      <td>25.0</td>\n",
       "      <td>1665.0</td>\n",
       "      <td>374.0</td>\n",
       "      <td>845.0</td>\n",
       "      <td>330.0</td>\n",
       "      <td>1.5603</td>\n",
       "      <td>78100.0</td>\n",
       "    </tr>\n",
       "    <tr>\n",
       "      <th>20636</th>\n",
       "      <td>-121.21</td>\n",
       "      <td>39.49</td>\n",
       "      <td>18.0</td>\n",
       "      <td>NaN</td>\n",
       "      <td>150.0</td>\n",
       "      <td>356.0</td>\n",
       "      <td>114.0</td>\n",
       "      <td>2.5568</td>\n",
       "      <td>77100.0</td>\n",
       "    </tr>\n",
       "    <tr>\n",
       "      <th>20637</th>\n",
       "      <td>-121.22</td>\n",
       "      <td>39.43</td>\n",
       "      <td>17.0</td>\n",
       "      <td>2254.0</td>\n",
       "      <td>485.0</td>\n",
       "      <td>1007.0</td>\n",
       "      <td>433.0</td>\n",
       "      <td>NaN</td>\n",
       "      <td>92300.0</td>\n",
       "    </tr>\n",
       "    <tr>\n",
       "      <th>20638</th>\n",
       "      <td>-121.32</td>\n",
       "      <td>39.43</td>\n",
       "      <td>NaN</td>\n",
       "      <td>1860.0</td>\n",
       "      <td>409.0</td>\n",
       "      <td>741.0</td>\n",
       "      <td>349.0</td>\n",
       "      <td>1.8672</td>\n",
       "      <td>84700.0</td>\n",
       "    </tr>\n",
       "    <tr>\n",
       "      <th>20639</th>\n",
       "      <td>-121.24</td>\n",
       "      <td>NaN</td>\n",
       "      <td>16.0</td>\n",
       "      <td>2785.0</td>\n",
       "      <td>616.0</td>\n",
       "      <td>1387.0</td>\n",
       "      <td>530.0</td>\n",
       "      <td>2.3886</td>\n",
       "      <td>89400.0</td>\n",
       "    </tr>\n",
       "  </tbody>\n",
       "</table>\n",
       "<p>18890 rows × 9 columns</p>\n",
       "</div>"
      ],
      "text/plain": [
       "       longitude  latitude  housingMedianAge  totalRooms  totalBedrooms  \\\n",
       "0        -122.23     37.88              41.0       880.0            NaN   \n",
       "1        -122.22     37.86              21.0         NaN         1106.0   \n",
       "2        -122.24       NaN              52.0      1467.0          190.0   \n",
       "3        -122.25     37.85              52.0      1274.0          235.0   \n",
       "4            NaN     37.85              52.0      1627.0          280.0   \n",
       "...          ...       ...               ...         ...            ...   \n",
       "20635        NaN     39.48              25.0      1665.0          374.0   \n",
       "20636    -121.21     39.49              18.0         NaN          150.0   \n",
       "20637    -121.22     39.43              17.0      2254.0          485.0   \n",
       "20638    -121.32     39.43               NaN      1860.0          409.0   \n",
       "20639    -121.24       NaN              16.0      2785.0          616.0   \n",
       "\n",
       "       population  households  medianIncome  medianHouseValue  \n",
       "0           322.0       126.0        8.3252          452600.0  \n",
       "1          2401.0      1138.0        8.3014          358500.0  \n",
       "2           496.0       177.0        7.2574          352100.0  \n",
       "3           558.0         NaN        5.6431          341300.0  \n",
       "4           565.0       259.0        3.8462          342200.0  \n",
       "...           ...         ...           ...               ...  \n",
       "20635       845.0       330.0        1.5603           78100.0  \n",
       "20636       356.0       114.0        2.5568           77100.0  \n",
       "20637      1007.0       433.0           NaN           92300.0  \n",
       "20638       741.0       349.0        1.8672           84700.0  \n",
       "20639      1387.0       530.0        2.3886           89400.0  \n",
       "\n",
       "[18890 rows x 9 columns]"
      ]
     },
     "execution_count": 47,
     "metadata": {},
     "output_type": "execute_result"
    }
   ],
   "source": [
    "cal_housing[cal_housing['medianHouseValue'].notna()]"
   ]
  },
  {
   "cell_type": "markdown",
   "id": "painted-inventory",
   "metadata": {
    "slideshow": {
     "slide_type": "slide"
    }
   },
   "source": [
    "* Μια άλλη λύση είναι να πετάξουμε τις γραμμές (εγγραφές) όπου υπάρχουν κενά χρησιμοποιώντας τη μέθοδο `dropna()`."
   ]
  },
  {
   "cell_type": "code",
   "execution_count": 48,
   "id": "whole-variable",
   "metadata": {
    "slideshow": {
     "slide_type": "fragment"
    }
   },
   "outputs": [
    {
     "data": {
      "text/html": [
       "<div>\n",
       "<style scoped>\n",
       "    .dataframe tbody tr th:only-of-type {\n",
       "        vertical-align: middle;\n",
       "    }\n",
       "\n",
       "    .dataframe tbody tr th {\n",
       "        vertical-align: top;\n",
       "    }\n",
       "\n",
       "    .dataframe thead th {\n",
       "        text-align: right;\n",
       "    }\n",
       "</style>\n",
       "<table border=\"1\" class=\"dataframe\">\n",
       "  <thead>\n",
       "    <tr style=\"text-align: right;\">\n",
       "      <th></th>\n",
       "      <th>longitude</th>\n",
       "      <th>latitude</th>\n",
       "      <th>housingMedianAge</th>\n",
       "      <th>totalRooms</th>\n",
       "      <th>totalBedrooms</th>\n",
       "      <th>population</th>\n",
       "      <th>households</th>\n",
       "      <th>medianIncome</th>\n",
       "      <th>medianHouseValue</th>\n",
       "    </tr>\n",
       "  </thead>\n",
       "  <tbody>\n",
       "    <tr>\n",
       "      <th>7</th>\n",
       "      <td>-122.25</td>\n",
       "      <td>37.84</td>\n",
       "      <td>52.0</td>\n",
       "      <td>3104.0</td>\n",
       "      <td>687.0</td>\n",
       "      <td>1157.0</td>\n",
       "      <td>647.0</td>\n",
       "      <td>3.1200</td>\n",
       "      <td>241400.0</td>\n",
       "    </tr>\n",
       "    <tr>\n",
       "      <th>11</th>\n",
       "      <td>-122.26</td>\n",
       "      <td>37.85</td>\n",
       "      <td>52.0</td>\n",
       "      <td>3503.0</td>\n",
       "      <td>752.0</td>\n",
       "      <td>1504.0</td>\n",
       "      <td>734.0</td>\n",
       "      <td>3.2705</td>\n",
       "      <td>241800.0</td>\n",
       "    </tr>\n",
       "    <tr>\n",
       "      <th>17</th>\n",
       "      <td>-122.27</td>\n",
       "      <td>37.85</td>\n",
       "      <td>52.0</td>\n",
       "      <td>1228.0</td>\n",
       "      <td>293.0</td>\n",
       "      <td>648.0</td>\n",
       "      <td>303.0</td>\n",
       "      <td>2.1202</td>\n",
       "      <td>155500.0</td>\n",
       "    </tr>\n",
       "    <tr>\n",
       "      <th>20</th>\n",
       "      <td>-122.27</td>\n",
       "      <td>37.85</td>\n",
       "      <td>40.0</td>\n",
       "      <td>751.0</td>\n",
       "      <td>184.0</td>\n",
       "      <td>409.0</td>\n",
       "      <td>166.0</td>\n",
       "      <td>1.3578</td>\n",
       "      <td>147500.0</td>\n",
       "    </tr>\n",
       "    <tr>\n",
       "      <th>21</th>\n",
       "      <td>-122.27</td>\n",
       "      <td>37.85</td>\n",
       "      <td>42.0</td>\n",
       "      <td>1639.0</td>\n",
       "      <td>367.0</td>\n",
       "      <td>929.0</td>\n",
       "      <td>366.0</td>\n",
       "      <td>1.7135</td>\n",
       "      <td>159800.0</td>\n",
       "    </tr>\n",
       "    <tr>\n",
       "      <th>...</th>\n",
       "      <td>...</td>\n",
       "      <td>...</td>\n",
       "      <td>...</td>\n",
       "      <td>...</td>\n",
       "      <td>...</td>\n",
       "      <td>...</td>\n",
       "      <td>...</td>\n",
       "      <td>...</td>\n",
       "      <td>...</td>\n",
       "    </tr>\n",
       "    <tr>\n",
       "      <th>20617</th>\n",
       "      <td>-121.53</td>\n",
       "      <td>39.06</td>\n",
       "      <td>20.0</td>\n",
       "      <td>561.0</td>\n",
       "      <td>109.0</td>\n",
       "      <td>308.0</td>\n",
       "      <td>114.0</td>\n",
       "      <td>3.3021</td>\n",
       "      <td>70800.0</td>\n",
       "    </tr>\n",
       "    <tr>\n",
       "      <th>20620</th>\n",
       "      <td>-121.48</td>\n",
       "      <td>39.05</td>\n",
       "      <td>40.0</td>\n",
       "      <td>198.0</td>\n",
       "      <td>41.0</td>\n",
       "      <td>151.0</td>\n",
       "      <td>48.0</td>\n",
       "      <td>4.5625</td>\n",
       "      <td>100000.0</td>\n",
       "    </tr>\n",
       "    <tr>\n",
       "      <th>20623</th>\n",
       "      <td>-121.37</td>\n",
       "      <td>39.03</td>\n",
       "      <td>32.0</td>\n",
       "      <td>1158.0</td>\n",
       "      <td>244.0</td>\n",
       "      <td>598.0</td>\n",
       "      <td>227.0</td>\n",
       "      <td>2.8235</td>\n",
       "      <td>65500.0</td>\n",
       "    </tr>\n",
       "    <tr>\n",
       "      <th>20627</th>\n",
       "      <td>-121.32</td>\n",
       "      <td>39.13</td>\n",
       "      <td>5.0</td>\n",
       "      <td>358.0</td>\n",
       "      <td>65.0</td>\n",
       "      <td>169.0</td>\n",
       "      <td>59.0</td>\n",
       "      <td>3.0000</td>\n",
       "      <td>162500.0</td>\n",
       "    </tr>\n",
       "    <tr>\n",
       "      <th>20632</th>\n",
       "      <td>-121.45</td>\n",
       "      <td>39.26</td>\n",
       "      <td>15.0</td>\n",
       "      <td>2319.0</td>\n",
       "      <td>416.0</td>\n",
       "      <td>1047.0</td>\n",
       "      <td>385.0</td>\n",
       "      <td>3.1250</td>\n",
       "      <td>115600.0</td>\n",
       "    </tr>\n",
       "  </tbody>\n",
       "</table>\n",
       "<p>5160 rows × 9 columns</p>\n",
       "</div>"
      ],
      "text/plain": [
       "       longitude  latitude  housingMedianAge  totalRooms  totalBedrooms  \\\n",
       "7        -122.25     37.84              52.0      3104.0          687.0   \n",
       "11       -122.26     37.85              52.0      3503.0          752.0   \n",
       "17       -122.27     37.85              52.0      1228.0          293.0   \n",
       "20       -122.27     37.85              40.0       751.0          184.0   \n",
       "21       -122.27     37.85              42.0      1639.0          367.0   \n",
       "...          ...       ...               ...         ...            ...   \n",
       "20617    -121.53     39.06              20.0       561.0          109.0   \n",
       "20620    -121.48     39.05              40.0       198.0           41.0   \n",
       "20623    -121.37     39.03              32.0      1158.0          244.0   \n",
       "20627    -121.32     39.13               5.0       358.0           65.0   \n",
       "20632    -121.45     39.26              15.0      2319.0          416.0   \n",
       "\n",
       "       population  households  medianIncome  medianHouseValue  \n",
       "7          1157.0       647.0        3.1200          241400.0  \n",
       "11         1504.0       734.0        3.2705          241800.0  \n",
       "17          648.0       303.0        2.1202          155500.0  \n",
       "20          409.0       166.0        1.3578          147500.0  \n",
       "21          929.0       366.0        1.7135          159800.0  \n",
       "...           ...         ...           ...               ...  \n",
       "20617       308.0       114.0        3.3021           70800.0  \n",
       "20620       151.0        48.0        4.5625          100000.0  \n",
       "20623       598.0       227.0        2.8235           65500.0  \n",
       "20627       169.0        59.0        3.0000          162500.0  \n",
       "20632      1047.0       385.0        3.1250          115600.0  \n",
       "\n",
       "[5160 rows x 9 columns]"
      ]
     },
     "execution_count": 48,
     "metadata": {},
     "output_type": "execute_result"
    }
   ],
   "source": [
    "cal_housing.dropna()"
   ]
  },
  {
   "cell_type": "markdown",
   "id": "national-disclaimer",
   "metadata": {
    "slideshow": {
     "slide_type": "slide"
    }
   },
   "source": [
    "* Το πρόβλημα είναι ότι μια τέτοια προσέγγιση μπορεί να είναι συντριπτική γιατί χάνουμε μεγάλο όγκο των δεδομένων μας.\n",
    "\n",
    "* Μπορεί να μας επιθυμούμε τελικά να απομακρύνουμε τις γραμμές όπου υπάρχουν κενά μόνο σε συγκεκριμένες στήλες."
   ]
  },
  {
   "cell_type": "code",
   "execution_count": 49,
   "id": "endless-customer",
   "metadata": {
    "slideshow": {
     "slide_type": "fragment"
    }
   },
   "outputs": [
    {
     "data": {
      "text/html": [
       "<div>\n",
       "<style scoped>\n",
       "    .dataframe tbody tr th:only-of-type {\n",
       "        vertical-align: middle;\n",
       "    }\n",
       "\n",
       "    .dataframe tbody tr th {\n",
       "        vertical-align: top;\n",
       "    }\n",
       "\n",
       "    .dataframe thead th {\n",
       "        text-align: right;\n",
       "    }\n",
       "</style>\n",
       "<table border=\"1\" class=\"dataframe\">\n",
       "  <thead>\n",
       "    <tr style=\"text-align: right;\">\n",
       "      <th></th>\n",
       "      <th>longitude</th>\n",
       "      <th>latitude</th>\n",
       "      <th>housingMedianAge</th>\n",
       "      <th>totalRooms</th>\n",
       "      <th>totalBedrooms</th>\n",
       "      <th>population</th>\n",
       "      <th>households</th>\n",
       "      <th>medianIncome</th>\n",
       "      <th>medianHouseValue</th>\n",
       "    </tr>\n",
       "  </thead>\n",
       "  <tbody>\n",
       "    <tr>\n",
       "      <th>0</th>\n",
       "      <td>-122.23</td>\n",
       "      <td>37.88</td>\n",
       "      <td>41.0</td>\n",
       "      <td>880.0</td>\n",
       "      <td>NaN</td>\n",
       "      <td>322.0</td>\n",
       "      <td>126.0</td>\n",
       "      <td>8.3252</td>\n",
       "      <td>452600.0</td>\n",
       "    </tr>\n",
       "    <tr>\n",
       "      <th>1</th>\n",
       "      <td>-122.22</td>\n",
       "      <td>37.86</td>\n",
       "      <td>21.0</td>\n",
       "      <td>NaN</td>\n",
       "      <td>1106.0</td>\n",
       "      <td>2401.0</td>\n",
       "      <td>1138.0</td>\n",
       "      <td>8.3014</td>\n",
       "      <td>358500.0</td>\n",
       "    </tr>\n",
       "    <tr>\n",
       "      <th>2</th>\n",
       "      <td>-122.24</td>\n",
       "      <td>NaN</td>\n",
       "      <td>52.0</td>\n",
       "      <td>1467.0</td>\n",
       "      <td>190.0</td>\n",
       "      <td>496.0</td>\n",
       "      <td>177.0</td>\n",
       "      <td>7.2574</td>\n",
       "      <td>352100.0</td>\n",
       "    </tr>\n",
       "    <tr>\n",
       "      <th>3</th>\n",
       "      <td>-122.25</td>\n",
       "      <td>37.85</td>\n",
       "      <td>52.0</td>\n",
       "      <td>1274.0</td>\n",
       "      <td>235.0</td>\n",
       "      <td>558.0</td>\n",
       "      <td>NaN</td>\n",
       "      <td>5.6431</td>\n",
       "      <td>341300.0</td>\n",
       "    </tr>\n",
       "    <tr>\n",
       "      <th>4</th>\n",
       "      <td>NaN</td>\n",
       "      <td>37.85</td>\n",
       "      <td>52.0</td>\n",
       "      <td>1627.0</td>\n",
       "      <td>280.0</td>\n",
       "      <td>565.0</td>\n",
       "      <td>259.0</td>\n",
       "      <td>3.8462</td>\n",
       "      <td>342200.0</td>\n",
       "    </tr>\n",
       "    <tr>\n",
       "      <th>...</th>\n",
       "      <td>...</td>\n",
       "      <td>...</td>\n",
       "      <td>...</td>\n",
       "      <td>...</td>\n",
       "      <td>...</td>\n",
       "      <td>...</td>\n",
       "      <td>...</td>\n",
       "      <td>...</td>\n",
       "      <td>...</td>\n",
       "    </tr>\n",
       "    <tr>\n",
       "      <th>20633</th>\n",
       "      <td>-121.53</td>\n",
       "      <td>39.19</td>\n",
       "      <td>27.0</td>\n",
       "      <td>2080.0</td>\n",
       "      <td>412.0</td>\n",
       "      <td>1082.0</td>\n",
       "      <td>NaN</td>\n",
       "      <td>2.5495</td>\n",
       "      <td>98300.0</td>\n",
       "    </tr>\n",
       "    <tr>\n",
       "      <th>20635</th>\n",
       "      <td>NaN</td>\n",
       "      <td>39.48</td>\n",
       "      <td>25.0</td>\n",
       "      <td>1665.0</td>\n",
       "      <td>374.0</td>\n",
       "      <td>845.0</td>\n",
       "      <td>330.0</td>\n",
       "      <td>1.5603</td>\n",
       "      <td>78100.0</td>\n",
       "    </tr>\n",
       "    <tr>\n",
       "      <th>20636</th>\n",
       "      <td>-121.21</td>\n",
       "      <td>39.49</td>\n",
       "      <td>18.0</td>\n",
       "      <td>NaN</td>\n",
       "      <td>150.0</td>\n",
       "      <td>356.0</td>\n",
       "      <td>114.0</td>\n",
       "      <td>2.5568</td>\n",
       "      <td>77100.0</td>\n",
       "    </tr>\n",
       "    <tr>\n",
       "      <th>20638</th>\n",
       "      <td>-121.32</td>\n",
       "      <td>39.43</td>\n",
       "      <td>NaN</td>\n",
       "      <td>1860.0</td>\n",
       "      <td>409.0</td>\n",
       "      <td>741.0</td>\n",
       "      <td>349.0</td>\n",
       "      <td>1.8672</td>\n",
       "      <td>84700.0</td>\n",
       "    </tr>\n",
       "    <tr>\n",
       "      <th>20639</th>\n",
       "      <td>-121.24</td>\n",
       "      <td>NaN</td>\n",
       "      <td>16.0</td>\n",
       "      <td>2785.0</td>\n",
       "      <td>616.0</td>\n",
       "      <td>1387.0</td>\n",
       "      <td>530.0</td>\n",
       "      <td>2.3886</td>\n",
       "      <td>89400.0</td>\n",
       "    </tr>\n",
       "  </tbody>\n",
       "</table>\n",
       "<p>17092 rows × 9 columns</p>\n",
       "</div>"
      ],
      "text/plain": [
       "       longitude  latitude  housingMedianAge  totalRooms  totalBedrooms  \\\n",
       "0        -122.23     37.88              41.0       880.0            NaN   \n",
       "1        -122.22     37.86              21.0         NaN         1106.0   \n",
       "2        -122.24       NaN              52.0      1467.0          190.0   \n",
       "3        -122.25     37.85              52.0      1274.0          235.0   \n",
       "4            NaN     37.85              52.0      1627.0          280.0   \n",
       "...          ...       ...               ...         ...            ...   \n",
       "20633    -121.53     39.19              27.0      2080.0          412.0   \n",
       "20635        NaN     39.48              25.0      1665.0          374.0   \n",
       "20636    -121.21     39.49              18.0         NaN          150.0   \n",
       "20638    -121.32     39.43               NaN      1860.0          409.0   \n",
       "20639    -121.24       NaN              16.0      2785.0          616.0   \n",
       "\n",
       "       population  households  medianIncome  medianHouseValue  \n",
       "0           322.0       126.0        8.3252          452600.0  \n",
       "1          2401.0      1138.0        8.3014          358500.0  \n",
       "2           496.0       177.0        7.2574          352100.0  \n",
       "3           558.0         NaN        5.6431          341300.0  \n",
       "4           565.0       259.0        3.8462          342200.0  \n",
       "...           ...         ...           ...               ...  \n",
       "20633      1082.0         NaN        2.5495           98300.0  \n",
       "20635       845.0       330.0        1.5603           78100.0  \n",
       "20636       356.0       114.0        2.5568           77100.0  \n",
       "20638       741.0       349.0        1.8672           84700.0  \n",
       "20639      1387.0       530.0        2.3886           89400.0  \n",
       "\n",
       "[17092 rows x 9 columns]"
      ]
     },
     "execution_count": 49,
     "metadata": {},
     "output_type": "execute_result"
    }
   ],
   "source": [
    "cal_housing.dropna(subset=['medianHouseValue', 'medianIncome'])"
   ]
  },
  {
   "cell_type": "markdown",
   "id": "organic-bikini",
   "metadata": {
    "slideshow": {
     "slide_type": "slide"
    }
   },
   "source": [
    "* Αν δεν θέλουμε να πετάξουμε δεδομένα, μπορούμε να μεταλλάξουμε τα δεδομένα μας, δίνοντας μια προκαθορισμένη τιμή όπου υπάρχουν κενά, με τη μέθοδο `fillna()`."
   ]
  },
  {
   "cell_type": "code",
   "execution_count": 50,
   "id": "critical-classification",
   "metadata": {
    "slideshow": {
     "slide_type": "fragment"
    }
   },
   "outputs": [
    {
     "data": {
      "text/html": [
       "<div>\n",
       "<style scoped>\n",
       "    .dataframe tbody tr th:only-of-type {\n",
       "        vertical-align: middle;\n",
       "    }\n",
       "\n",
       "    .dataframe tbody tr th {\n",
       "        vertical-align: top;\n",
       "    }\n",
       "\n",
       "    .dataframe thead th {\n",
       "        text-align: right;\n",
       "    }\n",
       "</style>\n",
       "<table border=\"1\" class=\"dataframe\">\n",
       "  <thead>\n",
       "    <tr style=\"text-align: right;\">\n",
       "      <th></th>\n",
       "      <th>longitude</th>\n",
       "      <th>latitude</th>\n",
       "      <th>housingMedianAge</th>\n",
       "      <th>totalRooms</th>\n",
       "      <th>totalBedrooms</th>\n",
       "      <th>population</th>\n",
       "      <th>households</th>\n",
       "      <th>medianIncome</th>\n",
       "      <th>medianHouseValue</th>\n",
       "    </tr>\n",
       "  </thead>\n",
       "  <tbody>\n",
       "    <tr>\n",
       "      <th>0</th>\n",
       "      <td>-122.23</td>\n",
       "      <td>37.88</td>\n",
       "      <td>41.0</td>\n",
       "      <td>880.0</td>\n",
       "      <td>0.0</td>\n",
       "      <td>322.0</td>\n",
       "      <td>126.0</td>\n",
       "      <td>8.3252</td>\n",
       "      <td>452600.0</td>\n",
       "    </tr>\n",
       "    <tr>\n",
       "      <th>1</th>\n",
       "      <td>-122.22</td>\n",
       "      <td>37.86</td>\n",
       "      <td>21.0</td>\n",
       "      <td>0.0</td>\n",
       "      <td>1106.0</td>\n",
       "      <td>2401.0</td>\n",
       "      <td>1138.0</td>\n",
       "      <td>8.3014</td>\n",
       "      <td>358500.0</td>\n",
       "    </tr>\n",
       "    <tr>\n",
       "      <th>2</th>\n",
       "      <td>-122.24</td>\n",
       "      <td>0.00</td>\n",
       "      <td>52.0</td>\n",
       "      <td>1467.0</td>\n",
       "      <td>190.0</td>\n",
       "      <td>496.0</td>\n",
       "      <td>177.0</td>\n",
       "      <td>7.2574</td>\n",
       "      <td>352100.0</td>\n",
       "    </tr>\n",
       "    <tr>\n",
       "      <th>3</th>\n",
       "      <td>-122.25</td>\n",
       "      <td>37.85</td>\n",
       "      <td>52.0</td>\n",
       "      <td>1274.0</td>\n",
       "      <td>235.0</td>\n",
       "      <td>558.0</td>\n",
       "      <td>0.0</td>\n",
       "      <td>5.6431</td>\n",
       "      <td>341300.0</td>\n",
       "    </tr>\n",
       "    <tr>\n",
       "      <th>4</th>\n",
       "      <td>0.00</td>\n",
       "      <td>37.85</td>\n",
       "      <td>52.0</td>\n",
       "      <td>1627.0</td>\n",
       "      <td>280.0</td>\n",
       "      <td>565.0</td>\n",
       "      <td>259.0</td>\n",
       "      <td>3.8462</td>\n",
       "      <td>342200.0</td>\n",
       "    </tr>\n",
       "    <tr>\n",
       "      <th>...</th>\n",
       "      <td>...</td>\n",
       "      <td>...</td>\n",
       "      <td>...</td>\n",
       "      <td>...</td>\n",
       "      <td>...</td>\n",
       "      <td>...</td>\n",
       "      <td>...</td>\n",
       "      <td>...</td>\n",
       "      <td>...</td>\n",
       "    </tr>\n",
       "    <tr>\n",
       "      <th>20635</th>\n",
       "      <td>0.00</td>\n",
       "      <td>39.48</td>\n",
       "      <td>25.0</td>\n",
       "      <td>1665.0</td>\n",
       "      <td>374.0</td>\n",
       "      <td>845.0</td>\n",
       "      <td>330.0</td>\n",
       "      <td>1.5603</td>\n",
       "      <td>78100.0</td>\n",
       "    </tr>\n",
       "    <tr>\n",
       "      <th>20636</th>\n",
       "      <td>-121.21</td>\n",
       "      <td>39.49</td>\n",
       "      <td>18.0</td>\n",
       "      <td>0.0</td>\n",
       "      <td>150.0</td>\n",
       "      <td>356.0</td>\n",
       "      <td>114.0</td>\n",
       "      <td>2.5568</td>\n",
       "      <td>77100.0</td>\n",
       "    </tr>\n",
       "    <tr>\n",
       "      <th>20637</th>\n",
       "      <td>-121.22</td>\n",
       "      <td>39.43</td>\n",
       "      <td>17.0</td>\n",
       "      <td>2254.0</td>\n",
       "      <td>485.0</td>\n",
       "      <td>1007.0</td>\n",
       "      <td>433.0</td>\n",
       "      <td>0.0000</td>\n",
       "      <td>92300.0</td>\n",
       "    </tr>\n",
       "    <tr>\n",
       "      <th>20638</th>\n",
       "      <td>-121.32</td>\n",
       "      <td>39.43</td>\n",
       "      <td>0.0</td>\n",
       "      <td>1860.0</td>\n",
       "      <td>409.0</td>\n",
       "      <td>741.0</td>\n",
       "      <td>349.0</td>\n",
       "      <td>1.8672</td>\n",
       "      <td>84700.0</td>\n",
       "    </tr>\n",
       "    <tr>\n",
       "      <th>20639</th>\n",
       "      <td>-121.24</td>\n",
       "      <td>0.00</td>\n",
       "      <td>16.0</td>\n",
       "      <td>2785.0</td>\n",
       "      <td>616.0</td>\n",
       "      <td>1387.0</td>\n",
       "      <td>530.0</td>\n",
       "      <td>2.3886</td>\n",
       "      <td>89400.0</td>\n",
       "    </tr>\n",
       "  </tbody>\n",
       "</table>\n",
       "<p>20640 rows × 9 columns</p>\n",
       "</div>"
      ],
      "text/plain": [
       "       longitude  latitude  housingMedianAge  totalRooms  totalBedrooms  \\\n",
       "0        -122.23     37.88              41.0       880.0            0.0   \n",
       "1        -122.22     37.86              21.0         0.0         1106.0   \n",
       "2        -122.24      0.00              52.0      1467.0          190.0   \n",
       "3        -122.25     37.85              52.0      1274.0          235.0   \n",
       "4           0.00     37.85              52.0      1627.0          280.0   \n",
       "...          ...       ...               ...         ...            ...   \n",
       "20635       0.00     39.48              25.0      1665.0          374.0   \n",
       "20636    -121.21     39.49              18.0         0.0          150.0   \n",
       "20637    -121.22     39.43              17.0      2254.0          485.0   \n",
       "20638    -121.32     39.43               0.0      1860.0          409.0   \n",
       "20639    -121.24      0.00              16.0      2785.0          616.0   \n",
       "\n",
       "       population  households  medianIncome  medianHouseValue  \n",
       "0           322.0       126.0        8.3252          452600.0  \n",
       "1          2401.0      1138.0        8.3014          358500.0  \n",
       "2           496.0       177.0        7.2574          352100.0  \n",
       "3           558.0         0.0        5.6431          341300.0  \n",
       "4           565.0       259.0        3.8462          342200.0  \n",
       "...           ...         ...           ...               ...  \n",
       "20635       845.0       330.0        1.5603           78100.0  \n",
       "20636       356.0       114.0        2.5568           77100.0  \n",
       "20637      1007.0       433.0        0.0000           92300.0  \n",
       "20638       741.0       349.0        1.8672           84700.0  \n",
       "20639      1387.0       530.0        2.3886           89400.0  \n",
       "\n",
       "[20640 rows x 9 columns]"
      ]
     },
     "execution_count": 50,
     "metadata": {},
     "output_type": "execute_result"
    }
   ],
   "source": [
    "cal_housing.fillna(0)"
   ]
  },
  {
   "cell_type": "markdown",
   "id": "acquired-elements",
   "metadata": {
    "slideshow": {
     "slide_type": "slide"
    }
   },
   "source": [
    "* Αν πάλι δεν θέλουμε να εισάγουμε την προκαθορισμένη τιμή παντού, μπορούμε να επιλέξουμε το υποσύνολο των στηλών στο οποίο θα τη χρησιμοποιήσουμε."
   ]
  },
  {
   "cell_type": "code",
   "execution_count": 51,
   "id": "following-culture",
   "metadata": {
    "slideshow": {
     "slide_type": "fragment"
    }
   },
   "outputs": [
    {
     "data": {
      "text/html": [
       "<div>\n",
       "<style scoped>\n",
       "    .dataframe tbody tr th:only-of-type {\n",
       "        vertical-align: middle;\n",
       "    }\n",
       "\n",
       "    .dataframe tbody tr th {\n",
       "        vertical-align: top;\n",
       "    }\n",
       "\n",
       "    .dataframe thead th {\n",
       "        text-align: right;\n",
       "    }\n",
       "</style>\n",
       "<table border=\"1\" class=\"dataframe\">\n",
       "  <thead>\n",
       "    <tr style=\"text-align: right;\">\n",
       "      <th></th>\n",
       "      <th>medianIncome</th>\n",
       "      <th>medianHouseValue</th>\n",
       "    </tr>\n",
       "  </thead>\n",
       "  <tbody>\n",
       "    <tr>\n",
       "      <th>0</th>\n",
       "      <td>8.3252</td>\n",
       "      <td>452600.0</td>\n",
       "    </tr>\n",
       "    <tr>\n",
       "      <th>1</th>\n",
       "      <td>8.3014</td>\n",
       "      <td>358500.0</td>\n",
       "    </tr>\n",
       "    <tr>\n",
       "      <th>2</th>\n",
       "      <td>7.2574</td>\n",
       "      <td>352100.0</td>\n",
       "    </tr>\n",
       "    <tr>\n",
       "      <th>3</th>\n",
       "      <td>5.6431</td>\n",
       "      <td>341300.0</td>\n",
       "    </tr>\n",
       "    <tr>\n",
       "      <th>4</th>\n",
       "      <td>3.8462</td>\n",
       "      <td>342200.0</td>\n",
       "    </tr>\n",
       "    <tr>\n",
       "      <th>...</th>\n",
       "      <td>...</td>\n",
       "      <td>...</td>\n",
       "    </tr>\n",
       "    <tr>\n",
       "      <th>20635</th>\n",
       "      <td>1.5603</td>\n",
       "      <td>78100.0</td>\n",
       "    </tr>\n",
       "    <tr>\n",
       "      <th>20636</th>\n",
       "      <td>2.5568</td>\n",
       "      <td>77100.0</td>\n",
       "    </tr>\n",
       "    <tr>\n",
       "      <th>20637</th>\n",
       "      <td>0.0000</td>\n",
       "      <td>92300.0</td>\n",
       "    </tr>\n",
       "    <tr>\n",
       "      <th>20638</th>\n",
       "      <td>1.8672</td>\n",
       "      <td>84700.0</td>\n",
       "    </tr>\n",
       "    <tr>\n",
       "      <th>20639</th>\n",
       "      <td>2.3886</td>\n",
       "      <td>89400.0</td>\n",
       "    </tr>\n",
       "  </tbody>\n",
       "</table>\n",
       "<p>20640 rows × 2 columns</p>\n",
       "</div>"
      ],
      "text/plain": [
       "       medianIncome  medianHouseValue\n",
       "0            8.3252          452600.0\n",
       "1            8.3014          358500.0\n",
       "2            7.2574          352100.0\n",
       "3            5.6431          341300.0\n",
       "4            3.8462          342200.0\n",
       "...             ...               ...\n",
       "20635        1.5603           78100.0\n",
       "20636        2.5568           77100.0\n",
       "20637        0.0000           92300.0\n",
       "20638        1.8672           84700.0\n",
       "20639        2.3886           89400.0\n",
       "\n",
       "[20640 rows x 2 columns]"
      ]
     },
     "execution_count": 51,
     "metadata": {},
     "output_type": "execute_result"
    }
   ],
   "source": [
    "cal_housing[['medianIncome', 'medianHouseValue']].fillna(0)"
   ]
  },
  {
   "cell_type": "markdown",
   "id": "infinite-dominant",
   "metadata": {
    "slideshow": {
     "slide_type": "slide"
    }
   },
   "source": [
    "* Μπορεί η συμπλήρωση των κενών να γίνει και κάπως πιο έξυπνα.\n",
    "\n",
    "* Για παράδειγμα, αντί για μια προκαθορισμένη τιμή να χρησιμοποιήσουμε το μέσο όρο, ή γενικότερα τιμές που θα προκύψουν από υπολογισμούς."
   ]
  },
  {
   "cell_type": "code",
   "execution_count": 52,
   "id": "abstract-american",
   "metadata": {
    "slideshow": {
     "slide_type": "fragment"
    }
   },
   "outputs": [
    {
     "data": {
      "text/html": [
       "<div>\n",
       "<style scoped>\n",
       "    .dataframe tbody tr th:only-of-type {\n",
       "        vertical-align: middle;\n",
       "    }\n",
       "\n",
       "    .dataframe tbody tr th {\n",
       "        vertical-align: top;\n",
       "    }\n",
       "\n",
       "    .dataframe thead th {\n",
       "        text-align: right;\n",
       "    }\n",
       "</style>\n",
       "<table border=\"1\" class=\"dataframe\">\n",
       "  <thead>\n",
       "    <tr style=\"text-align: right;\">\n",
       "      <th></th>\n",
       "      <th>longitude</th>\n",
       "      <th>latitude</th>\n",
       "      <th>housingMedianAge</th>\n",
       "      <th>totalRooms</th>\n",
       "      <th>totalBedrooms</th>\n",
       "      <th>population</th>\n",
       "      <th>households</th>\n",
       "      <th>medianIncome</th>\n",
       "      <th>medianHouseValue</th>\n",
       "    </tr>\n",
       "  </thead>\n",
       "  <tbody>\n",
       "    <tr>\n",
       "      <th>0</th>\n",
       "      <td>-122.230000</td>\n",
       "      <td>37.880000</td>\n",
       "      <td>41.000000</td>\n",
       "      <td>880.000000</td>\n",
       "      <td>539.232767</td>\n",
       "      <td>322.0</td>\n",
       "      <td>126.000</td>\n",
       "      <td>8.325200</td>\n",
       "      <td>452600.0</td>\n",
       "    </tr>\n",
       "    <tr>\n",
       "      <th>1</th>\n",
       "      <td>-122.220000</td>\n",
       "      <td>37.860000</td>\n",
       "      <td>21.000000</td>\n",
       "      <td>2641.457729</td>\n",
       "      <td>1106.000000</td>\n",
       "      <td>2401.0</td>\n",
       "      <td>1138.000</td>\n",
       "      <td>8.301400</td>\n",
       "      <td>358500.0</td>\n",
       "    </tr>\n",
       "    <tr>\n",
       "      <th>2</th>\n",
       "      <td>-122.240000</td>\n",
       "      <td>35.625127</td>\n",
       "      <td>52.000000</td>\n",
       "      <td>1467.000000</td>\n",
       "      <td>190.000000</td>\n",
       "      <td>496.0</td>\n",
       "      <td>177.000</td>\n",
       "      <td>7.257400</td>\n",
       "      <td>352100.0</td>\n",
       "    </tr>\n",
       "    <tr>\n",
       "      <th>3</th>\n",
       "      <td>-122.250000</td>\n",
       "      <td>37.850000</td>\n",
       "      <td>52.000000</td>\n",
       "      <td>1274.000000</td>\n",
       "      <td>235.000000</td>\n",
       "      <td>558.0</td>\n",
       "      <td>499.158</td>\n",
       "      <td>5.643100</td>\n",
       "      <td>341300.0</td>\n",
       "    </tr>\n",
       "    <tr>\n",
       "      <th>4</th>\n",
       "      <td>-119.574345</td>\n",
       "      <td>37.850000</td>\n",
       "      <td>52.000000</td>\n",
       "      <td>1627.000000</td>\n",
       "      <td>280.000000</td>\n",
       "      <td>565.0</td>\n",
       "      <td>259.000</td>\n",
       "      <td>3.846200</td>\n",
       "      <td>342200.0</td>\n",
       "    </tr>\n",
       "    <tr>\n",
       "      <th>...</th>\n",
       "      <td>...</td>\n",
       "      <td>...</td>\n",
       "      <td>...</td>\n",
       "      <td>...</td>\n",
       "      <td>...</td>\n",
       "      <td>...</td>\n",
       "      <td>...</td>\n",
       "      <td>...</td>\n",
       "      <td>...</td>\n",
       "    </tr>\n",
       "    <tr>\n",
       "      <th>20635</th>\n",
       "      <td>-119.574345</td>\n",
       "      <td>39.480000</td>\n",
       "      <td>25.000000</td>\n",
       "      <td>1665.000000</td>\n",
       "      <td>374.000000</td>\n",
       "      <td>845.0</td>\n",
       "      <td>330.000</td>\n",
       "      <td>1.560300</td>\n",
       "      <td>78100.0</td>\n",
       "    </tr>\n",
       "    <tr>\n",
       "      <th>20636</th>\n",
       "      <td>-121.210000</td>\n",
       "      <td>39.490000</td>\n",
       "      <td>18.000000</td>\n",
       "      <td>2641.457729</td>\n",
       "      <td>150.000000</td>\n",
       "      <td>356.0</td>\n",
       "      <td>114.000</td>\n",
       "      <td>2.556800</td>\n",
       "      <td>77100.0</td>\n",
       "    </tr>\n",
       "    <tr>\n",
       "      <th>20637</th>\n",
       "      <td>-121.220000</td>\n",
       "      <td>39.430000</td>\n",
       "      <td>17.000000</td>\n",
       "      <td>2254.000000</td>\n",
       "      <td>485.000000</td>\n",
       "      <td>1007.0</td>\n",
       "      <td>433.000</td>\n",
       "      <td>3.870723</td>\n",
       "      <td>92300.0</td>\n",
       "    </tr>\n",
       "    <tr>\n",
       "      <th>20638</th>\n",
       "      <td>-121.320000</td>\n",
       "      <td>39.430000</td>\n",
       "      <td>28.662049</td>\n",
       "      <td>1860.000000</td>\n",
       "      <td>409.000000</td>\n",
       "      <td>741.0</td>\n",
       "      <td>349.000</td>\n",
       "      <td>1.867200</td>\n",
       "      <td>84700.0</td>\n",
       "    </tr>\n",
       "    <tr>\n",
       "      <th>20639</th>\n",
       "      <td>-121.240000</td>\n",
       "      <td>35.625127</td>\n",
       "      <td>16.000000</td>\n",
       "      <td>2785.000000</td>\n",
       "      <td>616.000000</td>\n",
       "      <td>1387.0</td>\n",
       "      <td>530.000</td>\n",
       "      <td>2.388600</td>\n",
       "      <td>89400.0</td>\n",
       "    </tr>\n",
       "  </tbody>\n",
       "</table>\n",
       "<p>20640 rows × 9 columns</p>\n",
       "</div>"
      ],
      "text/plain": [
       "        longitude   latitude  housingMedianAge   totalRooms  totalBedrooms  \\\n",
       "0     -122.230000  37.880000         41.000000   880.000000     539.232767   \n",
       "1     -122.220000  37.860000         21.000000  2641.457729    1106.000000   \n",
       "2     -122.240000  35.625127         52.000000  1467.000000     190.000000   \n",
       "3     -122.250000  37.850000         52.000000  1274.000000     235.000000   \n",
       "4     -119.574345  37.850000         52.000000  1627.000000     280.000000   \n",
       "...           ...        ...               ...          ...            ...   \n",
       "20635 -119.574345  39.480000         25.000000  1665.000000     374.000000   \n",
       "20636 -121.210000  39.490000         18.000000  2641.457729     150.000000   \n",
       "20637 -121.220000  39.430000         17.000000  2254.000000     485.000000   \n",
       "20638 -121.320000  39.430000         28.662049  1860.000000     409.000000   \n",
       "20639 -121.240000  35.625127         16.000000  2785.000000     616.000000   \n",
       "\n",
       "       population  households  medianIncome  medianHouseValue  \n",
       "0           322.0     126.000      8.325200          452600.0  \n",
       "1          2401.0    1138.000      8.301400          358500.0  \n",
       "2           496.0     177.000      7.257400          352100.0  \n",
       "3           558.0     499.158      5.643100          341300.0  \n",
       "4           565.0     259.000      3.846200          342200.0  \n",
       "...           ...         ...           ...               ...  \n",
       "20635       845.0     330.000      1.560300           78100.0  \n",
       "20636       356.0     114.000      2.556800           77100.0  \n",
       "20637      1007.0     433.000      3.870723           92300.0  \n",
       "20638       741.0     349.000      1.867200           84700.0  \n",
       "20639      1387.0     530.000      2.388600           89400.0  \n",
       "\n",
       "[20640 rows x 9 columns]"
      ]
     },
     "execution_count": 52,
     "metadata": {},
     "output_type": "execute_result"
    }
   ],
   "source": [
    "cal_housing.fillna(cal_housing.mean())"
   ]
  },
  {
   "cell_type": "markdown",
   "id": "changed-reference",
   "metadata": {
    "slideshow": {
     "slide_type": "slide"
    }
   },
   "source": [
    "* Αν δεν θέλουμε να το εφαρμόσουμε σε όλο το `DataFrame`, μπορούμε πάλι να επιλέξουμε υποσύνολο στηλών."
   ]
  },
  {
   "cell_type": "code",
   "execution_count": 53,
   "id": "minimal-spell",
   "metadata": {
    "slideshow": {
     "slide_type": "fragment"
    }
   },
   "outputs": [
    {
     "data": {
      "text/html": [
       "<div>\n",
       "<style scoped>\n",
       "    .dataframe tbody tr th:only-of-type {\n",
       "        vertical-align: middle;\n",
       "    }\n",
       "\n",
       "    .dataframe tbody tr th {\n",
       "        vertical-align: top;\n",
       "    }\n",
       "\n",
       "    .dataframe thead th {\n",
       "        text-align: right;\n",
       "    }\n",
       "</style>\n",
       "<table border=\"1\" class=\"dataframe\">\n",
       "  <thead>\n",
       "    <tr style=\"text-align: right;\">\n",
       "      <th></th>\n",
       "      <th>longitude</th>\n",
       "      <th>latitude</th>\n",
       "      <th>housingMedianAge</th>\n",
       "      <th>totalRooms</th>\n",
       "      <th>totalBedrooms</th>\n",
       "      <th>population</th>\n",
       "      <th>households</th>\n",
       "      <th>medianIncome</th>\n",
       "      <th>medianHouseValue</th>\n",
       "    </tr>\n",
       "  </thead>\n",
       "  <tbody>\n",
       "    <tr>\n",
       "      <th>0</th>\n",
       "      <td>-122.23</td>\n",
       "      <td>37.88</td>\n",
       "      <td>41.0</td>\n",
       "      <td>880.0</td>\n",
       "      <td>NaN</td>\n",
       "      <td>322.0</td>\n",
       "      <td>126.0</td>\n",
       "      <td>8.325200</td>\n",
       "      <td>452600.0</td>\n",
       "    </tr>\n",
       "    <tr>\n",
       "      <th>1</th>\n",
       "      <td>-122.22</td>\n",
       "      <td>37.86</td>\n",
       "      <td>21.0</td>\n",
       "      <td>NaN</td>\n",
       "      <td>1106.0</td>\n",
       "      <td>2401.0</td>\n",
       "      <td>1138.0</td>\n",
       "      <td>8.301400</td>\n",
       "      <td>358500.0</td>\n",
       "    </tr>\n",
       "    <tr>\n",
       "      <th>2</th>\n",
       "      <td>-122.24</td>\n",
       "      <td>NaN</td>\n",
       "      <td>52.0</td>\n",
       "      <td>1467.0</td>\n",
       "      <td>190.0</td>\n",
       "      <td>496.0</td>\n",
       "      <td>177.0</td>\n",
       "      <td>7.257400</td>\n",
       "      <td>352100.0</td>\n",
       "    </tr>\n",
       "    <tr>\n",
       "      <th>3</th>\n",
       "      <td>-122.25</td>\n",
       "      <td>37.85</td>\n",
       "      <td>52.0</td>\n",
       "      <td>1274.0</td>\n",
       "      <td>235.0</td>\n",
       "      <td>558.0</td>\n",
       "      <td>NaN</td>\n",
       "      <td>5.643100</td>\n",
       "      <td>341300.0</td>\n",
       "    </tr>\n",
       "    <tr>\n",
       "      <th>4</th>\n",
       "      <td>NaN</td>\n",
       "      <td>37.85</td>\n",
       "      <td>52.0</td>\n",
       "      <td>1627.0</td>\n",
       "      <td>280.0</td>\n",
       "      <td>565.0</td>\n",
       "      <td>259.0</td>\n",
       "      <td>3.846200</td>\n",
       "      <td>342200.0</td>\n",
       "    </tr>\n",
       "    <tr>\n",
       "      <th>...</th>\n",
       "      <td>...</td>\n",
       "      <td>...</td>\n",
       "      <td>...</td>\n",
       "      <td>...</td>\n",
       "      <td>...</td>\n",
       "      <td>...</td>\n",
       "      <td>...</td>\n",
       "      <td>...</td>\n",
       "      <td>...</td>\n",
       "    </tr>\n",
       "    <tr>\n",
       "      <th>20635</th>\n",
       "      <td>NaN</td>\n",
       "      <td>39.48</td>\n",
       "      <td>25.0</td>\n",
       "      <td>1665.0</td>\n",
       "      <td>374.0</td>\n",
       "      <td>845.0</td>\n",
       "      <td>330.0</td>\n",
       "      <td>1.560300</td>\n",
       "      <td>78100.0</td>\n",
       "    </tr>\n",
       "    <tr>\n",
       "      <th>20636</th>\n",
       "      <td>-121.21</td>\n",
       "      <td>39.49</td>\n",
       "      <td>18.0</td>\n",
       "      <td>NaN</td>\n",
       "      <td>150.0</td>\n",
       "      <td>356.0</td>\n",
       "      <td>114.0</td>\n",
       "      <td>2.556800</td>\n",
       "      <td>77100.0</td>\n",
       "    </tr>\n",
       "    <tr>\n",
       "      <th>20637</th>\n",
       "      <td>-121.22</td>\n",
       "      <td>39.43</td>\n",
       "      <td>17.0</td>\n",
       "      <td>2254.0</td>\n",
       "      <td>485.0</td>\n",
       "      <td>1007.0</td>\n",
       "      <td>433.0</td>\n",
       "      <td>3.870723</td>\n",
       "      <td>92300.0</td>\n",
       "    </tr>\n",
       "    <tr>\n",
       "      <th>20638</th>\n",
       "      <td>-121.32</td>\n",
       "      <td>39.43</td>\n",
       "      <td>NaN</td>\n",
       "      <td>1860.0</td>\n",
       "      <td>409.0</td>\n",
       "      <td>741.0</td>\n",
       "      <td>349.0</td>\n",
       "      <td>1.867200</td>\n",
       "      <td>84700.0</td>\n",
       "    </tr>\n",
       "    <tr>\n",
       "      <th>20639</th>\n",
       "      <td>-121.24</td>\n",
       "      <td>NaN</td>\n",
       "      <td>16.0</td>\n",
       "      <td>2785.0</td>\n",
       "      <td>616.0</td>\n",
       "      <td>1387.0</td>\n",
       "      <td>530.0</td>\n",
       "      <td>2.388600</td>\n",
       "      <td>89400.0</td>\n",
       "    </tr>\n",
       "  </tbody>\n",
       "</table>\n",
       "<p>20640 rows × 9 columns</p>\n",
       "</div>"
      ],
      "text/plain": [
       "       longitude  latitude  housingMedianAge  totalRooms  totalBedrooms  \\\n",
       "0        -122.23     37.88              41.0       880.0            NaN   \n",
       "1        -122.22     37.86              21.0         NaN         1106.0   \n",
       "2        -122.24       NaN              52.0      1467.0          190.0   \n",
       "3        -122.25     37.85              52.0      1274.0          235.0   \n",
       "4            NaN     37.85              52.0      1627.0          280.0   \n",
       "...          ...       ...               ...         ...            ...   \n",
       "20635        NaN     39.48              25.0      1665.0          374.0   \n",
       "20636    -121.21     39.49              18.0         NaN          150.0   \n",
       "20637    -121.22     39.43              17.0      2254.0          485.0   \n",
       "20638    -121.32     39.43               NaN      1860.0          409.0   \n",
       "20639    -121.24       NaN              16.0      2785.0          616.0   \n",
       "\n",
       "       population  households  medianIncome  medianHouseValue  \n",
       "0           322.0       126.0      8.325200          452600.0  \n",
       "1          2401.0      1138.0      8.301400          358500.0  \n",
       "2           496.0       177.0      7.257400          352100.0  \n",
       "3           558.0         NaN      5.643100          341300.0  \n",
       "4           565.0       259.0      3.846200          342200.0  \n",
       "...           ...         ...           ...               ...  \n",
       "20635       845.0       330.0      1.560300           78100.0  \n",
       "20636       356.0       114.0      2.556800           77100.0  \n",
       "20637      1007.0       433.0      3.870723           92300.0  \n",
       "20638       741.0       349.0      1.867200           84700.0  \n",
       "20639      1387.0       530.0      2.388600           89400.0  \n",
       "\n",
       "[20640 rows x 9 columns]"
      ]
     },
     "execution_count": 53,
     "metadata": {},
     "output_type": "execute_result"
    }
   ],
   "source": [
    "cal_housing.fillna(cal_housing.mean()[\"medianIncome\":\"medianHouseValue\"])"
   ]
  },
  {
   "cell_type": "markdown",
   "id": "proprietary-indicator",
   "metadata": {
    "slideshow": {
     "slide_type": "slide"
    }
   },
   "source": [
    "* Με τη μέθοδο `fillna()` μπορούμε να χρησιμοποιήσουμε και άλλες στρατηγικές για το χειρισμό των κενών.\n",
    "\n",
    "* Είναι πιο βολικό να τις δούμε με ένα άλλο, μικρότερο και τεχνητό `DataFrame`."
   ]
  },
  {
   "cell_type": "code",
   "execution_count": 54,
   "id": "institutional-regard",
   "metadata": {
    "slideshow": {
     "slide_type": "fragment"
    }
   },
   "outputs": [
    {
     "data": {
      "text/html": [
       "<div>\n",
       "<style scoped>\n",
       "    .dataframe tbody tr th:only-of-type {\n",
       "        vertical-align: middle;\n",
       "    }\n",
       "\n",
       "    .dataframe tbody tr th {\n",
       "        vertical-align: top;\n",
       "    }\n",
       "\n",
       "    .dataframe thead th {\n",
       "        text-align: right;\n",
       "    }\n",
       "</style>\n",
       "<table border=\"1\" class=\"dataframe\">\n",
       "  <thead>\n",
       "    <tr style=\"text-align: right;\">\n",
       "      <th></th>\n",
       "      <th>a</th>\n",
       "      <th>b</th>\n",
       "      <th>c</th>\n",
       "    </tr>\n",
       "  </thead>\n",
       "  <tbody>\n",
       "    <tr>\n",
       "      <th>0</th>\n",
       "      <td>-0.055035</td>\n",
       "      <td>-0.107310</td>\n",
       "      <td>1.365467</td>\n",
       "    </tr>\n",
       "    <tr>\n",
       "      <th>1</th>\n",
       "      <td>-0.097696</td>\n",
       "      <td>-2.425955</td>\n",
       "      <td>-0.453056</td>\n",
       "    </tr>\n",
       "    <tr>\n",
       "      <th>2</th>\n",
       "      <td>-0.470771</td>\n",
       "      <td>0.973016</td>\n",
       "      <td>-1.278149</td>\n",
       "    </tr>\n",
       "    <tr>\n",
       "      <th>3</th>\n",
       "      <td>1.437371</td>\n",
       "      <td>-0.077705</td>\n",
       "      <td>1.089630</td>\n",
       "    </tr>\n",
       "    <tr>\n",
       "      <th>4</th>\n",
       "      <td>0.096543</td>\n",
       "      <td>1.418667</td>\n",
       "      <td>1.168273</td>\n",
       "    </tr>\n",
       "  </tbody>\n",
       "</table>\n",
       "</div>"
      ],
      "text/plain": [
       "          a         b         c\n",
       "0 -0.055035 -0.107310  1.365467\n",
       "1 -0.097696 -2.425955 -0.453056\n",
       "2 -0.470771  0.973016 -1.278149\n",
       "3  1.437371 -0.077705  1.089630\n",
       "4  0.096543  1.418667  1.168273"
      ]
     },
     "execution_count": 54,
     "metadata": {},
     "output_type": "execute_result"
    }
   ],
   "source": [
    "df = pd.DataFrame(\n",
    "    np.random.randn(5, 3),\n",
    "    columns=[\"a\", \"b\", \"c\"],\n",
    ")\n",
    "df"
   ]
  },
  {
   "cell_type": "markdown",
   "id": "concerned-representative",
   "metadata": {
    "slideshow": {
     "slide_type": "slide"
    }
   },
   "source": [
    "* Θα εισάγουμε κενά φτιάχνοντας μια μάσκα με τιμές `NaN`."
   ]
  },
  {
   "cell_type": "code",
   "execution_count": 55,
   "id": "pacific-canal",
   "metadata": {
    "slideshow": {
     "slide_type": "fragment"
    }
   },
   "outputs": [
    {
     "data": {
      "text/plain": [
       "array([[nan,  0.,  0.],\n",
       "       [nan,  0.,  0.],\n",
       "       [ 0.,  0.,  0.],\n",
       "       [ 0.,  0., nan],\n",
       "       [nan,  0., nan]])"
      ]
     },
     "execution_count": 55,
     "metadata": {},
     "output_type": "execute_result"
    }
   ],
   "source": [
    "np.random.seed(0)\n",
    "nan_mask = np.where(np.random.randint(low=0, high=1+1, size=(5,3)) == 1, 0, np.nan)\n",
    "nan_mask"
   ]
  },
  {
   "cell_type": "markdown",
   "id": "apart-belize",
   "metadata": {
    "slideshow": {
     "slide_type": "slide"
    }
   },
   "source": [
    "* Προσθέτουμε τη μάσκα στο `DataFrame` μας.\n",
    "\n",
    "* Με την ευκαιρία βλέπουμε και ένα βασικό χαρακτηριστικό της ανυπαρξίας: η ανυπαρξία διαδίδεται.\n",
    "\n",
    "* Οι πράξεις με ανύπαρκτα δεδομένα δίνουν ανύπαρκτα αποτελέσματα (εκτός αν η τεκμηρίωση λέει κάτι άλλο)."
   ]
  },
  {
   "cell_type": "code",
   "execution_count": 56,
   "id": "damaged-equation",
   "metadata": {
    "slideshow": {
     "slide_type": "fragment"
    }
   },
   "outputs": [
    {
     "data": {
      "text/html": [
       "<div>\n",
       "<style scoped>\n",
       "    .dataframe tbody tr th:only-of-type {\n",
       "        vertical-align: middle;\n",
       "    }\n",
       "\n",
       "    .dataframe tbody tr th {\n",
       "        vertical-align: top;\n",
       "    }\n",
       "\n",
       "    .dataframe thead th {\n",
       "        text-align: right;\n",
       "    }\n",
       "</style>\n",
       "<table border=\"1\" class=\"dataframe\">\n",
       "  <thead>\n",
       "    <tr style=\"text-align: right;\">\n",
       "      <th></th>\n",
       "      <th>a</th>\n",
       "      <th>b</th>\n",
       "      <th>c</th>\n",
       "    </tr>\n",
       "  </thead>\n",
       "  <tbody>\n",
       "    <tr>\n",
       "      <th>0</th>\n",
       "      <td>-0.055035</td>\n",
       "      <td>-0.107310</td>\n",
       "      <td>1.365467</td>\n",
       "    </tr>\n",
       "    <tr>\n",
       "      <th>1</th>\n",
       "      <td>-0.097696</td>\n",
       "      <td>-2.425955</td>\n",
       "      <td>-0.453056</td>\n",
       "    </tr>\n",
       "    <tr>\n",
       "      <th>2</th>\n",
       "      <td>-0.470771</td>\n",
       "      <td>0.973016</td>\n",
       "      <td>-1.278149</td>\n",
       "    </tr>\n",
       "    <tr>\n",
       "      <th>3</th>\n",
       "      <td>1.437371</td>\n",
       "      <td>-0.077705</td>\n",
       "      <td>1.089630</td>\n",
       "    </tr>\n",
       "    <tr>\n",
       "      <th>4</th>\n",
       "      <td>0.096543</td>\n",
       "      <td>1.418667</td>\n",
       "      <td>1.168273</td>\n",
       "    </tr>\n",
       "  </tbody>\n",
       "</table>\n",
       "</div>"
      ],
      "text/plain": [
       "          a         b         c\n",
       "0 -0.055035 -0.107310  1.365467\n",
       "1 -0.097696 -2.425955 -0.453056\n",
       "2 -0.470771  0.973016 -1.278149\n",
       "3  1.437371 -0.077705  1.089630\n",
       "4  0.096543  1.418667  1.168273"
      ]
     },
     "execution_count": 56,
     "metadata": {},
     "output_type": "execute_result"
    }
   ],
   "source": [
    "df"
   ]
  },
  {
   "cell_type": "code",
   "execution_count": 57,
   "id": "alpha-engineer",
   "metadata": {
    "slideshow": {
     "slide_type": "fragment"
    }
   },
   "outputs": [
    {
     "data": {
      "text/html": [
       "<div>\n",
       "<style scoped>\n",
       "    .dataframe tbody tr th:only-of-type {\n",
       "        vertical-align: middle;\n",
       "    }\n",
       "\n",
       "    .dataframe tbody tr th {\n",
       "        vertical-align: top;\n",
       "    }\n",
       "\n",
       "    .dataframe thead th {\n",
       "        text-align: right;\n",
       "    }\n",
       "</style>\n",
       "<table border=\"1\" class=\"dataframe\">\n",
       "  <thead>\n",
       "    <tr style=\"text-align: right;\">\n",
       "      <th></th>\n",
       "      <th>a</th>\n",
       "      <th>b</th>\n",
       "      <th>c</th>\n",
       "    </tr>\n",
       "  </thead>\n",
       "  <tbody>\n",
       "    <tr>\n",
       "      <th>0</th>\n",
       "      <td>NaN</td>\n",
       "      <td>-0.107310</td>\n",
       "      <td>1.365467</td>\n",
       "    </tr>\n",
       "    <tr>\n",
       "      <th>1</th>\n",
       "      <td>NaN</td>\n",
       "      <td>-2.425955</td>\n",
       "      <td>-0.453056</td>\n",
       "    </tr>\n",
       "    <tr>\n",
       "      <th>2</th>\n",
       "      <td>-0.470771</td>\n",
       "      <td>0.973016</td>\n",
       "      <td>-1.278149</td>\n",
       "    </tr>\n",
       "    <tr>\n",
       "      <th>3</th>\n",
       "      <td>1.437371</td>\n",
       "      <td>-0.077705</td>\n",
       "      <td>NaN</td>\n",
       "    </tr>\n",
       "    <tr>\n",
       "      <th>4</th>\n",
       "      <td>NaN</td>\n",
       "      <td>1.418667</td>\n",
       "      <td>NaN</td>\n",
       "    </tr>\n",
       "  </tbody>\n",
       "</table>\n",
       "</div>"
      ],
      "text/plain": [
       "          a         b         c\n",
       "0       NaN -0.107310  1.365467\n",
       "1       NaN -2.425955 -0.453056\n",
       "2 -0.470771  0.973016 -1.278149\n",
       "3  1.437371 -0.077705       NaN\n",
       "4       NaN  1.418667       NaN"
      ]
     },
     "execution_count": 57,
     "metadata": {},
     "output_type": "execute_result"
    }
   ],
   "source": [
    "df = df + nan_mask\n",
    "df"
   ]
  },
  {
   "cell_type": "markdown",
   "id": "bored-lotus",
   "metadata": {
    "slideshow": {
     "slide_type": "slide"
    }
   },
   "source": [
    "* Ας επιβεβαιώσουμε πάλι αυτό που είπαμε πριν, ότι η ανυπαρξία είναι μεταδοτική."
   ]
  },
  {
   "cell_type": "code",
   "execution_count": 58,
   "id": "constant-victor",
   "metadata": {
    "slideshow": {
     "slide_type": "fragment"
    }
   },
   "outputs": [
    {
     "data": {
      "text/html": [
       "<div>\n",
       "<style scoped>\n",
       "    .dataframe tbody tr th:only-of-type {\n",
       "        vertical-align: middle;\n",
       "    }\n",
       "\n",
       "    .dataframe tbody tr th {\n",
       "        vertical-align: top;\n",
       "    }\n",
       "\n",
       "    .dataframe thead th {\n",
       "        text-align: right;\n",
       "    }\n",
       "</style>\n",
       "<table border=\"1\" class=\"dataframe\">\n",
       "  <thead>\n",
       "    <tr style=\"text-align: right;\">\n",
       "      <th></th>\n",
       "      <th>a</th>\n",
       "      <th>b</th>\n",
       "      <th>c</th>\n",
       "    </tr>\n",
       "  </thead>\n",
       "  <tbody>\n",
       "    <tr>\n",
       "      <th>0</th>\n",
       "      <td>NaN</td>\n",
       "      <td>-0.107310</td>\n",
       "      <td>1.365467</td>\n",
       "    </tr>\n",
       "    <tr>\n",
       "      <th>1</th>\n",
       "      <td>NaN</td>\n",
       "      <td>-2.425955</td>\n",
       "      <td>-0.453056</td>\n",
       "    </tr>\n",
       "    <tr>\n",
       "      <th>2</th>\n",
       "      <td>-0.470771</td>\n",
       "      <td>0.973016</td>\n",
       "      <td>-1.278149</td>\n",
       "    </tr>\n",
       "    <tr>\n",
       "      <th>3</th>\n",
       "      <td>1.437371</td>\n",
       "      <td>-0.077705</td>\n",
       "      <td>NaN</td>\n",
       "    </tr>\n",
       "    <tr>\n",
       "      <th>4</th>\n",
       "      <td>NaN</td>\n",
       "      <td>1.418667</td>\n",
       "      <td>NaN</td>\n",
       "    </tr>\n",
       "  </tbody>\n",
       "</table>\n",
       "</div>"
      ],
      "text/plain": [
       "          a         b         c\n",
       "0       NaN -0.107310  1.365467\n",
       "1       NaN -2.425955 -0.453056\n",
       "2 -0.470771  0.973016 -1.278149\n",
       "3  1.437371 -0.077705       NaN\n",
       "4       NaN  1.418667       NaN"
      ]
     },
     "execution_count": 58,
     "metadata": {},
     "output_type": "execute_result"
    }
   ],
   "source": [
    "df"
   ]
  },
  {
   "cell_type": "code",
   "execution_count": 59,
   "id": "rolled-holocaust",
   "metadata": {
    "slideshow": {
     "slide_type": "fragment"
    }
   },
   "outputs": [
    {
     "data": {
      "text/plain": [
       "0         NaN\n",
       "1         NaN\n",
       "2    0.502245\n",
       "3    1.359666\n",
       "4         NaN\n",
       "dtype: float64"
      ]
     },
     "execution_count": 59,
     "metadata": {},
     "output_type": "execute_result"
    }
   ],
   "source": [
    "df.a + df.b"
   ]
  },
  {
   "cell_type": "markdown",
   "id": "foster-contractor",
   "metadata": {
    "slideshow": {
     "slide_type": "slide"
    }
   },
   "source": [
    "* Δίνοντας `ffill()` το κενό συμπληρώνεται με την τιμή στην προηγούμενη γραμμή."
   ]
  },
  {
   "cell_type": "code",
   "execution_count": 60,
   "id": "extreme-donor",
   "metadata": {},
   "outputs": [
    {
     "data": {
      "text/html": [
       "<div>\n",
       "<style scoped>\n",
       "    .dataframe tbody tr th:only-of-type {\n",
       "        vertical-align: middle;\n",
       "    }\n",
       "\n",
       "    .dataframe tbody tr th {\n",
       "        vertical-align: top;\n",
       "    }\n",
       "\n",
       "    .dataframe thead th {\n",
       "        text-align: right;\n",
       "    }\n",
       "</style>\n",
       "<table border=\"1\" class=\"dataframe\">\n",
       "  <thead>\n",
       "    <tr style=\"text-align: right;\">\n",
       "      <th></th>\n",
       "      <th>a</th>\n",
       "      <th>b</th>\n",
       "      <th>c</th>\n",
       "    </tr>\n",
       "  </thead>\n",
       "  <tbody>\n",
       "    <tr>\n",
       "      <th>0</th>\n",
       "      <td>NaN</td>\n",
       "      <td>-0.107310</td>\n",
       "      <td>1.365467</td>\n",
       "    </tr>\n",
       "    <tr>\n",
       "      <th>1</th>\n",
       "      <td>NaN</td>\n",
       "      <td>-2.425955</td>\n",
       "      <td>-0.453056</td>\n",
       "    </tr>\n",
       "    <tr>\n",
       "      <th>2</th>\n",
       "      <td>-0.470771</td>\n",
       "      <td>0.973016</td>\n",
       "      <td>-1.278149</td>\n",
       "    </tr>\n",
       "    <tr>\n",
       "      <th>3</th>\n",
       "      <td>1.437371</td>\n",
       "      <td>-0.077705</td>\n",
       "      <td>NaN</td>\n",
       "    </tr>\n",
       "    <tr>\n",
       "      <th>4</th>\n",
       "      <td>NaN</td>\n",
       "      <td>1.418667</td>\n",
       "      <td>NaN</td>\n",
       "    </tr>\n",
       "  </tbody>\n",
       "</table>\n",
       "</div>"
      ],
      "text/plain": [
       "          a         b         c\n",
       "0       NaN -0.107310  1.365467\n",
       "1       NaN -2.425955 -0.453056\n",
       "2 -0.470771  0.973016 -1.278149\n",
       "3  1.437371 -0.077705       NaN\n",
       "4       NaN  1.418667       NaN"
      ]
     },
     "execution_count": 60,
     "metadata": {},
     "output_type": "execute_result"
    }
   ],
   "source": [
    "df"
   ]
  },
  {
   "cell_type": "code",
   "execution_count": 61,
   "id": "united-consensus",
   "metadata": {
    "slideshow": {
     "slide_type": "fragment"
    }
   },
   "outputs": [
    {
     "data": {
      "text/html": [
       "<div>\n",
       "<style scoped>\n",
       "    .dataframe tbody tr th:only-of-type {\n",
       "        vertical-align: middle;\n",
       "    }\n",
       "\n",
       "    .dataframe tbody tr th {\n",
       "        vertical-align: top;\n",
       "    }\n",
       "\n",
       "    .dataframe thead th {\n",
       "        text-align: right;\n",
       "    }\n",
       "</style>\n",
       "<table border=\"1\" class=\"dataframe\">\n",
       "  <thead>\n",
       "    <tr style=\"text-align: right;\">\n",
       "      <th></th>\n",
       "      <th>a</th>\n",
       "      <th>b</th>\n",
       "      <th>c</th>\n",
       "    </tr>\n",
       "  </thead>\n",
       "  <tbody>\n",
       "    <tr>\n",
       "      <th>0</th>\n",
       "      <td>NaN</td>\n",
       "      <td>-0.107310</td>\n",
       "      <td>1.365467</td>\n",
       "    </tr>\n",
       "    <tr>\n",
       "      <th>1</th>\n",
       "      <td>NaN</td>\n",
       "      <td>-2.425955</td>\n",
       "      <td>-0.453056</td>\n",
       "    </tr>\n",
       "    <tr>\n",
       "      <th>2</th>\n",
       "      <td>-0.470771</td>\n",
       "      <td>0.973016</td>\n",
       "      <td>-1.278149</td>\n",
       "    </tr>\n",
       "    <tr>\n",
       "      <th>3</th>\n",
       "      <td>1.437371</td>\n",
       "      <td>-0.077705</td>\n",
       "      <td>-1.278149</td>\n",
       "    </tr>\n",
       "    <tr>\n",
       "      <th>4</th>\n",
       "      <td>1.437371</td>\n",
       "      <td>1.418667</td>\n",
       "      <td>-1.278149</td>\n",
       "    </tr>\n",
       "  </tbody>\n",
       "</table>\n",
       "</div>"
      ],
      "text/plain": [
       "          a         b         c\n",
       "0       NaN -0.107310  1.365467\n",
       "1       NaN -2.425955 -0.453056\n",
       "2 -0.470771  0.973016 -1.278149\n",
       "3  1.437371 -0.077705 -1.278149\n",
       "4  1.437371  1.418667 -1.278149"
      ]
     },
     "execution_count": 61,
     "metadata": {},
     "output_type": "execute_result"
    }
   ],
   "source": [
    "df.ffill()"
   ]
  },
  {
   "cell_type": "markdown",
   "id": "final-mercury",
   "metadata": {
    "slideshow": {
     "slide_type": "slide"
    }
   },
   "source": [
    "* Αν θέλουμε να γεμίσουμε αντίστροφα, δηλαδή το κενό να συμπληρώνεται από την τιμή της επόμενης γραμμής, χρησιμοποιούμε `bfill()` (backfill)."
   ]
  },
  {
   "cell_type": "code",
   "execution_count": 62,
   "id": "artificial-publisher",
   "metadata": {
    "slideshow": {
     "slide_type": "fragment"
    }
   },
   "outputs": [
    {
     "data": {
      "text/html": [
       "<div>\n",
       "<style scoped>\n",
       "    .dataframe tbody tr th:only-of-type {\n",
       "        vertical-align: middle;\n",
       "    }\n",
       "\n",
       "    .dataframe tbody tr th {\n",
       "        vertical-align: top;\n",
       "    }\n",
       "\n",
       "    .dataframe thead th {\n",
       "        text-align: right;\n",
       "    }\n",
       "</style>\n",
       "<table border=\"1\" class=\"dataframe\">\n",
       "  <thead>\n",
       "    <tr style=\"text-align: right;\">\n",
       "      <th></th>\n",
       "      <th>a</th>\n",
       "      <th>b</th>\n",
       "      <th>c</th>\n",
       "    </tr>\n",
       "  </thead>\n",
       "  <tbody>\n",
       "    <tr>\n",
       "      <th>0</th>\n",
       "      <td>NaN</td>\n",
       "      <td>-0.107310</td>\n",
       "      <td>1.365467</td>\n",
       "    </tr>\n",
       "    <tr>\n",
       "      <th>1</th>\n",
       "      <td>NaN</td>\n",
       "      <td>-2.425955</td>\n",
       "      <td>-0.453056</td>\n",
       "    </tr>\n",
       "    <tr>\n",
       "      <th>2</th>\n",
       "      <td>-0.470771</td>\n",
       "      <td>0.973016</td>\n",
       "      <td>-1.278149</td>\n",
       "    </tr>\n",
       "    <tr>\n",
       "      <th>3</th>\n",
       "      <td>1.437371</td>\n",
       "      <td>-0.077705</td>\n",
       "      <td>NaN</td>\n",
       "    </tr>\n",
       "    <tr>\n",
       "      <th>4</th>\n",
       "      <td>NaN</td>\n",
       "      <td>1.418667</td>\n",
       "      <td>NaN</td>\n",
       "    </tr>\n",
       "  </tbody>\n",
       "</table>\n",
       "</div>"
      ],
      "text/plain": [
       "          a         b         c\n",
       "0       NaN -0.107310  1.365467\n",
       "1       NaN -2.425955 -0.453056\n",
       "2 -0.470771  0.973016 -1.278149\n",
       "3  1.437371 -0.077705       NaN\n",
       "4       NaN  1.418667       NaN"
      ]
     },
     "execution_count": 62,
     "metadata": {},
     "output_type": "execute_result"
    }
   ],
   "source": [
    "df"
   ]
  },
  {
   "cell_type": "code",
   "execution_count": 73,
   "id": "informational-curve",
   "metadata": {
    "slideshow": {
     "slide_type": "fragment"
    }
   },
   "outputs": [
    {
     "data": {
      "text/html": [
       "<div>\n",
       "<style scoped>\n",
       "    .dataframe tbody tr th:only-of-type {\n",
       "        vertical-align: middle;\n",
       "    }\n",
       "\n",
       "    .dataframe tbody tr th {\n",
       "        vertical-align: top;\n",
       "    }\n",
       "\n",
       "    .dataframe thead th {\n",
       "        text-align: right;\n",
       "    }\n",
       "</style>\n",
       "<table border=\"1\" class=\"dataframe\">\n",
       "  <thead>\n",
       "    <tr style=\"text-align: right;\">\n",
       "      <th></th>\n",
       "      <th>a</th>\n",
       "      <th>b</th>\n",
       "      <th>c</th>\n",
       "    </tr>\n",
       "  </thead>\n",
       "  <tbody>\n",
       "    <tr>\n",
       "      <th>0</th>\n",
       "      <td>-0.470771</td>\n",
       "      <td>-0.107310</td>\n",
       "      <td>1.365467</td>\n",
       "    </tr>\n",
       "    <tr>\n",
       "      <th>1</th>\n",
       "      <td>-0.470771</td>\n",
       "      <td>-2.425955</td>\n",
       "      <td>-0.453056</td>\n",
       "    </tr>\n",
       "    <tr>\n",
       "      <th>2</th>\n",
       "      <td>-0.470771</td>\n",
       "      <td>0.973016</td>\n",
       "      <td>-1.278149</td>\n",
       "    </tr>\n",
       "    <tr>\n",
       "      <th>3</th>\n",
       "      <td>1.437371</td>\n",
       "      <td>-0.077705</td>\n",
       "      <td>NaN</td>\n",
       "    </tr>\n",
       "    <tr>\n",
       "      <th>4</th>\n",
       "      <td>NaN</td>\n",
       "      <td>1.418667</td>\n",
       "      <td>NaN</td>\n",
       "    </tr>\n",
       "  </tbody>\n",
       "</table>\n",
       "</div>"
      ],
      "text/plain": [
       "          a         b         c\n",
       "0 -0.470771 -0.107310  1.365467\n",
       "1 -0.470771 -2.425955 -0.453056\n",
       "2 -0.470771  0.973016 -1.278149\n",
       "3  1.437371 -0.077705       NaN\n",
       "4       NaN  1.418667       NaN"
      ]
     },
     "execution_count": 73,
     "metadata": {},
     "output_type": "execute_result"
    }
   ],
   "source": [
    "df.bfill()"
   ]
  },
  {
   "cell_type": "markdown",
   "id": "historic-turkey",
   "metadata": {
    "slideshow": {
     "slide_type": "slide"
    }
   },
   "source": [
    "* Το ίδιο μπορούμε να κάνουμε δίνοντας `fillna(method='backfill')`."
   ]
  },
  {
   "cell_type": "markdown",
   "id": "historical-faith",
   "metadata": {
    "slideshow": {
     "slide_type": "slide"
    }
   },
   "source": [
    "* Ένας άλλος τρόπος να χειριστούμε τιμές που λείπουν είναι με *παρεμβολή* (interpolation).\n",
    "\n",
    "* Αυτό μπορεί να είναι ιδιαιτέρως χρήσιμο στις περιπτώσεις που οι τιμές έχουν μία συνέχεια, όπως στις *χρονοσειρές* (time series).\n",
    "\n",
    "* Το pandas υποστηρίζει διάφορες μεθόδους παρεμβολής. Εδώ εμείς θα δούμε την απλούστερη, τη *γραμμική παρεμβολή* (linear interpolation)."
   ]
  },
  {
   "cell_type": "markdown",
   "id": "radical-fruit",
   "metadata": {
    "slideshow": {
     "slide_type": "slide"
    }
   },
   "source": [
    "* Για να δούμε την παρεμβολή στην πράξη, θα δημιουργήσουμε κάποια συνθετικά δεδομένα που θα προσομοιάζουν ένα *τυχαίο περίπατο* (random walk)."
   ]
  },
  {
   "cell_type": "code",
   "execution_count": 74,
   "id": "promising-married",
   "metadata": {
    "slideshow": {
     "slide_type": "fragment"
    }
   },
   "outputs": [
    {
     "data": {
      "text/plain": [
       "2021-01-01    0\n",
       "2021-01-02    0\n",
       "2021-01-03    1\n",
       "2021-01-04    0\n",
       "2021-01-05    0\n",
       "             ..\n",
       "2021-12-27    1\n",
       "2021-12-28    1\n",
       "2021-12-29    2\n",
       "2021-12-30    1\n",
       "2021-12-31    1\n",
       "Freq: D, Length: 365, dtype: int64"
      ]
     },
     "execution_count": 74,
     "metadata": {},
     "output_type": "execute_result"
    }
   ],
   "source": [
    "steps = np.random.randint(-1, 1+1, size=365)\n",
    "data = steps.cumsum()\n",
    "\n",
    "ts = pd.Series(data=data,\n",
    "               index=pd.date_range(start='2021-01-01', end='2021-12-31', freq='D'))\n",
    "ts"
   ]
  },
  {
   "cell_type": "code",
   "execution_count": 75,
   "id": "fuzzy-peoples",
   "metadata": {
    "slideshow": {
     "slide_type": "slide"
    }
   },
   "outputs": [
    {
     "data": {
      "image/png": "[encoded data removed]",
      "text/plain": [
       "<Figure size 1200x1000 with 1 Axes>"
      ]
     },
     "metadata": {},
     "output_type": "display_data"
    }
   ],
   "source": [
    "_ = ts.plot(figsize=(12, 10))"
   ]
  },
  {
   "cell_type": "markdown",
   "id": "capital-appendix",
   "metadata": {
    "slideshow": {
     "slide_type": "slide"
    }
   },
   "source": [
    "* Θα σβήσουμε πάλι τυχαία κάποια από τα δεδομένα (περίπου τα μισά)."
   ]
  },
  {
   "cell_type": "code",
   "execution_count": 76,
   "id": "occupational-advocacy",
   "metadata": {
    "slideshow": {
     "slide_type": "fragment"
    }
   },
   "outputs": [
    {
     "name": "stdout",
     "output_type": "stream",
     "text": [
      "171\n"
     ]
    },
    {
     "data": {
      "text/plain": [
       "2021-01-01    0.0\n",
       "2021-01-02    0.0\n",
       "2021-01-03    1.0\n",
       "2021-01-04    0.0\n",
       "2021-01-05    NaN\n",
       "             ... \n",
       "2021-12-27    NaN\n",
       "2021-12-28    1.0\n",
       "2021-12-29    NaN\n",
       "2021-12-30    1.0\n",
       "2021-12-31    1.0\n",
       "Freq: D, Length: 365, dtype: float64"
      ]
     },
     "execution_count": 76,
     "metadata": {},
     "output_type": "execute_result"
    }
   ],
   "source": [
    "nan_mask = np.where(np.random.randint(low=0, high=1+1, size=(365)) == 1, 0, np.nan)\n",
    "ts = ts + nan_mask\n",
    "print(ts.isna().sum())\n",
    "ts"
   ]
  },
  {
   "cell_type": "code",
   "execution_count": 77,
   "id": "alien-romance",
   "metadata": {
    "slideshow": {
     "slide_type": "slide"
    }
   },
   "outputs": [
    {
     "data": {
      "image/png": "[encoded data removed]",
      "text/plain": [
       "<Figure size 1200x1000 with 1 Axes>"
      ]
     },
     "metadata": {},
     "output_type": "display_data"
    }
   ],
   "source": [
    "_ = ts.plot(figsize=(12, 10))"
   ]
  },
  {
   "cell_type": "markdown",
   "id": "loose-great",
   "metadata": {
    "slideshow": {
     "slide_type": "slide"
    }
   },
   "source": [
    "* Ιδού τι προκύπτει αν χρησιμοποιήσουμε γραμμική παρεμβολή με τη μέθοδο `interpolate()`."
   ]
  },
  {
   "cell_type": "code",
   "execution_count": 78,
   "id": "numerous-estate",
   "metadata": {
    "slideshow": {
     "slide_type": "fragment"
    }
   },
   "outputs": [
    {
     "data": {
      "text/plain": [
       "2021-01-01    0.000000\n",
       "2021-01-02    0.000000\n",
       "2021-01-03    1.000000\n",
       "2021-01-04    0.000000\n",
       "2021-01-05   -0.500000\n",
       "                ...   \n",
       "2021-12-27    0.333333\n",
       "2021-12-28    1.000000\n",
       "2021-12-29    1.000000\n",
       "2021-12-30    1.000000\n",
       "2021-12-31    1.000000\n",
       "Freq: D, Length: 365, dtype: float64"
      ]
     },
     "execution_count": 78,
     "metadata": {},
     "output_type": "execute_result"
    }
   ],
   "source": [
    "ts = ts.interpolate()\n",
    "ts"
   ]
  },
  {
   "cell_type": "code",
   "execution_count": 79,
   "id": "executive-window",
   "metadata": {
    "slideshow": {
     "slide_type": "slide"
    }
   },
   "outputs": [
    {
     "data": {
      "image/png": "[encoded data removed]",
      "text/plain": [
       "<Figure size 1200x1000 with 1 Axes>"
      ]
     },
     "metadata": {},
     "output_type": "display_data"
    }
   ],
   "source": [
    "_ = ts.plot(figsize=(12, 10))"
   ]
  },
  {
   "cell_type": "markdown",
   "id": "pursuant-solid",
   "metadata": {
    "slideshow": {
     "slide_type": "slide"
    }
   },
   "source": [
    "* Επιπλέον στρατηγικές για τον χειρισμό των δεδομένων με κενά δίνονται από τη βιβλιοθήκη [scikit-learn](https://scikit-learn.org/stable/), μέσω μηχανισμών *καταλογισμού* (imputation).\n",
    "\n",
    "* Οι πιο απλές από αυτές δίνονται από την κλάση `SimpleImputer`, που προσφέρει τις εναλλακτικές:\n",
    "\n",
    "  * `mean`\n",
    "\n",
    "  * `median`\n",
    "\n",
    "  * `most_frequent`\n",
    "\n",
    "  * `constant`"
   ]
  },
  {
   "cell_type": "code",
   "execution_count": 80,
   "id": "democratic-giant",
   "metadata": {
    "slideshow": {
     "slide_type": "fragment"
    }
   },
   "outputs": [],
   "source": [
    "from sklearn.impute import SimpleImputer\n",
    "\n",
    "imputer = SimpleImputer(missing_values=np.nan, strategy=\"constant\", fill_value=0)"
   ]
  },
  {
   "cell_type": "markdown",
   "id": "trying-flooring",
   "metadata": {
    "slideshow": {
     "slide_type": "slide"
    }
   },
   "source": [
    "* Να επανέλθουμε στα δεδομένα από την Καλιφόρνια:"
   ]
  },
  {
   "cell_type": "code",
   "execution_count": 81,
   "id": "distinguished-executive",
   "metadata": {
    "slideshow": {
     "slide_type": "fragment"
    }
   },
   "outputs": [
    {
     "data": {
      "text/html": [
       "<div>\n",
       "<style scoped>\n",
       "    .dataframe tbody tr th:only-of-type {\n",
       "        vertical-align: middle;\n",
       "    }\n",
       "\n",
       "    .dataframe tbody tr th {\n",
       "        vertical-align: top;\n",
       "    }\n",
       "\n",
       "    .dataframe thead th {\n",
       "        text-align: right;\n",
       "    }\n",
       "</style>\n",
       "<table border=\"1\" class=\"dataframe\">\n",
       "  <thead>\n",
       "    <tr style=\"text-align: right;\">\n",
       "      <th></th>\n",
       "      <th>longitude</th>\n",
       "      <th>latitude</th>\n",
       "      <th>housingMedianAge</th>\n",
       "      <th>totalRooms</th>\n",
       "      <th>totalBedrooms</th>\n",
       "      <th>population</th>\n",
       "      <th>households</th>\n",
       "      <th>medianIncome</th>\n",
       "      <th>medianHouseValue</th>\n",
       "    </tr>\n",
       "  </thead>\n",
       "  <tbody>\n",
       "    <tr>\n",
       "      <th>0</th>\n",
       "      <td>-122.23</td>\n",
       "      <td>37.88</td>\n",
       "      <td>41.0</td>\n",
       "      <td>880.0</td>\n",
       "      <td>NaN</td>\n",
       "      <td>322.0</td>\n",
       "      <td>126.0</td>\n",
       "      <td>8.3252</td>\n",
       "      <td>452600.0</td>\n",
       "    </tr>\n",
       "    <tr>\n",
       "      <th>1</th>\n",
       "      <td>-122.22</td>\n",
       "      <td>37.86</td>\n",
       "      <td>21.0</td>\n",
       "      <td>NaN</td>\n",
       "      <td>1106.0</td>\n",
       "      <td>2401.0</td>\n",
       "      <td>1138.0</td>\n",
       "      <td>8.3014</td>\n",
       "      <td>358500.0</td>\n",
       "    </tr>\n",
       "    <tr>\n",
       "      <th>2</th>\n",
       "      <td>-122.24</td>\n",
       "      <td>NaN</td>\n",
       "      <td>52.0</td>\n",
       "      <td>1467.0</td>\n",
       "      <td>190.0</td>\n",
       "      <td>496.0</td>\n",
       "      <td>177.0</td>\n",
       "      <td>7.2574</td>\n",
       "      <td>352100.0</td>\n",
       "    </tr>\n",
       "    <tr>\n",
       "      <th>3</th>\n",
       "      <td>-122.25</td>\n",
       "      <td>37.85</td>\n",
       "      <td>52.0</td>\n",
       "      <td>1274.0</td>\n",
       "      <td>235.0</td>\n",
       "      <td>558.0</td>\n",
       "      <td>NaN</td>\n",
       "      <td>5.6431</td>\n",
       "      <td>341300.0</td>\n",
       "    </tr>\n",
       "    <tr>\n",
       "      <th>4</th>\n",
       "      <td>NaN</td>\n",
       "      <td>37.85</td>\n",
       "      <td>52.0</td>\n",
       "      <td>1627.0</td>\n",
       "      <td>280.0</td>\n",
       "      <td>565.0</td>\n",
       "      <td>259.0</td>\n",
       "      <td>3.8462</td>\n",
       "      <td>342200.0</td>\n",
       "    </tr>\n",
       "    <tr>\n",
       "      <th>...</th>\n",
       "      <td>...</td>\n",
       "      <td>...</td>\n",
       "      <td>...</td>\n",
       "      <td>...</td>\n",
       "      <td>...</td>\n",
       "      <td>...</td>\n",
       "      <td>...</td>\n",
       "      <td>...</td>\n",
       "      <td>...</td>\n",
       "    </tr>\n",
       "    <tr>\n",
       "      <th>20635</th>\n",
       "      <td>NaN</td>\n",
       "      <td>39.48</td>\n",
       "      <td>25.0</td>\n",
       "      <td>1665.0</td>\n",
       "      <td>374.0</td>\n",
       "      <td>845.0</td>\n",
       "      <td>330.0</td>\n",
       "      <td>1.5603</td>\n",
       "      <td>78100.0</td>\n",
       "    </tr>\n",
       "    <tr>\n",
       "      <th>20636</th>\n",
       "      <td>-121.21</td>\n",
       "      <td>39.49</td>\n",
       "      <td>18.0</td>\n",
       "      <td>NaN</td>\n",
       "      <td>150.0</td>\n",
       "      <td>356.0</td>\n",
       "      <td>114.0</td>\n",
       "      <td>2.5568</td>\n",
       "      <td>77100.0</td>\n",
       "    </tr>\n",
       "    <tr>\n",
       "      <th>20637</th>\n",
       "      <td>-121.22</td>\n",
       "      <td>39.43</td>\n",
       "      <td>17.0</td>\n",
       "      <td>2254.0</td>\n",
       "      <td>485.0</td>\n",
       "      <td>1007.0</td>\n",
       "      <td>433.0</td>\n",
       "      <td>NaN</td>\n",
       "      <td>92300.0</td>\n",
       "    </tr>\n",
       "    <tr>\n",
       "      <th>20638</th>\n",
       "      <td>-121.32</td>\n",
       "      <td>39.43</td>\n",
       "      <td>NaN</td>\n",
       "      <td>1860.0</td>\n",
       "      <td>409.0</td>\n",
       "      <td>741.0</td>\n",
       "      <td>349.0</td>\n",
       "      <td>1.8672</td>\n",
       "      <td>84700.0</td>\n",
       "    </tr>\n",
       "    <tr>\n",
       "      <th>20639</th>\n",
       "      <td>-121.24</td>\n",
       "      <td>NaN</td>\n",
       "      <td>16.0</td>\n",
       "      <td>2785.0</td>\n",
       "      <td>616.0</td>\n",
       "      <td>1387.0</td>\n",
       "      <td>530.0</td>\n",
       "      <td>2.3886</td>\n",
       "      <td>89400.0</td>\n",
       "    </tr>\n",
       "  </tbody>\n",
       "</table>\n",
       "<p>20640 rows × 9 columns</p>\n",
       "</div>"
      ],
      "text/plain": [
       "       longitude  latitude  housingMedianAge  totalRooms  totalBedrooms  \\\n",
       "0        -122.23     37.88              41.0       880.0            NaN   \n",
       "1        -122.22     37.86              21.0         NaN         1106.0   \n",
       "2        -122.24       NaN              52.0      1467.0          190.0   \n",
       "3        -122.25     37.85              52.0      1274.0          235.0   \n",
       "4            NaN     37.85              52.0      1627.0          280.0   \n",
       "...          ...       ...               ...         ...            ...   \n",
       "20635        NaN     39.48              25.0      1665.0          374.0   \n",
       "20636    -121.21     39.49              18.0         NaN          150.0   \n",
       "20637    -121.22     39.43              17.0      2254.0          485.0   \n",
       "20638    -121.32     39.43               NaN      1860.0          409.0   \n",
       "20639    -121.24       NaN              16.0      2785.0          616.0   \n",
       "\n",
       "       population  households  medianIncome  medianHouseValue  \n",
       "0           322.0       126.0        8.3252          452600.0  \n",
       "1          2401.0      1138.0        8.3014          358500.0  \n",
       "2           496.0       177.0        7.2574          352100.0  \n",
       "3           558.0         NaN        5.6431          341300.0  \n",
       "4           565.0       259.0        3.8462          342200.0  \n",
       "...           ...         ...           ...               ...  \n",
       "20635       845.0       330.0        1.5603           78100.0  \n",
       "20636       356.0       114.0        2.5568           77100.0  \n",
       "20637      1007.0       433.0           NaN           92300.0  \n",
       "20638       741.0       349.0        1.8672           84700.0  \n",
       "20639      1387.0       530.0        2.3886           89400.0  \n",
       "\n",
       "[20640 rows x 9 columns]"
      ]
     },
     "execution_count": 81,
     "metadata": {},
     "output_type": "execute_result"
    }
   ],
   "source": [
    "cal_housing"
   ]
  },
  {
   "cell_type": "markdown",
   "id": "proprietary-struggle",
   "metadata": {
    "slideshow": {
     "slide_type": "slide"
    }
   },
   "source": [
    "* Για να χρησιμοποιήσουμε έναν καταλογιστή του scikit-learn τα δεδομένα μας πρέπει να έχουν τη μορφή διδιάστατου πίνακα.\n",
    "\n",
    "* Αυτό μπορούμε να το κάνουμε με την κλήση `reshape(-1, 1)` που σημαίνει «άλλαξε το σχήμα των δεδομένων σε μία στήλη και όσες γραμμές χρειάζεται»."
   ]
  },
  {
   "cell_type": "code",
   "execution_count": 82,
   "id": "verified-comfort",
   "metadata": {
    "slideshow": {
     "slide_type": "fragment"
    }
   },
   "outputs": [
    {
     "data": {
      "text/plain": [
       "array([[  nan],\n",
       "       [1106.],\n",
       "       [ 190.],\n",
       "       ...,\n",
       "       [ 485.],\n",
       "       [ 409.],\n",
       "       [ 616.]], shape=(20640, 1))"
      ]
     },
     "execution_count": 82,
     "metadata": {},
     "output_type": "execute_result"
    }
   ],
   "source": [
    "cal_housing['totalBedrooms'].values.reshape(-1, 1)"
   ]
  },
  {
   "cell_type": "markdown",
   "id": "modern-arkansas",
   "metadata": {
    "slideshow": {
     "slide_type": "slide"
    }
   },
   "source": [
    "* Καλούμε τη μέθοδο `fit_transform()` του καταλογιστή μας:"
   ]
  },
  {
   "cell_type": "code",
   "execution_count": 83,
   "id": "guilty-father",
   "metadata": {
    "slideshow": {
     "slide_type": "fragment"
    }
   },
   "outputs": [
    {
     "data": {
      "text/plain": [
       "array([[   0.],\n",
       "       [1106.],\n",
       "       [ 190.],\n",
       "       ...,\n",
       "       [ 485.],\n",
       "       [ 409.],\n",
       "       [ 616.]], shape=(20640, 1))"
      ]
     },
     "execution_count": 83,
     "metadata": {},
     "output_type": "execute_result"
    }
   ],
   "source": [
    "imputer.fit_transform(cal_housing['totalBedrooms'].values.reshape(-1, 1))"
   ]
  },
  {
   "cell_type": "markdown",
   "id": "micro-arena",
   "metadata": {
    "slideshow": {
     "slide_type": "slide"
    }
   },
   "source": [
    "* Αντί για εισαγωγή μιας σταθερής τιμής, ας βάλουμε τη διάμεσο.\n",
    "\n",
    "* Επίσης θα ζητήσουμε, δίνοντας `add_indicator=True`, να μας επιστραφεί και μία επιπλέον στήλη με τιμές 0 και 1, όπου η τιμή 1 σημαίνει ότι ο καταλογιστής εισήγαγε την τιμή σε αυτή τη γραμμή."
   ]
  },
  {
   "cell_type": "code",
   "execution_count": 84,
   "id": "automatic-fabric",
   "metadata": {
    "slideshow": {
     "slide_type": "fragment"
    }
   },
   "outputs": [
    {
     "data": {
      "text/plain": [
       "array([[4.350e+02, 1.000e+00],\n",
       "       [1.106e+03, 0.000e+00],\n",
       "       [1.900e+02, 0.000e+00],\n",
       "       ...,\n",
       "       [4.850e+02, 0.000e+00],\n",
       "       [4.090e+02, 0.000e+00],\n",
       "       [6.160e+02, 0.000e+00]], shape=(20640, 2))"
      ]
     },
     "execution_count": 84,
     "metadata": {},
     "output_type": "execute_result"
    }
   ],
   "source": [
    "imputer = SimpleImputer(missing_values=np.nan, strategy=\"median\", add_indicator=True)\n",
    "imputer.fit_transform(cal_housing['totalBedrooms'].values.reshape(-1, 1))"
   ]
  },
  {
   "cell_type": "markdown",
   "id": "demonstrated-amsterdam",
   "metadata": {
    "slideshow": {
     "slide_type": "slide"
    }
   },
   "source": [
    "* Το scikit-learn προσφέρει και άλλους καταλογιστές:\n",
    "\n",
    "  * `KNNImputer`\n",
    "  \n",
    "  * `IterativeImputer`"
   ]
  },
  {
   "cell_type": "markdown",
   "id": "arctic-communications",
   "metadata": {
    "slideshow": {
     "slide_type": "slide"
    }
   },
   "source": [
    "* Προσοχή! Το δυσκολότερο σημείο στη διαχείριση των κενών δεν είναι το τεχνικό.\n",
    "\n",
    "* Βλέπουμε ότι υπάρχουν εργαλεία με τα οποία μπορούμε να τα χειριστούμε.\n",
    "\n",
    "* Το δυσκολότερο σημείο είναι το επιχειρησιακό. Θέλουμε να διαγράψουμε δεδομένα, ή να γεμίσουμε τα κενά; Αν θέλουμε να γεμίσουμε τα κενά, με τι τιμές έχει νόημα να τα γεμίσουμε;\n",
    "\n",
    "* Αν η πραγματικότητα έχει κενά, πρέπει να είμαστε σίγουροι ότι γεμίζοντάς τα δεν παραποιούμε την πραγματικότητα."
   ]
  }
 ],
 "metadata": {
  "celltoolbar": "Slideshow",
  "kernelspec": {
   "display_name": "Python (Data Science)",
   "language": "python",
   "name": "data_science_env"
  },
  "language_info": {
   "codemirror_mode": {
    "name": "ipython",
    "version": 3
   },
   "file_extension": ".py",
   "mimetype": "text/x-python",
   "name": "python",
   "nbconvert_exporter": "python",
   "pygments_lexer": "ipython3",
   "version": "3.12.6"
  }
 },
 "nbformat": 4,
 "nbformat_minor": 5
}
