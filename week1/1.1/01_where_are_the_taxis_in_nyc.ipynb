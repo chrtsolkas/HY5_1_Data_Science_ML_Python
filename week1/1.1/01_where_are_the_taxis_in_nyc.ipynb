{
 "cells": [
  {
   "cell_type": "markdown",
   "metadata": {
    "slideshow": {
     "slide_type": "slide"
    }
   },
   "source": [
    "# Πού Είναι τα Ταξί στη Νέα Υόρκη;\n",
    "\n",
    "* Εμπνευσμένο από το κεφάλαιο 2 του βιβλίου του Cyrille Rossant, Learning IPython for Interactive Computing and Data Visualization, 2η έκδοση, Packt Publishing, 2015.\n",
    "\n",
    "> Πάνος Λουρίδας, Αναπληρωτής Καθηγητής <br />\n",
    "> Τμήμα Διοικητικής Επιστήμης και Τεχνολογίας <br />\n",
    "> Οικονομικό Πανεπιστήμιο Αθηνών <br />\n",
    "> louridas@aueb.gr"
   ]
  },
  {
   "cell_type": "markdown",
   "metadata": {
    "slideshow": {
     "slide_type": "slide"
    }
   },
   "source": [
    "* Ξεκινάμε εισάγοντας τις βιβλιοθήκες που θα χρειαστούμε.\n",
    "\n",
    "* Η βιβλιοθήκη [NumPy](https://numpy.org/) υλοποιηθεί πολύ βελτιστοποιημένες πράξεις πινάκων στην Python.\n",
    "\n",
    "* Η βιβλιοθήκη [pandas](https://pandas.pydata.org/) είναι η βασική βιβλιοθήκη για την επεξεργασία δεδομένων στην Python.\n",
    "\n",
    "* Με τη βιβλιοθήκη [matplotlib](https://matplotlib.org/) μπορούμε να οπτικοποιούμε τα δεδομένα μας."
   ]
  },
  {
   "cell_type": "code",
   "execution_count": 1,
   "metadata": {
    "slideshow": {
     "slide_type": "fragment"
    }
   },
   "outputs": [],
   "source": [
    "import numpy as np\n",
    "import pandas as pd\n",
    "import matplotlib.pyplot as plt"
   ]
  },
  {
   "cell_type": "markdown",
   "metadata": {
    "slideshow": {
     "slide_type": "slide"
    }
   },
   "source": [
    "* Τώρα μπορούμε να διαβάσουμε τα δεδομένα που θα χρησιμοποιήσουμε.\n",
    "\n",
    "* Tα δεδομένα αρχικά έγιναν διαθέσιμα χάρη στον [Chris Wong](https://chriswhong.com/) το 2013 κατόπιν [αίτησής του σύμφωνα με τη νομοθεσία για την ελευθερία της πληροφορίας (Freedom of Information Law, FOIL)](https://chriswhong.com/open-data/foil_nyc_taxi/).\n",
    "\n",
    "* Εμείς θα χρησιμοποιήσουμε ένα τυχαίο δείγμα του 1% των δεδομένων.\n",
    "\n",
    "* Νεότερα δεδομένα είναι διαθέσιμα από το [NYC Taxi and Limousine Commission (TLC)](https://www1.nyc.gov/site/tlc/about/tlc-trip-record-data.page)."
   ]
  },
  {
   "cell_type": "code",
   "execution_count": 2,
   "metadata": {
    "slideshow": {
     "slide_type": "fragment"
    }
   },
   "outputs": [],
   "source": [
    "data_filename = \"nyc_taxi_trip_data_sample.csv.zip\""
   ]
  },
  {
   "cell_type": "markdown",
   "metadata": {
    "slideshow": {
     "slide_type": "slide"
    }
   },
   "source": [
    "* Αν αποσυμπιέσουμε το αρχείο και το ανοίξουμε θα δούμε ότι τα δεδομένα είναι ως εξής:\n",
    "\n",
    "```\n",
    "medallion,hack_license,vendor_id,rate_code,store_and_fwd_flag,pickup_datetime,dropoff_datetime,passenger_count,trip_time_in_secs,trip_distance,pickup_longitude,pickup_latitude,dropoff_longitude,dropoff_latitude\n",
    "037CB433AB5895649F7A9EF37F767EF1,F57FA13A6A82FE2F40D9DB0193DE0FEE,VTS,1,,2013-10-04 20:20:00,2013-10-04 20:42:00,1,1320,4.05,-73.990089,40.723377,-73.941559,40.70779\n",
    "E05E952B2DA14C7E9F1D7DEB80667739,11A3989B7BABB288FA3FA233E348C450,CMT,1,N,2013-09-27 14:16:04,2013-09-27 14:37:17,1,1273,2.10,-73.960022,40.710678,-73.994324,40.722858\n",
    "51B267141807D0261EEB1844D2A78087,9DE60DFD683336F899D5BB448CE7CB09,CMT,1,N,2013-07-18 13:24:37,2013-07-18 13:29:27,3,290,.90,-73.970634,40.76041,-73.960213,40.770241\n",
    "76AC5C0F44D07BA5A2291F19E730B0B9,2348E03BB8227595281D9D6B38E45B38,VTS,1,,2013-06-25 12:12:00,2013-06-25 12:28:00,2,960,1.28,-73.992661,40.752766,-73.975952,40.751781\n",
    "```"
   ]
  },
  {
   "cell_type": "markdown",
   "metadata": {
    "slideshow": {
     "slide_type": "slide"
    }
   },
   "source": [
    "* Για να διαβάσουμε τα δεδομένα θα χρησιμοποιήσουμε τη συνάρτηση `read_csv()` του pandas.\n"
   ]
  },
  {
   "cell_type": "code",
   "execution_count": 3,
   "metadata": {
    "slideshow": {
     "slide_type": "fragment"
    }
   },
   "outputs": [],
   "source": [
    "data = pd.read_csv(data_filename)"
   ]
  },
  {
   "cell_type": "markdown",
   "metadata": {
    "slideshow": {
     "slide_type": "slide"
    }
   },
   "source": [
    "* Η μεταβλητή `data` περιέχει ένα αντικείμενο `DataFrame`. \n",
    "\n",
    "* Ένα `DataFrame` είναι ένας πίνακας που περιέχει γραμμές (παρατηρήσεις) και στήλες (χαρακτηριστικά). \n",
    "\n",
    "* Ένα `DataFrame` μπορεί να περιέχει κείμενο, αριθμούς, ημερομηνίες, και άλλους τύπους δεδομένων. "
   ]
  },
  {
   "cell_type": "code",
   "execution_count": 4,
   "metadata": {
    "slideshow": {
     "slide_type": "slide"
    }
   },
   "outputs": [
    {
     "data": {
      "text/html": [
       "<div>\n",
       "<style scoped>\n",
       "    .dataframe tbody tr th:only-of-type {\n",
       "        vertical-align: middle;\n",
       "    }\n",
       "\n",
       "    .dataframe tbody tr th {\n",
       "        vertical-align: top;\n",
       "    }\n",
       "\n",
       "    .dataframe thead th {\n",
       "        text-align: right;\n",
       "    }\n",
       "</style>\n",
       "<table border=\"1\" class=\"dataframe\">\n",
       "  <thead>\n",
       "    <tr style=\"text-align: right;\">\n",
       "      <th></th>\n",
       "      <th>medallion</th>\n",
       "      <th>hack_license</th>\n",
       "      <th>vendor_id</th>\n",
       "      <th>rate_code</th>\n",
       "      <th>store_and_fwd_flag</th>\n",
       "      <th>pickup_datetime</th>\n",
       "      <th>dropoff_datetime</th>\n",
       "      <th>passenger_count</th>\n",
       "      <th>trip_time_in_secs</th>\n",
       "      <th>trip_distance</th>\n",
       "      <th>pickup_longitude</th>\n",
       "      <th>pickup_latitude</th>\n",
       "      <th>dropoff_longitude</th>\n",
       "      <th>dropoff_latitude</th>\n",
       "    </tr>\n",
       "  </thead>\n",
       "  <tbody>\n",
       "    <tr>\n",
       "      <th>0</th>\n",
       "      <td>037CB433AB5895649F7A9EF37F767EF1</td>\n",
       "      <td>F57FA13A6A82FE2F40D9DB0193DE0FEE</td>\n",
       "      <td>VTS</td>\n",
       "      <td>1</td>\n",
       "      <td>NaN</td>\n",
       "      <td>2013-10-04 20:20:00</td>\n",
       "      <td>2013-10-04 20:42:00</td>\n",
       "      <td>1</td>\n",
       "      <td>1320</td>\n",
       "      <td>4.05</td>\n",
       "      <td>-73.990089</td>\n",
       "      <td>40.723377</td>\n",
       "      <td>-73.941559</td>\n",
       "      <td>40.707790</td>\n",
       "    </tr>\n",
       "    <tr>\n",
       "      <th>1</th>\n",
       "      <td>E05E952B2DA14C7E9F1D7DEB80667739</td>\n",
       "      <td>11A3989B7BABB288FA3FA233E348C450</td>\n",
       "      <td>CMT</td>\n",
       "      <td>1</td>\n",
       "      <td>N</td>\n",
       "      <td>2013-09-27 14:16:04</td>\n",
       "      <td>2013-09-27 14:37:17</td>\n",
       "      <td>1</td>\n",
       "      <td>1273</td>\n",
       "      <td>2.10</td>\n",
       "      <td>-73.960022</td>\n",
       "      <td>40.710678</td>\n",
       "      <td>-73.994324</td>\n",
       "      <td>40.722858</td>\n",
       "    </tr>\n",
       "    <tr>\n",
       "      <th>2</th>\n",
       "      <td>51B267141807D0261EEB1844D2A78087</td>\n",
       "      <td>9DE60DFD683336F899D5BB448CE7CB09</td>\n",
       "      <td>CMT</td>\n",
       "      <td>1</td>\n",
       "      <td>N</td>\n",
       "      <td>2013-07-18 13:24:37</td>\n",
       "      <td>2013-07-18 13:29:27</td>\n",
       "      <td>3</td>\n",
       "      <td>290</td>\n",
       "      <td>0.90</td>\n",
       "      <td>-73.970634</td>\n",
       "      <td>40.760410</td>\n",
       "      <td>-73.960213</td>\n",
       "      <td>40.770241</td>\n",
       "    </tr>\n",
       "    <tr>\n",
       "      <th>3</th>\n",
       "      <td>76AC5C0F44D07BA5A2291F19E730B0B9</td>\n",
       "      <td>2348E03BB8227595281D9D6B38E45B38</td>\n",
       "      <td>VTS</td>\n",
       "      <td>1</td>\n",
       "      <td>NaN</td>\n",
       "      <td>2013-06-25 12:12:00</td>\n",
       "      <td>2013-06-25 12:28:00</td>\n",
       "      <td>2</td>\n",
       "      <td>960</td>\n",
       "      <td>1.28</td>\n",
       "      <td>-73.992661</td>\n",
       "      <td>40.752766</td>\n",
       "      <td>-73.975952</td>\n",
       "      <td>40.751781</td>\n",
       "    </tr>\n",
       "    <tr>\n",
       "      <th>4</th>\n",
       "      <td>739323AC15DADABE4B54561CB3330C53</td>\n",
       "      <td>9387A0902D7B1B4597802BE63AE7C34F</td>\n",
       "      <td>VTS</td>\n",
       "      <td>1</td>\n",
       "      <td>NaN</td>\n",
       "      <td>2013-04-19 05:28:00</td>\n",
       "      <td>2013-04-19 05:38:00</td>\n",
       "      <td>1</td>\n",
       "      <td>600</td>\n",
       "      <td>2.22</td>\n",
       "      <td>-73.999107</td>\n",
       "      <td>40.727924</td>\n",
       "      <td>-73.974869</td>\n",
       "      <td>40.741886</td>\n",
       "    </tr>\n",
       "    <tr>\n",
       "      <th>...</th>\n",
       "      <td>...</td>\n",
       "      <td>...</td>\n",
       "      <td>...</td>\n",
       "      <td>...</td>\n",
       "      <td>...</td>\n",
       "      <td>...</td>\n",
       "      <td>...</td>\n",
       "      <td>...</td>\n",
       "      <td>...</td>\n",
       "      <td>...</td>\n",
       "      <td>...</td>\n",
       "      <td>...</td>\n",
       "      <td>...</td>\n",
       "      <td>...</td>\n",
       "    </tr>\n",
       "    <tr>\n",
       "      <th>1731792</th>\n",
       "      <td>5DAE4FE51457F5B4D4950D00A0AD4394</td>\n",
       "      <td>B76DC9DC874EB9D71CC04ABC0D9AAC6A</td>\n",
       "      <td>CMT</td>\n",
       "      <td>1</td>\n",
       "      <td>N</td>\n",
       "      <td>2013-08-02 03:34:00</td>\n",
       "      <td>2013-08-02 03:51:47</td>\n",
       "      <td>2</td>\n",
       "      <td>1067</td>\n",
       "      <td>6.00</td>\n",
       "      <td>-73.995766</td>\n",
       "      <td>40.764359</td>\n",
       "      <td>-73.920052</td>\n",
       "      <td>40.775574</td>\n",
       "    </tr>\n",
       "    <tr>\n",
       "      <th>1731793</th>\n",
       "      <td>3C16CFAD2B12F3508F7211C37F8F8B8F</td>\n",
       "      <td>A36B62F2B6D1D6C289519810E66EAAB9</td>\n",
       "      <td>VTS</td>\n",
       "      <td>1</td>\n",
       "      <td>NaN</td>\n",
       "      <td>2013-02-21 12:44:00</td>\n",
       "      <td>2013-02-21 13:11:00</td>\n",
       "      <td>6</td>\n",
       "      <td>1620</td>\n",
       "      <td>3.94</td>\n",
       "      <td>0.000000</td>\n",
       "      <td>0.000000</td>\n",
       "      <td>0.000000</td>\n",
       "      <td>0.000000</td>\n",
       "    </tr>\n",
       "    <tr>\n",
       "      <th>1731794</th>\n",
       "      <td>23E5F1FDC96168E865BF7B4427C0163B</td>\n",
       "      <td>E7D75D6D6F2DBD7D25578F02991193D9</td>\n",
       "      <td>VTS</td>\n",
       "      <td>1</td>\n",
       "      <td>NaN</td>\n",
       "      <td>2013-02-16 17:24:00</td>\n",
       "      <td>2013-02-16 17:30:00</td>\n",
       "      <td>3</td>\n",
       "      <td>360</td>\n",
       "      <td>2.15</td>\n",
       "      <td>-73.991554</td>\n",
       "      <td>40.726940</td>\n",
       "      <td>-73.971642</td>\n",
       "      <td>40.751362</td>\n",
       "    </tr>\n",
       "    <tr>\n",
       "      <th>1731795</th>\n",
       "      <td>FE44D1131D86D515C88D5296598DD35A</td>\n",
       "      <td>015615BB1B66BA269602ED1A867271FA</td>\n",
       "      <td>CMT</td>\n",
       "      <td>1</td>\n",
       "      <td>N</td>\n",
       "      <td>2013-05-24 10:29:16</td>\n",
       "      <td>2013-05-24 10:44:39</td>\n",
       "      <td>1</td>\n",
       "      <td>923</td>\n",
       "      <td>7.20</td>\n",
       "      <td>-73.865715</td>\n",
       "      <td>40.771168</td>\n",
       "      <td>-73.809006</td>\n",
       "      <td>40.700127</td>\n",
       "    </tr>\n",
       "    <tr>\n",
       "      <th>1731796</th>\n",
       "      <td>465FE7E793D67BBB8A7A9869065170E5</td>\n",
       "      <td>E5D211ECD1F6A6164B6CFF1EB9B50499</td>\n",
       "      <td>CMT</td>\n",
       "      <td>1</td>\n",
       "      <td>N</td>\n",
       "      <td>2013-03-15 14:42:10</td>\n",
       "      <td>2013-03-15 14:51:20</td>\n",
       "      <td>1</td>\n",
       "      <td>549</td>\n",
       "      <td>0.70</td>\n",
       "      <td>-74.002968</td>\n",
       "      <td>40.718216</td>\n",
       "      <td>-74.011620</td>\n",
       "      <td>40.708351</td>\n",
       "    </tr>\n",
       "  </tbody>\n",
       "</table>\n",
       "<p>1731797 rows × 14 columns</p>\n",
       "</div>"
      ],
      "text/plain": [
       "                                medallion                      hack_license  \\\n",
       "0        037CB433AB5895649F7A9EF37F767EF1  F57FA13A6A82FE2F40D9DB0193DE0FEE   \n",
       "1        E05E952B2DA14C7E9F1D7DEB80667739  11A3989B7BABB288FA3FA233E348C450   \n",
       "2        51B267141807D0261EEB1844D2A78087  9DE60DFD683336F899D5BB448CE7CB09   \n",
       "3        76AC5C0F44D07BA5A2291F19E730B0B9  2348E03BB8227595281D9D6B38E45B38   \n",
       "4        739323AC15DADABE4B54561CB3330C53  9387A0902D7B1B4597802BE63AE7C34F   \n",
       "...                                   ...                               ...   \n",
       "1731792  5DAE4FE51457F5B4D4950D00A0AD4394  B76DC9DC874EB9D71CC04ABC0D9AAC6A   \n",
       "1731793  3C16CFAD2B12F3508F7211C37F8F8B8F  A36B62F2B6D1D6C289519810E66EAAB9   \n",
       "1731794  23E5F1FDC96168E865BF7B4427C0163B  E7D75D6D6F2DBD7D25578F02991193D9   \n",
       "1731795  FE44D1131D86D515C88D5296598DD35A  015615BB1B66BA269602ED1A867271FA   \n",
       "1731796  465FE7E793D67BBB8A7A9869065170E5  E5D211ECD1F6A6164B6CFF1EB9B50499   \n",
       "\n",
       "        vendor_id  rate_code store_and_fwd_flag      pickup_datetime  \\\n",
       "0             VTS          1                NaN  2013-10-04 20:20:00   \n",
       "1             CMT          1                  N  2013-09-27 14:16:04   \n",
       "2             CMT          1                  N  2013-07-18 13:24:37   \n",
       "3             VTS          1                NaN  2013-06-25 12:12:00   \n",
       "4             VTS          1                NaN  2013-04-19 05:28:00   \n",
       "...           ...        ...                ...                  ...   \n",
       "1731792       CMT          1                  N  2013-08-02 03:34:00   \n",
       "1731793       VTS          1                NaN  2013-02-21 12:44:00   \n",
       "1731794       VTS          1                NaN  2013-02-16 17:24:00   \n",
       "1731795       CMT          1                  N  2013-05-24 10:29:16   \n",
       "1731796       CMT          1                  N  2013-03-15 14:42:10   \n",
       "\n",
       "            dropoff_datetime  passenger_count  trip_time_in_secs  \\\n",
       "0        2013-10-04 20:42:00                1               1320   \n",
       "1        2013-09-27 14:37:17                1               1273   \n",
       "2        2013-07-18 13:29:27                3                290   \n",
       "3        2013-06-25 12:28:00                2                960   \n",
       "4        2013-04-19 05:38:00                1                600   \n",
       "...                      ...              ...                ...   \n",
       "1731792  2013-08-02 03:51:47                2               1067   \n",
       "1731793  2013-02-21 13:11:00                6               1620   \n",
       "1731794  2013-02-16 17:30:00                3                360   \n",
       "1731795  2013-05-24 10:44:39                1                923   \n",
       "1731796  2013-03-15 14:51:20                1                549   \n",
       "\n",
       "         trip_distance  pickup_longitude  pickup_latitude  dropoff_longitude  \\\n",
       "0                 4.05        -73.990089        40.723377         -73.941559   \n",
       "1                 2.10        -73.960022        40.710678         -73.994324   \n",
       "2                 0.90        -73.970634        40.760410         -73.960213   \n",
       "3                 1.28        -73.992661        40.752766         -73.975952   \n",
       "4                 2.22        -73.999107        40.727924         -73.974869   \n",
       "...                ...               ...              ...                ...   \n",
       "1731792           6.00        -73.995766        40.764359         -73.920052   \n",
       "1731793           3.94          0.000000         0.000000           0.000000   \n",
       "1731794           2.15        -73.991554        40.726940         -73.971642   \n",
       "1731795           7.20        -73.865715        40.771168         -73.809006   \n",
       "1731796           0.70        -74.002968        40.718216         -74.011620   \n",
       "\n",
       "         dropoff_latitude  \n",
       "0               40.707790  \n",
       "1               40.722858  \n",
       "2               40.770241  \n",
       "3               40.751781  \n",
       "4               40.741886  \n",
       "...                   ...  \n",
       "1731792         40.775574  \n",
       "1731793          0.000000  \n",
       "1731794         40.751362  \n",
       "1731795         40.700127  \n",
       "1731796         40.708351  \n",
       "\n",
       "[1731797 rows x 14 columns]"
      ]
     },
     "execution_count": 4,
     "metadata": {},
     "output_type": "execute_result"
    }
   ],
   "source": [
    "data"
   ]
  },
  {
   "cell_type": "markdown",
   "metadata": {
    "slideshow": {
     "slide_type": "slide"
    }
   },
   "source": [
    "* Μπορούμε να δούμε τις διαστάσεις ενός `DataFrame` χρησιμοποιώντας την ιδιότητα `shape`."
   ]
  },
  {
   "cell_type": "code",
   "execution_count": 5,
   "metadata": {
    "slideshow": {
     "slide_type": "fragment"
    }
   },
   "outputs": [
    {
     "data": {
      "text/plain": [
       "(1731797, 14)"
      ]
     },
     "execution_count": 5,
     "metadata": {},
     "output_type": "execute_result"
    }
   ],
   "source": [
    "data.shape"
   ]
  },
  {
   "cell_type": "markdown",
   "metadata": {
    "slideshow": {
     "slide_type": "slide"
    }
   },
   "source": [
    "* Η μέθοδος `head()` μας δίνει τις αρχικές γραμμές ενός `DataFrame`."
   ]
  },
  {
   "cell_type": "code",
   "execution_count": 6,
   "metadata": {
    "slideshow": {
     "slide_type": "fragment"
    }
   },
   "outputs": [
    {
     "data": {
      "text/html": [
       "<div>\n",
       "<style scoped>\n",
       "    .dataframe tbody tr th:only-of-type {\n",
       "        vertical-align: middle;\n",
       "    }\n",
       "\n",
       "    .dataframe tbody tr th {\n",
       "        vertical-align: top;\n",
       "    }\n",
       "\n",
       "    .dataframe thead th {\n",
       "        text-align: right;\n",
       "    }\n",
       "</style>\n",
       "<table border=\"1\" class=\"dataframe\">\n",
       "  <thead>\n",
       "    <tr style=\"text-align: right;\">\n",
       "      <th></th>\n",
       "      <th>medallion</th>\n",
       "      <th>hack_license</th>\n",
       "      <th>vendor_id</th>\n",
       "      <th>rate_code</th>\n",
       "      <th>store_and_fwd_flag</th>\n",
       "      <th>pickup_datetime</th>\n",
       "      <th>dropoff_datetime</th>\n",
       "      <th>passenger_count</th>\n",
       "      <th>trip_time_in_secs</th>\n",
       "      <th>trip_distance</th>\n",
       "      <th>pickup_longitude</th>\n",
       "      <th>pickup_latitude</th>\n",
       "      <th>dropoff_longitude</th>\n",
       "      <th>dropoff_latitude</th>\n",
       "    </tr>\n",
       "  </thead>\n",
       "  <tbody>\n",
       "    <tr>\n",
       "      <th>0</th>\n",
       "      <td>037CB433AB5895649F7A9EF37F767EF1</td>\n",
       "      <td>F57FA13A6A82FE2F40D9DB0193DE0FEE</td>\n",
       "      <td>VTS</td>\n",
       "      <td>1</td>\n",
       "      <td>NaN</td>\n",
       "      <td>2013-10-04 20:20:00</td>\n",
       "      <td>2013-10-04 20:42:00</td>\n",
       "      <td>1</td>\n",
       "      <td>1320</td>\n",
       "      <td>4.05</td>\n",
       "      <td>-73.990089</td>\n",
       "      <td>40.723377</td>\n",
       "      <td>-73.941559</td>\n",
       "      <td>40.707790</td>\n",
       "    </tr>\n",
       "    <tr>\n",
       "      <th>1</th>\n",
       "      <td>E05E952B2DA14C7E9F1D7DEB80667739</td>\n",
       "      <td>11A3989B7BABB288FA3FA233E348C450</td>\n",
       "      <td>CMT</td>\n",
       "      <td>1</td>\n",
       "      <td>N</td>\n",
       "      <td>2013-09-27 14:16:04</td>\n",
       "      <td>2013-09-27 14:37:17</td>\n",
       "      <td>1</td>\n",
       "      <td>1273</td>\n",
       "      <td>2.10</td>\n",
       "      <td>-73.960022</td>\n",
       "      <td>40.710678</td>\n",
       "      <td>-73.994324</td>\n",
       "      <td>40.722858</td>\n",
       "    </tr>\n",
       "    <tr>\n",
       "      <th>2</th>\n",
       "      <td>51B267141807D0261EEB1844D2A78087</td>\n",
       "      <td>9DE60DFD683336F899D5BB448CE7CB09</td>\n",
       "      <td>CMT</td>\n",
       "      <td>1</td>\n",
       "      <td>N</td>\n",
       "      <td>2013-07-18 13:24:37</td>\n",
       "      <td>2013-07-18 13:29:27</td>\n",
       "      <td>3</td>\n",
       "      <td>290</td>\n",
       "      <td>0.90</td>\n",
       "      <td>-73.970634</td>\n",
       "      <td>40.760410</td>\n",
       "      <td>-73.960213</td>\n",
       "      <td>40.770241</td>\n",
       "    </tr>\n",
       "  </tbody>\n",
       "</table>\n",
       "</div>"
      ],
      "text/plain": [
       "                          medallion                      hack_license  \\\n",
       "0  037CB433AB5895649F7A9EF37F767EF1  F57FA13A6A82FE2F40D9DB0193DE0FEE   \n",
       "1  E05E952B2DA14C7E9F1D7DEB80667739  11A3989B7BABB288FA3FA233E348C450   \n",
       "2  51B267141807D0261EEB1844D2A78087  9DE60DFD683336F899D5BB448CE7CB09   \n",
       "\n",
       "  vendor_id  rate_code store_and_fwd_flag      pickup_datetime  \\\n",
       "0       VTS          1                NaN  2013-10-04 20:20:00   \n",
       "1       CMT          1                  N  2013-09-27 14:16:04   \n",
       "2       CMT          1                  N  2013-07-18 13:24:37   \n",
       "\n",
       "      dropoff_datetime  passenger_count  trip_time_in_secs  trip_distance  \\\n",
       "0  2013-10-04 20:42:00                1               1320           4.05   \n",
       "1  2013-09-27 14:37:17                1               1273           2.10   \n",
       "2  2013-07-18 13:29:27                3                290           0.90   \n",
       "\n",
       "   pickup_longitude  pickup_latitude  dropoff_longitude  dropoff_latitude  \n",
       "0        -73.990089        40.723377         -73.941559         40.707790  \n",
       "1        -73.960022        40.710678         -73.994324         40.722858  \n",
       "2        -73.970634        40.760410         -73.960213         40.770241  "
      ]
     },
     "execution_count": 6,
     "metadata": {},
     "output_type": "execute_result"
    }
   ],
   "source": [
    "data.head(3)"
   ]
  },
  {
   "cell_type": "markdown",
   "metadata": {
    "slideshow": {
     "slide_type": "slide"
    }
   },
   "source": [
    "* Μπορούμε επίσης να το χειριστούμε με το συνηθισμένο συντακτικό της Python για ακολουθίες δεδομένων:"
   ]
  },
  {
   "cell_type": "code",
   "execution_count": 7,
   "metadata": {
    "slideshow": {
     "slide_type": "fragment"
    }
   },
   "outputs": [
    {
     "data": {
      "text/html": [
       "<div>\n",
       "<style scoped>\n",
       "    .dataframe tbody tr th:only-of-type {\n",
       "        vertical-align: middle;\n",
       "    }\n",
       "\n",
       "    .dataframe tbody tr th {\n",
       "        vertical-align: top;\n",
       "    }\n",
       "\n",
       "    .dataframe thead th {\n",
       "        text-align: right;\n",
       "    }\n",
       "</style>\n",
       "<table border=\"1\" class=\"dataframe\">\n",
       "  <thead>\n",
       "    <tr style=\"text-align: right;\">\n",
       "      <th></th>\n",
       "      <th>medallion</th>\n",
       "      <th>hack_license</th>\n",
       "      <th>vendor_id</th>\n",
       "      <th>rate_code</th>\n",
       "      <th>store_and_fwd_flag</th>\n",
       "      <th>pickup_datetime</th>\n",
       "      <th>dropoff_datetime</th>\n",
       "      <th>passenger_count</th>\n",
       "      <th>trip_time_in_secs</th>\n",
       "      <th>trip_distance</th>\n",
       "      <th>pickup_longitude</th>\n",
       "      <th>pickup_latitude</th>\n",
       "      <th>dropoff_longitude</th>\n",
       "      <th>dropoff_latitude</th>\n",
       "    </tr>\n",
       "  </thead>\n",
       "  <tbody>\n",
       "    <tr>\n",
       "      <th>0</th>\n",
       "      <td>037CB433AB5895649F7A9EF37F767EF1</td>\n",
       "      <td>F57FA13A6A82FE2F40D9DB0193DE0FEE</td>\n",
       "      <td>VTS</td>\n",
       "      <td>1</td>\n",
       "      <td>NaN</td>\n",
       "      <td>2013-10-04 20:20:00</td>\n",
       "      <td>2013-10-04 20:42:00</td>\n",
       "      <td>1</td>\n",
       "      <td>1320</td>\n",
       "      <td>4.05</td>\n",
       "      <td>-73.990089</td>\n",
       "      <td>40.723377</td>\n",
       "      <td>-73.941559</td>\n",
       "      <td>40.707790</td>\n",
       "    </tr>\n",
       "    <tr>\n",
       "      <th>1</th>\n",
       "      <td>E05E952B2DA14C7E9F1D7DEB80667739</td>\n",
       "      <td>11A3989B7BABB288FA3FA233E348C450</td>\n",
       "      <td>CMT</td>\n",
       "      <td>1</td>\n",
       "      <td>N</td>\n",
       "      <td>2013-09-27 14:16:04</td>\n",
       "      <td>2013-09-27 14:37:17</td>\n",
       "      <td>1</td>\n",
       "      <td>1273</td>\n",
       "      <td>2.10</td>\n",
       "      <td>-73.960022</td>\n",
       "      <td>40.710678</td>\n",
       "      <td>-73.994324</td>\n",
       "      <td>40.722858</td>\n",
       "    </tr>\n",
       "    <tr>\n",
       "      <th>2</th>\n",
       "      <td>51B267141807D0261EEB1844D2A78087</td>\n",
       "      <td>9DE60DFD683336F899D5BB448CE7CB09</td>\n",
       "      <td>CMT</td>\n",
       "      <td>1</td>\n",
       "      <td>N</td>\n",
       "      <td>2013-07-18 13:24:37</td>\n",
       "      <td>2013-07-18 13:29:27</td>\n",
       "      <td>3</td>\n",
       "      <td>290</td>\n",
       "      <td>0.90</td>\n",
       "      <td>-73.970634</td>\n",
       "      <td>40.760410</td>\n",
       "      <td>-73.960213</td>\n",
       "      <td>40.770241</td>\n",
       "    </tr>\n",
       "  </tbody>\n",
       "</table>\n",
       "</div>"
      ],
      "text/plain": [
       "                          medallion                      hack_license  \\\n",
       "0  037CB433AB5895649F7A9EF37F767EF1  F57FA13A6A82FE2F40D9DB0193DE0FEE   \n",
       "1  E05E952B2DA14C7E9F1D7DEB80667739  11A3989B7BABB288FA3FA233E348C450   \n",
       "2  51B267141807D0261EEB1844D2A78087  9DE60DFD683336F899D5BB448CE7CB09   \n",
       "\n",
       "  vendor_id  rate_code store_and_fwd_flag      pickup_datetime  \\\n",
       "0       VTS          1                NaN  2013-10-04 20:20:00   \n",
       "1       CMT          1                  N  2013-09-27 14:16:04   \n",
       "2       CMT          1                  N  2013-07-18 13:24:37   \n",
       "\n",
       "      dropoff_datetime  passenger_count  trip_time_in_secs  trip_distance  \\\n",
       "0  2013-10-04 20:42:00                1               1320           4.05   \n",
       "1  2013-09-27 14:37:17                1               1273           2.10   \n",
       "2  2013-07-18 13:29:27                3                290           0.90   \n",
       "\n",
       "   pickup_longitude  pickup_latitude  dropoff_longitude  dropoff_latitude  \n",
       "0        -73.990089        40.723377         -73.941559         40.707790  \n",
       "1        -73.960022        40.710678         -73.994324         40.722858  \n",
       "2        -73.970634        40.760410         -73.960213         40.770241  "
      ]
     },
     "execution_count": 7,
     "metadata": {},
     "output_type": "execute_result"
    }
   ],
   "source": [
    "data[:3]"
   ]
  },
  {
   "cell_type": "markdown",
   "metadata": {
    "collapsed": true,
    "jupyter": {
     "outputs_hidden": true
    },
    "slideshow": {
     "slide_type": "slide"
    }
   },
   "source": [
    "* Αντίστοιχα, η μέθοδος `tail()` μας δίνει τις τελευταίες γραμμές ενός `DataFrame`."
   ]
  },
  {
   "cell_type": "code",
   "execution_count": 8,
   "metadata": {
    "slideshow": {
     "slide_type": "fragment"
    }
   },
   "outputs": [
    {
     "data": {
      "text/html": [
       "<div>\n",
       "<style scoped>\n",
       "    .dataframe tbody tr th:only-of-type {\n",
       "        vertical-align: middle;\n",
       "    }\n",
       "\n",
       "    .dataframe tbody tr th {\n",
       "        vertical-align: top;\n",
       "    }\n",
       "\n",
       "    .dataframe thead th {\n",
       "        text-align: right;\n",
       "    }\n",
       "</style>\n",
       "<table border=\"1\" class=\"dataframe\">\n",
       "  <thead>\n",
       "    <tr style=\"text-align: right;\">\n",
       "      <th></th>\n",
       "      <th>medallion</th>\n",
       "      <th>hack_license</th>\n",
       "      <th>vendor_id</th>\n",
       "      <th>rate_code</th>\n",
       "      <th>store_and_fwd_flag</th>\n",
       "      <th>pickup_datetime</th>\n",
       "      <th>dropoff_datetime</th>\n",
       "      <th>passenger_count</th>\n",
       "      <th>trip_time_in_secs</th>\n",
       "      <th>trip_distance</th>\n",
       "      <th>pickup_longitude</th>\n",
       "      <th>pickup_latitude</th>\n",
       "      <th>dropoff_longitude</th>\n",
       "      <th>dropoff_latitude</th>\n",
       "    </tr>\n",
       "  </thead>\n",
       "  <tbody>\n",
       "    <tr>\n",
       "      <th>1731794</th>\n",
       "      <td>23E5F1FDC96168E865BF7B4427C0163B</td>\n",
       "      <td>E7D75D6D6F2DBD7D25578F02991193D9</td>\n",
       "      <td>VTS</td>\n",
       "      <td>1</td>\n",
       "      <td>NaN</td>\n",
       "      <td>2013-02-16 17:24:00</td>\n",
       "      <td>2013-02-16 17:30:00</td>\n",
       "      <td>3</td>\n",
       "      <td>360</td>\n",
       "      <td>2.15</td>\n",
       "      <td>-73.991554</td>\n",
       "      <td>40.726940</td>\n",
       "      <td>-73.971642</td>\n",
       "      <td>40.751362</td>\n",
       "    </tr>\n",
       "    <tr>\n",
       "      <th>1731795</th>\n",
       "      <td>FE44D1131D86D515C88D5296598DD35A</td>\n",
       "      <td>015615BB1B66BA269602ED1A867271FA</td>\n",
       "      <td>CMT</td>\n",
       "      <td>1</td>\n",
       "      <td>N</td>\n",
       "      <td>2013-05-24 10:29:16</td>\n",
       "      <td>2013-05-24 10:44:39</td>\n",
       "      <td>1</td>\n",
       "      <td>923</td>\n",
       "      <td>7.20</td>\n",
       "      <td>-73.865715</td>\n",
       "      <td>40.771168</td>\n",
       "      <td>-73.809006</td>\n",
       "      <td>40.700127</td>\n",
       "    </tr>\n",
       "    <tr>\n",
       "      <th>1731796</th>\n",
       "      <td>465FE7E793D67BBB8A7A9869065170E5</td>\n",
       "      <td>E5D211ECD1F6A6164B6CFF1EB9B50499</td>\n",
       "      <td>CMT</td>\n",
       "      <td>1</td>\n",
       "      <td>N</td>\n",
       "      <td>2013-03-15 14:42:10</td>\n",
       "      <td>2013-03-15 14:51:20</td>\n",
       "      <td>1</td>\n",
       "      <td>549</td>\n",
       "      <td>0.70</td>\n",
       "      <td>-74.002968</td>\n",
       "      <td>40.718216</td>\n",
       "      <td>-74.011620</td>\n",
       "      <td>40.708351</td>\n",
       "    </tr>\n",
       "  </tbody>\n",
       "</table>\n",
       "</div>"
      ],
      "text/plain": [
       "                                medallion                      hack_license  \\\n",
       "1731794  23E5F1FDC96168E865BF7B4427C0163B  E7D75D6D6F2DBD7D25578F02991193D9   \n",
       "1731795  FE44D1131D86D515C88D5296598DD35A  015615BB1B66BA269602ED1A867271FA   \n",
       "1731796  465FE7E793D67BBB8A7A9869065170E5  E5D211ECD1F6A6164B6CFF1EB9B50499   \n",
       "\n",
       "        vendor_id  rate_code store_and_fwd_flag      pickup_datetime  \\\n",
       "1731794       VTS          1                NaN  2013-02-16 17:24:00   \n",
       "1731795       CMT          1                  N  2013-05-24 10:29:16   \n",
       "1731796       CMT          1                  N  2013-03-15 14:42:10   \n",
       "\n",
       "            dropoff_datetime  passenger_count  trip_time_in_secs  \\\n",
       "1731794  2013-02-16 17:30:00                3                360   \n",
       "1731795  2013-05-24 10:44:39                1                923   \n",
       "1731796  2013-03-15 14:51:20                1                549   \n",
       "\n",
       "         trip_distance  pickup_longitude  pickup_latitude  dropoff_longitude  \\\n",
       "1731794           2.15        -73.991554        40.726940         -73.971642   \n",
       "1731795           7.20        -73.865715        40.771168         -73.809006   \n",
       "1731796           0.70        -74.002968        40.718216         -74.011620   \n",
       "\n",
       "         dropoff_latitude  \n",
       "1731794         40.751362  \n",
       "1731795         40.700127  \n",
       "1731796         40.708351  "
      ]
     },
     "execution_count": 8,
     "metadata": {},
     "output_type": "execute_result"
    }
   ],
   "source": [
    "data.tail(3)"
   ]
  },
  {
   "cell_type": "markdown",
   "metadata": {
    "slideshow": {
     "slide_type": "slide"
    }
   },
   "source": [
    "* Ή πάλι με το γνώριμο συντακτικό της Python:"
   ]
  },
  {
   "cell_type": "code",
   "execution_count": 9,
   "metadata": {
    "slideshow": {
     "slide_type": "fragment"
    }
   },
   "outputs": [
    {
     "data": {
      "text/html": [
       "<div>\n",
       "<style scoped>\n",
       "    .dataframe tbody tr th:only-of-type {\n",
       "        vertical-align: middle;\n",
       "    }\n",
       "\n",
       "    .dataframe tbody tr th {\n",
       "        vertical-align: top;\n",
       "    }\n",
       "\n",
       "    .dataframe thead th {\n",
       "        text-align: right;\n",
       "    }\n",
       "</style>\n",
       "<table border=\"1\" class=\"dataframe\">\n",
       "  <thead>\n",
       "    <tr style=\"text-align: right;\">\n",
       "      <th></th>\n",
       "      <th>medallion</th>\n",
       "      <th>hack_license</th>\n",
       "      <th>vendor_id</th>\n",
       "      <th>rate_code</th>\n",
       "      <th>store_and_fwd_flag</th>\n",
       "      <th>pickup_datetime</th>\n",
       "      <th>dropoff_datetime</th>\n",
       "      <th>passenger_count</th>\n",
       "      <th>trip_time_in_secs</th>\n",
       "      <th>trip_distance</th>\n",
       "      <th>pickup_longitude</th>\n",
       "      <th>pickup_latitude</th>\n",
       "      <th>dropoff_longitude</th>\n",
       "      <th>dropoff_latitude</th>\n",
       "    </tr>\n",
       "  </thead>\n",
       "  <tbody>\n",
       "    <tr>\n",
       "      <th>1731794</th>\n",
       "      <td>23E5F1FDC96168E865BF7B4427C0163B</td>\n",
       "      <td>E7D75D6D6F2DBD7D25578F02991193D9</td>\n",
       "      <td>VTS</td>\n",
       "      <td>1</td>\n",
       "      <td>NaN</td>\n",
       "      <td>2013-02-16 17:24:00</td>\n",
       "      <td>2013-02-16 17:30:00</td>\n",
       "      <td>3</td>\n",
       "      <td>360</td>\n",
       "      <td>2.15</td>\n",
       "      <td>-73.991554</td>\n",
       "      <td>40.726940</td>\n",
       "      <td>-73.971642</td>\n",
       "      <td>40.751362</td>\n",
       "    </tr>\n",
       "    <tr>\n",
       "      <th>1731795</th>\n",
       "      <td>FE44D1131D86D515C88D5296598DD35A</td>\n",
       "      <td>015615BB1B66BA269602ED1A867271FA</td>\n",
       "      <td>CMT</td>\n",
       "      <td>1</td>\n",
       "      <td>N</td>\n",
       "      <td>2013-05-24 10:29:16</td>\n",
       "      <td>2013-05-24 10:44:39</td>\n",
       "      <td>1</td>\n",
       "      <td>923</td>\n",
       "      <td>7.20</td>\n",
       "      <td>-73.865715</td>\n",
       "      <td>40.771168</td>\n",
       "      <td>-73.809006</td>\n",
       "      <td>40.700127</td>\n",
       "    </tr>\n",
       "    <tr>\n",
       "      <th>1731796</th>\n",
       "      <td>465FE7E793D67BBB8A7A9869065170E5</td>\n",
       "      <td>E5D211ECD1F6A6164B6CFF1EB9B50499</td>\n",
       "      <td>CMT</td>\n",
       "      <td>1</td>\n",
       "      <td>N</td>\n",
       "      <td>2013-03-15 14:42:10</td>\n",
       "      <td>2013-03-15 14:51:20</td>\n",
       "      <td>1</td>\n",
       "      <td>549</td>\n",
       "      <td>0.70</td>\n",
       "      <td>-74.002968</td>\n",
       "      <td>40.718216</td>\n",
       "      <td>-74.011620</td>\n",
       "      <td>40.708351</td>\n",
       "    </tr>\n",
       "  </tbody>\n",
       "</table>\n",
       "</div>"
      ],
      "text/plain": [
       "                                medallion                      hack_license  \\\n",
       "1731794  23E5F1FDC96168E865BF7B4427C0163B  E7D75D6D6F2DBD7D25578F02991193D9   \n",
       "1731795  FE44D1131D86D515C88D5296598DD35A  015615BB1B66BA269602ED1A867271FA   \n",
       "1731796  465FE7E793D67BBB8A7A9869065170E5  E5D211ECD1F6A6164B6CFF1EB9B50499   \n",
       "\n",
       "        vendor_id  rate_code store_and_fwd_flag      pickup_datetime  \\\n",
       "1731794       VTS          1                NaN  2013-02-16 17:24:00   \n",
       "1731795       CMT          1                  N  2013-05-24 10:29:16   \n",
       "1731796       CMT          1                  N  2013-03-15 14:42:10   \n",
       "\n",
       "            dropoff_datetime  passenger_count  trip_time_in_secs  \\\n",
       "1731794  2013-02-16 17:30:00                3                360   \n",
       "1731795  2013-05-24 10:44:39                1                923   \n",
       "1731796  2013-03-15 14:51:20                1                549   \n",
       "\n",
       "         trip_distance  pickup_longitude  pickup_latitude  dropoff_longitude  \\\n",
       "1731794           2.15        -73.991554        40.726940         -73.971642   \n",
       "1731795           7.20        -73.865715        40.771168         -73.809006   \n",
       "1731796           0.70        -74.002968        40.718216         -74.011620   \n",
       "\n",
       "         dropoff_latitude  \n",
       "1731794         40.751362  \n",
       "1731795         40.700127  \n",
       "1731796         40.708351  "
      ]
     },
     "execution_count": 9,
     "metadata": {},
     "output_type": "execute_result"
    }
   ],
   "source": [
    "data[-3:]"
   ]
  },
  {
   "cell_type": "markdown",
   "metadata": {
    "slideshow": {
     "slide_type": "slide"
    }
   },
   "source": [
    "* Η μέθοδος `describe()` μας δίνει βασικά στοιχεία περιγραφικής στατιστικής."
   ]
  },
  {
   "cell_type": "code",
   "execution_count": 10,
   "metadata": {
    "slideshow": {
     "slide_type": "fragment"
    }
   },
   "outputs": [
    {
     "data": {
      "text/html": [
       "<div>\n",
       "<style scoped>\n",
       "    .dataframe tbody tr th:only-of-type {\n",
       "        vertical-align: middle;\n",
       "    }\n",
       "\n",
       "    .dataframe tbody tr th {\n",
       "        vertical-align: top;\n",
       "    }\n",
       "\n",
       "    .dataframe thead th {\n",
       "        text-align: right;\n",
       "    }\n",
       "</style>\n",
       "<table border=\"1\" class=\"dataframe\">\n",
       "  <thead>\n",
       "    <tr style=\"text-align: right;\">\n",
       "      <th></th>\n",
       "      <th>rate_code</th>\n",
       "      <th>passenger_count</th>\n",
       "      <th>trip_time_in_secs</th>\n",
       "      <th>trip_distance</th>\n",
       "      <th>pickup_longitude</th>\n",
       "      <th>pickup_latitude</th>\n",
       "      <th>dropoff_longitude</th>\n",
       "      <th>dropoff_latitude</th>\n",
       "    </tr>\n",
       "  </thead>\n",
       "  <tbody>\n",
       "    <tr>\n",
       "      <th>count</th>\n",
       "      <td>1.731797e+06</td>\n",
       "      <td>1.731797e+06</td>\n",
       "      <td>1.731797e+06</td>\n",
       "      <td>1.731797e+06</td>\n",
       "      <td>1.731797e+06</td>\n",
       "      <td>1.731797e+06</td>\n",
       "      <td>1.731767e+06</td>\n",
       "      <td>1.731767e+06</td>\n",
       "    </tr>\n",
       "    <tr>\n",
       "      <th>mean</th>\n",
       "      <td>1.033927e+00</td>\n",
       "      <td>1.707519e+00</td>\n",
       "      <td>8.110141e+02</td>\n",
       "      <td>3.458005e+00</td>\n",
       "      <td>-7.244724e+01</td>\n",
       "      <td>3.974714e+01</td>\n",
       "      <td>-7.240237e+01</td>\n",
       "      <td>3.972352e+01</td>\n",
       "    </tr>\n",
       "    <tr>\n",
       "      <th>std</th>\n",
       "      <td>4.174030e-01</td>\n",
       "      <td>1.373835e+00</td>\n",
       "      <td>1.561974e+04</td>\n",
       "      <td>7.221295e+02</td>\n",
       "      <td>1.122722e+01</td>\n",
       "      <td>8.509423e+00</td>\n",
       "      <td>1.134113e+01</td>\n",
       "      <td>8.562259e+00</td>\n",
       "    </tr>\n",
       "    <tr>\n",
       "      <th>min</th>\n",
       "      <td>0.000000e+00</td>\n",
       "      <td>0.000000e+00</td>\n",
       "      <td>-1.000000e+01</td>\n",
       "      <td>0.000000e+00</td>\n",
       "      <td>-7.400217e+02</td>\n",
       "      <td>-3.117494e+03</td>\n",
       "      <td>-1.800000e+02</td>\n",
       "      <td>-3.114296e+03</td>\n",
       "    </tr>\n",
       "    <tr>\n",
       "      <th>25%</th>\n",
       "      <td>1.000000e+00</td>\n",
       "      <td>1.000000e+00</td>\n",
       "      <td>3.600000e+02</td>\n",
       "      <td>1.040000e+00</td>\n",
       "      <td>-7.399218e+01</td>\n",
       "      <td>4.073443e+01</td>\n",
       "      <td>-7.399147e+01</td>\n",
       "      <td>4.073352e+01</td>\n",
       "    </tr>\n",
       "    <tr>\n",
       "      <th>50%</th>\n",
       "      <td>1.000000e+00</td>\n",
       "      <td>1.000000e+00</td>\n",
       "      <td>6.000000e+02</td>\n",
       "      <td>1.800000e+00</td>\n",
       "      <td>-7.398184e+01</td>\n",
       "      <td>4.075238e+01</td>\n",
       "      <td>-7.398027e+01</td>\n",
       "      <td>4.075280e+01</td>\n",
       "    </tr>\n",
       "    <tr>\n",
       "      <th>75%</th>\n",
       "      <td>1.000000e+00</td>\n",
       "      <td>2.000000e+00</td>\n",
       "      <td>9.600000e+02</td>\n",
       "      <td>3.200000e+00</td>\n",
       "      <td>-7.396687e+01</td>\n",
       "      <td>4.076700e+01</td>\n",
       "      <td>-7.396362e+01</td>\n",
       "      <td>4.076778e+01</td>\n",
       "    </tr>\n",
       "    <tr>\n",
       "      <th>max</th>\n",
       "      <td>2.100000e+02</td>\n",
       "      <td>7.000000e+00</td>\n",
       "      <td>4.294941e+06</td>\n",
       "      <td>9.500000e+05</td>\n",
       "      <td>5.197732e+01</td>\n",
       "      <td>7.400267e+01</td>\n",
       "      <td>8.431574e+01</td>\n",
       "      <td>7.401300e+01</td>\n",
       "    </tr>\n",
       "  </tbody>\n",
       "</table>\n",
       "</div>"
      ],
      "text/plain": [
       "          rate_code  passenger_count  trip_time_in_secs  trip_distance  \\\n",
       "count  1.731797e+06     1.731797e+06       1.731797e+06   1.731797e+06   \n",
       "mean   1.033927e+00     1.707519e+00       8.110141e+02   3.458005e+00   \n",
       "std    4.174030e-01     1.373835e+00       1.561974e+04   7.221295e+02   \n",
       "min    0.000000e+00     0.000000e+00      -1.000000e+01   0.000000e+00   \n",
       "25%    1.000000e+00     1.000000e+00       3.600000e+02   1.040000e+00   \n",
       "50%    1.000000e+00     1.000000e+00       6.000000e+02   1.800000e+00   \n",
       "75%    1.000000e+00     2.000000e+00       9.600000e+02   3.200000e+00   \n",
       "max    2.100000e+02     7.000000e+00       4.294941e+06   9.500000e+05   \n",
       "\n",
       "       pickup_longitude  pickup_latitude  dropoff_longitude  dropoff_latitude  \n",
       "count      1.731797e+06     1.731797e+06       1.731767e+06      1.731767e+06  \n",
       "mean      -7.244724e+01     3.974714e+01      -7.240237e+01      3.972352e+01  \n",
       "std        1.122722e+01     8.509423e+00       1.134113e+01      8.562259e+00  \n",
       "min       -7.400217e+02    -3.117494e+03      -1.800000e+02     -3.114296e+03  \n",
       "25%       -7.399218e+01     4.073443e+01      -7.399147e+01      4.073352e+01  \n",
       "50%       -7.398184e+01     4.075238e+01      -7.398027e+01      4.075280e+01  \n",
       "75%       -7.396687e+01     4.076700e+01      -7.396362e+01      4.076778e+01  \n",
       "max        5.197732e+01     7.400267e+01       8.431574e+01      7.401300e+01  "
      ]
     },
     "execution_count": 10,
     "metadata": {},
     "output_type": "execute_result"
    }
   ],
   "source": [
    "data.describe()"
   ]
  },
  {
   "cell_type": "markdown",
   "metadata": {
    "slideshow": {
     "slide_type": "slide"
    }
   },
   "source": [
    "* Η βασική βιβλιοθήκη για οπτικοποίηση δεδομένων με την Python είναι η [matplotlib](https://matplotlib.org/).\n",
    "\n",
    "* Θα εξετάσουμε τα σημεία της πόλης στα οποία οι επιβάτες μπαίνουν σε ταξί.\n",
    "\n",
    "* Το πρώτο βήμα είναι να βρούμε τις γεωγραφικές συντεταγμένες των σημείων από το `DataFrame`."
   ]
  },
  {
   "cell_type": "markdown",
   "metadata": {
    "slideshow": {
     "slide_type": "slide"
    }
   },
   "source": [
    "* Για να θυμηθούμε ποιες είναι οι στήλες."
   ]
  },
  {
   "cell_type": "code",
   "execution_count": 11,
   "metadata": {
    "slideshow": {
     "slide_type": "fragment"
    }
   },
   "outputs": [
    {
     "data": {
      "text/plain": [
       "Index(['medallion', 'hack_license', 'vendor_id', 'rate_code',\n",
       "       'store_and_fwd_flag', 'pickup_datetime', 'dropoff_datetime',\n",
       "       'passenger_count', 'trip_time_in_secs', 'trip_distance',\n",
       "       'pickup_longitude', 'pickup_latitude', 'dropoff_longitude',\n",
       "       'dropoff_latitude'],\n",
       "      dtype='object')"
      ]
     },
     "execution_count": 11,
     "metadata": {},
     "output_type": "execute_result"
    }
   ],
   "source": [
    "data.columns"
   ]
  },
  {
   "cell_type": "markdown",
   "metadata": {
    "slideshow": {
     "slide_type": "slide"
    }
   },
   "source": [
    "* Υπάρχουν τέσσερεις στήλες που αντιστοιχούν στις συντεταγμένες όπου ο επιβάτης μπαίνει και κατεβαίνει από το όχημα:\n",
    "\n",
    "  * `pickup_longitude`\n",
    "  * `pickup_latitude`\n",
    "  * `dropoff_longitude`\n",
    "  * `dropoff_latitude`\n",
    "\n",
    "* Θα επικεντρωθούμε όπως είπαμε στα σημεία που ξεκινάει μια διαδρομή."
   ]
  },
  {
   "cell_type": "markdown",
   "metadata": {
    "slideshow": {
     "slide_type": "slide"
    }
   },
   "source": [
    "* Μπορούμε να αναφερθούμε σε μία στήλη ενός `DataFrame` δίνοντας το όνομα του `DataFrame`, τελεία, και το όνομα της στήλης:"
   ]
  },
  {
   "cell_type": "code",
   "execution_count": 12,
   "metadata": {
    "slideshow": {
     "slide_type": "fragment"
    }
   },
   "outputs": [
    {
     "data": {
      "text/plain": [
       "0         -73.990089\n",
       "1         -73.960022\n",
       "2         -73.970634\n",
       "3         -73.992661\n",
       "4         -73.999107\n",
       "             ...    \n",
       "1731792   -73.995766\n",
       "1731793     0.000000\n",
       "1731794   -73.991554\n",
       "1731795   -73.865715\n",
       "1731796   -74.002968\n",
       "Name: pickup_longitude, Length: 1731797, dtype: float64"
      ]
     },
     "execution_count": 12,
     "metadata": {},
     "output_type": "execute_result"
    }
   ],
   "source": [
    "data.pickup_longitude"
   ]
  },
  {
   "cell_type": "markdown",
   "metadata": {
    "slideshow": {
     "slide_type": "slide"
    }
   },
   "source": [
    "* Εναλλακτικά, μπορούμε να χρησιμοποιήσουμε το συντακτικό που χρησιμοποιούμε στα λεξικά της Python:"
   ]
  },
  {
   "cell_type": "code",
   "execution_count": 13,
   "metadata": {
    "slideshow": {
     "slide_type": "fragment"
    }
   },
   "outputs": [
    {
     "data": {
      "text/plain": [
       "0          40.723377\n",
       "1          40.710678\n",
       "2          40.760410\n",
       "3          40.752766\n",
       "4          40.727924\n",
       "             ...    \n",
       "1731792    40.764359\n",
       "1731793     0.000000\n",
       "1731794    40.726940\n",
       "1731795    40.771168\n",
       "1731796    40.718216\n",
       "Name: pickup_latitude, Length: 1731797, dtype: float64"
      ]
     },
     "execution_count": 13,
     "metadata": {},
     "output_type": "execute_result"
    }
   ],
   "source": [
    "data['pickup_latitude']"
   ]
  },
  {
   "cell_type": "markdown",
   "metadata": {
    "slideshow": {
     "slide_type": "slide"
    }
   },
   "source": [
    "* Κάθε στήλη είναι ένα αντικείμενο τύπου `Series`.\n",
    "\n",
    "* Άρα, ένα `DataFrame` είναι τελικά ένα σύνολο από στήλες τύπου `Series`."
   ]
  },
  {
   "cell_type": "markdown",
   "metadata": {
    "slideshow": {
     "slide_type": "slide"
    }
   },
   "source": [
    "* Πριν είδαμε ότι κάποιες από τις τιμές του `DataFrame` δεν βγάζουν νόημα.\n",
    "\n",
    "* Το εύρος τιμών του γεωγραφικού πλάτους θα πρέπει να είναι μεταξύ 0 και 90 μοιρών.\n",
    "\n",
    "* Είναι όμως πράγματι έτσι;\n",
    "\n",
    "* Μπορούμε να το εξακριβώσουμε καλώντας τις κατάλληλες μεθόδους στα αντικείμενα `Series` της στήλης που μας ενδιάφερει."
   ]
  },
  {
   "cell_type": "code",
   "execution_count": 14,
   "metadata": {
    "slideshow": {
     "slide_type": "fragment"
    }
   },
   "outputs": [
    {
     "name": "stdout",
     "output_type": "stream",
     "text": [
      "-3117.4944 74.00267\n"
     ]
    }
   ],
   "source": [
    "print(data['pickup_latitude'].min(), data['pickup_latitude'].max())"
   ]
  },
  {
   "cell_type": "markdown",
   "metadata": {
    "slideshow": {
     "slide_type": "slide"
    }
   },
   "source": [
    "* Το εύρος τιμών του γεωγραφικού μήκους θα πρέπει να είναι μεταξύ -180 και 0 μοιρών (ή μάλλον πολύ μικρότερο, αφού αμφίβια ταξί δεν έχουμε στα δεδομένα μας).\n",
    "\n",
    "* Πάλι, είναι πράγματι έτσι;"
   ]
  },
  {
   "cell_type": "code",
   "execution_count": 15,
   "metadata": {
    "slideshow": {
     "slide_type": "fragment"
    }
   },
   "outputs": [
    {
     "name": "stdout",
     "output_type": "stream",
     "text": [
      "-740.02167 51.977318\n"
     ]
    }
   ],
   "source": [
    "print(data['pickup_longitude'].min(), data['pickup_longitude'].max())"
   ]
  },
  {
   "cell_type": "markdown",
   "metadata": {
    "slideshow": {
     "slide_type": "slide"
    }
   },
   "source": [
    "* Αν θέλουμε να ορίσουμε ένα φίλτρο στις τιμές μιας στήλης, ξεκινάμε ορίζοντας τη συνθήκη που μας ενδιαφέρει.\n",
    "\n",
    "* Μια λογική συνθήκη σε μία στήλη επιστρέφει ένα λογικό διάνυσμα (με τιμές `True` και `False`):"
   ]
  },
  {
   "cell_type": "code",
   "execution_count": 16,
   "metadata": {
    "slideshow": {
     "slide_type": "fragment"
    }
   },
   "outputs": [
    {
     "data": {
      "text/plain": [
       "0          True\n",
       "1          True\n",
       "2          True\n",
       "3          True\n",
       "4          True\n",
       "           ... \n",
       "1731792    True\n",
       "1731793    True\n",
       "1731794    True\n",
       "1731795    True\n",
       "1731796    True\n",
       "Name: pickup_latitude, Length: 1731797, dtype: bool"
      ]
     },
     "execution_count": 16,
     "metadata": {},
     "output_type": "execute_result"
    }
   ],
   "source": [
    "data['pickup_latitude'] >= 0"
   ]
  },
  {
   "cell_type": "markdown",
   "metadata": {
    "slideshow": {
     "slide_type": "slide"
    }
   },
   "source": [
    "* Αν δώσουμε ένα λογικό διάνυσμα σε ένα `DataFrame` παίρνουμε τις γραμμές του `DataFrame` για τις οποίες το διάνυσμα έχει την τιμή `True`."
   ]
  },
  {
   "cell_type": "code",
   "execution_count": 17,
   "metadata": {
    "slideshow": {
     "slide_type": "fragment"
    }
   },
   "outputs": [
    {
     "name": "stdout",
     "output_type": "stream",
     "text": [
      "1731797\n"
     ]
    },
    {
     "data": {
      "text/html": [
       "<div>\n",
       "<style scoped>\n",
       "    .dataframe tbody tr th:only-of-type {\n",
       "        vertical-align: middle;\n",
       "    }\n",
       "\n",
       "    .dataframe tbody tr th {\n",
       "        vertical-align: top;\n",
       "    }\n",
       "\n",
       "    .dataframe thead th {\n",
       "        text-align: right;\n",
       "    }\n",
       "</style>\n",
       "<table border=\"1\" class=\"dataframe\">\n",
       "  <thead>\n",
       "    <tr style=\"text-align: right;\">\n",
       "      <th></th>\n",
       "      <th>medallion</th>\n",
       "      <th>hack_license</th>\n",
       "      <th>vendor_id</th>\n",
       "      <th>rate_code</th>\n",
       "      <th>store_and_fwd_flag</th>\n",
       "      <th>pickup_datetime</th>\n",
       "      <th>dropoff_datetime</th>\n",
       "      <th>passenger_count</th>\n",
       "      <th>trip_time_in_secs</th>\n",
       "      <th>trip_distance</th>\n",
       "      <th>pickup_longitude</th>\n",
       "      <th>pickup_latitude</th>\n",
       "      <th>dropoff_longitude</th>\n",
       "      <th>dropoff_latitude</th>\n",
       "    </tr>\n",
       "  </thead>\n",
       "  <tbody>\n",
       "    <tr>\n",
       "      <th>0</th>\n",
       "      <td>037CB433AB5895649F7A9EF37F767EF1</td>\n",
       "      <td>F57FA13A6A82FE2F40D9DB0193DE0FEE</td>\n",
       "      <td>VTS</td>\n",
       "      <td>1</td>\n",
       "      <td>NaN</td>\n",
       "      <td>2013-10-04 20:20:00</td>\n",
       "      <td>2013-10-04 20:42:00</td>\n",
       "      <td>1</td>\n",
       "      <td>1320</td>\n",
       "      <td>4.05</td>\n",
       "      <td>-73.990089</td>\n",
       "      <td>40.723377</td>\n",
       "      <td>-73.941559</td>\n",
       "      <td>40.707790</td>\n",
       "    </tr>\n",
       "    <tr>\n",
       "      <th>1</th>\n",
       "      <td>E05E952B2DA14C7E9F1D7DEB80667739</td>\n",
       "      <td>11A3989B7BABB288FA3FA233E348C450</td>\n",
       "      <td>CMT</td>\n",
       "      <td>1</td>\n",
       "      <td>N</td>\n",
       "      <td>2013-09-27 14:16:04</td>\n",
       "      <td>2013-09-27 14:37:17</td>\n",
       "      <td>1</td>\n",
       "      <td>1273</td>\n",
       "      <td>2.10</td>\n",
       "      <td>-73.960022</td>\n",
       "      <td>40.710678</td>\n",
       "      <td>-73.994324</td>\n",
       "      <td>40.722858</td>\n",
       "    </tr>\n",
       "    <tr>\n",
       "      <th>2</th>\n",
       "      <td>51B267141807D0261EEB1844D2A78087</td>\n",
       "      <td>9DE60DFD683336F899D5BB448CE7CB09</td>\n",
       "      <td>CMT</td>\n",
       "      <td>1</td>\n",
       "      <td>N</td>\n",
       "      <td>2013-07-18 13:24:37</td>\n",
       "      <td>2013-07-18 13:29:27</td>\n",
       "      <td>3</td>\n",
       "      <td>290</td>\n",
       "      <td>0.90</td>\n",
       "      <td>-73.970634</td>\n",
       "      <td>40.760410</td>\n",
       "      <td>-73.960213</td>\n",
       "      <td>40.770241</td>\n",
       "    </tr>\n",
       "    <tr>\n",
       "      <th>3</th>\n",
       "      <td>76AC5C0F44D07BA5A2291F19E730B0B9</td>\n",
       "      <td>2348E03BB8227595281D9D6B38E45B38</td>\n",
       "      <td>VTS</td>\n",
       "      <td>1</td>\n",
       "      <td>NaN</td>\n",
       "      <td>2013-06-25 12:12:00</td>\n",
       "      <td>2013-06-25 12:28:00</td>\n",
       "      <td>2</td>\n",
       "      <td>960</td>\n",
       "      <td>1.28</td>\n",
       "      <td>-73.992661</td>\n",
       "      <td>40.752766</td>\n",
       "      <td>-73.975952</td>\n",
       "      <td>40.751781</td>\n",
       "    </tr>\n",
       "    <tr>\n",
       "      <th>4</th>\n",
       "      <td>739323AC15DADABE4B54561CB3330C53</td>\n",
       "      <td>9387A0902D7B1B4597802BE63AE7C34F</td>\n",
       "      <td>VTS</td>\n",
       "      <td>1</td>\n",
       "      <td>NaN</td>\n",
       "      <td>2013-04-19 05:28:00</td>\n",
       "      <td>2013-04-19 05:38:00</td>\n",
       "      <td>1</td>\n",
       "      <td>600</td>\n",
       "      <td>2.22</td>\n",
       "      <td>-73.999107</td>\n",
       "      <td>40.727924</td>\n",
       "      <td>-73.974869</td>\n",
       "      <td>40.741886</td>\n",
       "    </tr>\n",
       "    <tr>\n",
       "      <th>...</th>\n",
       "      <td>...</td>\n",
       "      <td>...</td>\n",
       "      <td>...</td>\n",
       "      <td>...</td>\n",
       "      <td>...</td>\n",
       "      <td>...</td>\n",
       "      <td>...</td>\n",
       "      <td>...</td>\n",
       "      <td>...</td>\n",
       "      <td>...</td>\n",
       "      <td>...</td>\n",
       "      <td>...</td>\n",
       "      <td>...</td>\n",
       "      <td>...</td>\n",
       "    </tr>\n",
       "    <tr>\n",
       "      <th>1731792</th>\n",
       "      <td>5DAE4FE51457F5B4D4950D00A0AD4394</td>\n",
       "      <td>B76DC9DC874EB9D71CC04ABC0D9AAC6A</td>\n",
       "      <td>CMT</td>\n",
       "      <td>1</td>\n",
       "      <td>N</td>\n",
       "      <td>2013-08-02 03:34:00</td>\n",
       "      <td>2013-08-02 03:51:47</td>\n",
       "      <td>2</td>\n",
       "      <td>1067</td>\n",
       "      <td>6.00</td>\n",
       "      <td>-73.995766</td>\n",
       "      <td>40.764359</td>\n",
       "      <td>-73.920052</td>\n",
       "      <td>40.775574</td>\n",
       "    </tr>\n",
       "    <tr>\n",
       "      <th>1731793</th>\n",
       "      <td>3C16CFAD2B12F3508F7211C37F8F8B8F</td>\n",
       "      <td>A36B62F2B6D1D6C289519810E66EAAB9</td>\n",
       "      <td>VTS</td>\n",
       "      <td>1</td>\n",
       "      <td>NaN</td>\n",
       "      <td>2013-02-21 12:44:00</td>\n",
       "      <td>2013-02-21 13:11:00</td>\n",
       "      <td>6</td>\n",
       "      <td>1620</td>\n",
       "      <td>3.94</td>\n",
       "      <td>0.000000</td>\n",
       "      <td>0.000000</td>\n",
       "      <td>0.000000</td>\n",
       "      <td>0.000000</td>\n",
       "    </tr>\n",
       "    <tr>\n",
       "      <th>1731794</th>\n",
       "      <td>23E5F1FDC96168E865BF7B4427C0163B</td>\n",
       "      <td>E7D75D6D6F2DBD7D25578F02991193D9</td>\n",
       "      <td>VTS</td>\n",
       "      <td>1</td>\n",
       "      <td>NaN</td>\n",
       "      <td>2013-02-16 17:24:00</td>\n",
       "      <td>2013-02-16 17:30:00</td>\n",
       "      <td>3</td>\n",
       "      <td>360</td>\n",
       "      <td>2.15</td>\n",
       "      <td>-73.991554</td>\n",
       "      <td>40.726940</td>\n",
       "      <td>-73.971642</td>\n",
       "      <td>40.751362</td>\n",
       "    </tr>\n",
       "    <tr>\n",
       "      <th>1731795</th>\n",
       "      <td>FE44D1131D86D515C88D5296598DD35A</td>\n",
       "      <td>015615BB1B66BA269602ED1A867271FA</td>\n",
       "      <td>CMT</td>\n",
       "      <td>1</td>\n",
       "      <td>N</td>\n",
       "      <td>2013-05-24 10:29:16</td>\n",
       "      <td>2013-05-24 10:44:39</td>\n",
       "      <td>1</td>\n",
       "      <td>923</td>\n",
       "      <td>7.20</td>\n",
       "      <td>-73.865715</td>\n",
       "      <td>40.771168</td>\n",
       "      <td>-73.809006</td>\n",
       "      <td>40.700127</td>\n",
       "    </tr>\n",
       "    <tr>\n",
       "      <th>1731796</th>\n",
       "      <td>465FE7E793D67BBB8A7A9869065170E5</td>\n",
       "      <td>E5D211ECD1F6A6164B6CFF1EB9B50499</td>\n",
       "      <td>CMT</td>\n",
       "      <td>1</td>\n",
       "      <td>N</td>\n",
       "      <td>2013-03-15 14:42:10</td>\n",
       "      <td>2013-03-15 14:51:20</td>\n",
       "      <td>1</td>\n",
       "      <td>549</td>\n",
       "      <td>0.70</td>\n",
       "      <td>-74.002968</td>\n",
       "      <td>40.718216</td>\n",
       "      <td>-74.011620</td>\n",
       "      <td>40.708351</td>\n",
       "    </tr>\n",
       "  </tbody>\n",
       "</table>\n",
       "<p>1726330 rows × 14 columns</p>\n",
       "</div>"
      ],
      "text/plain": [
       "                                medallion                      hack_license  \\\n",
       "0        037CB433AB5895649F7A9EF37F767EF1  F57FA13A6A82FE2F40D9DB0193DE0FEE   \n",
       "1        E05E952B2DA14C7E9F1D7DEB80667739  11A3989B7BABB288FA3FA233E348C450   \n",
       "2        51B267141807D0261EEB1844D2A78087  9DE60DFD683336F899D5BB448CE7CB09   \n",
       "3        76AC5C0F44D07BA5A2291F19E730B0B9  2348E03BB8227595281D9D6B38E45B38   \n",
       "4        739323AC15DADABE4B54561CB3330C53  9387A0902D7B1B4597802BE63AE7C34F   \n",
       "...                                   ...                               ...   \n",
       "1731792  5DAE4FE51457F5B4D4950D00A0AD4394  B76DC9DC874EB9D71CC04ABC0D9AAC6A   \n",
       "1731793  3C16CFAD2B12F3508F7211C37F8F8B8F  A36B62F2B6D1D6C289519810E66EAAB9   \n",
       "1731794  23E5F1FDC96168E865BF7B4427C0163B  E7D75D6D6F2DBD7D25578F02991193D9   \n",
       "1731795  FE44D1131D86D515C88D5296598DD35A  015615BB1B66BA269602ED1A867271FA   \n",
       "1731796  465FE7E793D67BBB8A7A9869065170E5  E5D211ECD1F6A6164B6CFF1EB9B50499   \n",
       "\n",
       "        vendor_id  rate_code store_and_fwd_flag      pickup_datetime  \\\n",
       "0             VTS          1                NaN  2013-10-04 20:20:00   \n",
       "1             CMT          1                  N  2013-09-27 14:16:04   \n",
       "2             CMT          1                  N  2013-07-18 13:24:37   \n",
       "3             VTS          1                NaN  2013-06-25 12:12:00   \n",
       "4             VTS          1                NaN  2013-04-19 05:28:00   \n",
       "...           ...        ...                ...                  ...   \n",
       "1731792       CMT          1                  N  2013-08-02 03:34:00   \n",
       "1731793       VTS          1                NaN  2013-02-21 12:44:00   \n",
       "1731794       VTS          1                NaN  2013-02-16 17:24:00   \n",
       "1731795       CMT          1                  N  2013-05-24 10:29:16   \n",
       "1731796       CMT          1                  N  2013-03-15 14:42:10   \n",
       "\n",
       "            dropoff_datetime  passenger_count  trip_time_in_secs  \\\n",
       "0        2013-10-04 20:42:00                1               1320   \n",
       "1        2013-09-27 14:37:17                1               1273   \n",
       "2        2013-07-18 13:29:27                3                290   \n",
       "3        2013-06-25 12:28:00                2                960   \n",
       "4        2013-04-19 05:38:00                1                600   \n",
       "...                      ...              ...                ...   \n",
       "1731792  2013-08-02 03:51:47                2               1067   \n",
       "1731793  2013-02-21 13:11:00                6               1620   \n",
       "1731794  2013-02-16 17:30:00                3                360   \n",
       "1731795  2013-05-24 10:44:39                1                923   \n",
       "1731796  2013-03-15 14:51:20                1                549   \n",
       "\n",
       "         trip_distance  pickup_longitude  pickup_latitude  dropoff_longitude  \\\n",
       "0                 4.05        -73.990089        40.723377         -73.941559   \n",
       "1                 2.10        -73.960022        40.710678         -73.994324   \n",
       "2                 0.90        -73.970634        40.760410         -73.960213   \n",
       "3                 1.28        -73.992661        40.752766         -73.975952   \n",
       "4                 2.22        -73.999107        40.727924         -73.974869   \n",
       "...                ...               ...              ...                ...   \n",
       "1731792           6.00        -73.995766        40.764359         -73.920052   \n",
       "1731793           3.94          0.000000         0.000000           0.000000   \n",
       "1731794           2.15        -73.991554        40.726940         -73.971642   \n",
       "1731795           7.20        -73.865715        40.771168         -73.809006   \n",
       "1731796           0.70        -74.002968        40.718216         -74.011620   \n",
       "\n",
       "         dropoff_latitude  \n",
       "0               40.707790  \n",
       "1               40.722858  \n",
       "2               40.770241  \n",
       "3               40.751781  \n",
       "4               40.741886  \n",
       "...                   ...  \n",
       "1731792         40.775574  \n",
       "1731793          0.000000  \n",
       "1731794         40.751362  \n",
       "1731795         40.700127  \n",
       "1731796         40.708351  \n",
       "\n",
       "[1726330 rows x 14 columns]"
      ]
     },
     "execution_count": 17,
     "metadata": {},
     "output_type": "execute_result"
    }
   ],
   "source": [
    "print(data.shape[0])\n",
    "data[data['pickup_latitude'] >= 0]"
   ]
  },
  {
   "cell_type": "markdown",
   "metadata": {
    "slideshow": {
     "slide_type": "slide"
    }
   },
   "source": [
    "* Εδώ όμως θέλουμε το γεωγραφικό πλάτος να είναι από το 0 έως και το 90.\n",
    "\n",
    "* Αυτό μπορούμε να το κάνουμε συνδέοντας τις δύο αντίστοιχες λογικές συνθήκες με τον τελεστή `&` (o αντίστοιχος διαζευκτικός τελευστής, ή, είναι ο `|`)."
   ]
  },
  {
   "cell_type": "code",
   "execution_count": 18,
   "metadata": {
    "slideshow": {
     "slide_type": "fragment"
    }
   },
   "outputs": [
    {
     "data": {
      "text/html": [
       "<div>\n",
       "<style scoped>\n",
       "    .dataframe tbody tr th:only-of-type {\n",
       "        vertical-align: middle;\n",
       "    }\n",
       "\n",
       "    .dataframe tbody tr th {\n",
       "        vertical-align: top;\n",
       "    }\n",
       "\n",
       "    .dataframe thead th {\n",
       "        text-align: right;\n",
       "    }\n",
       "</style>\n",
       "<table border=\"1\" class=\"dataframe\">\n",
       "  <thead>\n",
       "    <tr style=\"text-align: right;\">\n",
       "      <th></th>\n",
       "      <th>medallion</th>\n",
       "      <th>hack_license</th>\n",
       "      <th>vendor_id</th>\n",
       "      <th>rate_code</th>\n",
       "      <th>store_and_fwd_flag</th>\n",
       "      <th>pickup_datetime</th>\n",
       "      <th>dropoff_datetime</th>\n",
       "      <th>passenger_count</th>\n",
       "      <th>trip_time_in_secs</th>\n",
       "      <th>trip_distance</th>\n",
       "      <th>pickup_longitude</th>\n",
       "      <th>pickup_latitude</th>\n",
       "      <th>dropoff_longitude</th>\n",
       "      <th>dropoff_latitude</th>\n",
       "    </tr>\n",
       "  </thead>\n",
       "  <tbody>\n",
       "    <tr>\n",
       "      <th>0</th>\n",
       "      <td>037CB433AB5895649F7A9EF37F767EF1</td>\n",
       "      <td>F57FA13A6A82FE2F40D9DB0193DE0FEE</td>\n",
       "      <td>VTS</td>\n",
       "      <td>1</td>\n",
       "      <td>NaN</td>\n",
       "      <td>2013-10-04 20:20:00</td>\n",
       "      <td>2013-10-04 20:42:00</td>\n",
       "      <td>1</td>\n",
       "      <td>1320</td>\n",
       "      <td>4.05</td>\n",
       "      <td>-73.990089</td>\n",
       "      <td>40.723377</td>\n",
       "      <td>-73.941559</td>\n",
       "      <td>40.707790</td>\n",
       "    </tr>\n",
       "    <tr>\n",
       "      <th>1</th>\n",
       "      <td>E05E952B2DA14C7E9F1D7DEB80667739</td>\n",
       "      <td>11A3989B7BABB288FA3FA233E348C450</td>\n",
       "      <td>CMT</td>\n",
       "      <td>1</td>\n",
       "      <td>N</td>\n",
       "      <td>2013-09-27 14:16:04</td>\n",
       "      <td>2013-09-27 14:37:17</td>\n",
       "      <td>1</td>\n",
       "      <td>1273</td>\n",
       "      <td>2.10</td>\n",
       "      <td>-73.960022</td>\n",
       "      <td>40.710678</td>\n",
       "      <td>-73.994324</td>\n",
       "      <td>40.722858</td>\n",
       "    </tr>\n",
       "    <tr>\n",
       "      <th>2</th>\n",
       "      <td>51B267141807D0261EEB1844D2A78087</td>\n",
       "      <td>9DE60DFD683336F899D5BB448CE7CB09</td>\n",
       "      <td>CMT</td>\n",
       "      <td>1</td>\n",
       "      <td>N</td>\n",
       "      <td>2013-07-18 13:24:37</td>\n",
       "      <td>2013-07-18 13:29:27</td>\n",
       "      <td>3</td>\n",
       "      <td>290</td>\n",
       "      <td>0.90</td>\n",
       "      <td>-73.970634</td>\n",
       "      <td>40.760410</td>\n",
       "      <td>-73.960213</td>\n",
       "      <td>40.770241</td>\n",
       "    </tr>\n",
       "    <tr>\n",
       "      <th>3</th>\n",
       "      <td>76AC5C0F44D07BA5A2291F19E730B0B9</td>\n",
       "      <td>2348E03BB8227595281D9D6B38E45B38</td>\n",
       "      <td>VTS</td>\n",
       "      <td>1</td>\n",
       "      <td>NaN</td>\n",
       "      <td>2013-06-25 12:12:00</td>\n",
       "      <td>2013-06-25 12:28:00</td>\n",
       "      <td>2</td>\n",
       "      <td>960</td>\n",
       "      <td>1.28</td>\n",
       "      <td>-73.992661</td>\n",
       "      <td>40.752766</td>\n",
       "      <td>-73.975952</td>\n",
       "      <td>40.751781</td>\n",
       "    </tr>\n",
       "    <tr>\n",
       "      <th>4</th>\n",
       "      <td>739323AC15DADABE4B54561CB3330C53</td>\n",
       "      <td>9387A0902D7B1B4597802BE63AE7C34F</td>\n",
       "      <td>VTS</td>\n",
       "      <td>1</td>\n",
       "      <td>NaN</td>\n",
       "      <td>2013-04-19 05:28:00</td>\n",
       "      <td>2013-04-19 05:38:00</td>\n",
       "      <td>1</td>\n",
       "      <td>600</td>\n",
       "      <td>2.22</td>\n",
       "      <td>-73.999107</td>\n",
       "      <td>40.727924</td>\n",
       "      <td>-73.974869</td>\n",
       "      <td>40.741886</td>\n",
       "    </tr>\n",
       "    <tr>\n",
       "      <th>...</th>\n",
       "      <td>...</td>\n",
       "      <td>...</td>\n",
       "      <td>...</td>\n",
       "      <td>...</td>\n",
       "      <td>...</td>\n",
       "      <td>...</td>\n",
       "      <td>...</td>\n",
       "      <td>...</td>\n",
       "      <td>...</td>\n",
       "      <td>...</td>\n",
       "      <td>...</td>\n",
       "      <td>...</td>\n",
       "      <td>...</td>\n",
       "      <td>...</td>\n",
       "    </tr>\n",
       "    <tr>\n",
       "      <th>1731792</th>\n",
       "      <td>5DAE4FE51457F5B4D4950D00A0AD4394</td>\n",
       "      <td>B76DC9DC874EB9D71CC04ABC0D9AAC6A</td>\n",
       "      <td>CMT</td>\n",
       "      <td>1</td>\n",
       "      <td>N</td>\n",
       "      <td>2013-08-02 03:34:00</td>\n",
       "      <td>2013-08-02 03:51:47</td>\n",
       "      <td>2</td>\n",
       "      <td>1067</td>\n",
       "      <td>6.00</td>\n",
       "      <td>-73.995766</td>\n",
       "      <td>40.764359</td>\n",
       "      <td>-73.920052</td>\n",
       "      <td>40.775574</td>\n",
       "    </tr>\n",
       "    <tr>\n",
       "      <th>1731793</th>\n",
       "      <td>3C16CFAD2B12F3508F7211C37F8F8B8F</td>\n",
       "      <td>A36B62F2B6D1D6C289519810E66EAAB9</td>\n",
       "      <td>VTS</td>\n",
       "      <td>1</td>\n",
       "      <td>NaN</td>\n",
       "      <td>2013-02-21 12:44:00</td>\n",
       "      <td>2013-02-21 13:11:00</td>\n",
       "      <td>6</td>\n",
       "      <td>1620</td>\n",
       "      <td>3.94</td>\n",
       "      <td>0.000000</td>\n",
       "      <td>0.000000</td>\n",
       "      <td>0.000000</td>\n",
       "      <td>0.000000</td>\n",
       "    </tr>\n",
       "    <tr>\n",
       "      <th>1731794</th>\n",
       "      <td>23E5F1FDC96168E865BF7B4427C0163B</td>\n",
       "      <td>E7D75D6D6F2DBD7D25578F02991193D9</td>\n",
       "      <td>VTS</td>\n",
       "      <td>1</td>\n",
       "      <td>NaN</td>\n",
       "      <td>2013-02-16 17:24:00</td>\n",
       "      <td>2013-02-16 17:30:00</td>\n",
       "      <td>3</td>\n",
       "      <td>360</td>\n",
       "      <td>2.15</td>\n",
       "      <td>-73.991554</td>\n",
       "      <td>40.726940</td>\n",
       "      <td>-73.971642</td>\n",
       "      <td>40.751362</td>\n",
       "    </tr>\n",
       "    <tr>\n",
       "      <th>1731795</th>\n",
       "      <td>FE44D1131D86D515C88D5296598DD35A</td>\n",
       "      <td>015615BB1B66BA269602ED1A867271FA</td>\n",
       "      <td>CMT</td>\n",
       "      <td>1</td>\n",
       "      <td>N</td>\n",
       "      <td>2013-05-24 10:29:16</td>\n",
       "      <td>2013-05-24 10:44:39</td>\n",
       "      <td>1</td>\n",
       "      <td>923</td>\n",
       "      <td>7.20</td>\n",
       "      <td>-73.865715</td>\n",
       "      <td>40.771168</td>\n",
       "      <td>-73.809006</td>\n",
       "      <td>40.700127</td>\n",
       "    </tr>\n",
       "    <tr>\n",
       "      <th>1731796</th>\n",
       "      <td>465FE7E793D67BBB8A7A9869065170E5</td>\n",
       "      <td>E5D211ECD1F6A6164B6CFF1EB9B50499</td>\n",
       "      <td>CMT</td>\n",
       "      <td>1</td>\n",
       "      <td>N</td>\n",
       "      <td>2013-03-15 14:42:10</td>\n",
       "      <td>2013-03-15 14:51:20</td>\n",
       "      <td>1</td>\n",
       "      <td>549</td>\n",
       "      <td>0.70</td>\n",
       "      <td>-74.002968</td>\n",
       "      <td>40.718216</td>\n",
       "      <td>-74.011620</td>\n",
       "      <td>40.708351</td>\n",
       "    </tr>\n",
       "  </tbody>\n",
       "</table>\n",
       "<p>1726330 rows × 14 columns</p>\n",
       "</div>"
      ],
      "text/plain": [
       "                                medallion                      hack_license  \\\n",
       "0        037CB433AB5895649F7A9EF37F767EF1  F57FA13A6A82FE2F40D9DB0193DE0FEE   \n",
       "1        E05E952B2DA14C7E9F1D7DEB80667739  11A3989B7BABB288FA3FA233E348C450   \n",
       "2        51B267141807D0261EEB1844D2A78087  9DE60DFD683336F899D5BB448CE7CB09   \n",
       "3        76AC5C0F44D07BA5A2291F19E730B0B9  2348E03BB8227595281D9D6B38E45B38   \n",
       "4        739323AC15DADABE4B54561CB3330C53  9387A0902D7B1B4597802BE63AE7C34F   \n",
       "...                                   ...                               ...   \n",
       "1731792  5DAE4FE51457F5B4D4950D00A0AD4394  B76DC9DC874EB9D71CC04ABC0D9AAC6A   \n",
       "1731793  3C16CFAD2B12F3508F7211C37F8F8B8F  A36B62F2B6D1D6C289519810E66EAAB9   \n",
       "1731794  23E5F1FDC96168E865BF7B4427C0163B  E7D75D6D6F2DBD7D25578F02991193D9   \n",
       "1731795  FE44D1131D86D515C88D5296598DD35A  015615BB1B66BA269602ED1A867271FA   \n",
       "1731796  465FE7E793D67BBB8A7A9869065170E5  E5D211ECD1F6A6164B6CFF1EB9B50499   \n",
       "\n",
       "        vendor_id  rate_code store_and_fwd_flag      pickup_datetime  \\\n",
       "0             VTS          1                NaN  2013-10-04 20:20:00   \n",
       "1             CMT          1                  N  2013-09-27 14:16:04   \n",
       "2             CMT          1                  N  2013-07-18 13:24:37   \n",
       "3             VTS          1                NaN  2013-06-25 12:12:00   \n",
       "4             VTS          1                NaN  2013-04-19 05:28:00   \n",
       "...           ...        ...                ...                  ...   \n",
       "1731792       CMT          1                  N  2013-08-02 03:34:00   \n",
       "1731793       VTS          1                NaN  2013-02-21 12:44:00   \n",
       "1731794       VTS          1                NaN  2013-02-16 17:24:00   \n",
       "1731795       CMT          1                  N  2013-05-24 10:29:16   \n",
       "1731796       CMT          1                  N  2013-03-15 14:42:10   \n",
       "\n",
       "            dropoff_datetime  passenger_count  trip_time_in_secs  \\\n",
       "0        2013-10-04 20:42:00                1               1320   \n",
       "1        2013-09-27 14:37:17                1               1273   \n",
       "2        2013-07-18 13:29:27                3                290   \n",
       "3        2013-06-25 12:28:00                2                960   \n",
       "4        2013-04-19 05:38:00                1                600   \n",
       "...                      ...              ...                ...   \n",
       "1731792  2013-08-02 03:51:47                2               1067   \n",
       "1731793  2013-02-21 13:11:00                6               1620   \n",
       "1731794  2013-02-16 17:30:00                3                360   \n",
       "1731795  2013-05-24 10:44:39                1                923   \n",
       "1731796  2013-03-15 14:51:20                1                549   \n",
       "\n",
       "         trip_distance  pickup_longitude  pickup_latitude  dropoff_longitude  \\\n",
       "0                 4.05        -73.990089        40.723377         -73.941559   \n",
       "1                 2.10        -73.960022        40.710678         -73.994324   \n",
       "2                 0.90        -73.970634        40.760410         -73.960213   \n",
       "3                 1.28        -73.992661        40.752766         -73.975952   \n",
       "4                 2.22        -73.999107        40.727924         -73.974869   \n",
       "...                ...               ...              ...                ...   \n",
       "1731792           6.00        -73.995766        40.764359         -73.920052   \n",
       "1731793           3.94          0.000000         0.000000           0.000000   \n",
       "1731794           2.15        -73.991554        40.726940         -73.971642   \n",
       "1731795           7.20        -73.865715        40.771168         -73.809006   \n",
       "1731796           0.70        -74.002968        40.718216         -74.011620   \n",
       "\n",
       "         dropoff_latitude  \n",
       "0               40.707790  \n",
       "1               40.722858  \n",
       "2               40.770241  \n",
       "3               40.751781  \n",
       "4               40.741886  \n",
       "...                   ...  \n",
       "1731792         40.775574  \n",
       "1731793          0.000000  \n",
       "1731794         40.751362  \n",
       "1731795         40.700127  \n",
       "1731796         40.708351  \n",
       "\n",
       "[1726330 rows x 14 columns]"
      ]
     },
     "execution_count": 18,
     "metadata": {},
     "output_type": "execute_result"
    }
   ],
   "source": [
    "data[(data['pickup_latitude'] >= 0) & (data['pickup_latitude'] <= 90)]"
   ]
  },
  {
   "cell_type": "markdown",
   "metadata": {
    "slideshow": {
     "slide_type": "slide"
    }
   },
   "source": [
    "* Αλλά ακόμα δεν τελειώσαμε, θέλουμε και το γεωγραφικό μήκος να είναι από το -180 έως και το 0, άρα συνδέουμε και τις επιπλέον λογικές συνθήκες."
   ]
  },
  {
   "cell_type": "code",
   "execution_count": 19,
   "metadata": {
    "slideshow": {
     "slide_type": "fragment"
    }
   },
   "outputs": [
    {
     "data": {
      "text/html": [
       "<div>\n",
       "<style scoped>\n",
       "    .dataframe tbody tr th:only-of-type {\n",
       "        vertical-align: middle;\n",
       "    }\n",
       "\n",
       "    .dataframe tbody tr th {\n",
       "        vertical-align: top;\n",
       "    }\n",
       "\n",
       "    .dataframe thead th {\n",
       "        text-align: right;\n",
       "    }\n",
       "</style>\n",
       "<table border=\"1\" class=\"dataframe\">\n",
       "  <thead>\n",
       "    <tr style=\"text-align: right;\">\n",
       "      <th></th>\n",
       "      <th>medallion</th>\n",
       "      <th>hack_license</th>\n",
       "      <th>vendor_id</th>\n",
       "      <th>rate_code</th>\n",
       "      <th>store_and_fwd_flag</th>\n",
       "      <th>pickup_datetime</th>\n",
       "      <th>dropoff_datetime</th>\n",
       "      <th>passenger_count</th>\n",
       "      <th>trip_time_in_secs</th>\n",
       "      <th>trip_distance</th>\n",
       "      <th>pickup_longitude</th>\n",
       "      <th>pickup_latitude</th>\n",
       "      <th>dropoff_longitude</th>\n",
       "      <th>dropoff_latitude</th>\n",
       "    </tr>\n",
       "  </thead>\n",
       "  <tbody>\n",
       "    <tr>\n",
       "      <th>0</th>\n",
       "      <td>037CB433AB5895649F7A9EF37F767EF1</td>\n",
       "      <td>F57FA13A6A82FE2F40D9DB0193DE0FEE</td>\n",
       "      <td>VTS</td>\n",
       "      <td>1</td>\n",
       "      <td>NaN</td>\n",
       "      <td>2013-10-04 20:20:00</td>\n",
       "      <td>2013-10-04 20:42:00</td>\n",
       "      <td>1</td>\n",
       "      <td>1320</td>\n",
       "      <td>4.05</td>\n",
       "      <td>-73.990089</td>\n",
       "      <td>40.723377</td>\n",
       "      <td>-73.941559</td>\n",
       "      <td>40.707790</td>\n",
       "    </tr>\n",
       "    <tr>\n",
       "      <th>1</th>\n",
       "      <td>E05E952B2DA14C7E9F1D7DEB80667739</td>\n",
       "      <td>11A3989B7BABB288FA3FA233E348C450</td>\n",
       "      <td>CMT</td>\n",
       "      <td>1</td>\n",
       "      <td>N</td>\n",
       "      <td>2013-09-27 14:16:04</td>\n",
       "      <td>2013-09-27 14:37:17</td>\n",
       "      <td>1</td>\n",
       "      <td>1273</td>\n",
       "      <td>2.10</td>\n",
       "      <td>-73.960022</td>\n",
       "      <td>40.710678</td>\n",
       "      <td>-73.994324</td>\n",
       "      <td>40.722858</td>\n",
       "    </tr>\n",
       "    <tr>\n",
       "      <th>2</th>\n",
       "      <td>51B267141807D0261EEB1844D2A78087</td>\n",
       "      <td>9DE60DFD683336F899D5BB448CE7CB09</td>\n",
       "      <td>CMT</td>\n",
       "      <td>1</td>\n",
       "      <td>N</td>\n",
       "      <td>2013-07-18 13:24:37</td>\n",
       "      <td>2013-07-18 13:29:27</td>\n",
       "      <td>3</td>\n",
       "      <td>290</td>\n",
       "      <td>0.90</td>\n",
       "      <td>-73.970634</td>\n",
       "      <td>40.760410</td>\n",
       "      <td>-73.960213</td>\n",
       "      <td>40.770241</td>\n",
       "    </tr>\n",
       "    <tr>\n",
       "      <th>3</th>\n",
       "      <td>76AC5C0F44D07BA5A2291F19E730B0B9</td>\n",
       "      <td>2348E03BB8227595281D9D6B38E45B38</td>\n",
       "      <td>VTS</td>\n",
       "      <td>1</td>\n",
       "      <td>NaN</td>\n",
       "      <td>2013-06-25 12:12:00</td>\n",
       "      <td>2013-06-25 12:28:00</td>\n",
       "      <td>2</td>\n",
       "      <td>960</td>\n",
       "      <td>1.28</td>\n",
       "      <td>-73.992661</td>\n",
       "      <td>40.752766</td>\n",
       "      <td>-73.975952</td>\n",
       "      <td>40.751781</td>\n",
       "    </tr>\n",
       "    <tr>\n",
       "      <th>4</th>\n",
       "      <td>739323AC15DADABE4B54561CB3330C53</td>\n",
       "      <td>9387A0902D7B1B4597802BE63AE7C34F</td>\n",
       "      <td>VTS</td>\n",
       "      <td>1</td>\n",
       "      <td>NaN</td>\n",
       "      <td>2013-04-19 05:28:00</td>\n",
       "      <td>2013-04-19 05:38:00</td>\n",
       "      <td>1</td>\n",
       "      <td>600</td>\n",
       "      <td>2.22</td>\n",
       "      <td>-73.999107</td>\n",
       "      <td>40.727924</td>\n",
       "      <td>-73.974869</td>\n",
       "      <td>40.741886</td>\n",
       "    </tr>\n",
       "    <tr>\n",
       "      <th>...</th>\n",
       "      <td>...</td>\n",
       "      <td>...</td>\n",
       "      <td>...</td>\n",
       "      <td>...</td>\n",
       "      <td>...</td>\n",
       "      <td>...</td>\n",
       "      <td>...</td>\n",
       "      <td>...</td>\n",
       "      <td>...</td>\n",
       "      <td>...</td>\n",
       "      <td>...</td>\n",
       "      <td>...</td>\n",
       "      <td>...</td>\n",
       "      <td>...</td>\n",
       "    </tr>\n",
       "    <tr>\n",
       "      <th>1731792</th>\n",
       "      <td>5DAE4FE51457F5B4D4950D00A0AD4394</td>\n",
       "      <td>B76DC9DC874EB9D71CC04ABC0D9AAC6A</td>\n",
       "      <td>CMT</td>\n",
       "      <td>1</td>\n",
       "      <td>N</td>\n",
       "      <td>2013-08-02 03:34:00</td>\n",
       "      <td>2013-08-02 03:51:47</td>\n",
       "      <td>2</td>\n",
       "      <td>1067</td>\n",
       "      <td>6.00</td>\n",
       "      <td>-73.995766</td>\n",
       "      <td>40.764359</td>\n",
       "      <td>-73.920052</td>\n",
       "      <td>40.775574</td>\n",
       "    </tr>\n",
       "    <tr>\n",
       "      <th>1731793</th>\n",
       "      <td>3C16CFAD2B12F3508F7211C37F8F8B8F</td>\n",
       "      <td>A36B62F2B6D1D6C289519810E66EAAB9</td>\n",
       "      <td>VTS</td>\n",
       "      <td>1</td>\n",
       "      <td>NaN</td>\n",
       "      <td>2013-02-21 12:44:00</td>\n",
       "      <td>2013-02-21 13:11:00</td>\n",
       "      <td>6</td>\n",
       "      <td>1620</td>\n",
       "      <td>3.94</td>\n",
       "      <td>0.000000</td>\n",
       "      <td>0.000000</td>\n",
       "      <td>0.000000</td>\n",
       "      <td>0.000000</td>\n",
       "    </tr>\n",
       "    <tr>\n",
       "      <th>1731794</th>\n",
       "      <td>23E5F1FDC96168E865BF7B4427C0163B</td>\n",
       "      <td>E7D75D6D6F2DBD7D25578F02991193D9</td>\n",
       "      <td>VTS</td>\n",
       "      <td>1</td>\n",
       "      <td>NaN</td>\n",
       "      <td>2013-02-16 17:24:00</td>\n",
       "      <td>2013-02-16 17:30:00</td>\n",
       "      <td>3</td>\n",
       "      <td>360</td>\n",
       "      <td>2.15</td>\n",
       "      <td>-73.991554</td>\n",
       "      <td>40.726940</td>\n",
       "      <td>-73.971642</td>\n",
       "      <td>40.751362</td>\n",
       "    </tr>\n",
       "    <tr>\n",
       "      <th>1731795</th>\n",
       "      <td>FE44D1131D86D515C88D5296598DD35A</td>\n",
       "      <td>015615BB1B66BA269602ED1A867271FA</td>\n",
       "      <td>CMT</td>\n",
       "      <td>1</td>\n",
       "      <td>N</td>\n",
       "      <td>2013-05-24 10:29:16</td>\n",
       "      <td>2013-05-24 10:44:39</td>\n",
       "      <td>1</td>\n",
       "      <td>923</td>\n",
       "      <td>7.20</td>\n",
       "      <td>-73.865715</td>\n",
       "      <td>40.771168</td>\n",
       "      <td>-73.809006</td>\n",
       "      <td>40.700127</td>\n",
       "    </tr>\n",
       "    <tr>\n",
       "      <th>1731796</th>\n",
       "      <td>465FE7E793D67BBB8A7A9869065170E5</td>\n",
       "      <td>E5D211ECD1F6A6164B6CFF1EB9B50499</td>\n",
       "      <td>CMT</td>\n",
       "      <td>1</td>\n",
       "      <td>N</td>\n",
       "      <td>2013-03-15 14:42:10</td>\n",
       "      <td>2013-03-15 14:51:20</td>\n",
       "      <td>1</td>\n",
       "      <td>549</td>\n",
       "      <td>0.70</td>\n",
       "      <td>-74.002968</td>\n",
       "      <td>40.718216</td>\n",
       "      <td>-74.011620</td>\n",
       "      <td>40.708351</td>\n",
       "    </tr>\n",
       "  </tbody>\n",
       "</table>\n",
       "<p>1726326 rows × 14 columns</p>\n",
       "</div>"
      ],
      "text/plain": [
       "                                medallion                      hack_license  \\\n",
       "0        037CB433AB5895649F7A9EF37F767EF1  F57FA13A6A82FE2F40D9DB0193DE0FEE   \n",
       "1        E05E952B2DA14C7E9F1D7DEB80667739  11A3989B7BABB288FA3FA233E348C450   \n",
       "2        51B267141807D0261EEB1844D2A78087  9DE60DFD683336F899D5BB448CE7CB09   \n",
       "3        76AC5C0F44D07BA5A2291F19E730B0B9  2348E03BB8227595281D9D6B38E45B38   \n",
       "4        739323AC15DADABE4B54561CB3330C53  9387A0902D7B1B4597802BE63AE7C34F   \n",
       "...                                   ...                               ...   \n",
       "1731792  5DAE4FE51457F5B4D4950D00A0AD4394  B76DC9DC874EB9D71CC04ABC0D9AAC6A   \n",
       "1731793  3C16CFAD2B12F3508F7211C37F8F8B8F  A36B62F2B6D1D6C289519810E66EAAB9   \n",
       "1731794  23E5F1FDC96168E865BF7B4427C0163B  E7D75D6D6F2DBD7D25578F02991193D9   \n",
       "1731795  FE44D1131D86D515C88D5296598DD35A  015615BB1B66BA269602ED1A867271FA   \n",
       "1731796  465FE7E793D67BBB8A7A9869065170E5  E5D211ECD1F6A6164B6CFF1EB9B50499   \n",
       "\n",
       "        vendor_id  rate_code store_and_fwd_flag      pickup_datetime  \\\n",
       "0             VTS          1                NaN  2013-10-04 20:20:00   \n",
       "1             CMT          1                  N  2013-09-27 14:16:04   \n",
       "2             CMT          1                  N  2013-07-18 13:24:37   \n",
       "3             VTS          1                NaN  2013-06-25 12:12:00   \n",
       "4             VTS          1                NaN  2013-04-19 05:28:00   \n",
       "...           ...        ...                ...                  ...   \n",
       "1731792       CMT          1                  N  2013-08-02 03:34:00   \n",
       "1731793       VTS          1                NaN  2013-02-21 12:44:00   \n",
       "1731794       VTS          1                NaN  2013-02-16 17:24:00   \n",
       "1731795       CMT          1                  N  2013-05-24 10:29:16   \n",
       "1731796       CMT          1                  N  2013-03-15 14:42:10   \n",
       "\n",
       "            dropoff_datetime  passenger_count  trip_time_in_secs  \\\n",
       "0        2013-10-04 20:42:00                1               1320   \n",
       "1        2013-09-27 14:37:17                1               1273   \n",
       "2        2013-07-18 13:29:27                3                290   \n",
       "3        2013-06-25 12:28:00                2                960   \n",
       "4        2013-04-19 05:38:00                1                600   \n",
       "...                      ...              ...                ...   \n",
       "1731792  2013-08-02 03:51:47                2               1067   \n",
       "1731793  2013-02-21 13:11:00                6               1620   \n",
       "1731794  2013-02-16 17:30:00                3                360   \n",
       "1731795  2013-05-24 10:44:39                1                923   \n",
       "1731796  2013-03-15 14:51:20                1                549   \n",
       "\n",
       "         trip_distance  pickup_longitude  pickup_latitude  dropoff_longitude  \\\n",
       "0                 4.05        -73.990089        40.723377         -73.941559   \n",
       "1                 2.10        -73.960022        40.710678         -73.994324   \n",
       "2                 0.90        -73.970634        40.760410         -73.960213   \n",
       "3                 1.28        -73.992661        40.752766         -73.975952   \n",
       "4                 2.22        -73.999107        40.727924         -73.974869   \n",
       "...                ...               ...              ...                ...   \n",
       "1731792           6.00        -73.995766        40.764359         -73.920052   \n",
       "1731793           3.94          0.000000         0.000000           0.000000   \n",
       "1731794           2.15        -73.991554        40.726940         -73.971642   \n",
       "1731795           7.20        -73.865715        40.771168         -73.809006   \n",
       "1731796           0.70        -74.002968        40.718216         -74.011620   \n",
       "\n",
       "         dropoff_latitude  \n",
       "0               40.707790  \n",
       "1               40.722858  \n",
       "2               40.770241  \n",
       "3               40.751781  \n",
       "4               40.741886  \n",
       "...                   ...  \n",
       "1731792         40.775574  \n",
       "1731793          0.000000  \n",
       "1731794         40.751362  \n",
       "1731795         40.700127  \n",
       "1731796         40.708351  \n",
       "\n",
       "[1726326 rows x 14 columns]"
      ]
     },
     "execution_count": 19,
     "metadata": {},
     "output_type": "execute_result"
    }
   ],
   "source": [
    "data = data[(data['pickup_latitude'] >= 0) & (data['pickup_latitude'] <= 90) &\n",
    "            (data['pickup_longitude'] >= -180) & (data['pickup_longitude'] <= 0) \n",
    "]\n",
    "data"
   ]
  },
  {
   "cell_type": "markdown",
   "metadata": {
    "slideshow": {
     "slide_type": "slide"
    }
   },
   "source": [
    "* Πριν κάνουμε το διάγραμμά μας, θέλουμε να μετατρέψουμε τις συντεταγμένες σε συντεταγμένες στην οθόνη (pixels) από γεωγραφικές συντεταγμένες που είναι αυτή τη στιγμή.\n",
    "\n",
    "* Μπορούμε να χρησιμοποιήσουμε την παρακάτω συνάρτηση η οποία υλοποιεί προβολή κατά Μερκάτορ (Φλαμανδός γεωγράφος και χαρτογράφος του 16ου αιώνα).\n",
    "\n",
    "* Στην πραγματκότητα πρόκειται για την [Προβολή Μερκάτορ που χρησιμοποιείται σε διαδικτυακούς χάρτες](https://en.wikipedia.org/wiki/Web_Mercator_projection) προσαρμοσμένη ώστε το σημείο (0, 0) να είναι στο κάτω αριστερό σημείο (αντί για το πάνω αριστερό)."
   ]
  },
  {
   "cell_type": "code",
   "execution_count": 20,
   "metadata": {
    "slideshow": {
     "slide_type": "fragment"
    }
   },
   "outputs": [],
   "source": [
    "def lng_lat_to_pixels(lng, lat):    \n",
    "    lng_rad = lng * np.pi / 180\n",
    "    lat_rad = lat * np.pi / 180\n",
    "    x = (256/(2*np.pi))*(lng_rad + np.pi)\n",
    "    y = (256/(2*np.pi))*(np.log(np.tan(np.pi/4 + lat_rad/2)))\n",
    "    return (x, y)"
   ]
  },
  {
   "cell_type": "markdown",
   "metadata": {
    "slideshow": {
     "slide_type": "slide"
    }
   },
   "source": [
    "* Η βιβλιοθήκη NumPy προσφέρει πολλές μαθηματικές συναρτήσεις όπως `np.log()` and `np.tan()`. \n",
    "\n",
    "* Αυτές μπορούν να εφαρμοστούν είτε σε μεμονωμένους αριθμούς, είτε σε διανύσματα.\n",
    "\n",
    "* Έτσι, η παρακάτω κλήση θα μας επιστρέψει δύο *διανύσματα*."
   ]
  },
  {
   "cell_type": "code",
   "execution_count": 21,
   "metadata": {
    "slideshow": {
     "slide_type": "fragment"
    }
   },
   "outputs": [
    {
     "data": {
      "text/plain": [
       "0    75.384826\n",
       "1    75.406207\n",
       "2    75.398660\n",
       "3    75.382997\n",
       "4    75.378413\n",
       "5    75.383789\n",
       "6    75.384993\n",
       "7    75.414177\n",
       "8    75.391119\n",
       "9    75.388048\n",
       "Name: pickup_longitude, dtype: float64"
      ]
     },
     "execution_count": 21,
     "metadata": {},
     "output_type": "execute_result"
    }
   ],
   "source": [
    "px, py = lng_lat_to_pixels(data['pickup_longitude'], data['pickup_latitude'])\n",
    "px.head(10)"
   ]
  },
  {
   "cell_type": "markdown",
   "metadata": {
    "slideshow": {
     "slide_type": "slide"
    }
   },
   "source": [
    "* Για να ζωγραφίσουμε ένα σύνολο σημείων με το matplotlib χρησιμοποιούμε τη μέθοδο `scatter()`.\n",
    "\n",
    "* Η μέθοδος αυτή παίρνει ως είσοδο δύο πίνακες-διανύσματα με τις συντεταγμένες $x$ και $y$ των σημείων που θέλουμε να δείξουμε."
   ]
  },
  {
   "cell_type": "code",
   "execution_count": 22,
   "metadata": {
    "slideshow": {
     "slide_type": "fragment"
    }
   },
   "outputs": [
    {
     "data": {
      "text/plain": [
       "<matplotlib.collections.PathCollection at 0x1f1c7e6d2e0>"
      ]
     },
     "execution_count": 22,
     "metadata": {},
     "output_type": "execute_result"
    },
    {
     "data": {
      "image/png": "[encoded data removed]",
      "text/plain": [
       "<Figure size 640x480 with 1 Axes>"
      ]
     },
     "metadata": {},
     "output_type": "display_data"
    }
   ],
   "source": [
    "plt.scatter(px, py)"
   ]
  },
  {
   "cell_type": "markdown",
   "metadata": {
    "slideshow": {
     "slide_type": "slide"
    }
   },
   "source": [
    "* Το αποτέλεσμα δεν είναι ιδανικό.\n",
    "\n",
    "* Πρώτον: το αποτύπωμα του κάθε σημείου είναι πολύ μεγάλο.\n",
    "\n",
    "* Δεύτερον: τα σημεία είναι πάρα πολλά. Θα μπορούσαμε να τα κάνουμε κάπως διαφανή για να αποκτήσουμε μια καλύτερη ιδέα για την κατανομή τους.\n",
    "\n",
    "* Τρίτον: μάλλον θα πρέπει να επικεντρώσουμε την προσοχή μας στο κάτω αριστερό κομμάτι της εικόνας. \n",
    "\n",
    "* Τέταρτον: η εικόνα μπορεί να μεγαλώσει.\n",
    "\n",
    "* Τέλος, οι άξονες δεν προσφέρουν κάτι."
   ]
  },
  {
   "cell_type": "markdown",
   "metadata": {
    "slideshow": {
     "slide_type": "slide"
    }
   },
   "source": [
    "* Ευτυχώς, όλα αυτά μπορούμε να τα κάνουμε με το matplotlib."
   ]
  },
  {
   "cell_type": "code",
   "execution_count": 23,
   "metadata": {
    "slideshow": {
     "slide_type": "fragment"
    },
    "tags": [
     "remove_output"
    ]
   },
   "outputs": [
    {
     "name": "stderr",
     "output_type": "stream",
     "text": [
      "Ignoring fixed x limits to fulfill fixed data aspect with adjustable data limits.\n"
     ]
    },
    {
     "data": {
      "image/png": "[encoded data removed]",
      "text/plain": [
       "<Figure size 1200x1000 with 1 Axes>"
      ]
     },
     "metadata": {},
     "output_type": "display_data"
    }
   ],
   "source": [
    "plt.figure(figsize=(12, 10))\n",
    "plt.axis('equal')\n",
    "plt.xlim(75.3, 75.55)\n",
    "plt.ylim(31.65, 31.90)\n",
    "plt.axis('off')\n",
    "plt.gca().set_facecolor('white')\n",
    "_ = plt.scatter(px, py, s=.1, alpha=.03, color='black') # get rid of matplotlib message output"
   ]
  }
 ],
 "metadata": {
  "celltoolbar": "Slideshow",
  "kernelspec": {
   "display_name": "Python (Data Science)",
   "language": "python",
   "name": "data_science_env"
  },
  "language_info": {
   "codemirror_mode": {
    "name": "ipython",
    "version": 3
   },
   "file_extension": ".py",
   "mimetype": "text/x-python",
   "name": "python",
   "nbconvert_exporter": "python",
   "pygments_lexer": "ipython3",
   "version": "3.12.6"
  }
 },
 "nbformat": 4,
 "nbformat_minor": 4
}
