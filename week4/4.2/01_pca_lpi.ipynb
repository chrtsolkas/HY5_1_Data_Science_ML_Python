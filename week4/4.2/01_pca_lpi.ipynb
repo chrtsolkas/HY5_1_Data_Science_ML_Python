{
 "cells": [
  {
   "cell_type": "markdown",
   "id": "conditional-physiology",
   "metadata": {
    "slideshow": {
     "slide_type": "slide"
    }
   },
   "source": [
    "#   PCA - LPI\n",
    "\n",
    "* Με υλικό από το amoeba (https://stats.stackexchange.com/users/28666/amoeba), Making sense of principal component analysis, eigenvectors & eigenvalues, URL (version: 2021-12-03): https://stats.stackexchange.com/q/140579.\n",
    "\n",
    "---\n",
    "\n",
    "> Πάνος Λουρίδας, Αναπληρωτής Καθηγητής <br />\n",
    "> Τμήμα Διοικητικής Επιστήμης και Τεχνολογίας <br />\n",
    "> Οικονομικό Πανεπιστήμιο Αθηνών <br />\n",
    "> louridas@aueb.gr"
   ]
  },
  {
   "cell_type": "markdown",
   "id": "competitive-complaint",
   "metadata": {
    "slideshow": {
     "slide_type": "slide"
    }
   },
   "source": [
    "* Ας φανταστούμε ότι έχουμε ένα σύνολο κρασιών.\n",
    "\n",
    "* Τα κρασιά περιγράφονται από διάφορα χαρακτηριστικά, όπως χρώμα, ποσοστό οινοπνεύματος, οξύτητα, θειώδη, και πολλά άλλα."
   ]
  },
  {
   "cell_type": "markdown",
   "id": "acute-consultation",
   "metadata": {
    "slideshow": {
     "slide_type": "slide"
    }
   },
   "source": [
    "* Τώρα έστω ότι επιθυμούμε να μπορούμε να περιγράψουμε κάθε κρασί με *λιγότερα* χαρακτηριστικά.\n",
    "\n",
    "* Ποια θα ήταν αυτά;"
   ]
  },
  {
   "cell_type": "markdown",
   "id": "patient-apartment",
   "metadata": {
    "slideshow": {
     "slide_type": "slide"
    }
   },
   "source": [
    "* Θα θέλαμε να βρούμε κάποια χαρακτηριστικά τα οποία από τη μία να διαφέρουν όσο το δυνατόν περισσότερο από κρασί σε κρασί (γιατί αν ένα χαρακτηριστικό είναι το ίδιο σε όλα τα κρασιά, δεν μας λέει τίποτε).\n",
    "\n",
    "* Επίσης τα χαρακτηριστικά που θα βρούμε θα θέλαμε να απηχούν όσο το δυνατόν περισσότερο τα αρχικά χαρακτηριστικά που έχουμε συγκεντρώσει για κάθε κρασί.\n",
    "\n",
    "* Δεν είναι απαραίτητο ότι τα χαρακτηριστικά που θα βρούμε είναι υποσύνολο των αρχικών χαρακτηριστικών!\n",
    "\n",
    "* Τα χαρακτηριστικά αυτά μπορεί να είναι *νέα* χαρακτηριστικά (τα οποία σχετίζονται με τα υπάρχοντα), αλλά όχι κάποια από τα υπάρχοντα."
   ]
  },
  {
   "cell_type": "markdown",
   "id": "challenging-alabama",
   "metadata": {
    "slideshow": {
     "slide_type": "slide"
    }
   },
   "source": [
    "* Ας φανταστούμε λοιπόν ότι έχουμε μόνο δύο χαρακτηριστικά, τα οποία φαίνονται στην επόμενη εικόνα.\n",
    "\n",
    "* Τα χαρακτηριστικά είναι δύο διαφορετικές διαστάσεις.\n",
    "\n",
    "* Κάθε παρατήρησή μας περιγράφεται από ένα ζεύγος συντεταγμένων $(x, y)$ με τις τιμές των δύο διαστάσεων για την παρατήρηση.\n",
    "\n",
    "* Αν θέλαμε κάθε παρατήρησή μας να περιγράφεται από *μία* και μόνη διάσταση, δηλαδή από *έναν* αριθμό, $z$, ποια θα ήταν αυτή η διάσταση;"
   ]
  },
  {
   "cell_type": "markdown",
   "id": "european-abuse",
   "metadata": {
    "slideshow": {
     "slide_type": "slide"
    }
   },
   "source": [
    "<img src=\"https://i.stack.imgur.com/jPw90.png\" />\n",
    "\n",
    "https://stats.stackexchange.com/a/140579"
   ]
  },
  {
   "cell_type": "markdown",
   "id": "cultural-explanation",
   "metadata": {
    "slideshow": {
     "slide_type": "slide"
    }
   },
   "source": [
    "* Να θυμηθούμε τι επιθυμούμε.\n",
    "\n",
    "* Θέλουμε η νέα διάσταση που θα βρούμε να είναι τέτοια ώστε τα δεδομένα μας να έχουν τη μεγαλύτερη δυνατή μεταβλητότητα, διακύμανση, σε αυτή.\n",
    "\n",
    "* Επίσης θέλουμε τα δεδομένα στη νέα διάσταση να απέχουν όσο το δυνατόν λιγότερο από τα δεδομένα στις αρχικές τους διαστάσεις.\n",
    "\n",
    "* Στην επόμενη εικόνα, μπορούμε να δούμε ποια θα είναι αυτή η διάσταση."
   ]
  },
  {
   "cell_type": "markdown",
   "id": "swiss-sunrise",
   "metadata": {
    "slideshow": {
     "slide_type": "slide"
    }
   },
   "source": [
    "* Περιστρέφοντας τον άξονα που αντιστοιχεί στη νέα αυτή διάσταση, μπορούμε να δούμε ποια είναι η θέση που ικανοποιεί τα κριτήρια που θέσαμε:\n",
    "\n",
    "  * Στη διαγώνιο που διασχίζει τα δεδομένα, η διακύμανση των προβολών δεδομένων μας (οι κόκκινες τελείες) είναι η μέγιστη δυνατή.\n",
    "  \n",
    "  * Επίσης στη διαγώνιο που διασχίζει τα δεδομένα, οι αποστάσεις των προβολών από τα αρχικά δεδομένα (οι κόκκινες γραμμές) είναι οι μικρότερες δυνατές.\n",
    "\n",
    "\n",
    "<img src=\"https://i.stack.imgur.com/Q7HIP.gif\" />\n",
    "\n",
    "Πηγή: https://stats.stackexchange.com/a/140579"
   ]
  },
  {
   "cell_type": "markdown",
   "id": "knowing-fusion",
   "metadata": {
    "slideshow": {
     "slide_type": "slide"
    }
   },
   "source": [
    "<img width=\"500\" src=\"https://upload.wikimedia.org/wikipedia/commons/f/f5/GaussianScatterPCA.svg\" />"
   ]
  },
  {
   "cell_type": "markdown",
   "id": "pretty-spanking",
   "metadata": {
    "slideshow": {
     "slide_type": "slide"
    }
   },
   "source": [
    "* Η διαδικασία με την οποία βρίσκουμε αυτές τις νέες διαστάσεις ονομάζεται *Ανάλυση Κύριων Συνιστωσών* (Principal Component Analysis).\n",
    "\n",
    "* Υπάρχει αποτελεσματικός αλγόριθμος για την εύρεση των συνιστωσών (διαστάσεων) που αναζητούμε.\n",
    "\n",
    "* Η μέθοδος ανήκει στη μη επιβλεπόμενη Μηχανική Μάθηση, αφού δεν έχουμε ένα σύνολο δεδομένων και λύσεις.\n",
    "\n",
    "* Έχουμε μόνο ένα σύνολο δεδομένων και τον αριθμό των διαστάσεων που αναζητούμε.\n",
    "\n",
    "* Εμπίπτει λοιπόν στην κατηγορία της *μείωσης διαστασιμότητας* (dimensionality reduction)."
   ]
  },
  {
   "cell_type": "markdown",
   "id": "scheduled-model",
   "metadata": {
    "slideshow": {
     "slide_type": "slide"
    }
   },
   "source": [
    "* Για να το δούμε αυτό στην πράξη.\n",
    "\n",
    "* Να θυμηθούμε τον [δείκτη Αποτελεσματικότητας Λογιστικής Αλυσίδας (Logistic Performance Index indicator, LPI) της Παγκόσμιας Τράπεζας](https://lpi.worldbank.org/).\n",
    "\n",
    "* Η Παγκόσμια Τράπεζα μετράει, όπως είδαμε, έξι επιμέρους δείκτες."
   ]
  },
  {
   "cell_type": "markdown",
   "id": "optimum-fellow",
   "metadata": {
    "slideshow": {
     "slide_type": "slide"
    }
   },
   "source": [
    "* Ανταγωνιστικότητα και ποιότητα υπηρεσιών λογιστικής αλυσίδας (Competence and quality of logistics services).\n",
    "\n",
    "* Συχνότητα με την οποία οι αποστολές παραδίδονται στον προβλεπόμενο χρόνο (Frequency with which shipments reach consignee within scheduled or expected time).\n",
    "\n",
    "* Ευκολία διαχείρισης ανταγωνιστικά κοστολογημένων αποστολών (Ease of arranging competitively priced shipments).\n",
    "\n",
    "* Ποιότητα υποδομής εμπορίου και μεταφορών (Quality of trade and transport-related infrastructure).\n",
    "\n",
    "* Ικανότητα ιχνηλάτησης αποστολών (Ability to track and trace consignments).\n",
    "\n",
    "* Αποτελεσματικότητα της διαδικασίας εκτελωνισμού (Efficiency of customs clearance process)."
   ]
  },
  {
   "cell_type": "markdown",
   "id": "awful-radiation",
   "metadata": {
    "slideshow": {
     "slide_type": "slide"
    }
   },
   "source": [
    "* Από αυτούς του έξι επιμέρους δείκτες, συνθέτει έναν ενιαίο δείκτη.\n",
    "\n",
    "* Πώς προκύπτει ο ενιαίος δείκτης από τους έξι επιμέρους;\n",
    "\n",
    "* Θα μπορούσε κάποιος να πάρει απλώς το μέσο όρο τους.\n",
    "\n",
    "* Είναι όμως λογικό αυτό; \n",
    "\n",
    "* Για να το δούμε, θα χρησιμοποιήσουμε PCA."
   ]
  },
  {
   "cell_type": "markdown",
   "id": "architectural-brown",
   "metadata": {
    "slideshow": {
     "slide_type": "slide"
    }
   },
   "source": [
    "* Πάμε να διαβάσουμε τα στοιχεία του LPI."
   ]
  },
  {
   "cell_type": "code",
   "execution_count": 1,
   "id": "interesting-range",
   "metadata": {
    "slideshow": {
     "slide_type": "fragment"
    }
   },
   "outputs": [
    {
     "data": {
      "text/html": [
       "<div>\n",
       "<style scoped>\n",
       "    .dataframe tbody tr th:only-of-type {\n",
       "        vertical-align: middle;\n",
       "    }\n",
       "\n",
       "    .dataframe tbody tr th {\n",
       "        vertical-align: top;\n",
       "    }\n",
       "\n",
       "    .dataframe thead th {\n",
       "        text-align: right;\n",
       "    }\n",
       "</style>\n",
       "<table border=\"1\" class=\"dataframe\">\n",
       "  <thead>\n",
       "    <tr style=\"text-align: right;\">\n",
       "      <th></th>\n",
       "      <th>Country</th>\n",
       "      <th>LPI</th>\n",
       "      <th>Customs</th>\n",
       "      <th>Infrastructure</th>\n",
       "      <th>International shipments</th>\n",
       "      <th>Logistics quality and competence</th>\n",
       "      <th>Tracking and tracing</th>\n",
       "      <th>Timeliness</th>\n",
       "    </tr>\n",
       "  </thead>\n",
       "  <tbody>\n",
       "    <tr>\n",
       "      <th>0</th>\n",
       "      <td>Germany</td>\n",
       "      <td>4.20</td>\n",
       "      <td>4.09</td>\n",
       "      <td>4.37</td>\n",
       "      <td>3.86</td>\n",
       "      <td>4.31</td>\n",
       "      <td>4.24</td>\n",
       "      <td>4.39</td>\n",
       "    </tr>\n",
       "    <tr>\n",
       "      <th>1</th>\n",
       "      <td>Sweden</td>\n",
       "      <td>4.05</td>\n",
       "      <td>4.05</td>\n",
       "      <td>4.24</td>\n",
       "      <td>3.92</td>\n",
       "      <td>3.98</td>\n",
       "      <td>3.88</td>\n",
       "      <td>4.28</td>\n",
       "    </tr>\n",
       "    <tr>\n",
       "      <th>2</th>\n",
       "      <td>Belgium</td>\n",
       "      <td>4.04</td>\n",
       "      <td>3.66</td>\n",
       "      <td>3.98</td>\n",
       "      <td>3.99</td>\n",
       "      <td>4.13</td>\n",
       "      <td>4.05</td>\n",
       "      <td>4.41</td>\n",
       "    </tr>\n",
       "    <tr>\n",
       "      <th>3</th>\n",
       "      <td>Austria</td>\n",
       "      <td>4.03</td>\n",
       "      <td>3.71</td>\n",
       "      <td>4.18</td>\n",
       "      <td>3.88</td>\n",
       "      <td>4.08</td>\n",
       "      <td>4.09</td>\n",
       "      <td>4.25</td>\n",
       "    </tr>\n",
       "    <tr>\n",
       "      <th>4</th>\n",
       "      <td>Japan</td>\n",
       "      <td>4.03</td>\n",
       "      <td>3.99</td>\n",
       "      <td>4.25</td>\n",
       "      <td>3.59</td>\n",
       "      <td>4.09</td>\n",
       "      <td>4.05</td>\n",
       "      <td>4.25</td>\n",
       "    </tr>\n",
       "    <tr>\n",
       "      <th>...</th>\n",
       "      <td>...</td>\n",
       "      <td>...</td>\n",
       "      <td>...</td>\n",
       "      <td>...</td>\n",
       "      <td>...</td>\n",
       "      <td>...</td>\n",
       "      <td>...</td>\n",
       "      <td>...</td>\n",
       "    </tr>\n",
       "    <tr>\n",
       "      <th>155</th>\n",
       "      <td>Sierra Leone</td>\n",
       "      <td>2.08</td>\n",
       "      <td>1.82</td>\n",
       "      <td>1.82</td>\n",
       "      <td>2.18</td>\n",
       "      <td>2.00</td>\n",
       "      <td>2.27</td>\n",
       "      <td>2.34</td>\n",
       "    </tr>\n",
       "    <tr>\n",
       "      <th>156</th>\n",
       "      <td>Niger</td>\n",
       "      <td>2.07</td>\n",
       "      <td>1.77</td>\n",
       "      <td>2.00</td>\n",
       "      <td>2.00</td>\n",
       "      <td>2.10</td>\n",
       "      <td>2.22</td>\n",
       "      <td>2.33</td>\n",
       "    </tr>\n",
       "    <tr>\n",
       "      <th>157</th>\n",
       "      <td>Burundi</td>\n",
       "      <td>2.06</td>\n",
       "      <td>1.69</td>\n",
       "      <td>1.95</td>\n",
       "      <td>2.21</td>\n",
       "      <td>2.33</td>\n",
       "      <td>2.01</td>\n",
       "      <td>2.17</td>\n",
       "    </tr>\n",
       "    <tr>\n",
       "      <th>158</th>\n",
       "      <td>Angola</td>\n",
       "      <td>2.05</td>\n",
       "      <td>1.57</td>\n",
       "      <td>1.86</td>\n",
       "      <td>2.20</td>\n",
       "      <td>2.00</td>\n",
       "      <td>2.00</td>\n",
       "      <td>2.59</td>\n",
       "    </tr>\n",
       "    <tr>\n",
       "      <th>159</th>\n",
       "      <td>Afghanistan</td>\n",
       "      <td>1.95</td>\n",
       "      <td>1.73</td>\n",
       "      <td>1.81</td>\n",
       "      <td>2.10</td>\n",
       "      <td>1.92</td>\n",
       "      <td>1.70</td>\n",
       "      <td>2.38</td>\n",
       "    </tr>\n",
       "  </tbody>\n",
       "</table>\n",
       "<p>160 rows × 8 columns</p>\n",
       "</div>"
      ],
      "text/plain": [
       "          Country   LPI  Customs  Infrastructure  International shipments  \\\n",
       "0         Germany  4.20     4.09            4.37                     3.86   \n",
       "1          Sweden  4.05     4.05            4.24                     3.92   \n",
       "2         Belgium  4.04     3.66            3.98                     3.99   \n",
       "3         Austria  4.03     3.71            4.18                     3.88   \n",
       "4           Japan  4.03     3.99            4.25                     3.59   \n",
       "..            ...   ...      ...             ...                      ...   \n",
       "155  Sierra Leone  2.08     1.82            1.82                     2.18   \n",
       "156         Niger  2.07     1.77            2.00                     2.00   \n",
       "157       Burundi  2.06     1.69            1.95                     2.21   \n",
       "158        Angola  2.05     1.57            1.86                     2.20   \n",
       "159   Afghanistan  1.95     1.73            1.81                     2.10   \n",
       "\n",
       "     Logistics quality and competence  Tracking and tracing  Timeliness  \n",
       "0                                4.31                  4.24        4.39  \n",
       "1                                3.98                  3.88        4.28  \n",
       "2                                4.13                  4.05        4.41  \n",
       "3                                4.08                  4.09        4.25  \n",
       "4                                4.09                  4.05        4.25  \n",
       "..                                ...                   ...         ...  \n",
       "155                              2.00                  2.27        2.34  \n",
       "156                              2.10                  2.22        2.33  \n",
       "157                              2.33                  2.01        2.17  \n",
       "158                              2.00                  2.00        2.59  \n",
       "159                              1.92                  1.70        2.38  \n",
       "\n",
       "[160 rows x 8 columns]"
      ]
     },
     "execution_count": 1,
     "metadata": {},
     "output_type": "execute_result"
    }
   ],
   "source": [
    "import pandas as pd\n",
    "\n",
    "lpi_df = pd.read_csv(\"International_LPI_2018.csv\")\n",
    "lpi_df"
   ]
  },
  {
   "cell_type": "markdown",
   "id": "alternate-winning",
   "metadata": {
    "slideshow": {
     "slide_type": "slide"
    }
   },
   "source": [
    "* Θα εργαστούμε με τις στήλες που αφορούν τους επιμέρους δείκτες."
   ]
  },
  {
   "cell_type": "code",
   "execution_count": 2,
   "id": "expected-works",
   "metadata": {
    "slideshow": {
     "slide_type": "fragment"
    }
   },
   "outputs": [
    {
     "data": {
      "text/html": [
       "<div>\n",
       "<style scoped>\n",
       "    .dataframe tbody tr th:only-of-type {\n",
       "        vertical-align: middle;\n",
       "    }\n",
       "\n",
       "    .dataframe tbody tr th {\n",
       "        vertical-align: top;\n",
       "    }\n",
       "\n",
       "    .dataframe thead th {\n",
       "        text-align: right;\n",
       "    }\n",
       "</style>\n",
       "<table border=\"1\" class=\"dataframe\">\n",
       "  <thead>\n",
       "    <tr style=\"text-align: right;\">\n",
       "      <th></th>\n",
       "      <th>Customs</th>\n",
       "      <th>Infrastructure</th>\n",
       "      <th>International shipments</th>\n",
       "      <th>Logistics quality and competence</th>\n",
       "      <th>Tracking and tracing</th>\n",
       "      <th>Timeliness</th>\n",
       "    </tr>\n",
       "  </thead>\n",
       "  <tbody>\n",
       "    <tr>\n",
       "      <th>0</th>\n",
       "      <td>4.09</td>\n",
       "      <td>4.37</td>\n",
       "      <td>3.86</td>\n",
       "      <td>4.31</td>\n",
       "      <td>4.24</td>\n",
       "      <td>4.39</td>\n",
       "    </tr>\n",
       "    <tr>\n",
       "      <th>1</th>\n",
       "      <td>4.05</td>\n",
       "      <td>4.24</td>\n",
       "      <td>3.92</td>\n",
       "      <td>3.98</td>\n",
       "      <td>3.88</td>\n",
       "      <td>4.28</td>\n",
       "    </tr>\n",
       "    <tr>\n",
       "      <th>2</th>\n",
       "      <td>3.66</td>\n",
       "      <td>3.98</td>\n",
       "      <td>3.99</td>\n",
       "      <td>4.13</td>\n",
       "      <td>4.05</td>\n",
       "      <td>4.41</td>\n",
       "    </tr>\n",
       "    <tr>\n",
       "      <th>3</th>\n",
       "      <td>3.71</td>\n",
       "      <td>4.18</td>\n",
       "      <td>3.88</td>\n",
       "      <td>4.08</td>\n",
       "      <td>4.09</td>\n",
       "      <td>4.25</td>\n",
       "    </tr>\n",
       "    <tr>\n",
       "      <th>4</th>\n",
       "      <td>3.99</td>\n",
       "      <td>4.25</td>\n",
       "      <td>3.59</td>\n",
       "      <td>4.09</td>\n",
       "      <td>4.05</td>\n",
       "      <td>4.25</td>\n",
       "    </tr>\n",
       "    <tr>\n",
       "      <th>...</th>\n",
       "      <td>...</td>\n",
       "      <td>...</td>\n",
       "      <td>...</td>\n",
       "      <td>...</td>\n",
       "      <td>...</td>\n",
       "      <td>...</td>\n",
       "    </tr>\n",
       "    <tr>\n",
       "      <th>155</th>\n",
       "      <td>1.82</td>\n",
       "      <td>1.82</td>\n",
       "      <td>2.18</td>\n",
       "      <td>2.00</td>\n",
       "      <td>2.27</td>\n",
       "      <td>2.34</td>\n",
       "    </tr>\n",
       "    <tr>\n",
       "      <th>156</th>\n",
       "      <td>1.77</td>\n",
       "      <td>2.00</td>\n",
       "      <td>2.00</td>\n",
       "      <td>2.10</td>\n",
       "      <td>2.22</td>\n",
       "      <td>2.33</td>\n",
       "    </tr>\n",
       "    <tr>\n",
       "      <th>157</th>\n",
       "      <td>1.69</td>\n",
       "      <td>1.95</td>\n",
       "      <td>2.21</td>\n",
       "      <td>2.33</td>\n",
       "      <td>2.01</td>\n",
       "      <td>2.17</td>\n",
       "    </tr>\n",
       "    <tr>\n",
       "      <th>158</th>\n",
       "      <td>1.57</td>\n",
       "      <td>1.86</td>\n",
       "      <td>2.20</td>\n",
       "      <td>2.00</td>\n",
       "      <td>2.00</td>\n",
       "      <td>2.59</td>\n",
       "    </tr>\n",
       "    <tr>\n",
       "      <th>159</th>\n",
       "      <td>1.73</td>\n",
       "      <td>1.81</td>\n",
       "      <td>2.10</td>\n",
       "      <td>1.92</td>\n",
       "      <td>1.70</td>\n",
       "      <td>2.38</td>\n",
       "    </tr>\n",
       "  </tbody>\n",
       "</table>\n",
       "<p>160 rows × 6 columns</p>\n",
       "</div>"
      ],
      "text/plain": [
       "     Customs  Infrastructure  International shipments  \\\n",
       "0       4.09            4.37                     3.86   \n",
       "1       4.05            4.24                     3.92   \n",
       "2       3.66            3.98                     3.99   \n",
       "3       3.71            4.18                     3.88   \n",
       "4       3.99            4.25                     3.59   \n",
       "..       ...             ...                      ...   \n",
       "155     1.82            1.82                     2.18   \n",
       "156     1.77            2.00                     2.00   \n",
       "157     1.69            1.95                     2.21   \n",
       "158     1.57            1.86                     2.20   \n",
       "159     1.73            1.81                     2.10   \n",
       "\n",
       "     Logistics quality and competence  Tracking and tracing  Timeliness  \n",
       "0                                4.31                  4.24        4.39  \n",
       "1                                3.98                  3.88        4.28  \n",
       "2                                4.13                  4.05        4.41  \n",
       "3                                4.08                  4.09        4.25  \n",
       "4                                4.09                  4.05        4.25  \n",
       "..                                ...                   ...         ...  \n",
       "155                              2.00                  2.27        2.34  \n",
       "156                              2.10                  2.22        2.33  \n",
       "157                              2.33                  2.01        2.17  \n",
       "158                              2.00                  2.00        2.59  \n",
       "159                              1.92                  1.70        2.38  \n",
       "\n",
       "[160 rows x 6 columns]"
      ]
     },
     "execution_count": 2,
     "metadata": {},
     "output_type": "execute_result"
    }
   ],
   "source": [
    "lpi_components = [\n",
    "    'Customs',\n",
    "    'Infrastructure',\n",
    "    'International shipments',\n",
    "    'Logistics quality and competence',\n",
    "    'Tracking and tracing',\n",
    "    'Timeliness'\n",
    "]\n",
    "\n",
    "lpi_components = lpi_df[lpi_components]\n",
    "lpi_components"
   ]
  },
  {
   "cell_type": "markdown",
   "id": "analyzed-jumping",
   "metadata": {
    "slideshow": {
     "slide_type": "slide"
    }
   },
   "source": [
    "* Δεδομένου ότι η PCA χρησιμοποιεί τη διακύμανση προκειμένου να εντοπίσει τις διαστάσεις που αναζητούμε, είναι μέθοδος η οποία επιδέχεται (ή χρειάζεται) κανονικοποίηση στα δεδομένα."
   ]
  },
  {
   "cell_type": "code",
   "execution_count": 3,
   "id": "favorite-mistake",
   "metadata": {
    "slideshow": {
     "slide_type": "fragment"
    }
   },
   "outputs": [],
   "source": [
    "from sklearn.preprocessing import StandardScaler\n",
    "\n",
    "standard_scaler = StandardScaler()\n",
    "lpi_components_standard_scaled = standard_scaler.fit_transform(lpi_components)"
   ]
  },
  {
   "cell_type": "markdown",
   "id": "colonial-bailey",
   "metadata": {
    "slideshow": {
     "slide_type": "slide"
    }
   },
   "source": [
    "* Προχωράμε στο PCA.\n",
    "\n",
    "* Θέλουμε να κάνουμε PCA για να εντοπίσουμε *μία* συνιστώσα."
   ]
  },
  {
   "cell_type": "code",
   "execution_count": 4,
   "id": "attended-andrews",
   "metadata": {
    "slideshow": {
     "slide_type": "fragment"
    }
   },
   "outputs": [],
   "source": [
    "from sklearn.decomposition import PCA\n",
    "\n",
    "pca = PCA(n_components=1)"
   ]
  },
  {
   "cell_type": "markdown",
   "id": "gorgeous-monte",
   "metadata": {
    "slideshow": {
     "slide_type": "slide"
    }
   },
   "source": [
    "* Εφαρμόζουμε PCA στα δεδομένα μας."
   ]
  },
  {
   "cell_type": "code",
   "execution_count": 5,
   "id": "japanese-highlight",
   "metadata": {
    "slideshow": {
     "slide_type": "fragment"
    }
   },
   "outputs": [
    {
     "data": {
      "text/html": [
       "<style>#sk-container-id-1 {\n",
       "  /* Definition of color scheme common for light and dark mode */\n",
       "  --sklearn-color-text: #000;\n",
       "  --sklearn-color-text-muted: #666;\n",
       "  --sklearn-color-line: gray;\n",
       "  /* Definition of color scheme for unfitted estimators */\n",
       "  --sklearn-color-unfitted-level-0: #fff5e6;\n",
       "  --sklearn-color-unfitted-level-1: #f6e4d2;\n",
       "  --sklearn-color-unfitted-level-2: #ffe0b3;\n",
       "  --sklearn-color-unfitted-level-3: chocolate;\n",
       "  /* Definition of color scheme for fitted estimators */\n",
       "  --sklearn-color-fitted-level-0: #f0f8ff;\n",
       "  --sklearn-color-fitted-level-1: #d4ebff;\n",
       "  --sklearn-color-fitted-level-2: #b3dbfd;\n",
       "  --sklearn-color-fitted-level-3: cornflowerblue;\n",
       "\n",
       "  /* Specific color for light theme */\n",
       "  --sklearn-color-text-on-default-background: var(--sg-text-color, var(--theme-code-foreground, var(--jp-content-font-color1, black)));\n",
       "  --sklearn-color-background: var(--sg-background-color, var(--theme-background, var(--jp-layout-color0, white)));\n",
       "  --sklearn-color-border-box: var(--sg-text-color, var(--theme-code-foreground, var(--jp-content-font-color1, black)));\n",
       "  --sklearn-color-icon: #696969;\n",
       "\n",
       "  @media (prefers-color-scheme: dark) {\n",
       "    /* Redefinition of color scheme for dark theme */\n",
       "    --sklearn-color-text-on-default-background: var(--sg-text-color, var(--theme-code-foreground, var(--jp-content-font-color1, white)));\n",
       "    --sklearn-color-background: var(--sg-background-color, var(--theme-background, var(--jp-layout-color0, #111)));\n",
       "    --sklearn-color-border-box: var(--sg-text-color, var(--theme-code-foreground, var(--jp-content-font-color1, white)));\n",
       "    --sklearn-color-icon: #878787;\n",
       "  }\n",
       "}\n",
       "\n",
       "#sk-container-id-1 {\n",
       "  color: var(--sklearn-color-text);\n",
       "}\n",
       "\n",
       "#sk-container-id-1 pre {\n",
       "  padding: 0;\n",
       "}\n",
       "\n",
       "#sk-container-id-1 input.sk-hidden--visually {\n",
       "  border: 0;\n",
       "  clip: rect(1px 1px 1px 1px);\n",
       "  clip: rect(1px, 1px, 1px, 1px);\n",
       "  height: 1px;\n",
       "  margin: -1px;\n",
       "  overflow: hidden;\n",
       "  padding: 0;\n",
       "  position: absolute;\n",
       "  width: 1px;\n",
       "}\n",
       "\n",
       "#sk-container-id-1 div.sk-dashed-wrapped {\n",
       "  border: 1px dashed var(--sklearn-color-line);\n",
       "  margin: 0 0.4em 0.5em 0.4em;\n",
       "  box-sizing: border-box;\n",
       "  padding-bottom: 0.4em;\n",
       "  background-color: var(--sklearn-color-background);\n",
       "}\n",
       "\n",
       "#sk-container-id-1 div.sk-container {\n",
       "  /* jupyter's `normalize.less` sets `[hidden] { display: none; }`\n",
       "     but bootstrap.min.css set `[hidden] { display: none !important; }`\n",
       "     so we also need the `!important` here to be able to override the\n",
       "     default hidden behavior on the sphinx rendered scikit-learn.org.\n",
       "     See: https://github.com/scikit-learn/scikit-learn/issues/21755 */\n",
       "  display: inline-block !important;\n",
       "  position: relative;\n",
       "}\n",
       "\n",
       "#sk-container-id-1 div.sk-text-repr-fallback {\n",
       "  display: none;\n",
       "}\n",
       "\n",
       "div.sk-parallel-item,\n",
       "div.sk-serial,\n",
       "div.sk-item {\n",
       "  /* draw centered vertical line to link estimators */\n",
       "  background-image: linear-gradient(var(--sklearn-color-text-on-default-background), var(--sklearn-color-text-on-default-background));\n",
       "  background-size: 2px 100%;\n",
       "  background-repeat: no-repeat;\n",
       "  background-position: center center;\n",
       "}\n",
       "\n",
       "/* Parallel-specific style estimator block */\n",
       "\n",
       "#sk-container-id-1 div.sk-parallel-item::after {\n",
       "  content: \"\";\n",
       "  width: 100%;\n",
       "  border-bottom: 2px solid var(--sklearn-color-text-on-default-background);\n",
       "  flex-grow: 1;\n",
       "}\n",
       "\n",
       "#sk-container-id-1 div.sk-parallel {\n",
       "  display: flex;\n",
       "  align-items: stretch;\n",
       "  justify-content: center;\n",
       "  background-color: var(--sklearn-color-background);\n",
       "  position: relative;\n",
       "}\n",
       "\n",
       "#sk-container-id-1 div.sk-parallel-item {\n",
       "  display: flex;\n",
       "  flex-direction: column;\n",
       "}\n",
       "\n",
       "#sk-container-id-1 div.sk-parallel-item:first-child::after {\n",
       "  align-self: flex-end;\n",
       "  width: 50%;\n",
       "}\n",
       "\n",
       "#sk-container-id-1 div.sk-parallel-item:last-child::after {\n",
       "  align-self: flex-start;\n",
       "  width: 50%;\n",
       "}\n",
       "\n",
       "#sk-container-id-1 div.sk-parallel-item:only-child::after {\n",
       "  width: 0;\n",
       "}\n",
       "\n",
       "/* Serial-specific style estimator block */\n",
       "\n",
       "#sk-container-id-1 div.sk-serial {\n",
       "  display: flex;\n",
       "  flex-direction: column;\n",
       "  align-items: center;\n",
       "  background-color: var(--sklearn-color-background);\n",
       "  padding-right: 1em;\n",
       "  padding-left: 1em;\n",
       "}\n",
       "\n",
       "\n",
       "/* Toggleable style: style used for estimator/Pipeline/ColumnTransformer box that is\n",
       "clickable and can be expanded/collapsed.\n",
       "- Pipeline and ColumnTransformer use this feature and define the default style\n",
       "- Estimators will overwrite some part of the style using the `sk-estimator` class\n",
       "*/\n",
       "\n",
       "/* Pipeline and ColumnTransformer style (default) */\n",
       "\n",
       "#sk-container-id-1 div.sk-toggleable {\n",
       "  /* Default theme specific background. It is overwritten whether we have a\n",
       "  specific estimator or a Pipeline/ColumnTransformer */\n",
       "  background-color: var(--sklearn-color-background);\n",
       "}\n",
       "\n",
       "/* Toggleable label */\n",
       "#sk-container-id-1 label.sk-toggleable__label {\n",
       "  cursor: pointer;\n",
       "  display: flex;\n",
       "  width: 100%;\n",
       "  margin-bottom: 0;\n",
       "  padding: 0.5em;\n",
       "  box-sizing: border-box;\n",
       "  text-align: center;\n",
       "  align-items: start;\n",
       "  justify-content: space-between;\n",
       "  gap: 0.5em;\n",
       "}\n",
       "\n",
       "#sk-container-id-1 label.sk-toggleable__label .caption {\n",
       "  font-size: 0.6rem;\n",
       "  font-weight: lighter;\n",
       "  color: var(--sklearn-color-text-muted);\n",
       "}\n",
       "\n",
       "#sk-container-id-1 label.sk-toggleable__label-arrow:before {\n",
       "  /* Arrow on the left of the label */\n",
       "  content: \"▸\";\n",
       "  float: left;\n",
       "  margin-right: 0.25em;\n",
       "  color: var(--sklearn-color-icon);\n",
       "}\n",
       "\n",
       "#sk-container-id-1 label.sk-toggleable__label-arrow:hover:before {\n",
       "  color: var(--sklearn-color-text);\n",
       "}\n",
       "\n",
       "/* Toggleable content - dropdown */\n",
       "\n",
       "#sk-container-id-1 div.sk-toggleable__content {\n",
       "  display: none;\n",
       "  text-align: left;\n",
       "  /* unfitted */\n",
       "  background-color: var(--sklearn-color-unfitted-level-0);\n",
       "}\n",
       "\n",
       "#sk-container-id-1 div.sk-toggleable__content.fitted {\n",
       "  /* fitted */\n",
       "  background-color: var(--sklearn-color-fitted-level-0);\n",
       "}\n",
       "\n",
       "#sk-container-id-1 div.sk-toggleable__content pre {\n",
       "  margin: 0.2em;\n",
       "  border-radius: 0.25em;\n",
       "  color: var(--sklearn-color-text);\n",
       "  /* unfitted */\n",
       "  background-color: var(--sklearn-color-unfitted-level-0);\n",
       "}\n",
       "\n",
       "#sk-container-id-1 div.sk-toggleable__content.fitted pre {\n",
       "  /* unfitted */\n",
       "  background-color: var(--sklearn-color-fitted-level-0);\n",
       "}\n",
       "\n",
       "#sk-container-id-1 input.sk-toggleable__control:checked~div.sk-toggleable__content {\n",
       "  /* Expand drop-down */\n",
       "  display: block;\n",
       "  width: 100%;\n",
       "  overflow: visible;\n",
       "}\n",
       "\n",
       "#sk-container-id-1 input.sk-toggleable__control:checked~label.sk-toggleable__label-arrow:before {\n",
       "  content: \"▾\";\n",
       "}\n",
       "\n",
       "/* Pipeline/ColumnTransformer-specific style */\n",
       "\n",
       "#sk-container-id-1 div.sk-label input.sk-toggleable__control:checked~label.sk-toggleable__label {\n",
       "  color: var(--sklearn-color-text);\n",
       "  background-color: var(--sklearn-color-unfitted-level-2);\n",
       "}\n",
       "\n",
       "#sk-container-id-1 div.sk-label.fitted input.sk-toggleable__control:checked~label.sk-toggleable__label {\n",
       "  background-color: var(--sklearn-color-fitted-level-2);\n",
       "}\n",
       "\n",
       "/* Estimator-specific style */\n",
       "\n",
       "/* Colorize estimator box */\n",
       "#sk-container-id-1 div.sk-estimator input.sk-toggleable__control:checked~label.sk-toggleable__label {\n",
       "  /* unfitted */\n",
       "  background-color: var(--sklearn-color-unfitted-level-2);\n",
       "}\n",
       "\n",
       "#sk-container-id-1 div.sk-estimator.fitted input.sk-toggleable__control:checked~label.sk-toggleable__label {\n",
       "  /* fitted */\n",
       "  background-color: var(--sklearn-color-fitted-level-2);\n",
       "}\n",
       "\n",
       "#sk-container-id-1 div.sk-label label.sk-toggleable__label,\n",
       "#sk-container-id-1 div.sk-label label {\n",
       "  /* The background is the default theme color */\n",
       "  color: var(--sklearn-color-text-on-default-background);\n",
       "}\n",
       "\n",
       "/* On hover, darken the color of the background */\n",
       "#sk-container-id-1 div.sk-label:hover label.sk-toggleable__label {\n",
       "  color: var(--sklearn-color-text);\n",
       "  background-color: var(--sklearn-color-unfitted-level-2);\n",
       "}\n",
       "\n",
       "/* Label box, darken color on hover, fitted */\n",
       "#sk-container-id-1 div.sk-label.fitted:hover label.sk-toggleable__label.fitted {\n",
       "  color: var(--sklearn-color-text);\n",
       "  background-color: var(--sklearn-color-fitted-level-2);\n",
       "}\n",
       "\n",
       "/* Estimator label */\n",
       "\n",
       "#sk-container-id-1 div.sk-label label {\n",
       "  font-family: monospace;\n",
       "  font-weight: bold;\n",
       "  display: inline-block;\n",
       "  line-height: 1.2em;\n",
       "}\n",
       "\n",
       "#sk-container-id-1 div.sk-label-container {\n",
       "  text-align: center;\n",
       "}\n",
       "\n",
       "/* Estimator-specific */\n",
       "#sk-container-id-1 div.sk-estimator {\n",
       "  font-family: monospace;\n",
       "  border: 1px dotted var(--sklearn-color-border-box);\n",
       "  border-radius: 0.25em;\n",
       "  box-sizing: border-box;\n",
       "  margin-bottom: 0.5em;\n",
       "  /* unfitted */\n",
       "  background-color: var(--sklearn-color-unfitted-level-0);\n",
       "}\n",
       "\n",
       "#sk-container-id-1 div.sk-estimator.fitted {\n",
       "  /* fitted */\n",
       "  background-color: var(--sklearn-color-fitted-level-0);\n",
       "}\n",
       "\n",
       "/* on hover */\n",
       "#sk-container-id-1 div.sk-estimator:hover {\n",
       "  /* unfitted */\n",
       "  background-color: var(--sklearn-color-unfitted-level-2);\n",
       "}\n",
       "\n",
       "#sk-container-id-1 div.sk-estimator.fitted:hover {\n",
       "  /* fitted */\n",
       "  background-color: var(--sklearn-color-fitted-level-2);\n",
       "}\n",
       "\n",
       "/* Specification for estimator info (e.g. \"i\" and \"?\") */\n",
       "\n",
       "/* Common style for \"i\" and \"?\" */\n",
       "\n",
       ".sk-estimator-doc-link,\n",
       "a:link.sk-estimator-doc-link,\n",
       "a:visited.sk-estimator-doc-link {\n",
       "  float: right;\n",
       "  font-size: smaller;\n",
       "  line-height: 1em;\n",
       "  font-family: monospace;\n",
       "  background-color: var(--sklearn-color-background);\n",
       "  border-radius: 1em;\n",
       "  height: 1em;\n",
       "  width: 1em;\n",
       "  text-decoration: none !important;\n",
       "  margin-left: 0.5em;\n",
       "  text-align: center;\n",
       "  /* unfitted */\n",
       "  border: var(--sklearn-color-unfitted-level-1) 1pt solid;\n",
       "  color: var(--sklearn-color-unfitted-level-1);\n",
       "}\n",
       "\n",
       ".sk-estimator-doc-link.fitted,\n",
       "a:link.sk-estimator-doc-link.fitted,\n",
       "a:visited.sk-estimator-doc-link.fitted {\n",
       "  /* fitted */\n",
       "  border: var(--sklearn-color-fitted-level-1) 1pt solid;\n",
       "  color: var(--sklearn-color-fitted-level-1);\n",
       "}\n",
       "\n",
       "/* On hover */\n",
       "div.sk-estimator:hover .sk-estimator-doc-link:hover,\n",
       ".sk-estimator-doc-link:hover,\n",
       "div.sk-label-container:hover .sk-estimator-doc-link:hover,\n",
       ".sk-estimator-doc-link:hover {\n",
       "  /* unfitted */\n",
       "  background-color: var(--sklearn-color-unfitted-level-3);\n",
       "  color: var(--sklearn-color-background);\n",
       "  text-decoration: none;\n",
       "}\n",
       "\n",
       "div.sk-estimator.fitted:hover .sk-estimator-doc-link.fitted:hover,\n",
       ".sk-estimator-doc-link.fitted:hover,\n",
       "div.sk-label-container:hover .sk-estimator-doc-link.fitted:hover,\n",
       ".sk-estimator-doc-link.fitted:hover {\n",
       "  /* fitted */\n",
       "  background-color: var(--sklearn-color-fitted-level-3);\n",
       "  color: var(--sklearn-color-background);\n",
       "  text-decoration: none;\n",
       "}\n",
       "\n",
       "/* Span, style for the box shown on hovering the info icon */\n",
       ".sk-estimator-doc-link span {\n",
       "  display: none;\n",
       "  z-index: 9999;\n",
       "  position: relative;\n",
       "  font-weight: normal;\n",
       "  right: .2ex;\n",
       "  padding: .5ex;\n",
       "  margin: .5ex;\n",
       "  width: min-content;\n",
       "  min-width: 20ex;\n",
       "  max-width: 50ex;\n",
       "  color: var(--sklearn-color-text);\n",
       "  box-shadow: 2pt 2pt 4pt #999;\n",
       "  /* unfitted */\n",
       "  background: var(--sklearn-color-unfitted-level-0);\n",
       "  border: .5pt solid var(--sklearn-color-unfitted-level-3);\n",
       "}\n",
       "\n",
       ".sk-estimator-doc-link.fitted span {\n",
       "  /* fitted */\n",
       "  background: var(--sklearn-color-fitted-level-0);\n",
       "  border: var(--sklearn-color-fitted-level-3);\n",
       "}\n",
       "\n",
       ".sk-estimator-doc-link:hover span {\n",
       "  display: block;\n",
       "}\n",
       "\n",
       "/* \"?\"-specific style due to the `<a>` HTML tag */\n",
       "\n",
       "#sk-container-id-1 a.estimator_doc_link {\n",
       "  float: right;\n",
       "  font-size: 1rem;\n",
       "  line-height: 1em;\n",
       "  font-family: monospace;\n",
       "  background-color: var(--sklearn-color-background);\n",
       "  border-radius: 1rem;\n",
       "  height: 1rem;\n",
       "  width: 1rem;\n",
       "  text-decoration: none;\n",
       "  /* unfitted */\n",
       "  color: var(--sklearn-color-unfitted-level-1);\n",
       "  border: var(--sklearn-color-unfitted-level-1) 1pt solid;\n",
       "}\n",
       "\n",
       "#sk-container-id-1 a.estimator_doc_link.fitted {\n",
       "  /* fitted */\n",
       "  border: var(--sklearn-color-fitted-level-1) 1pt solid;\n",
       "  color: var(--sklearn-color-fitted-level-1);\n",
       "}\n",
       "\n",
       "/* On hover */\n",
       "#sk-container-id-1 a.estimator_doc_link:hover {\n",
       "  /* unfitted */\n",
       "  background-color: var(--sklearn-color-unfitted-level-3);\n",
       "  color: var(--sklearn-color-background);\n",
       "  text-decoration: none;\n",
       "}\n",
       "\n",
       "#sk-container-id-1 a.estimator_doc_link.fitted:hover {\n",
       "  /* fitted */\n",
       "  background-color: var(--sklearn-color-fitted-level-3);\n",
       "}\n",
       "\n",
       ".estimator-table summary {\n",
       "    padding: .5rem;\n",
       "    font-family: monospace;\n",
       "    cursor: pointer;\n",
       "}\n",
       "\n",
       ".estimator-table details[open] {\n",
       "    padding-left: 0.1rem;\n",
       "    padding-right: 0.1rem;\n",
       "    padding-bottom: 0.3rem;\n",
       "}\n",
       "\n",
       ".estimator-table .parameters-table {\n",
       "    margin-left: auto !important;\n",
       "    margin-right: auto !important;\n",
       "}\n",
       "\n",
       ".estimator-table .parameters-table tr:nth-child(odd) {\n",
       "    background-color: #fff;\n",
       "}\n",
       "\n",
       ".estimator-table .parameters-table tr:nth-child(even) {\n",
       "    background-color: #f6f6f6;\n",
       "}\n",
       "\n",
       ".estimator-table .parameters-table tr:hover {\n",
       "    background-color: #e0e0e0;\n",
       "}\n",
       "\n",
       ".estimator-table table td {\n",
       "    border: 1px solid rgba(106, 105, 104, 0.232);\n",
       "}\n",
       "\n",
       ".user-set td {\n",
       "    color:rgb(255, 94, 0);\n",
       "    text-align: left;\n",
       "}\n",
       "\n",
       ".user-set td.value pre {\n",
       "    color:rgb(255, 94, 0) !important;\n",
       "    background-color: transparent !important;\n",
       "}\n",
       "\n",
       ".default td {\n",
       "    color: black;\n",
       "    text-align: left;\n",
       "}\n",
       "\n",
       ".user-set td i,\n",
       ".default td i {\n",
       "    color: black;\n",
       "}\n",
       "\n",
       ".copy-paste-icon {\n",
       "    background-image: url(data:image/svg+xml;base64,PHN2ZyB4bWxucz0iaHR0cDovL3d3dy53My5vcmcvMjAwMC9zdmciIHZpZXdCb3g9IjAgMCA0NDggNTEyIj48IS0tIUZvbnQgQXdlc29tZSBGcmVlIDYuNy4yIGJ5IEBmb250YXdlc29tZSAtIGh0dHBzOi8vZm9udGF3ZXNvbWUuY29tIExpY2Vuc2UgLSBodHRwczovL2ZvbnRhd2Vzb21lLmNvbS9saWNlbnNlL2ZyZWUgQ29weXJpZ2h0IDIwMjUgRm9udGljb25zLCBJbmMuLS0+PHBhdGggZD0iTTIwOCAwTDMzMi4xIDBjMTIuNyAwIDI0LjkgNS4xIDMzLjkgMTQuMWw2Ny45IDY3LjljOSA5IDE0LjEgMjEuMiAxNC4xIDMzLjlMNDQ4IDMzNmMwIDI2LjUtMjEuNSA0OC00OCA0OGwtMTkyIDBjLTI2LjUgMC00OC0yMS41LTQ4LTQ4bDAtMjg4YzAtMjYuNSAyMS41LTQ4IDQ4LTQ4ek00OCAxMjhsODAgMCAwIDY0LTY0IDAgMCAyNTYgMTkyIDAgMC0zMiA2NCAwIDAgNDhjMCAyNi41LTIxLjUgNDgtNDggNDhMNDggNTEyYy0yNi41IDAtNDgtMjEuNS00OC00OEwwIDE3NmMwLTI2LjUgMjEuNS00OCA0OC00OHoiLz48L3N2Zz4=);\n",
       "    background-repeat: no-repeat;\n",
       "    background-size: 14px 14px;\n",
       "    background-position: 0;\n",
       "    display: inline-block;\n",
       "    width: 14px;\n",
       "    height: 14px;\n",
       "    cursor: pointer;\n",
       "}\n",
       "</style><body><div id=\"sk-container-id-1\" class=\"sk-top-container\"><div class=\"sk-text-repr-fallback\"><pre>PCA(n_components=1)</pre><b>In a Jupyter environment, please rerun this cell to show the HTML representation or trust the notebook. <br />On GitHub, the HTML representation is unable to render, please try loading this page with nbviewer.org.</b></div><div class=\"sk-container\" hidden><div class=\"sk-item\"><div class=\"sk-estimator fitted sk-toggleable\"><input class=\"sk-toggleable__control sk-hidden--visually\" id=\"sk-estimator-id-1\" type=\"checkbox\" checked><label for=\"sk-estimator-id-1\" class=\"sk-toggleable__label fitted sk-toggleable__label-arrow\"><div><div>PCA</div></div><div><a class=\"sk-estimator-doc-link fitted\" rel=\"noreferrer\" target=\"_blank\" href=\"https://scikit-learn.org/1.7/modules/generated/sklearn.decomposition.PCA.html\">?<span>Documentation for PCA</span></a><span class=\"sk-estimator-doc-link fitted\">i<span>Fitted</span></span></div></label><div class=\"sk-toggleable__content fitted\" data-param-prefix=\"\">\n",
       "        <div class=\"estimator-table\">\n",
       "            <details>\n",
       "                <summary>Parameters</summary>\n",
       "                <table class=\"parameters-table\">\n",
       "                  <tbody>\n",
       "                    \n",
       "        <tr class=\"user-set\">\n",
       "            <td><i class=\"copy-paste-icon\"\n",
       "                 onclick=\"copyToClipboard('n_components',\n",
       "                          this.parentElement.nextElementSibling)\"\n",
       "            ></i></td>\n",
       "            <td class=\"param\">n_components&nbsp;</td>\n",
       "            <td class=\"value\">1</td>\n",
       "        </tr>\n",
       "    \n",
       "\n",
       "        <tr class=\"default\">\n",
       "            <td><i class=\"copy-paste-icon\"\n",
       "                 onclick=\"copyToClipboard('copy',\n",
       "                          this.parentElement.nextElementSibling)\"\n",
       "            ></i></td>\n",
       "            <td class=\"param\">copy&nbsp;</td>\n",
       "            <td class=\"value\">True</td>\n",
       "        </tr>\n",
       "    \n",
       "\n",
       "        <tr class=\"default\">\n",
       "            <td><i class=\"copy-paste-icon\"\n",
       "                 onclick=\"copyToClipboard('whiten',\n",
       "                          this.parentElement.nextElementSibling)\"\n",
       "            ></i></td>\n",
       "            <td class=\"param\">whiten&nbsp;</td>\n",
       "            <td class=\"value\">False</td>\n",
       "        </tr>\n",
       "    \n",
       "\n",
       "        <tr class=\"default\">\n",
       "            <td><i class=\"copy-paste-icon\"\n",
       "                 onclick=\"copyToClipboard('svd_solver',\n",
       "                          this.parentElement.nextElementSibling)\"\n",
       "            ></i></td>\n",
       "            <td class=\"param\">svd_solver&nbsp;</td>\n",
       "            <td class=\"value\">&#x27;auto&#x27;</td>\n",
       "        </tr>\n",
       "    \n",
       "\n",
       "        <tr class=\"default\">\n",
       "            <td><i class=\"copy-paste-icon\"\n",
       "                 onclick=\"copyToClipboard('tol',\n",
       "                          this.parentElement.nextElementSibling)\"\n",
       "            ></i></td>\n",
       "            <td class=\"param\">tol&nbsp;</td>\n",
       "            <td class=\"value\">0.0</td>\n",
       "        </tr>\n",
       "    \n",
       "\n",
       "        <tr class=\"default\">\n",
       "            <td><i class=\"copy-paste-icon\"\n",
       "                 onclick=\"copyToClipboard('iterated_power',\n",
       "                          this.parentElement.nextElementSibling)\"\n",
       "            ></i></td>\n",
       "            <td class=\"param\">iterated_power&nbsp;</td>\n",
       "            <td class=\"value\">&#x27;auto&#x27;</td>\n",
       "        </tr>\n",
       "    \n",
       "\n",
       "        <tr class=\"default\">\n",
       "            <td><i class=\"copy-paste-icon\"\n",
       "                 onclick=\"copyToClipboard('n_oversamples',\n",
       "                          this.parentElement.nextElementSibling)\"\n",
       "            ></i></td>\n",
       "            <td class=\"param\">n_oversamples&nbsp;</td>\n",
       "            <td class=\"value\">10</td>\n",
       "        </tr>\n",
       "    \n",
       "\n",
       "        <tr class=\"default\">\n",
       "            <td><i class=\"copy-paste-icon\"\n",
       "                 onclick=\"copyToClipboard('power_iteration_normalizer',\n",
       "                          this.parentElement.nextElementSibling)\"\n",
       "            ></i></td>\n",
       "            <td class=\"param\">power_iteration_normalizer&nbsp;</td>\n",
       "            <td class=\"value\">&#x27;auto&#x27;</td>\n",
       "        </tr>\n",
       "    \n",
       "\n",
       "        <tr class=\"default\">\n",
       "            <td><i class=\"copy-paste-icon\"\n",
       "                 onclick=\"copyToClipboard('random_state',\n",
       "                          this.parentElement.nextElementSibling)\"\n",
       "            ></i></td>\n",
       "            <td class=\"param\">random_state&nbsp;</td>\n",
       "            <td class=\"value\">None</td>\n",
       "        </tr>\n",
       "    \n",
       "                  </tbody>\n",
       "                </table>\n",
       "            </details>\n",
       "        </div>\n",
       "    </div></div></div></div></div><script>function copyToClipboard(text, element) {\n",
       "    // Get the parameter prefix from the closest toggleable content\n",
       "    const toggleableContent = element.closest('.sk-toggleable__content');\n",
       "    const paramPrefix = toggleableContent ? toggleableContent.dataset.paramPrefix : '';\n",
       "    const fullParamName = paramPrefix ? `${paramPrefix}${text}` : text;\n",
       "\n",
       "    const originalStyle = element.style;\n",
       "    const computedStyle = window.getComputedStyle(element);\n",
       "    const originalWidth = computedStyle.width;\n",
       "    const originalHTML = element.innerHTML.replace('Copied!', '');\n",
       "\n",
       "    navigator.clipboard.writeText(fullParamName)\n",
       "        .then(() => {\n",
       "            element.style.width = originalWidth;\n",
       "            element.style.color = 'green';\n",
       "            element.innerHTML = \"Copied!\";\n",
       "\n",
       "            setTimeout(() => {\n",
       "                element.innerHTML = originalHTML;\n",
       "                element.style = originalStyle;\n",
       "            }, 2000);\n",
       "        })\n",
       "        .catch(err => {\n",
       "            console.error('Failed to copy:', err);\n",
       "            element.style.color = 'red';\n",
       "            element.innerHTML = \"Failed!\";\n",
       "            setTimeout(() => {\n",
       "                element.innerHTML = originalHTML;\n",
       "                element.style = originalStyle;\n",
       "            }, 2000);\n",
       "        });\n",
       "    return false;\n",
       "}\n",
       "\n",
       "document.querySelectorAll('.fa-regular.fa-copy').forEach(function(element) {\n",
       "    const toggleableContent = element.closest('.sk-toggleable__content');\n",
       "    const paramPrefix = toggleableContent ? toggleableContent.dataset.paramPrefix : '';\n",
       "    const paramName = element.parentElement.nextElementSibling.textContent.trim();\n",
       "    const fullParamName = paramPrefix ? `${paramPrefix}${paramName}` : paramName;\n",
       "\n",
       "    element.setAttribute('title', fullParamName);\n",
       "});\n",
       "</script></body>"
      ],
      "text/plain": [
       "PCA(n_components=1)"
      ]
     },
     "execution_count": 5,
     "metadata": {},
     "output_type": "execute_result"
    }
   ],
   "source": [
    "pca.fit(lpi_components_standard_scaled)"
   ]
  },
  {
   "cell_type": "markdown",
   "id": "swedish-prefix",
   "metadata": {
    "slideshow": {
     "slide_type": "slide"
    }
   },
   "source": [
    "* Η ιδιότητα `explained_variance_ratio` μας δίνει πόση από τη διακύμανση εξηγεί η συνιστώσα (διάσταση) που υπολογίστηκε. \n",
    "\n",
    "* Βλέπουμε ότι εξηγεί πάνω από το 92%!"
   ]
  },
  {
   "cell_type": "code",
   "execution_count": 6,
   "id": "destroyed-kenya",
   "metadata": {
    "slideshow": {
     "slide_type": "fragment"
    }
   },
   "outputs": [
    {
     "data": {
      "text/plain": [
       "array([0.92257629])"
      ]
     },
     "execution_count": 6,
     "metadata": {},
     "output_type": "execute_result"
    }
   ],
   "source": [
    "pca.explained_variance_ratio_"
   ]
  },
  {
   "cell_type": "markdown",
   "id": "heavy-stream",
   "metadata": {
    "slideshow": {
     "slide_type": "slide"
    }
   },
   "source": [
    "* Στη συνέχεια, μπορούμε να προβάλουμε τα δεδομένα μας πάνω σε αυτήν τη διάσταση."
   ]
  },
  {
   "cell_type": "code",
   "execution_count": 7,
   "id": "secondary-planet",
   "metadata": {
    "slideshow": {
     "slide_type": "fragment"
    }
   },
   "outputs": [
    {
     "data": {
      "text/plain": [
       "array([[5.54547364],\n",
       "       [4.93808946],\n",
       "       [4.86533482],\n",
       "       [4.81834623],\n",
       "       [4.81569261],\n",
       "       [4.79085083],\n",
       "       [4.69701109],\n",
       "       [4.68746366],\n",
       "       [4.65614658],\n",
       "       [4.58455542]])"
      ]
     },
     "execution_count": 7,
     "metadata": {},
     "output_type": "execute_result"
    }
   ],
   "source": [
    "transformed = pca.transform(lpi_components_standard_scaled)\n",
    "transformed[:10]"
   ]
  },
  {
   "cell_type": "markdown",
   "id": "corresponding-leone",
   "metadata": {
    "slideshow": {
     "slide_type": "slide"
    }
   },
   "source": [
    "* Τι κάνει αυτή η προβολή;\n",
    "\n",
    "* Η νέα διάσταση που προέκυψε είναι ένας γραμμικός συνδυασμός των υπαρχόντων.\n",
    "\n",
    "* Οι συντελεστές του γραμμικού συνδυασμού δίνονται από την ιδιότητα `components_`.\n",
    "\n",
    "* Οι συντελεστές των κυρίων συνιστωσών ονομάζονται *φορτία* (loadings)."
   ]
  },
  {
   "cell_type": "code",
   "execution_count": 8,
   "id": "appreciated-draft",
   "metadata": {
    "slideshow": {
     "slide_type": "fragment"
    }
   },
   "outputs": [
    {
     "data": {
      "text/plain": [
       "array([[0.40728498, 0.41303479, 0.39604297, 0.41660675, 0.41067906,\n",
       "        0.40552768]])"
      ]
     },
     "execution_count": 8,
     "metadata": {},
     "output_type": "execute_result"
    }
   ],
   "source": [
    "pca.components_"
   ]
  },
  {
   "cell_type": "markdown",
   "id": "cognitive-shipping",
   "metadata": {
    "slideshow": {
     "slide_type": "slide"
    }
   },
   "source": [
    "* Έτσι, αν έχουμε τους έξι επιμέρους δείκτες (διαστάσεις), η νέα διάσταση προκύπτει από τη σχέση:\n",
    "\n",
    "$$ 0{,}40728498 x_1 + 0{,}41303479 x_2 + 0{,}39604297 x_3 + 0{,}41660675 x_4 + 0{,}41067906 x_5 + 0{,}40552768 x_6 $$"
   ]
  },
  {
   "cell_type": "markdown",
   "id": "guided-essex",
   "metadata": {
    "slideshow": {
     "slide_type": "slide"
    }
   },
   "source": [
    "* Επομένως θα μπορούσαμε να χρησιμοποιήσουμε την τιμή `transformed` ως τον δείκτη LPI.\n",
    "\n",
    "* Πλην όμως αυτή δεν κυμαίνεται από το 1 έως και το 5."
   ]
  },
  {
   "cell_type": "code",
   "execution_count": 9,
   "id": "removable-count",
   "metadata": {
    "slideshow": {
     "slide_type": "fragment"
    }
   },
   "outputs": [
    {
     "name": "stdout",
     "output_type": "stream",
     "text": [
      "-3.8161789045893593 5.545473639886477\n"
     ]
    }
   ],
   "source": [
    "print(transformed.min(), transformed.max())"
   ]
  },
  {
   "cell_type": "markdown",
   "id": "harmful-arbor",
   "metadata": {
    "slideshow": {
     "slide_type": "slide"
    }
   },
   "source": [
    "* Μπορούμε να ξεπεράσουμε το πρόβλημα αν σκεφτούμε ότι μπορούμε να χρησιμοποιήσουμε τα φορτία για να υπολογίσουμε τον σταθμισμένο μέσο όρο των επιμέρους δεικτών.\n",
    "\n",
    "* Πράγματι, οι τιμές που παίρνουμε είναι πολύ κοντά στις τελικές τιμές του LPI που δημοσιεύει η Παγκόσμια Τράπεζα."
   ]
  },
  {
   "cell_type": "code",
   "execution_count": 10,
   "id": "fallen-capacity",
   "metadata": {
    "slideshow": {
     "slide_type": "fragment"
    }
   },
   "outputs": [
    {
     "data": {
      "text/plain": [
       "array([4.2122752 , 4.05869046, 4.03685368, 4.03281921, 4.03928615,\n",
       "       4.03042283, 4.00731942, 4.00371973, 3.99503935, 3.98022523])"
      ]
     },
     "execution_count": 10,
     "metadata": {},
     "output_type": "execute_result"
    }
   ],
   "source": [
    "import numpy as np\n",
    "\n",
    "np.average(lpi_components, axis=1, weights=pca.components_[0])[:10]"
   ]
  },
  {
   "cell_type": "markdown",
   "id": "universal-gazette",
   "metadata": {
    "slideshow": {
     "slide_type": "slide"
    }
   },
   "source": [
    "* Τι καταφέραμε;\n",
    "\n",
    "* Πήγαμε από τις έξι διαστάσεις σε μία.\n",
    "\n",
    "* Γενικότερα, μπορούμε να έχουμε πολλές περισσότερες διαστάσεις και να θέλουμε να τις μειώσουμε:\n",
    "\n",
    "  * Επειδή οι διαστάσεις είναι περισσότερες από όσες μπορούμε να χειριστούμε.\n",
    "  \n",
    "  * Επειδή οι διαστάσεις μπορεί να είναι περιττές (θόρυβος).\n",
    "  \n",
    "  * Επειδή με λιγότερες διαστάσεις μπορούμε να κατανοήσουμε τα προβλήματά μας καλύτερα.\n",
    "  \n",
    "* Αλλά προσοχή: είναι δική μας δουλειά η ερμηνεία των νέων διαστάσεων!"
   ]
  }
 ],
 "metadata": {
  "celltoolbar": "Slideshow",
  "kernelspec": {
   "display_name": "Python (Data Science)",
   "language": "python",
   "name": "data_science_env"
  },
  "language_info": {
   "codemirror_mode": {
    "name": "ipython",
    "version": 3
   },
   "file_extension": ".py",
   "mimetype": "text/x-python",
   "name": "python",
   "nbconvert_exporter": "python",
   "pygments_lexer": "ipython3",
   "version": "3.12.6"
  }
 },
 "nbformat": 4,
 "nbformat_minor": 5
}
